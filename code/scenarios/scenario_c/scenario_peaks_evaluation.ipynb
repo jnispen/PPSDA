{
 "cells": [
  {
   "cell_type": "markdown",
   "metadata": {},
   "source": [
    "# Scenario C - Peak Number Variation (results evaluation)\n",
    "\n",
    "This file is used to evaluate the inference (numerical) results.\n",
    "\n",
    "The model used in the inference of the parameters is formulated as follows: \n",
    "\n",
    "\\begin{equation}\n",
    "\\large y = f(x) = \\sum\\limits_{m=1}^M \\big[A_m \\cdot e^{-\\frac{(x-\\mu_m)^2}{2\\cdot\\sigma_m^2}}\\big] + \\epsilon\n",
    "\\end{equation}"
   ]
  },
  {
   "cell_type": "code",
   "execution_count": null,
   "metadata": {},
   "outputs": [],
   "source": [
    "%matplotlib inline\n",
    "import numpy as np\n",
    "import pandas as pd\n",
    "import matplotlib.pyplot as plt\n",
    "import pymc3 as pm\n",
    "import arviz as az\n",
    "import seaborn as sns\n",
    "\n",
    "#az.style.use('arviz-darkgrid')\n",
    "\n",
    "print('Running on PyMC3 v{}'.format(pm.__version__))"
   ]
  },
  {
   "cell_type": "markdown",
   "metadata": {},
   "source": [
    "## Import local modules"
   ]
  },
  {
   "cell_type": "code",
   "execution_count": null,
   "metadata": {},
   "outputs": [],
   "source": [
    "import sys\n",
    "sys.path.append('../../modules')\n",
    "import results as res"
   ]
  },
  {
   "cell_type": "code",
   "execution_count": null,
   "metadata": {},
   "outputs": [],
   "source": [
    "def heatmap(data, plist, title, color, fsize, fname=\"./heatmap\", precision=\".3f\"):\n",
    "    ''' plots a heatmap from numerical data provided in a NxN matrix '''\n",
    "    \n",
    "    sns.set(font_scale=1.3)\n",
    "    \n",
    "    plt.figure(figsize=fsize)\n",
    "    plt.title(title)\n",
    "\n",
    "    yticks = [\"m_%dp\" % val for _, val in enumerate(plist)]\n",
    "    xticks = [\"d_%dp\" % val for _, val in enumerate(plist)]\n",
    "    \n",
    "    sns.heatmap(data, annot=True, fmt=precision, linewidths=.5, linecolor=\"#DCDCDC\", square=True,\n",
    "                    cmap=color, cbar=False, xticklabels=xticks, yticklabels=yticks)\n",
    "    #sns.heatmap(data, annot=True, fmt=precision, linewidths=.5, square=True,\n",
    "    #                cmap=color, cbar=False, xticklabels=xticks, yticklabels=yticks)\n",
    "\n",
    "    plt.yticks(rotation=0)\n",
    "    plt.xticks(rotation=0)\n",
    "    \n",
    "    plt.savefig(fname + '.png', dpi=150)"
   ]
  },
  {
   "cell_type": "markdown",
   "metadata": {},
   "source": [
    "## Load results and extract convergence information"
   ]
  },
  {
   "cell_type": "code",
   "execution_count": null,
   "metadata": {
    "scrolled": false
   },
   "outputs": [],
   "source": [
    "# number of mrun result files\n",
    "nrun = 2\n",
    "\n",
    "# load results into list of dataframes\n",
    "ldf = []\n",
    "for i in range(nrun):\n",
    "    fname = './output_mruns_5x5_{0:02d}/scenario_peaks_mruns.csv'.format(i+1)\n",
    "    print(\"reading file: {0}\".format(fname))\n",
    "    df = pd.read_csv(fname)\n",
    "    df.index += 1\n",
    "    ldf += [df]"
   ]
  },
  {
   "cell_type": "code",
   "execution_count": null,
   "metadata": {
    "scrolled": false
   },
   "outputs": [],
   "source": [
    "# extract the convergence results per model\n",
    "peaklist = [2,3,4,5,6]\n",
    "dres = res.get_model_summary(ldf, peaklist)"
   ]
  },
  {
   "cell_type": "code",
   "execution_count": null,
   "metadata": {},
   "outputs": [],
   "source": [
    "# figure size and color mapping\n",
    "figs=(7,7)\n",
    "\n",
    "#coolwarm, *bone, gray, binary, BuPu, YlGn, Blues, *Greens, Purples\n",
    "col = \"Greens\"\n",
    "col_r = col + \"_r\""
   ]
  },
  {
   "cell_type": "markdown",
   "metadata": {},
   "source": [
    "## Heatmaps of n-peak model vs. n-peak number in dataset"
   ]
  },
  {
   "cell_type": "markdown",
   "metadata": {},
   "source": [
    "### WAIC"
   ]
  },
  {
   "cell_type": "code",
   "execution_count": null,
   "metadata": {},
   "outputs": [],
   "source": [
    "heatmap(dres['waic'], peaklist, \"WAIC\", col, figs, \"hmap_waic\", \".0f\")"
   ]
  },
  {
   "cell_type": "markdown",
   "metadata": {},
   "source": [
    "### Rhat"
   ]
  },
  {
   "cell_type": "code",
   "execution_count": null,
   "metadata": {},
   "outputs": [],
   "source": [
    "heatmap(dres['rhat'], peaklist, \"RHAT\", col, figs, \"hmap_rhat\")"
   ]
  },
  {
   "cell_type": "markdown",
   "metadata": {},
   "source": [
    "### R2"
   ]
  },
  {
   "cell_type": "code",
   "execution_count": null,
   "metadata": {},
   "outputs": [],
   "source": [
    "heatmap(dres['r2'], peaklist, \"R2\", col_r, figs, \"hmap_r2\")"
   ]
  },
  {
   "cell_type": "markdown",
   "metadata": {},
   "source": [
    "### BFMI"
   ]
  },
  {
   "cell_type": "code",
   "execution_count": null,
   "metadata": {},
   "outputs": [],
   "source": [
    "heatmap(dres['bfmi'], peaklist, \"BFMI\", col_r, figs, \"hmap_bfmi\")"
   ]
  },
  {
   "cell_type": "markdown",
   "metadata": {},
   "source": [
    "### MCSE"
   ]
  },
  {
   "cell_type": "code",
   "execution_count": null,
   "metadata": {},
   "outputs": [],
   "source": [
    "heatmap(dres['mcse'], peaklist, \"MCSE\", col, figs, \"hmap_mcse\")"
   ]
  },
  {
   "cell_type": "markdown",
   "metadata": {},
   "source": [
    "### Noise"
   ]
  },
  {
   "cell_type": "code",
   "execution_count": null,
   "metadata": {},
   "outputs": [],
   "source": [
    "heatmap(dres['noise'], peaklist, \"Noise\", col, figs, \"hmap_noise\")"
   ]
  },
  {
   "cell_type": "markdown",
   "metadata": {},
   "source": [
    "### ESS"
   ]
  },
  {
   "cell_type": "code",
   "execution_count": null,
   "metadata": {},
   "outputs": [],
   "source": [
    "heatmap(dres['ess'], peaklist, \"ESS\", col_r, figs, \"hmap_ess\", \".0f\")"
   ]
  }
 ],
 "metadata": {
  "kernelspec": {
   "display_name": "Python 3",
   "language": "python",
   "name": "python3"
  },
  "language_info": {
   "codemirror_mode": {
    "name": "ipython",
    "version": 3
   },
   "file_extension": ".py",
   "mimetype": "text/x-python",
   "name": "python",
   "nbconvert_exporter": "python",
   "pygments_lexer": "ipython3",
   "version": "3.6.8"
  }
 },
 "nbformat": 4,
 "nbformat_minor": 2
}
