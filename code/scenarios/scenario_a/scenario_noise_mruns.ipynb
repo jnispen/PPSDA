{
 "cells": [
  {
   "cell_type": "markdown",
   "metadata": {},
   "source": [
    "# Scenario A - Noise Level Variation (multiple runs for init mode)\n",
    "\n",
    "In this scenario the noise level on a generated dataset is varied in three steps: low/medium/high, \n",
    "the rest of the parameters in the dataset is kept constant.\n",
    "\n",
    "The model used in the inference of the parameters is formulated as follows: \n",
    "\n",
    "\\begin{equation}\n",
    "\\large y = f(x) = \\sum\\limits_{m=1}^M \\big[A_m \\cdot e^{-\\frac{(x-\\mu_m)^2}{2\\cdot\\sigma_m^2}}\\big] + \\epsilon\n",
    "\\end{equation}\n",
    "\n",
    "\n",
    "This file runs a series of runs for a single sampler init mode. It does not store the traces or plots, only the summary statistics are stored."
   ]
  },
  {
   "cell_type": "code",
   "execution_count": 1,
   "metadata": {},
   "outputs": [
    {
     "name": "stderr",
     "output_type": "stream",
     "text": [
      "WARNING (theano.tensor.blas): Using NumPy C-API based implementation for BLAS functions.\n"
     ]
    },
    {
     "name": "stdout",
     "output_type": "stream",
     "text": [
      "Running on PyMC3 v3.8\n"
     ]
    }
   ],
   "source": [
    "%matplotlib inline\n",
    "import numpy as np\n",
    "import pandas as pd\n",
    "import matplotlib.pyplot as plt\n",
    "import pymc3 as pm\n",
    "import arviz as az\n",
    "\n",
    "#az.style.use('arviz-darkgrid')\n",
    "\n",
    "print('Running on PyMC3 v{}'.format(pm.__version__))"
   ]
  },
  {
   "cell_type": "markdown",
   "metadata": {},
   "source": [
    "## Import local utility functions"
   ]
  },
  {
   "cell_type": "code",
   "execution_count": 2,
   "metadata": {},
   "outputs": [],
   "source": [
    "import datetime\n",
    "import os\n",
    "import sys\n",
    "sys.path.append('../../utils')\n",
    "import utils as utl\n",
    "import datagen as dg\n",
    "import models as mdl\n",
    "import results as res\n",
    "import figures as fig"
   ]
  },
  {
   "cell_type": "markdown",
   "metadata": {},
   "source": [
    "## Local settings"
   ]
  },
  {
   "cell_type": "code",
   "execution_count": 3,
   "metadata": {},
   "outputs": [],
   "source": [
    "# output for results and images\n",
    "out_path      = './output_mruns_nopeak_advi_adapt_diag/'\n",
    "fbase         = 'scenario_noise'\n",
    "file_basename = out_path + fbase\n",
    "        \n",
    "# if dir does not exist, create it\n",
    "if not os.path.exists(out_path):\n",
    "    os.makedirs(out_path)\n",
    "\n",
    "# initialization method for sampler ('jitter+adapt_diag'/'advi+adapt_diag'/'adapt_diag')\n",
    "init_mode = 'advi+adapt_diag'\n",
    "    \n",
    "# provide peak positions to the model as testvalues ('yes'/'no')\n",
    "peak_info = 'no'\n",
    "\n",
    "# dataset directory\n",
    "dataset_dir = './input_datasets'\n",
    "\n",
    "# number of runs over the dataset\n",
    "nruns = 3"
   ]
  },
  {
   "cell_type": "markdown",
   "metadata": {},
   "source": [
    "## Save configuration"
   ]
  },
  {
   "cell_type": "code",
   "execution_count": 4,
   "metadata": {},
   "outputs": [],
   "source": [
    "fp = open(out_path + 'settings.txt', 'w')\n",
    "fp.write('start: ' + datetime.datetime.now().strftime(\"%A, %d. %B %Y %I:%M%p\") + '\\n')\n",
    "fp.write('init_mode  = ' + init_mode + '\\n')\n",
    "fp.write('peak_info  = ' + peak_info + '\\n')\n",
    "fp.write('data_dir   = ' + dataset_dir + '\\n')\n",
    "fp.write('nruns      = ' + str(nruns) + '\\n')\n",
    "fp.close()"
   ]
  },
  {
   "cell_type": "markdown",
   "metadata": {},
   "source": [
    "# Generate data and plot"
   ]
  },
  {
   "cell_type": "code",
   "execution_count": 5,
   "metadata": {
    "scrolled": false
   },
   "outputs": [],
   "source": [
    "# list of wavelengths (x-values)\n",
    "xval = [i for i in range(200, 400, 2)]\n",
    "\n",
    "ldata  = []\n",
    "lpeaks = []\n",
    "nsets  = 10\n",
    "\n",
    "# noise level is 1%, 2% and 5% of the minimal signal amplitude\n",
    "noise_levels = [0.05, 0.10, 0.25]\n",
    "\n",
    "# total number of datasets\n",
    "tsets = nsets * len(noise_levels)\n",
    "\n",
    "# load pre-generated datasets from disk\n",
    "ldata, lpeaks = dg.data_load(tsets, dataset_dir)"
   ]
  },
  {
   "cell_type": "code",
   "execution_count": 6,
   "metadata": {
    "scrolled": false
   },
   "outputs": [],
   "source": [
    "# plot datasets\n",
    "#fig.plot_datasets(ldata, lpeaks, dims=(15,2), figure_size=(12,48), savefig='yes', fname=file_basename)"
   ]
  },
  {
   "cell_type": "markdown",
   "metadata": {},
   "source": [
    "# Initialize models and run inference"
   ]
  },
  {
   "cell_type": "code",
   "execution_count": 7,
   "metadata": {},
   "outputs": [],
   "source": [
    "# convert pandas data to numpy arrays\n",
    "x_val = np.array(xval, dtype='float32')\n",
    "\n",
    "# store dataset y-values in list\n",
    "cols = ldata[0].columns\n",
    "y_val = [ldata[i][cols].values for i in range(len(ldata))]"
   ]
  },
  {
   "cell_type": "code",
   "execution_count": 8,
   "metadata": {
    "scrolled": false
   },
   "outputs": [
    {
     "name": "stdout",
     "output_type": "stream",
     "text": [
      "running loop 1/3 over datasets\n"
     ]
    },
    {
     "name": "stderr",
     "output_type": "stream",
     "text": [
      "Auto-assigning NUTS sampler...\n",
      "Initializing NUTS using advi+adapt_diag...\n"
     ]
    },
    {
     "name": "stdout",
     "output_type": "stream",
     "text": [
      "(1:3) running inference on dataset #1/30\n"
     ]
    },
    {
     "name": "stderr",
     "output_type": "stream",
     "text": [
      "Average Loss = 3,934.6:  11%|█         | 21882/200000 [00:15<02:03, 1437.04it/s]  \n",
      "Convergence achieved at 22000\n",
      "Interrupted at 21,999 [10%]: Average Loss = 29,489\n",
      "Multiprocess sampling (2 chains in 2 jobs)\n",
      "NUTS: [epsilon, sigma_e, sigma, mu, amp]\n",
      "Sampling 2 chains, 958 divergences: 100%|██████████| 5000/5000 [00:51<00:00, 98.01draws/s] \n",
      "The acceptance probability does not match the target. It is 0.9669672225830463, but should be close to 0.8. Try to increase the number of tuning steps.\n",
      "There were 958 divergences after tuning. Increase `target_accept` or reparameterize.\n",
      "The acceptance probability does not match the target. It is 0.18473080514767357, but should be close to 0.8. Try to increase the number of tuning steps.\n",
      "The rhat statistic is larger than 1.4 for some parameters. The sampler did not converge.\n",
      "The estimated number of effective samples is smaller than 200 for some parameters.\n",
      "Auto-assigning NUTS sampler...\n",
      "Initializing NUTS using advi+adapt_diag...\n"
     ]
    },
    {
     "name": "stdout",
     "output_type": "stream",
     "text": [
      "(1:3) running inference on dataset #2/30\n"
     ]
    },
    {
     "name": "stderr",
     "output_type": "stream",
     "text": [
      "Average Loss = 4,447.8:  10%|▉         | 19153/200000 [00:11<01:48, 1660.68it/s]  \n",
      "Convergence achieved at 19300\n",
      "Interrupted at 19,299 [9%]: Average Loss = 49,890\n",
      "Multiprocess sampling (2 chains in 2 jobs)\n",
      "NUTS: [epsilon, sigma_e, sigma, mu, amp]\n",
      "Sampling 2 chains, 153 divergences: 100%|██████████| 5000/5000 [02:19<00:00, 35.90draws/s] \n",
      "There were 30 divergences after tuning. Increase `target_accept` or reparameterize.\n",
      "The acceptance probability does not match the target. It is 0.8995371347836517, but should be close to 0.8. Try to increase the number of tuning steps.\n",
      "There were 122 divergences after tuning. Increase `target_accept` or reparameterize.\n",
      "The acceptance probability does not match the target. It is 0.7170342300189948, but should be close to 0.8. Try to increase the number of tuning steps.\n",
      "The rhat statistic is larger than 1.05 for some parameters. This indicates slight problems during sampling.\n",
      "The estimated number of effective samples is smaller than 200 for some parameters.\n",
      "Auto-assigning NUTS sampler...\n",
      "Initializing NUTS using advi+adapt_diag...\n"
     ]
    },
    {
     "name": "stdout",
     "output_type": "stream",
     "text": [
      "(1:3) running inference on dataset #3/30\n"
     ]
    },
    {
     "name": "stderr",
     "output_type": "stream",
     "text": [
      "Average Loss = 3,744:  14%|█▍        | 28512/200000 [00:17<01:47, 1591.96it/s]    \n",
      "Convergence achieved at 28600\n",
      "Interrupted at 28,599 [14%]: Average Loss = 19,872\n",
      "Multiprocess sampling (2 chains in 2 jobs)\n",
      "NUTS: [epsilon, sigma_e, sigma, mu, amp]\n",
      "Sampling 2 chains, 3,011 divergences: 100%|██████████| 5000/5000 [01:54<00:00, 43.55draws/s] \n",
      "The chain contains only diverging samples. The model is probably misspecified.\n",
      "The acceptance probability does not match the target. It is 1.0964962440616399e-92, but should be close to 0.8. Try to increase the number of tuning steps.\n",
      "There were 1012 divergences after tuning. Increase `target_accept` or reparameterize.\n",
      "The acceptance probability does not match the target. It is 0.1477139245801515, but should be close to 0.8. Try to increase the number of tuning steps.\n",
      "The rhat statistic is larger than 1.4 for some parameters. The sampler did not converge.\n",
      "The estimated number of effective samples is smaller than 200 for some parameters.\n",
      "Auto-assigning NUTS sampler...\n",
      "Initializing NUTS using advi+adapt_diag...\n"
     ]
    },
    {
     "name": "stdout",
     "output_type": "stream",
     "text": [
      "(1:3) running inference on dataset #4/30\n"
     ]
    },
    {
     "name": "stderr",
     "output_type": "stream",
     "text": [
      "Average Loss = 4,710.8:  11%|█         | 21894/200000 [00:13<01:50, 1615.06it/s]  \n",
      "Convergence achieved at 21900\n",
      "Interrupted at 21,899 [10%]: Average Loss = 81,979\n",
      "Multiprocess sampling (2 chains in 2 jobs)\n",
      "NUTS: [epsilon, sigma_e, sigma, mu, amp]\n",
      "Sampling 2 chains, 0 divergences: 100%|██████████| 5000/5000 [04:32<00:00, 18.35draws/s] \n",
      "The acceptance probability does not match the target. It is 0.955916108679828, but should be close to 0.8. Try to increase the number of tuning steps.\n",
      "The acceptance probability does not match the target. It is 0.9974215397211222, but should be close to 0.8. Try to increase the number of tuning steps.\n",
      "Auto-assigning NUTS sampler...\n",
      "Initializing NUTS using advi+adapt_diag...\n"
     ]
    },
    {
     "name": "stdout",
     "output_type": "stream",
     "text": [
      "(1:3) running inference on dataset #5/30\n"
     ]
    },
    {
     "name": "stderr",
     "output_type": "stream",
     "text": [
      "Average Loss = 4,678.6:  10%|▉         | 19951/200000 [00:12<01:49, 1645.04it/s]  \n",
      "Convergence achieved at 20100\n",
      "Interrupted at 20,099 [10%]: Average Loss = 63,091\n",
      "Multiprocess sampling (2 chains in 2 jobs)\n",
      "NUTS: [epsilon, sigma_e, sigma, mu, amp]\n",
      "Sampling 2 chains, 0 divergences: 100%|██████████| 5000/5000 [01:53<00:00, 44.17draws/s] \n",
      "The acceptance probability does not match the target. It is 0.9781847211034265, but should be close to 0.8. Try to increase the number of tuning steps.\n",
      "The acceptance probability does not match the target. It is 0.9898530492884889, but should be close to 0.8. Try to increase the number of tuning steps.\n",
      "Auto-assigning NUTS sampler...\n",
      "Initializing NUTS using advi+adapt_diag...\n"
     ]
    },
    {
     "name": "stdout",
     "output_type": "stream",
     "text": [
      "(1:3) running inference on dataset #6/30\n"
     ]
    },
    {
     "name": "stderr",
     "output_type": "stream",
     "text": [
      "Average Loss = 4,263.2:   9%|▉         | 18925/200000 [00:11<01:53, 1590.48it/s]  \n",
      "Convergence achieved at 19000\n",
      "Interrupted at 18,999 [9%]: Average Loss = 57,731\n",
      "Multiprocess sampling (2 chains in 2 jobs)\n",
      "NUTS: [epsilon, sigma_e, sigma, mu, amp]\n",
      "Sampling 2 chains, 47 divergences: 100%|██████████| 5000/5000 [06:25<00:00, 12.96draws/s]\n",
      "There were 47 divergences after tuning. Increase `target_accept` or reparameterize.\n",
      "The acceptance probability does not match the target. It is 0.9794857479127591, but should be close to 0.8. Try to increase the number of tuning steps.\n",
      "The rhat statistic is larger than 1.4 for some parameters. The sampler did not converge.\n",
      "The estimated number of effective samples is smaller than 200 for some parameters.\n",
      "Auto-assigning NUTS sampler...\n",
      "Initializing NUTS using advi+adapt_diag...\n"
     ]
    },
    {
     "name": "stdout",
     "output_type": "stream",
     "text": [
      "(1:3) running inference on dataset #7/30\n"
     ]
    },
    {
     "name": "stderr",
     "output_type": "stream",
     "text": [
      "Average Loss = 4,304:  14%|█▍        | 28983/200000 [00:18<01:49, 1564.41it/s]    \n",
      "Convergence achieved at 29000\n",
      "Interrupted at 28,999 [14%]: Average Loss = 29,642\n",
      "Multiprocess sampling (2 chains in 2 jobs)\n",
      "NUTS: [epsilon, sigma_e, sigma, mu, amp]\n",
      "Sampling 2 chains, 46 divergences: 100%|██████████| 5000/5000 [03:48<00:00, 21.86draws/s]\n",
      "There were 16 divergences after tuning. Increase `target_accept` or reparameterize.\n",
      "The acceptance probability does not match the target. It is 0.9919035929421792, but should be close to 0.8. Try to increase the number of tuning steps.\n",
      "There were 29 divergences after tuning. Increase `target_accept` or reparameterize.\n",
      "The acceptance probability does not match the target. It is 0.9948309075566237, but should be close to 0.8. Try to increase the number of tuning steps.\n",
      "The number of effective samples is smaller than 25% for some parameters.\n",
      "Auto-assigning NUTS sampler...\n",
      "Initializing NUTS using advi+adapt_diag...\n"
     ]
    },
    {
     "name": "stdout",
     "output_type": "stream",
     "text": [
      "(1:3) running inference on dataset #8/30\n"
     ]
    },
    {
     "name": "stderr",
     "output_type": "stream",
     "text": [
      "Average Loss = 3,193:  17%|█▋        | 34228/200000 [00:20<01:40, 1651.31it/s]    \n",
      "Convergence achieved at 34300\n",
      "Interrupted at 34,299 [17%]: Average Loss = 9,828.8\n",
      "Multiprocess sampling (2 chains in 2 jobs)\n",
      "NUTS: [epsilon, sigma_e, sigma, mu, amp]\n",
      "Sampling 2 chains, 781 divergences: 100%|██████████| 5000/5000 [00:42<00:00, 117.30draws/s]\n",
      "There were 48 divergences after tuning. Increase `target_accept` or reparameterize.\n",
      "There were 733 divergences after tuning. Increase `target_accept` or reparameterize.\n",
      "The acceptance probability does not match the target. It is 0.13990371528281045, but should be close to 0.8. Try to increase the number of tuning steps.\n",
      "The rhat statistic is larger than 1.4 for some parameters. The sampler did not converge.\n",
      "The estimated number of effective samples is smaller than 200 for some parameters.\n",
      "Auto-assigning NUTS sampler...\n",
      "Initializing NUTS using advi+adapt_diag...\n"
     ]
    },
    {
     "name": "stdout",
     "output_type": "stream",
     "text": [
      "(1:3) running inference on dataset #9/30\n"
     ]
    },
    {
     "name": "stderr",
     "output_type": "stream",
     "text": [
      "Average Loss = 2,476.6:  24%|██▍       | 48501/200000 [00:30<01:36, 1569.96it/s]  \n",
      "Convergence achieved at 48600\n",
      "Interrupted at 48,599 [24%]: Average Loss = 23,771\n",
      "Multiprocess sampling (2 chains in 2 jobs)\n",
      "NUTS: [epsilon, sigma_e, sigma, mu, amp]\n",
      "Sampling 2 chains, 64 divergences: 100%|██████████| 5000/5000 [00:41<00:00, 121.38draws/s]\n",
      "There were 64 divergences after tuning. Increase `target_accept` or reparameterize.\n",
      "The acceptance probability does not match the target. It is 0.8905427536382067, but should be close to 0.8. Try to increase the number of tuning steps.\n",
      "The rhat statistic is larger than 1.4 for some parameters. The sampler did not converge.\n",
      "The estimated number of effective samples is smaller than 200 for some parameters.\n",
      "Auto-assigning NUTS sampler...\n",
      "Initializing NUTS using advi+adapt_diag...\n"
     ]
    },
    {
     "name": "stdout",
     "output_type": "stream",
     "text": [
      "(1:3) running inference on dataset #10/30\n"
     ]
    },
    {
     "name": "stderr",
     "output_type": "stream",
     "text": [
      "Average Loss = 3,567.4:  21%|██▏       | 42966/200000 [00:27<01:40, 1568.25it/s]  \n",
      "Convergence achieved at 43000\n",
      "Interrupted at 42,999 [21%]: Average Loss = 19,919\n",
      "Multiprocess sampling (2 chains in 2 jobs)\n",
      "NUTS: [epsilon, sigma_e, sigma, mu, amp]\n",
      "Sampling 2 chains, 1,999 divergences: 100%|██████████| 5000/5000 [08:21<00:00,  9.96draws/s] \n",
      "The chain contains only diverging samples. The model is probably misspecified.\n",
      "The acceptance probability does not match the target. It is 0.0, but should be close to 0.8. Try to increase the number of tuning steps.\n",
      "The acceptance probability does not match the target. It is 0.6054095929868912, but should be close to 0.8. Try to increase the number of tuning steps.\n",
      "The chain reached the maximum tree depth. Increase max_treedepth, increase target_accept or reparameterize.\n",
      "The rhat statistic is larger than 1.4 for some parameters. The sampler did not converge.\n",
      "The estimated number of effective samples is smaller than 200 for some parameters.\n",
      "Auto-assigning NUTS sampler...\n",
      "Initializing NUTS using advi+adapt_diag...\n"
     ]
    },
    {
     "name": "stdout",
     "output_type": "stream",
     "text": [
      "(1:3) running inference on dataset #11/30\n"
     ]
    },
    {
     "name": "stderr",
     "output_type": "stream",
     "text": [
      "Average Loss = 4,418.2:  12%|█▏        | 24151/200000 [00:15<01:49, 1600.45it/s]  \n",
      "Convergence achieved at 24200\n",
      "Interrupted at 24,199 [12%]: Average Loss = 47,990\n",
      "Multiprocess sampling (2 chains in 2 jobs)\n",
      "NUTS: [epsilon, sigma_e, sigma, mu, amp]\n",
      "Sampling 2 chains, 0 divergences: 100%|██████████| 5000/5000 [08:03<00:00, 10.34draws/s]\n",
      "The acceptance probability does not match the target. It is 0.9998508398843176, but should be close to 0.8. Try to increase the number of tuning steps.\n",
      "The acceptance probability does not match the target. It is 0.9997757546019198, but should be close to 0.8. Try to increase the number of tuning steps.\n",
      "Auto-assigning NUTS sampler...\n",
      "Initializing NUTS using advi+adapt_diag...\n"
     ]
    },
    {
     "name": "stdout",
     "output_type": "stream",
     "text": [
      "(1:3) running inference on dataset #12/30\n"
     ]
    },
    {
     "name": "stderr",
     "output_type": "stream",
     "text": [
      "Average Loss = 4,146.3:  13%|█▎        | 26231/200000 [00:17<01:56, 1488.73it/s]  \n",
      "Convergence achieved at 26300\n",
      "Interrupted at 26,299 [13%]: Average Loss = 42,545\n",
      "Multiprocess sampling (2 chains in 2 jobs)\n",
      "NUTS: [epsilon, sigma_e, sigma, mu, amp]\n",
      "Sampling 2 chains, 0 divergences: 100%|██████████| 5000/5000 [00:24<00:00, 204.80draws/s]\n",
      "The acceptance probability does not match the target. It is 0.900549601831749, but should be close to 0.8. Try to increase the number of tuning steps.\n",
      "The rhat statistic is larger than 1.4 for some parameters. The sampler did not converge.\n",
      "The estimated number of effective samples is smaller than 200 for some parameters.\n",
      "Auto-assigning NUTS sampler...\n",
      "Initializing NUTS using advi+adapt_diag...\n"
     ]
    },
    {
     "name": "stdout",
     "output_type": "stream",
     "text": [
      "(1:3) running inference on dataset #13/30\n"
     ]
    },
    {
     "name": "stderr",
     "output_type": "stream",
     "text": [
      "Average Loss = 4,673.8:   9%|▊         | 17251/200000 [00:11<02:01, 1503.28it/s]  \n",
      "Convergence achieved at 17400\n",
      "Interrupted at 17,399 [8%]: Average Loss = 50,976\n",
      "Multiprocess sampling (2 chains in 2 jobs)\n",
      "NUTS: [epsilon, sigma_e, sigma, mu, amp]\n",
      "Sampling 2 chains, 893 divergences: 100%|██████████| 5000/5000 [12:05<00:00,  6.89draws/s] \n",
      "There were 276 divergences after tuning. Increase `target_accept` or reparameterize.\n",
      "There were 617 divergences after tuning. Increase `target_accept` or reparameterize.\n",
      "The acceptance probability does not match the target. It is 0.4886031811040399, but should be close to 0.8. Try to increase the number of tuning steps.\n",
      "The chain reached the maximum tree depth. Increase max_treedepth, increase target_accept or reparameterize.\n",
      "The rhat statistic is larger than 1.4 for some parameters. The sampler did not converge.\n",
      "The estimated number of effective samples is smaller than 200 for some parameters.\n",
      "Auto-assigning NUTS sampler...\n",
      "Initializing NUTS using advi+adapt_diag...\n"
     ]
    },
    {
     "name": "stdout",
     "output_type": "stream",
     "text": [
      "(1:3) running inference on dataset #14/30\n"
     ]
    },
    {
     "name": "stderr",
     "output_type": "stream",
     "text": [
      "Average Loss = 1,257.3:  25%|██▌       | 50131/200000 [00:33<01:41, 1474.88it/s]  \n",
      "Convergence achieved at 50200\n",
      "Interrupted at 50,199 [25%]: Average Loss = 21,839\n",
      "Multiprocess sampling (2 chains in 2 jobs)\n",
      "NUTS: [epsilon, sigma_e, sigma, mu, amp]\n",
      "Sampling 2 chains, 1,999 divergences: 100%|██████████| 5000/5000 [04:38<00:00, 17.95draws/s] \n",
      "The acceptance probability does not match the target. It is 0.9932453305130624, but should be close to 0.8. Try to increase the number of tuning steps.\n",
      "The chain contains only diverging samples. The model is probably misspecified.\n",
      "The acceptance probability does not match the target. It is 0.0, but should be close to 0.8. Try to increase the number of tuning steps.\n",
      "The rhat statistic is larger than 1.4 for some parameters. The sampler did not converge.\n",
      "The estimated number of effective samples is smaller than 200 for some parameters.\n",
      "Auto-assigning NUTS sampler...\n",
      "Initializing NUTS using advi+adapt_diag...\n"
     ]
    },
    {
     "name": "stdout",
     "output_type": "stream",
     "text": [
      "(1:3) running inference on dataset #15/30\n"
     ]
    },
    {
     "name": "stderr",
     "output_type": "stream",
     "text": [
      "Average Loss = 4,255.1:  16%|█▌        | 31430/200000 [00:20<01:50, 1520.29it/s]  \n",
      "Convergence achieved at 31500\n",
      "Interrupted at 31,499 [15%]: Average Loss = 33,580\n",
      "Multiprocess sampling (2 chains in 2 jobs)\n",
      "NUTS: [epsilon, sigma_e, sigma, mu, amp]\n",
      "Sampling 2 chains, 0 divergences: 100%|██████████| 5000/5000 [02:56<00:00, 28.31draws/s]\n",
      "The acceptance probability does not match the target. It is 0.9994951840875318, but should be close to 0.8. Try to increase the number of tuning steps.\n",
      "The acceptance probability does not match the target. It is 0.9994824112342517, but should be close to 0.8. Try to increase the number of tuning steps.\n",
      "Auto-assigning NUTS sampler...\n",
      "Initializing NUTS using advi+adapt_diag...\n"
     ]
    },
    {
     "name": "stdout",
     "output_type": "stream",
     "text": [
      "(1:3) running inference on dataset #16/30\n"
     ]
    },
    {
     "name": "stderr",
     "output_type": "stream",
     "text": [
      "Average Loss = 4,429.2:   7%|▋         | 14877/200000 [00:09<01:55, 1598.77it/s]  \n",
      "Convergence achieved at 14900\n",
      "Interrupted at 14,899 [7%]: Average Loss = 72,116\n",
      "Multiprocess sampling (2 chains in 2 jobs)\n",
      "NUTS: [epsilon, sigma_e, sigma, mu, amp]\n",
      "Sampling 2 chains, 697 divergences: 100%|██████████| 5000/5000 [00:49<00:00, 101.52draws/s]\n",
      "There were 697 divergences after tuning. Increase `target_accept` or reparameterize.\n",
      "The acceptance probability does not match the target. It is 0.00025833824529124255, but should be close to 0.8. Try to increase the number of tuning steps.\n",
      "The acceptance probability does not match the target. It is 0.9018942514070326, but should be close to 0.8. Try to increase the number of tuning steps.\n",
      "The rhat statistic is larger than 1.4 for some parameters. The sampler did not converge.\n",
      "The estimated number of effective samples is smaller than 200 for some parameters.\n",
      "Auto-assigning NUTS sampler...\n",
      "Initializing NUTS using advi+adapt_diag...\n"
     ]
    },
    {
     "name": "stdout",
     "output_type": "stream",
     "text": [
      "(1:3) running inference on dataset #17/30\n"
     ]
    },
    {
     "name": "stderr",
     "output_type": "stream",
     "text": [
      "Average Loss = 3,368.1:  28%|██▊       | 55871/200000 [00:35<01:32, 1566.25it/s]  \n",
      "Convergence achieved at 55900\n",
      "Interrupted at 55,899 [27%]: Average Loss = 18,950\n",
      "Multiprocess sampling (2 chains in 2 jobs)\n",
      "NUTS: [epsilon, sigma_e, sigma, mu, amp]\n",
      "Sampling 2 chains, 47 divergences: 100%|██████████| 5000/5000 [01:47<00:00, 46.40draws/s]\n",
      "There were 15 divergences after tuning. Increase `target_accept` or reparameterize.\n",
      "The acceptance probability does not match the target. It is 0.9020548089404918, but should be close to 0.8. Try to increase the number of tuning steps.\n",
      "There were 32 divergences after tuning. Increase `target_accept` or reparameterize.\n",
      "The rhat statistic is larger than 1.05 for some parameters. This indicates slight problems during sampling.\n",
      "The estimated number of effective samples is smaller than 200 for some parameters.\n",
      "Auto-assigning NUTS sampler...\n",
      "Initializing NUTS using advi+adapt_diag...\n"
     ]
    },
    {
     "name": "stdout",
     "output_type": "stream",
     "text": [
      "(1:3) running inference on dataset #18/30\n"
     ]
    },
    {
     "name": "stderr",
     "output_type": "stream",
     "text": [
      "Average Loss = 4,370.4:  10%|█         | 20058/200000 [00:12<01:51, 1611.58it/s]  \n",
      "Convergence achieved at 20100\n",
      "Interrupted at 20,099 [10%]: Average Loss = 53,272\n",
      "Multiprocess sampling (2 chains in 2 jobs)\n",
      "NUTS: [epsilon, sigma_e, sigma, mu, amp]\n",
      "Sampling 2 chains, 18 divergences: 100%|██████████| 5000/5000 [08:30<00:00,  9.79draws/s]\n",
      "There were 11 divergences after tuning. Increase `target_accept` or reparameterize.\n",
      "The acceptance probability does not match the target. It is 0.8814184566835278, but should be close to 0.8. Try to increase the number of tuning steps.\n",
      "There were 7 divergences after tuning. Increase `target_accept` or reparameterize.\n",
      "The estimated number of effective samples is smaller than 200 for some parameters.\n",
      "Auto-assigning NUTS sampler...\n",
      "Initializing NUTS using advi+adapt_diag...\n"
     ]
    },
    {
     "name": "stdout",
     "output_type": "stream",
     "text": [
      "(1:3) running inference on dataset #19/30\n"
     ]
    },
    {
     "name": "stderr",
     "output_type": "stream",
     "text": [
      "Average Loss = 4,135.8:  17%|█▋        | 34851/200000 [00:22<01:45, 1569.98it/s]  \n",
      "Convergence achieved at 35000\n",
      "Interrupted at 34,999 [17%]: Average Loss = 36,693\n",
      "Multiprocess sampling (2 chains in 2 jobs)\n",
      "NUTS: [epsilon, sigma_e, sigma, mu, amp]\n",
      "Sampling 2 chains, 1,646 divergences: 100%|██████████| 5000/5000 [10:14<00:00,  8.14draws/s] \n",
      "There were 621 divergences after tuning. Increase `target_accept` or reparameterize.\n",
      "The acceptance probability does not match the target. It is 0.5387235608556558, but should be close to 0.8. Try to increase the number of tuning steps.\n",
      "The chain reached the maximum tree depth. Increase max_treedepth, increase target_accept or reparameterize.\n",
      "There were 1025 divergences after tuning. Increase `target_accept` or reparameterize.\n",
      "The acceptance probability does not match the target. It is 0.136808007447091, but should be close to 0.8. Try to increase the number of tuning steps.\n",
      "The rhat statistic is larger than 1.4 for some parameters. The sampler did not converge.\n",
      "The estimated number of effective samples is smaller than 200 for some parameters.\n",
      "Auto-assigning NUTS sampler...\n",
      "Initializing NUTS using advi+adapt_diag...\n"
     ]
    },
    {
     "name": "stdout",
     "output_type": "stream",
     "text": [
      "(1:3) running inference on dataset #20/30\n"
     ]
    },
    {
     "name": "stderr",
     "output_type": "stream",
     "text": [
      "Average Loss = 4,383.6:  13%|█▎        | 26820/200000 [00:17<01:54, 1516.61it/s]  \n",
      "Convergence achieved at 26900\n",
      "Interrupted at 26,899 [13%]: Average Loss = 34,601\n",
      "Multiprocess sampling (2 chains in 2 jobs)\n",
      "NUTS: [epsilon, sigma_e, sigma, mu, amp]\n",
      "Sampling 2 chains, 1,070 divergences: 100%|██████████| 5000/5000 [01:18<00:00, 63.88draws/s] \n",
      "There were 141 divergences after tuning. Increase `target_accept` or reparameterize.\n",
      "The acceptance probability does not match the target. It is 0.6345869051493518, but should be close to 0.8. Try to increase the number of tuning steps.\n",
      "There were 929 divergences after tuning. Increase `target_accept` or reparameterize.\n",
      "The acceptance probability does not match the target. It is 0.12631157789642805, but should be close to 0.8. Try to increase the number of tuning steps.\n",
      "The rhat statistic is larger than 1.4 for some parameters. The sampler did not converge.\n",
      "The estimated number of effective samples is smaller than 200 for some parameters.\n",
      "Auto-assigning NUTS sampler...\n",
      "Initializing NUTS using advi+adapt_diag...\n"
     ]
    },
    {
     "name": "stdout",
     "output_type": "stream",
     "text": [
      "(1:3) running inference on dataset #21/30\n"
     ]
    },
    {
     "name": "stderr",
     "output_type": "stream",
     "text": [
      "Average Loss = 4,387.6:  11%|█▏        | 22890/200000 [00:14<01:52, 1568.17it/s]  \n",
      "Convergence achieved at 22900\n",
      "Interrupted at 22,899 [11%]: Average Loss = 46,429\n",
      "Multiprocess sampling (2 chains in 2 jobs)\n",
      "NUTS: [epsilon, sigma_e, sigma, mu, amp]\n",
      "Sampling 2 chains, 2,178 divergences: 100%|██████████| 5000/5000 [03:27<00:00, 24.10draws/s] \n",
      "There were 179 divergences after tuning. Increase `target_accept` or reparameterize.\n",
      "The acceptance probability does not match the target. It is 0.33544474586606965, but should be close to 0.8. Try to increase the number of tuning steps.\n",
      "The chain contains only diverging samples. The model is probably misspecified.\n",
      "The acceptance probability does not match the target. It is 0.0, but should be close to 0.8. Try to increase the number of tuning steps.\n",
      "The rhat statistic is larger than 1.4 for some parameters. The sampler did not converge.\n",
      "The estimated number of effective samples is smaller than 200 for some parameters.\n",
      "Auto-assigning NUTS sampler...\n",
      "Initializing NUTS using advi+adapt_diag...\n"
     ]
    },
    {
     "name": "stdout",
     "output_type": "stream",
     "text": [
      "(1:3) running inference on dataset #22/30\n"
     ]
    },
    {
     "name": "stderr",
     "output_type": "stream",
     "text": [
      "Average Loss = 4,623.5:  13%|█▎        | 25281/200000 [00:16<01:51, 1564.92it/s]  \n",
      "Convergence achieved at 25300\n",
      "Interrupted at 25,299 [12%]: Average Loss = 34,649\n",
      "Multiprocess sampling (2 chains in 2 jobs)\n",
      "NUTS: [epsilon, sigma_e, sigma, mu, amp]\n",
      "Sampling 2 chains, 242 divergences: 100%|██████████| 5000/5000 [00:42<00:00, 117.88draws/s]\n",
      "There were 49 divergences after tuning. Increase `target_accept` or reparameterize.\n",
      "There were 192 divergences after tuning. Increase `target_accept` or reparameterize.\n",
      "The number of effective samples is smaller than 25% for some parameters.\n",
      "Auto-assigning NUTS sampler...\n",
      "Initializing NUTS using advi+adapt_diag...\n"
     ]
    },
    {
     "name": "stdout",
     "output_type": "stream",
     "text": [
      "(1:3) running inference on dataset #23/30\n"
     ]
    },
    {
     "name": "stderr",
     "output_type": "stream",
     "text": [
      "Average Loss = 3,963.6:  13%|█▎        | 25893/200000 [00:15<01:45, 1647.70it/s]  \n",
      "Convergence achieved at 26000\n",
      "Interrupted at 25,999 [12%]: Average Loss = 33,270\n",
      "Multiprocess sampling (2 chains in 2 jobs)\n",
      "NUTS: [epsilon, sigma_e, sigma, mu, amp]\n",
      "Sampling 2 chains, 69 divergences: 100%|██████████| 5000/5000 [14:37<00:00,  5.70draws/s]\n",
      "There were 36 divergences after tuning. Increase `target_accept` or reparameterize.\n",
      "The chain reached the maximum tree depth. Increase max_treedepth, increase target_accept or reparameterize.\n",
      "There were 33 divergences after tuning. Increase `target_accept` or reparameterize.\n",
      "The chain reached the maximum tree depth. Increase max_treedepth, increase target_accept or reparameterize.\n",
      "The rhat statistic is larger than 1.4 for some parameters. The sampler did not converge.\n",
      "The estimated number of effective samples is smaller than 200 for some parameters.\n",
      "Auto-assigning NUTS sampler...\n",
      "Initializing NUTS using advi+adapt_diag...\n"
     ]
    },
    {
     "name": "stdout",
     "output_type": "stream",
     "text": [
      "(1:3) running inference on dataset #24/30\n"
     ]
    },
    {
     "name": "stderr",
     "output_type": "stream",
     "text": [
      "Average Loss = 4,038.7:  17%|█▋        | 34482/200000 [00:21<01:44, 1582.93it/s]  \n",
      "Convergence achieved at 34500\n",
      "Interrupted at 34,499 [17%]: Average Loss = 26,867\n",
      "Multiprocess sampling (2 chains in 2 jobs)\n",
      "NUTS: [epsilon, sigma_e, sigma, mu, amp]\n",
      "Sampling 2 chains, 0 divergences: 100%|██████████| 5000/5000 [01:04<00:00, 77.80draws/s] \n",
      "The acceptance probability does not match the target. It is 0.9846438077758441, but should be close to 0.8. Try to increase the number of tuning steps.\n",
      "Auto-assigning NUTS sampler...\n",
      "Initializing NUTS using advi+adapt_diag...\n"
     ]
    },
    {
     "name": "stdout",
     "output_type": "stream",
     "text": [
      "(1:3) running inference on dataset #25/30\n"
     ]
    },
    {
     "name": "stderr",
     "output_type": "stream",
     "text": [
      "Average Loss = 5,041.9:  12%|█▏        | 23491/200000 [00:15<01:54, 1544.25it/s]  \n",
      "Convergence achieved at 23600\n",
      "Interrupted at 23,599 [11%]: Average Loss = 1.075e+05\n",
      "Multiprocess sampling (2 chains in 2 jobs)\n",
      "NUTS: [epsilon, sigma_e, sigma, mu, amp]\n",
      "Sampling 2 chains, 1,972 divergences: 100%|██████████| 5000/5000 [00:57<00:00, 86.39draws/s] \n",
      "There were 1927 divergences after tuning. Increase `target_accept` or reparameterize.\n",
      "The acceptance probability does not match the target. It is 0.01047659797675688, but should be close to 0.8. Try to increase the number of tuning steps.\n",
      "There were 45 divergences after tuning. Increase `target_accept` or reparameterize.\n",
      "The rhat statistic is larger than 1.4 for some parameters. The sampler did not converge.\n",
      "The estimated number of effective samples is smaller than 200 for some parameters.\n",
      "Auto-assigning NUTS sampler...\n",
      "Initializing NUTS using advi+adapt_diag...\n"
     ]
    },
    {
     "name": "stdout",
     "output_type": "stream",
     "text": [
      "(1:3) running inference on dataset #26/30\n"
     ]
    },
    {
     "name": "stderr",
     "output_type": "stream",
     "text": [
      "Average Loss = 4,252.9:   7%|▋         | 14255/200000 [00:09<01:58, 1572.45it/s]  \n",
      "Convergence achieved at 14300\n",
      "Interrupted at 14,299 [7%]: Average Loss = 38,073\n",
      "Multiprocess sampling (2 chains in 2 jobs)\n",
      "NUTS: [epsilon, sigma_e, sigma, mu, amp]\n",
      "Sampling 2 chains, 191 divergences: 100%|██████████| 5000/5000 [01:07<00:00, 73.81draws/s] \n",
      "There were 104 divergences after tuning. Increase `target_accept` or reparameterize.\n",
      "The acceptance probability does not match the target. It is 0.9135499050787221, but should be close to 0.8. Try to increase the number of tuning steps.\n",
      "There were 87 divergences after tuning. Increase `target_accept` or reparameterize.\n",
      "The rhat statistic is larger than 1.4 for some parameters. The sampler did not converge.\n",
      "The estimated number of effective samples is smaller than 200 for some parameters.\n",
      "Auto-assigning NUTS sampler...\n",
      "Initializing NUTS using advi+adapt_diag...\n"
     ]
    },
    {
     "name": "stdout",
     "output_type": "stream",
     "text": [
      "(1:3) running inference on dataset #27/30\n"
     ]
    },
    {
     "name": "stderr",
     "output_type": "stream",
     "text": [
      "Average Loss = 4,521.5:  18%|█▊        | 36231/200000 [00:23<01:46, 1544.75it/s]  \n",
      "Convergence achieved at 36300\n",
      "Interrupted at 36,299 [18%]: Average Loss = 41,023\n",
      "Multiprocess sampling (2 chains in 2 jobs)\n",
      "NUTS: [epsilon, sigma_e, sigma, mu, amp]\n",
      "Sampling 2 chains, 141 divergences: 100%|██████████| 5000/5000 [00:37<00:00, 134.12draws/s]\n",
      "There were 87 divergences after tuning. Increase `target_accept` or reparameterize.\n",
      "There were 54 divergences after tuning. Increase `target_accept` or reparameterize.\n",
      "The number of effective samples is smaller than 25% for some parameters.\n",
      "Auto-assigning NUTS sampler...\n",
      "Initializing NUTS using advi+adapt_diag...\n"
     ]
    },
    {
     "name": "stdout",
     "output_type": "stream",
     "text": [
      "(1:3) running inference on dataset #28/30\n"
     ]
    },
    {
     "name": "stderr",
     "output_type": "stream",
     "text": [
      "Average Loss = 3,346.7:  24%|██▍       | 48289/200000 [00:30<01:36, 1565.08it/s]  \n",
      "Convergence achieved at 48300\n",
      "Interrupted at 48,299 [24%]: Average Loss = 21,155\n",
      "Multiprocess sampling (2 chains in 2 jobs)\n",
      "NUTS: [epsilon, sigma_e, sigma, mu, amp]\n",
      "Sampling 2 chains, 1,999 divergences: 100%|██████████| 5000/5000 [02:25<00:00, 34.47draws/s] \n",
      "The acceptance probability does not match the target. It is 0.9945371668408339, but should be close to 0.8. Try to increase the number of tuning steps.\n",
      "The chain contains only diverging samples. The model is probably misspecified.\n",
      "The acceptance probability does not match the target. It is 0.0, but should be close to 0.8. Try to increase the number of tuning steps.\n",
      "The rhat statistic is larger than 1.4 for some parameters. The sampler did not converge.\n",
      "The estimated number of effective samples is smaller than 200 for some parameters.\n",
      "Auto-assigning NUTS sampler...\n",
      "Initializing NUTS using advi+adapt_diag...\n"
     ]
    },
    {
     "name": "stdout",
     "output_type": "stream",
     "text": [
      "(1:3) running inference on dataset #29/30\n"
     ]
    },
    {
     "name": "stderr",
     "output_type": "stream",
     "text": [
      "Average Loss = 4,214.6:   7%|▋         | 14245/200000 [00:09<02:04, 1495.22it/s]  \n",
      "Convergence achieved at 14300\n",
      "Interrupted at 14,299 [7%]: Average Loss = 59,610\n",
      "Multiprocess sampling (2 chains in 2 jobs)\n",
      "NUTS: [epsilon, sigma_e, sigma, mu, amp]\n",
      "Sampling 2 chains, 0 divergences: 100%|██████████| 5000/5000 [00:34<00:00, 146.06draws/s]\n",
      "The acceptance probability does not match the target. It is 0.9179225578214497, but should be close to 0.8. Try to increase the number of tuning steps.\n",
      "The acceptance probability does not match the target. It is 0.8873910337798601, but should be close to 0.8. Try to increase the number of tuning steps.\n",
      "The rhat statistic is larger than 1.4 for some parameters. The sampler did not converge.\n",
      "The estimated number of effective samples is smaller than 200 for some parameters.\n",
      "Auto-assigning NUTS sampler...\n",
      "Initializing NUTS using advi+adapt_diag...\n"
     ]
    },
    {
     "name": "stdout",
     "output_type": "stream",
     "text": [
      "(1:3) running inference on dataset #30/30\n"
     ]
    },
    {
     "name": "stderr",
     "output_type": "stream",
     "text": [
      "Average Loss = 4,281.5:   8%|▊         | 15781/200000 [00:09<01:54, 1612.17it/s]  \n",
      "Convergence achieved at 15800\n",
      "Interrupted at 15,799 [7%]: Average Loss = 45,473\n",
      "Multiprocess sampling (2 chains in 2 jobs)\n",
      "NUTS: [epsilon, sigma_e, sigma, mu, amp]\n",
      "Sampling 2 chains, 0 divergences: 100%|██████████| 5000/5000 [00:41<00:00, 120.64draws/s]\n",
      "The acceptance probability does not match the target. It is 0.8861922996144058, but should be close to 0.8. Try to increase the number of tuning steps.\n",
      "The acceptance probability does not match the target. It is 0.960198416217726, but should be close to 0.8. Try to increase the number of tuning steps.\n"
     ]
    },
    {
     "name": "stdout",
     "output_type": "stream",
     "text": [
      "running loop 2/3 over datasets\n"
     ]
    },
    {
     "name": "stderr",
     "output_type": "stream",
     "text": [
      "Auto-assigning NUTS sampler...\n",
      "Initializing NUTS using advi+adapt_diag...\n"
     ]
    },
    {
     "name": "stdout",
     "output_type": "stream",
     "text": [
      "(2:3) running inference on dataset #1/30\n"
     ]
    },
    {
     "name": "stderr",
     "output_type": "stream",
     "text": [
      "Average Loss = 3,928.6:  11%|█         | 22354/200000 [00:15<02:02, 1451.32it/s]  \n",
      "Convergence achieved at 22400\n",
      "Interrupted at 22,399 [11%]: Average Loss = 37,193\n",
      "Multiprocess sampling (2 chains in 2 jobs)\n",
      "NUTS: [epsilon, sigma_e, sigma, mu, amp]\n",
      "Sampling 2 chains, 0 divergences: 100%|██████████| 5000/5000 [03:23<00:00, 24.61draws/s] \n",
      "The acceptance probability does not match the target. It is 0.9769314527546037, but should be close to 0.8. Try to increase the number of tuning steps.\n",
      "The acceptance probability does not match the target. It is 0.9992549422068596, but should be close to 0.8. Try to increase the number of tuning steps.\n",
      "The rhat statistic is larger than 1.4 for some parameters. The sampler did not converge.\n",
      "The estimated number of effective samples is smaller than 200 for some parameters.\n",
      "Auto-assigning NUTS sampler...\n",
      "Initializing NUTS using advi+adapt_diag...\n"
     ]
    },
    {
     "name": "stdout",
     "output_type": "stream",
     "text": [
      "(2:3) running inference on dataset #2/30\n"
     ]
    },
    {
     "name": "stderr",
     "output_type": "stream",
     "text": [
      "Average Loss = 4,462.4:   8%|▊         | 16811/200000 [00:10<01:57, 1559.47it/s]  \n",
      "Convergence achieved at 16900\n",
      "Interrupted at 16,899 [8%]: Average Loss = 54,270\n",
      "Multiprocess sampling (2 chains in 2 jobs)\n",
      "NUTS: [epsilon, sigma_e, sigma, mu, amp]\n",
      "Sampling 2 chains, 110 divergences: 100%|██████████| 5000/5000 [13:39<00:00,  6.10draws/s]\n",
      "There was 1 divergence after tuning. Increase `target_accept` or reparameterize.\n",
      "The acceptance probability does not match the target. It is 0.9512877231860561, but should be close to 0.8. Try to increase the number of tuning steps.\n",
      "The chain reached the maximum tree depth. Increase max_treedepth, increase target_accept or reparameterize.\n",
      "There were 108 divergences after tuning. Increase `target_accept` or reparameterize.\n",
      "The rhat statistic is larger than 1.4 for some parameters. The sampler did not converge.\n",
      "The estimated number of effective samples is smaller than 200 for some parameters.\n",
      "Auto-assigning NUTS sampler...\n",
      "Initializing NUTS using advi+adapt_diag...\n"
     ]
    },
    {
     "name": "stdout",
     "output_type": "stream",
     "text": [
      "(2:3) running inference on dataset #3/30\n"
     ]
    },
    {
     "name": "stderr",
     "output_type": "stream",
     "text": [
      "Average Loss = 3,762.9:  12%|█▏        | 24163/200000 [00:15<01:56, 1511.94it/s]  \n",
      "Convergence achieved at 24300\n",
      "Interrupted at 24,299 [12%]: Average Loss = 22,454\n",
      "Multiprocess sampling (2 chains in 2 jobs)\n",
      "NUTS: [epsilon, sigma_e, sigma, mu, amp]\n",
      "Sampling 2 chains, 2,551 divergences: 100%|██████████| 5000/5000 [01:07<00:00, 74.35draws/s] \n",
      "There were 552 divergences after tuning. Increase `target_accept` or reparameterize.\n",
      "The acceptance probability does not match the target. It is 0.6473533305207242, but should be close to 0.8. Try to increase the number of tuning steps.\n",
      "The chain contains only diverging samples. The model is probably misspecified.\n",
      "The acceptance probability does not match the target. It is 0.0, but should be close to 0.8. Try to increase the number of tuning steps.\n",
      "The rhat statistic is larger than 1.4 for some parameters. The sampler did not converge.\n",
      "The estimated number of effective samples is smaller than 200 for some parameters.\n",
      "Auto-assigning NUTS sampler...\n",
      "Initializing NUTS using advi+adapt_diag...\n"
     ]
    },
    {
     "name": "stdout",
     "output_type": "stream",
     "text": [
      "(2:3) running inference on dataset #4/30\n"
     ]
    },
    {
     "name": "stderr",
     "output_type": "stream",
     "text": [
      "Average Loss = 4,709.6:  12%|█▏        | 24421/200000 [00:15<01:51, 1568.11it/s]  \n",
      "Convergence achieved at 24500\n",
      "Interrupted at 24,499 [12%]: Average Loss = 46,389\n",
      "Multiprocess sampling (2 chains in 2 jobs)\n",
      "NUTS: [epsilon, sigma_e, sigma, mu, amp]\n",
      "Sampling 2 chains, 1 divergences: 100%|██████████| 5000/5000 [01:07<00:00, 74.54draws/s] \n",
      "The acceptance probability does not match the target. It is 0.992955590385262, but should be close to 0.8. Try to increase the number of tuning steps.\n",
      "There was 1 divergence after tuning. Increase `target_accept` or reparameterize.\n",
      "The rhat statistic is larger than 1.4 for some parameters. The sampler did not converge.\n",
      "The estimated number of effective samples is smaller than 200 for some parameters.\n",
      "Auto-assigning NUTS sampler...\n",
      "Initializing NUTS using advi+adapt_diag...\n"
     ]
    },
    {
     "name": "stdout",
     "output_type": "stream",
     "text": [
      "(2:3) running inference on dataset #5/30\n"
     ]
    },
    {
     "name": "stderr",
     "output_type": "stream",
     "text": [
      "Average Loss = 4,661.4:  15%|█▌        | 30651/200000 [00:20<01:51, 1515.88it/s]  \n",
      "Convergence achieved at 30800\n",
      "Interrupted at 30,799 [15%]: Average Loss = 40,698\n",
      "Multiprocess sampling (2 chains in 2 jobs)\n",
      "NUTS: [epsilon, sigma_e, sigma, mu, amp]\n",
      "Sampling 2 chains, 222 divergences: 100%|██████████| 5000/5000 [00:43<00:00, 115.40draws/s]\n",
      "There were 118 divergences after tuning. Increase `target_accept` or reparameterize.\n",
      "There were 104 divergences after tuning. Increase `target_accept` or reparameterize.\n",
      "The number of effective samples is smaller than 25% for some parameters.\n",
      "Auto-assigning NUTS sampler...\n",
      "Initializing NUTS using advi+adapt_diag...\n"
     ]
    },
    {
     "name": "stdout",
     "output_type": "stream",
     "text": [
      "(2:3) running inference on dataset #6/30\n"
     ]
    },
    {
     "name": "stderr",
     "output_type": "stream",
     "text": [
      "Average Loss = 4,268.1:   9%|▉         | 17791/200000 [00:11<01:55, 1575.41it/s]  \n",
      "Convergence achieved at 17800\n",
      "Interrupted at 17,799 [8%]: Average Loss = 51,746\n",
      "Multiprocess sampling (2 chains in 2 jobs)\n",
      "NUTS: [epsilon, sigma_e, sigma, mu, amp]\n",
      "Sampling 2 chains, 0 divergences: 100%|██████████| 5000/5000 [01:42<00:00, 48.85draws/s] \n",
      "The acceptance probability does not match the target. It is 0.9836011161902778, but should be close to 0.8. Try to increase the number of tuning steps.\n",
      "The acceptance probability does not match the target. It is 0.9716334093251088, but should be close to 0.8. Try to increase the number of tuning steps.\n",
      "Auto-assigning NUTS sampler...\n",
      "Initializing NUTS using advi+adapt_diag...\n"
     ]
    },
    {
     "name": "stdout",
     "output_type": "stream",
     "text": [
      "(2:3) running inference on dataset #7/30\n"
     ]
    },
    {
     "name": "stderr",
     "output_type": "stream",
     "text": [
      "Average Loss = 4,309.1:  14%|█▍        | 28861/200000 [00:19<01:54, 1494.81it/s]  \n",
      "Convergence achieved at 28900\n",
      "Interrupted at 28,899 [14%]: Average Loss = 26,917\n",
      "Multiprocess sampling (2 chains in 2 jobs)\n",
      "NUTS: [epsilon, sigma_e, sigma, mu, amp]\n",
      "Sampling 2 chains, 198 divergences: 100%|██████████| 5000/5000 [01:35<00:00, 52.34draws/s] \n",
      "There were 84 divergences after tuning. Increase `target_accept` or reparameterize.\n",
      "The acceptance probability does not match the target. It is 0.9111589712408649, but should be close to 0.8. Try to increase the number of tuning steps.\n",
      "There were 114 divergences after tuning. Increase `target_accept` or reparameterize.\n",
      "The number of effective samples is smaller than 25% for some parameters.\n",
      "Auto-assigning NUTS sampler...\n",
      "Initializing NUTS using advi+adapt_diag...\n"
     ]
    },
    {
     "name": "stdout",
     "output_type": "stream",
     "text": [
      "(2:3) running inference on dataset #8/30\n"
     ]
    },
    {
     "name": "stderr",
     "output_type": "stream",
     "text": [
      "Average Loss = 3,189:  17%|█▋        | 33917/200000 [00:21<01:47, 1551.03it/s]    \n",
      "Convergence achieved at 34000\n",
      "Interrupted at 33,999 [16%]: Average Loss = 9,327.5\n",
      "Multiprocess sampling (2 chains in 2 jobs)\n",
      "NUTS: [epsilon, sigma_e, sigma, mu, amp]\n",
      "Sampling 2 chains, 504 divergences: 100%|██████████| 5000/5000 [00:39<00:00, 126.43draws/s]\n",
      "There were 463 divergences after tuning. Increase `target_accept` or reparameterize.\n",
      "The acceptance probability does not match the target. It is 0.6571887209989211, but should be close to 0.8. Try to increase the number of tuning steps.\n",
      "There were 40 divergences after tuning. Increase `target_accept` or reparameterize.\n",
      "The rhat statistic is larger than 1.05 for some parameters. This indicates slight problems during sampling.\n",
      "The estimated number of effective samples is smaller than 200 for some parameters.\n",
      "Auto-assigning NUTS sampler...\n",
      "Initializing NUTS using advi+adapt_diag...\n"
     ]
    },
    {
     "name": "stdout",
     "output_type": "stream",
     "text": [
      "(2:3) running inference on dataset #9/30\n"
     ]
    },
    {
     "name": "stderr",
     "output_type": "stream",
     "text": [
      "Average Loss = 2,652.7:  18%|█▊        | 35270/200000 [00:23<01:47, 1528.82it/s]  \n",
      "Convergence achieved at 35400\n",
      "Interrupted at 35,399 [17%]: Average Loss = 30,746\n",
      "Multiprocess sampling (2 chains in 2 jobs)\n",
      "NUTS: [epsilon, sigma_e, sigma, mu, amp]\n",
      "Sampling 2 chains, 137 divergences: 100%|██████████| 5000/5000 [00:40<00:00, 123.91draws/s]\n",
      "There were 70 divergences after tuning. Increase `target_accept` or reparameterize.\n",
      "There were 67 divergences after tuning. Increase `target_accept` or reparameterize.\n",
      "The number of effective samples is smaller than 25% for some parameters.\n",
      "Auto-assigning NUTS sampler...\n",
      "Initializing NUTS using advi+adapt_diag...\n"
     ]
    },
    {
     "name": "stdout",
     "output_type": "stream",
     "text": [
      "(2:3) running inference on dataset #10/30\n"
     ]
    },
    {
     "name": "stderr",
     "output_type": "stream",
     "text": [
      "Average Loss = 3,565.5:  22%|██▏       | 43444/200000 [00:28<01:42, 1525.22it/s]  \n",
      "Convergence achieved at 43600\n",
      "Interrupted at 43,599 [21%]: Average Loss = 19,226\n",
      "Multiprocess sampling (2 chains in 2 jobs)\n",
      "NUTS: [epsilon, sigma_e, sigma, mu, amp]\n",
      "Sampling 2 chains, 3,181 divergences: 100%|██████████| 5000/5000 [00:32<00:00, 151.72draws/s]\n",
      "There were 1181 divergences after tuning. Increase `target_accept` or reparameterize.\n",
      "The acceptance probability does not match the target. It is 0.060534619333051036, but should be close to 0.8. Try to increase the number of tuning steps.\n",
      "The chain contains only diverging samples. The model is probably misspecified.\n",
      "The acceptance probability does not match the target. It is 0.0, but should be close to 0.8. Try to increase the number of tuning steps.\n",
      "The rhat statistic is larger than 1.4 for some parameters. The sampler did not converge.\n",
      "The estimated number of effective samples is smaller than 200 for some parameters.\n",
      "Auto-assigning NUTS sampler...\n",
      "Initializing NUTS using advi+adapt_diag...\n"
     ]
    },
    {
     "name": "stdout",
     "output_type": "stream",
     "text": [
      "(2:3) running inference on dataset #11/30\n"
     ]
    },
    {
     "name": "stderr",
     "output_type": "stream",
     "text": [
      "Average Loss = 4,421.3:  13%|█▎        | 26252/200000 [00:17<01:56, 1491.31it/s]  \n",
      "Convergence achieved at 26400\n",
      "Interrupted at 26,399 [13%]: Average Loss = 39,264\n",
      "Multiprocess sampling (2 chains in 2 jobs)\n",
      "NUTS: [epsilon, sigma_e, sigma, mu, amp]\n",
      "Sampling 2 chains, 1,632 divergences: 100%|██████████| 5000/5000 [06:49<00:00, 12.22draws/s] \n",
      "The acceptance probability does not match the target. It is 0.9997288184000979, but should be close to 0.8. Try to increase the number of tuning steps.\n",
      "There were 1632 divergences after tuning. Increase `target_accept` or reparameterize.\n",
      "The acceptance probability does not match the target. It is 0.21874308205606716, but should be close to 0.8. Try to increase the number of tuning steps.\n",
      "The chain reached the maximum tree depth. Increase max_treedepth, increase target_accept or reparameterize.\n",
      "The rhat statistic is larger than 1.4 for some parameters. The sampler did not converge.\n",
      "The estimated number of effective samples is smaller than 200 for some parameters.\n",
      "Auto-assigning NUTS sampler...\n",
      "Initializing NUTS using advi+adapt_diag...\n"
     ]
    },
    {
     "name": "stdout",
     "output_type": "stream",
     "text": [
      "(2:3) running inference on dataset #12/30\n"
     ]
    },
    {
     "name": "stderr",
     "output_type": "stream",
     "text": [
      "Average Loss = 4,102.7:  15%|█▍        | 29721/200000 [00:19<01:50, 1544.36it/s]  \n",
      "Convergence achieved at 29800\n",
      "Interrupted at 29,799 [14%]: Average Loss = 34,982\n",
      "Multiprocess sampling (2 chains in 2 jobs)\n",
      "NUTS: [epsilon, sigma_e, sigma, mu, amp]\n",
      "Sampling 2 chains, 0 divergences: 100%|██████████| 5000/5000 [00:23<00:00, 209.05draws/s]\n",
      "The acceptance probability does not match the target. It is 0.9147300240796792, but should be close to 0.8. Try to increase the number of tuning steps.\n",
      "The acceptance probability does not match the target. It is 0.9134162722341986, but should be close to 0.8. Try to increase the number of tuning steps.\n",
      "Auto-assigning NUTS sampler...\n",
      "Initializing NUTS using advi+adapt_diag...\n"
     ]
    },
    {
     "name": "stdout",
     "output_type": "stream",
     "text": [
      "(2:3) running inference on dataset #13/30\n"
     ]
    },
    {
     "name": "stderr",
     "output_type": "stream",
     "text": [
      "Average Loss = 4,668.3:   9%|▊         | 17491/200000 [00:10<01:51, 1635.13it/s]  \n",
      "Convergence achieved at 17500\n",
      "Interrupted at 17,499 [8%]: Average Loss = 51,812\n",
      "Multiprocess sampling (2 chains in 2 jobs)\n",
      "NUTS: [epsilon, sigma_e, sigma, mu, amp]\n",
      "Sampling 2 chains, 2,052 divergences: 100%|██████████| 5000/5000 [01:10<00:00, 70.84draws/s] \n",
      "There were 926 divergences after tuning. Increase `target_accept` or reparameterize.\n",
      "The acceptance probability does not match the target. It is 0.24076937754093175, but should be close to 0.8. Try to increase the number of tuning steps.\n",
      "There were 1126 divergences after tuning. Increase `target_accept` or reparameterize.\n",
      "The acceptance probability does not match the target. It is 0.11478055646283475, but should be close to 0.8. Try to increase the number of tuning steps.\n",
      "The rhat statistic is larger than 1.4 for some parameters. The sampler did not converge.\n",
      "The estimated number of effective samples is smaller than 200 for some parameters.\n",
      "Auto-assigning NUTS sampler...\n",
      "Initializing NUTS using advi+adapt_diag...\n"
     ]
    },
    {
     "name": "stdout",
     "output_type": "stream",
     "text": [
      "(2:3) running inference on dataset #14/30\n"
     ]
    },
    {
     "name": "stderr",
     "output_type": "stream",
     "text": [
      "Average Loss = 1,422.6:  25%|██▍       | 49841/200000 [00:31<01:35, 1564.46it/s]  \n",
      "Convergence achieved at 49900\n",
      "Interrupted at 49,899 [24%]: Average Loss = 20,841\n",
      "Multiprocess sampling (2 chains in 2 jobs)\n",
      "NUTS: [epsilon, sigma_e, sigma, mu, amp]\n",
      "Sampling 2 chains, 1,017 divergences: 100%|██████████| 5000/5000 [04:34<00:00, 18.24draws/s] \n",
      "The acceptance probability does not match the target. It is 0.9926718220797262, but should be close to 0.8. Try to increase the number of tuning steps.\n",
      "There were 1017 divergences after tuning. Increase `target_accept` or reparameterize.\n",
      "The acceptance probability does not match the target. It is 0.0013682884701177887, but should be close to 0.8. Try to increase the number of tuning steps.\n",
      "The rhat statistic is larger than 1.4 for some parameters. The sampler did not converge.\n",
      "The estimated number of effective samples is smaller than 200 for some parameters.\n",
      "Auto-assigning NUTS sampler...\n",
      "Initializing NUTS using advi+adapt_diag...\n"
     ]
    },
    {
     "name": "stdout",
     "output_type": "stream",
     "text": [
      "(2:3) running inference on dataset #15/30\n"
     ]
    },
    {
     "name": "stderr",
     "output_type": "stream",
     "text": [
      "Average Loss = 4,461.5:  11%|█         | 21059/200000 [00:13<01:51, 1604.39it/s]  \n",
      "Convergence achieved at 21200\n",
      "Interrupted at 21,199 [10%]: Average Loss = 52,650\n",
      "Multiprocess sampling (2 chains in 2 jobs)\n",
      "NUTS: [epsilon, sigma_e, sigma, mu, amp]\n",
      "Sampling 2 chains, 1,126 divergences: 100%|██████████| 5000/5000 [01:24<00:00, 59.49draws/s] \n",
      "The acceptance probability does not match the target. It is 0.996827709964055, but should be close to 0.8. Try to increase the number of tuning steps.\n",
      "There were 1126 divergences after tuning. Increase `target_accept` or reparameterize.\n",
      "The acceptance probability does not match the target. It is 0.15273076830555601, but should be close to 0.8. Try to increase the number of tuning steps.\n",
      "The rhat statistic is larger than 1.4 for some parameters. The sampler did not converge.\n",
      "The estimated number of effective samples is smaller than 200 for some parameters.\n",
      "Auto-assigning NUTS sampler...\n",
      "Initializing NUTS using advi+adapt_diag...\n"
     ]
    },
    {
     "name": "stdout",
     "output_type": "stream",
     "text": [
      "(2:3) running inference on dataset #16/30\n"
     ]
    },
    {
     "name": "stderr",
     "output_type": "stream",
     "text": [
      "Average Loss = 4,399.6:   9%|▉         | 17760/200000 [00:11<01:59, 1530.79it/s]  \n",
      "Convergence achieved at 17800\n",
      "Interrupted at 17,799 [8%]: Average Loss = 61,963\n",
      "Multiprocess sampling (2 chains in 2 jobs)\n",
      "NUTS: [epsilon, sigma_e, sigma, mu, amp]\n",
      "Sampling 2 chains, 1 divergences: 100%|██████████| 5000/5000 [00:26<00:00, 189.55draws/s]\n",
      "There was 1 divergence after tuning. Increase `target_accept` or reparameterize.\n",
      "The acceptance probability does not match the target. It is 0.9333495837959483, but should be close to 0.8. Try to increase the number of tuning steps.\n",
      "The rhat statistic is larger than 1.4 for some parameters. The sampler did not converge.\n",
      "The estimated number of effective samples is smaller than 200 for some parameters.\n",
      "Auto-assigning NUTS sampler...\n",
      "Initializing NUTS using advi+adapt_diag...\n"
     ]
    },
    {
     "name": "stdout",
     "output_type": "stream",
     "text": [
      "(2:3) running inference on dataset #17/30\n"
     ]
    },
    {
     "name": "stderr",
     "output_type": "stream",
     "text": [
      "Average Loss = 4,349.4:   8%|▊         | 16015/200000 [00:10<01:56, 1578.83it/s]  \n",
      "Convergence achieved at 16100\n",
      "Interrupted at 16,099 [8%]: Average Loss = 67,505\n",
      "Multiprocess sampling (2 chains in 2 jobs)\n",
      "NUTS: [epsilon, sigma_e, sigma, mu, amp]\n",
      "Sampling 2 chains, 52 divergences: 100%|██████████| 5000/5000 [02:28<00:00, 33.69draws/s]\n",
      "There were 46 divergences after tuning. Increase `target_accept` or reparameterize.\n",
      "There were 6 divergences after tuning. Increase `target_accept` or reparameterize.\n",
      "The acceptance probability does not match the target. It is 0.9350782861206515, but should be close to 0.8. Try to increase the number of tuning steps.\n",
      "The rhat statistic is larger than 1.05 for some parameters. This indicates slight problems during sampling.\n",
      "The estimated number of effective samples is smaller than 200 for some parameters.\n",
      "Auto-assigning NUTS sampler...\n",
      "Initializing NUTS using advi+adapt_diag...\n"
     ]
    },
    {
     "name": "stdout",
     "output_type": "stream",
     "text": [
      "(2:3) running inference on dataset #18/30\n"
     ]
    },
    {
     "name": "stderr",
     "output_type": "stream",
     "text": [
      "Average Loss = 4,324.8:  11%|█▏        | 22551/200000 [00:14<01:57, 1508.52it/s]  \n",
      "Convergence achieved at 22700\n",
      "Interrupted at 22,699 [11%]: Average Loss = 45,849\n",
      "Multiprocess sampling (2 chains in 2 jobs)\n",
      "NUTS: [epsilon, sigma_e, sigma, mu, amp]\n",
      "Sampling 2 chains, 27 divergences: 100%|██████████| 5000/5000 [07:10<00:00, 11.62draws/s]\n",
      "There were 26 divergences after tuning. Increase `target_accept` or reparameterize.\n",
      "There was 1 divergence after tuning. Increase `target_accept` or reparameterize.\n",
      "The rhat statistic is larger than 1.05 for some parameters. This indicates slight problems during sampling.\n",
      "The estimated number of effective samples is smaller than 200 for some parameters.\n",
      "Auto-assigning NUTS sampler...\n",
      "Initializing NUTS using advi+adapt_diag...\n"
     ]
    },
    {
     "name": "stdout",
     "output_type": "stream",
     "text": [
      "(2:3) running inference on dataset #19/30\n"
     ]
    },
    {
     "name": "stderr",
     "output_type": "stream",
     "text": [
      "Average Loss = 4,135.3:  18%|█▊        | 35371/200000 [00:22<01:45, 1560.96it/s]  \n",
      "Convergence achieved at 35500\n",
      "Interrupted at 35,499 [17%]: Average Loss = 34,308\n",
      "Multiprocess sampling (2 chains in 2 jobs)\n",
      "NUTS: [epsilon, sigma_e, sigma, mu, amp]\n",
      "Sampling 2 chains, 2,321 divergences: 100%|██████████| 5000/5000 [07:03<00:00, 11.80draws/s] \n",
      "There were 1183 divergences after tuning. Increase `target_accept` or reparameterize.\n",
      "The acceptance probability does not match the target. It is 0.07946354405228652, but should be close to 0.8. Try to increase the number of tuning steps.\n",
      "There were 1137 divergences after tuning. Increase `target_accept` or reparameterize.\n",
      "The acceptance probability does not match the target. It is 0.4341913729173075, but should be close to 0.8. Try to increase the number of tuning steps.\n",
      "The chain reached the maximum tree depth. Increase max_treedepth, increase target_accept or reparameterize.\n",
      "The rhat statistic is larger than 1.4 for some parameters. The sampler did not converge.\n",
      "The estimated number of effective samples is smaller than 200 for some parameters.\n",
      "Auto-assigning NUTS sampler...\n",
      "Initializing NUTS using advi+adapt_diag...\n"
     ]
    },
    {
     "name": "stdout",
     "output_type": "stream",
     "text": [
      "(2:3) running inference on dataset #20/30\n"
     ]
    },
    {
     "name": "stderr",
     "output_type": "stream",
     "text": [
      "Average Loss = 4,384.2:  13%|█▎        | 25969/200000 [00:17<01:57, 1480.74it/s]  \n",
      "Convergence achieved at 26000\n",
      "Interrupted at 25,999 [12%]: Average Loss = 36,646\n",
      "Multiprocess sampling (2 chains in 2 jobs)\n",
      "NUTS: [epsilon, sigma_e, sigma, mu, amp]\n",
      "Sampling 2 chains, 396 divergences: 100%|██████████| 5000/5000 [02:24<00:00, 34.66draws/s] \n",
      "There were 321 divergences after tuning. Increase `target_accept` or reparameterize.\n",
      "The acceptance probability does not match the target. It is 0.10551996084580204, but should be close to 0.8. Try to increase the number of tuning steps.\n",
      "There were 75 divergences after tuning. Increase `target_accept` or reparameterize.\n",
      "The acceptance probability does not match the target. It is 0.18056876163143531, but should be close to 0.8. Try to increase the number of tuning steps.\n",
      "The rhat statistic is larger than 1.4 for some parameters. The sampler did not converge.\n",
      "The estimated number of effective samples is smaller than 200 for some parameters.\n",
      "Auto-assigning NUTS sampler...\n",
      "Initializing NUTS using advi+adapt_diag...\n"
     ]
    },
    {
     "name": "stdout",
     "output_type": "stream",
     "text": [
      "(2:3) running inference on dataset #21/30\n"
     ]
    },
    {
     "name": "stderr",
     "output_type": "stream",
     "text": [
      "Average Loss = 4,392.1:  12%|█▏        | 23204/200000 [00:15<01:54, 1542.33it/s]  \n",
      "Convergence achieved at 23300\n",
      "Interrupted at 23,299 [11%]: Average Loss = 44,214\n",
      "Multiprocess sampling (2 chains in 2 jobs)\n",
      "NUTS: [epsilon, sigma_e, sigma, mu, amp]\n",
      "Sampling 2 chains, 0 divergences: 100%|██████████| 5000/5000 [14:57<00:00,  5.57draws/s]\n",
      "The acceptance probability does not match the target. It is 0.9993159905065886, but should be close to 0.8. Try to increase the number of tuning steps.\n",
      "The acceptance probability does not match the target. It is 0.9223969846700152, but should be close to 0.8. Try to increase the number of tuning steps.\n",
      "The chain reached the maximum tree depth. Increase max_treedepth, increase target_accept or reparameterize.\n",
      "The rhat statistic is larger than 1.4 for some parameters. The sampler did not converge.\n",
      "The estimated number of effective samples is smaller than 200 for some parameters.\n",
      "Auto-assigning NUTS sampler...\n",
      "Initializing NUTS using advi+adapt_diag...\n"
     ]
    },
    {
     "name": "stdout",
     "output_type": "stream",
     "text": [
      "(2:3) running inference on dataset #22/30\n"
     ]
    },
    {
     "name": "stderr",
     "output_type": "stream",
     "text": [
      "Average Loss = 4,621.5:  22%|██▏       | 43874/200000 [00:27<01:37, 1608.78it/s]  \n",
      "Convergence achieved at 43900\n",
      "Interrupted at 43,899 [21%]: Average Loss = 23,871\n",
      "Multiprocess sampling (2 chains in 2 jobs)\n",
      "NUTS: [epsilon, sigma_e, sigma, mu, amp]\n",
      "Sampling 2 chains, 166 divergences: 100%|██████████| 5000/5000 [01:00<00:00, 82.88draws/s] \n",
      "There were 74 divergences after tuning. Increase `target_accept` or reparameterize.\n",
      "The acceptance probability does not match the target. It is 0.8838310781312383, but should be close to 0.8. Try to increase the number of tuning steps.\n",
      "There were 92 divergences after tuning. Increase `target_accept` or reparameterize.\n",
      "The number of effective samples is smaller than 25% for some parameters.\n",
      "Auto-assigning NUTS sampler...\n",
      "Initializing NUTS using advi+adapt_diag...\n"
     ]
    },
    {
     "name": "stdout",
     "output_type": "stream",
     "text": [
      "(2:3) running inference on dataset #23/30\n"
     ]
    },
    {
     "name": "stderr",
     "output_type": "stream",
     "text": [
      "Average Loss = 3,968.1:  13%|█▎        | 25059/200000 [00:16<01:58, 1482.49it/s]  \n",
      "Convergence achieved at 25100\n",
      "Interrupted at 25,099 [12%]: Average Loss = 30,130\n",
      "Multiprocess sampling (2 chains in 2 jobs)\n",
      "NUTS: [epsilon, sigma_e, sigma, mu, amp]\n",
      "Sampling 2 chains, 12 divergences: 100%|██████████| 5000/5000 [14:52<00:00,  5.61draws/s]\n",
      "There were 2 divergences after tuning. Increase `target_accept` or reparameterize.\n",
      "The chain reached the maximum tree depth. Increase max_treedepth, increase target_accept or reparameterize.\n",
      "There were 10 divergences after tuning. Increase `target_accept` or reparameterize.\n",
      "The chain reached the maximum tree depth. Increase max_treedepth, increase target_accept or reparameterize.\n",
      "The rhat statistic is larger than 1.4 for some parameters. The sampler did not converge.\n",
      "The estimated number of effective samples is smaller than 200 for some parameters.\n",
      "Auto-assigning NUTS sampler...\n",
      "Initializing NUTS using advi+adapt_diag...\n"
     ]
    },
    {
     "name": "stdout",
     "output_type": "stream",
     "text": [
      "(2:3) running inference on dataset #24/30\n"
     ]
    },
    {
     "name": "stderr",
     "output_type": "stream",
     "text": [
      "Average Loss = 4,058.8:  14%|█▍        | 28641/200000 [00:18<01:50, 1545.60it/s]  \n",
      "Convergence achieved at 28700\n",
      "Interrupted at 28,699 [14%]: Average Loss = 32,462\n",
      "Multiprocess sampling (2 chains in 2 jobs)\n",
      "NUTS: [epsilon, sigma_e, sigma, mu, amp]\n",
      "Sampling 2 chains, 0 divergences: 100%|██████████| 5000/5000 [01:05<00:00, 75.82draws/s] \n",
      "The acceptance probability does not match the target. It is 0.9822902913896552, but should be close to 0.8. Try to increase the number of tuning steps.\n",
      "The acceptance probability does not match the target. It is 0.9601720024240606, but should be close to 0.8. Try to increase the number of tuning steps.\n",
      "The rhat statistic is larger than 1.4 for some parameters. The sampler did not converge.\n",
      "The estimated number of effective samples is smaller than 200 for some parameters.\n",
      "Auto-assigning NUTS sampler...\n",
      "Initializing NUTS using advi+adapt_diag...\n"
     ]
    },
    {
     "name": "stdout",
     "output_type": "stream",
     "text": [
      "(2:3) running inference on dataset #25/30\n"
     ]
    },
    {
     "name": "stderr",
     "output_type": "stream",
     "text": [
      "Average Loss = 5,052.1:  13%|█▎        | 26582/200000 [00:17<01:56, 1484.84it/s]  \n",
      "Convergence achieved at 26700\n",
      "Interrupted at 26,699 [13%]: Average Loss = 85,796\n",
      "Multiprocess sampling (2 chains in 2 jobs)\n",
      "NUTS: [epsilon, sigma_e, sigma, mu, amp]\n",
      "Sampling 2 chains, 42 divergences: 100%|██████████| 5000/5000 [09:07<00:00,  9.13draws/s]\n",
      "There were 42 divergences after tuning. Increase `target_accept` or reparameterize.\n",
      "The acceptance probability does not match the target. It is 0.9805124150653831, but should be close to 0.8. Try to increase the number of tuning steps.\n",
      "The rhat statistic is larger than 1.4 for some parameters. The sampler did not converge.\n",
      "The estimated number of effective samples is smaller than 200 for some parameters.\n",
      "Auto-assigning NUTS sampler...\n",
      "Initializing NUTS using advi+adapt_diag...\n"
     ]
    },
    {
     "name": "stdout",
     "output_type": "stream",
     "text": [
      "(2:3) running inference on dataset #26/30\n"
     ]
    },
    {
     "name": "stderr",
     "output_type": "stream",
     "text": [
      "Average Loss = 4,192.9:  13%|█▎        | 25789/200000 [00:16<01:52, 1549.99it/s]  \n",
      "Convergence achieved at 25900\n",
      "Interrupted at 25,899 [12%]: Average Loss = 27,024\n",
      "Multiprocess sampling (2 chains in 2 jobs)\n",
      "NUTS: [epsilon, sigma_e, sigma, mu, amp]\n",
      "Sampling 2 chains, 175 divergences: 100%|██████████| 5000/5000 [00:51<00:00, 96.25draws/s] \n",
      "There were 88 divergences after tuning. Increase `target_accept` or reparameterize.\n",
      "There were 87 divergences after tuning. Increase `target_accept` or reparameterize.\n",
      "Auto-assigning NUTS sampler...\n",
      "Initializing NUTS using advi+adapt_diag...\n"
     ]
    },
    {
     "name": "stdout",
     "output_type": "stream",
     "text": [
      "(2:3) running inference on dataset #27/30\n"
     ]
    },
    {
     "name": "stderr",
     "output_type": "stream",
     "text": [
      "Average Loss = 4,526.7:  16%|█▌        | 32161/200000 [00:20<01:46, 1581.77it/s]  \n",
      "Convergence achieved at 32200\n",
      "Interrupted at 32,199 [16%]: Average Loss = 43,157\n",
      "Multiprocess sampling (2 chains in 2 jobs)\n",
      "NUTS: [epsilon, sigma_e, sigma, mu, amp]\n",
      "Sampling 2 chains, 1,570 divergences: 100%|██████████| 5000/5000 [00:31<00:00, 156.54draws/s]\n",
      "There were 105 divergences after tuning. Increase `target_accept` or reparameterize.\n",
      "The acceptance probability does not match the target. It is 0.7126055136603702, but should be close to 0.8. Try to increase the number of tuning steps.\n",
      "There were 1465 divergences after tuning. Increase `target_accept` or reparameterize.\n",
      "The acceptance probability does not match the target. It is 0.18816047819580664, but should be close to 0.8. Try to increase the number of tuning steps.\n",
      "The rhat statistic is larger than 1.4 for some parameters. The sampler did not converge.\n",
      "The estimated number of effective samples is smaller than 200 for some parameters.\n",
      "Auto-assigning NUTS sampler...\n",
      "Initializing NUTS using advi+adapt_diag...\n"
     ]
    },
    {
     "name": "stdout",
     "output_type": "stream",
     "text": [
      "(2:3) running inference on dataset #28/30\n"
     ]
    },
    {
     "name": "stderr",
     "output_type": "stream",
     "text": [
      "Average Loss = 3,360.3:  24%|██▍       | 48799/200000 [00:32<01:40, 1511.17it/s]  \n",
      "Convergence achieved at 48900\n",
      "Interrupted at 48,899 [24%]: Average Loss = 21,727\n",
      "Multiprocess sampling (2 chains in 2 jobs)\n",
      "NUTS: [epsilon, sigma_e, sigma, mu, amp]\n",
      "Sampling 2 chains, 1,379 divergences: 100%|██████████| 5000/5000 [06:07<00:00, 13.60draws/s] \n",
      "The acceptance probability does not match the target. It is 0.959901040739064, but should be close to 0.8. Try to increase the number of tuning steps.\n",
      "There were 1379 divergences after tuning. Increase `target_accept` or reparameterize.\n",
      "The acceptance probability does not match the target. It is 0.06578908973517011, but should be close to 0.8. Try to increase the number of tuning steps.\n",
      "The rhat statistic is larger than 1.4 for some parameters. The sampler did not converge.\n",
      "The estimated number of effective samples is smaller than 200 for some parameters.\n",
      "Auto-assigning NUTS sampler...\n",
      "Initializing NUTS using advi+adapt_diag...\n"
     ]
    },
    {
     "name": "stdout",
     "output_type": "stream",
     "text": [
      "(2:3) running inference on dataset #29/30\n"
     ]
    },
    {
     "name": "stderr",
     "output_type": "stream",
     "text": [
      "Average Loss = 4,222.6:   7%|▋         | 14437/200000 [00:09<01:58, 1569.32it/s]  \n",
      "Convergence achieved at 14500\n",
      "Interrupted at 14,499 [7%]: Average Loss = 66,802\n",
      "Multiprocess sampling (2 chains in 2 jobs)\n",
      "NUTS: [epsilon, sigma_e, sigma, mu, amp]\n",
      "Sampling 2 chains, 0 divergences: 100%|██████████| 5000/5000 [00:57<00:00, 86.92draws/s] \n",
      "The acceptance probability does not match the target. It is 0.9826857449845596, but should be close to 0.8. Try to increase the number of tuning steps.\n",
      "The acceptance probability does not match the target. It is 0.9845969529571468, but should be close to 0.8. Try to increase the number of tuning steps.\n",
      "Auto-assigning NUTS sampler...\n",
      "Initializing NUTS using advi+adapt_diag...\n"
     ]
    },
    {
     "name": "stdout",
     "output_type": "stream",
     "text": [
      "(2:3) running inference on dataset #30/30\n"
     ]
    },
    {
     "name": "stderr",
     "output_type": "stream",
     "text": [
      "Average Loss = 4,212.2:  10%|█         | 20161/200000 [00:13<02:00, 1498.03it/s]  \n",
      "Convergence achieved at 20200\n",
      "Interrupted at 20,199 [10%]: Average Loss = 39,967\n",
      "Multiprocess sampling (2 chains in 2 jobs)\n",
      "NUTS: [epsilon, sigma_e, sigma, mu, amp]\n",
      "Sampling 2 chains, 0 divergences: 100%|██████████| 5000/5000 [00:46<00:00, 108.46draws/s]\n",
      "The acceptance probability does not match the target. It is 0.9712217582630303, but should be close to 0.8. Try to increase the number of tuning steps.\n"
     ]
    },
    {
     "name": "stdout",
     "output_type": "stream",
     "text": [
      "running loop 3/3 over datasets\n"
     ]
    },
    {
     "name": "stderr",
     "output_type": "stream",
     "text": [
      "Auto-assigning NUTS sampler...\n",
      "Initializing NUTS using advi+adapt_diag...\n"
     ]
    },
    {
     "name": "stdout",
     "output_type": "stream",
     "text": [
      "(3:3) running inference on dataset #1/30\n"
     ]
    },
    {
     "name": "stderr",
     "output_type": "stream",
     "text": [
      "Average Loss = 3,932.2:  12%|█▏        | 24099/200000 [00:15<01:54, 1532.67it/s]  \n",
      "Convergence achieved at 24200\n",
      "Interrupted at 24,199 [12%]: Average Loss = 29,443\n",
      "Multiprocess sampling (2 chains in 2 jobs)\n",
      "NUTS: [epsilon, sigma_e, sigma, mu, amp]\n",
      "Sampling 2 chains, 983 divergences: 100%|██████████| 5000/5000 [00:58<00:00, 84.82draws/s] \n",
      "There were 162 divergences after tuning. Increase `target_accept` or reparameterize.\n",
      "There were 821 divergences after tuning. Increase `target_accept` or reparameterize.\n",
      "The acceptance probability does not match the target. It is 0.30920199252494224, but should be close to 0.8. Try to increase the number of tuning steps.\n",
      "The rhat statistic is larger than 1.4 for some parameters. The sampler did not converge.\n",
      "The estimated number of effective samples is smaller than 200 for some parameters.\n",
      "Auto-assigning NUTS sampler...\n",
      "Initializing NUTS using advi+adapt_diag...\n"
     ]
    },
    {
     "name": "stdout",
     "output_type": "stream",
     "text": [
      "(3:3) running inference on dataset #2/30\n"
     ]
    },
    {
     "name": "stderr",
     "output_type": "stream",
     "text": [
      "Average Loss = 4,460.5:   8%|▊         | 16244/200000 [00:10<01:56, 1576.13it/s]  \n",
      "Convergence achieved at 16300\n",
      "Interrupted at 16,299 [8%]: Average Loss = 60,288\n",
      "Multiprocess sampling (2 chains in 2 jobs)\n",
      "NUTS: [epsilon, sigma_e, sigma, mu, amp]\n",
      "Sampling 2 chains, 461 divergences: 100%|██████████| 5000/5000 [01:49<00:00, 45.70draws/s] \n",
      "There were 61 divergences after tuning. Increase `target_accept` or reparameterize.\n",
      "There were 400 divergences after tuning. Increase `target_accept` or reparameterize.\n",
      "The rhat statistic is larger than 1.05 for some parameters. This indicates slight problems during sampling.\n",
      "The estimated number of effective samples is smaller than 200 for some parameters.\n",
      "Auto-assigning NUTS sampler...\n",
      "Initializing NUTS using advi+adapt_diag...\n"
     ]
    },
    {
     "name": "stdout",
     "output_type": "stream",
     "text": [
      "(3:3) running inference on dataset #3/30\n"
     ]
    },
    {
     "name": "stderr",
     "output_type": "stream",
     "text": [
      "Average Loss = 3,751.3:  12%|█▏        | 24401/200000 [00:16<01:57, 1490.55it/s]  \n",
      "Convergence achieved at 24500\n",
      "Interrupted at 24,499 [12%]: Average Loss = 23,103\n",
      "Multiprocess sampling (2 chains in 2 jobs)\n",
      "NUTS: [epsilon, sigma_e, sigma, mu, amp]\n",
      "Sampling 2 chains, 1,050 divergences: 100%|██████████| 5000/5000 [01:41<00:00, 49.18draws/s] \n",
      "There were 24 divergences after tuning. Increase `target_accept` or reparameterize.\n",
      "The acceptance probability does not match the target. It is 0.9515976572523281, but should be close to 0.8. Try to increase the number of tuning steps.\n",
      "There were 1026 divergences after tuning. Increase `target_accept` or reparameterize.\n",
      "The acceptance probability does not match the target. It is 0.07903999347226075, but should be close to 0.8. Try to increase the number of tuning steps.\n",
      "The rhat statistic is larger than 1.4 for some parameters. The sampler did not converge.\n",
      "The estimated number of effective samples is smaller than 200 for some parameters.\n",
      "Auto-assigning NUTS sampler...\n",
      "Initializing NUTS using advi+adapt_diag...\n"
     ]
    },
    {
     "name": "stdout",
     "output_type": "stream",
     "text": [
      "(3:3) running inference on dataset #4/30\n"
     ]
    },
    {
     "name": "stderr",
     "output_type": "stream",
     "text": [
      "Average Loss = 4,710.2:  11%|█         | 22447/200000 [00:14<01:55, 1538.14it/s]  \n",
      "Convergence achieved at 22500\n",
      "Interrupted at 22,499 [11%]: Average Loss = 52,649\n",
      "Multiprocess sampling (2 chains in 2 jobs)\n",
      "NUTS: [epsilon, sigma_e, sigma, mu, amp]\n",
      "Sampling 2 chains, 0 divergences: 100%|██████████| 5000/5000 [07:58<00:00, 10.45draws/s] \n",
      "The acceptance probability does not match the target. It is 0.999932499189326, but should be close to 0.8. Try to increase the number of tuning steps.\n",
      "The acceptance probability does not match the target. It is 0.9276298887953395, but should be close to 0.8. Try to increase the number of tuning steps.\n",
      "The rhat statistic is larger than 1.4 for some parameters. The sampler did not converge.\n",
      "The estimated number of effective samples is smaller than 200 for some parameters.\n",
      "Auto-assigning NUTS sampler...\n",
      "Initializing NUTS using advi+adapt_diag...\n"
     ]
    },
    {
     "name": "stdout",
     "output_type": "stream",
     "text": [
      "(3:3) running inference on dataset #5/30\n"
     ]
    },
    {
     "name": "stderr",
     "output_type": "stream",
     "text": [
      "Average Loss = 4,679.8:  10%|▉         | 19498/200000 [00:12<01:55, 1564.84it/s]  \n",
      "Convergence achieved at 19600\n",
      "Interrupted at 19,599 [9%]: Average Loss = 66,061\n",
      "Multiprocess sampling (2 chains in 2 jobs)\n",
      "NUTS: [epsilon, sigma_e, sigma, mu, amp]\n",
      "Sampling 2 chains, 262 divergences: 100%|██████████| 5000/5000 [03:38<00:00, 22.91draws/s]\n",
      "There were 262 divergences after tuning. Increase `target_accept` or reparameterize.\n",
      "The acceptance probability does not match the target. It is 0.8887256118008269, but should be close to 0.8. Try to increase the number of tuning steps.\n",
      "The rhat statistic is larger than 1.4 for some parameters. The sampler did not converge.\n",
      "The estimated number of effective samples is smaller than 200 for some parameters.\n",
      "Auto-assigning NUTS sampler...\n",
      "Initializing NUTS using advi+adapt_diag...\n"
     ]
    },
    {
     "name": "stdout",
     "output_type": "stream",
     "text": [
      "(3:3) running inference on dataset #6/30\n"
     ]
    },
    {
     "name": "stderr",
     "output_type": "stream",
     "text": [
      "Average Loss = 4,266.1:   9%|▉         | 18463/200000 [00:12<02:01, 1496.90it/s]  \n",
      "Convergence achieved at 18500\n",
      "Interrupted at 18,499 [9%]: Average Loss = 52,144\n",
      "Multiprocess sampling (2 chains in 2 jobs)\n",
      "NUTS: [epsilon, sigma_e, sigma, mu, amp]\n",
      "Sampling 2 chains, 0 divergences: 100%|██████████| 5000/5000 [00:50<00:00, 98.67draws/s] \n",
      "The acceptance probability does not match the target. It is 0.9711991039121453, but should be close to 0.8. Try to increase the number of tuning steps.\n",
      "The acceptance probability does not match the target. It is 0.9639251669980213, but should be close to 0.8. Try to increase the number of tuning steps.\n",
      "Auto-assigning NUTS sampler...\n",
      "Initializing NUTS using advi+adapt_diag...\n"
     ]
    },
    {
     "name": "stdout",
     "output_type": "stream",
     "text": [
      "(3:3) running inference on dataset #7/30\n"
     ]
    },
    {
     "name": "stderr",
     "output_type": "stream",
     "text": [
      "Average Loss = 4,301.1:  14%|█▎        | 27258/200000 [00:19<02:06, 1365.21it/s]  \n",
      "Convergence achieved at 27400\n",
      "Interrupted at 27,399 [13%]: Average Loss = 31,860\n",
      "Multiprocess sampling (2 chains in 2 jobs)\n",
      "NUTS: [epsilon, sigma_e, sigma, mu, amp]\n",
      "Sampling 2 chains, 1,658 divergences: 100%|██████████| 5000/5000 [01:00<00:00, 82.35draws/s] \n",
      "There were 134 divergences after tuning. Increase `target_accept` or reparameterize.\n",
      "There were 1524 divergences after tuning. Increase `target_accept` or reparameterize.\n",
      "The acceptance probability does not match the target. It is 0.0025761085431966354, but should be close to 0.8. Try to increase the number of tuning steps.\n",
      "The rhat statistic is larger than 1.4 for some parameters. The sampler did not converge.\n",
      "The estimated number of effective samples is smaller than 200 for some parameters.\n",
      "Auto-assigning NUTS sampler...\n",
      "Initializing NUTS using advi+adapt_diag...\n"
     ]
    },
    {
     "name": "stdout",
     "output_type": "stream",
     "text": [
      "(3:3) running inference on dataset #8/30\n"
     ]
    },
    {
     "name": "stderr",
     "output_type": "stream",
     "text": [
      "Average Loss = 3,182.3:  17%|█▋        | 34781/200000 [00:23<01:51, 1477.95it/s]  \n",
      "Convergence achieved at 34900\n",
      "Interrupted at 34,899 [17%]: Average Loss = 9,054.2\n",
      "Multiprocess sampling (2 chains in 2 jobs)\n",
      "NUTS: [epsilon, sigma_e, sigma, mu, amp]\n",
      "Sampling 2 chains, 666 divergences: 100%|██████████| 5000/5000 [00:42<00:00, 118.34draws/s]\n",
      "There were 51 divergences after tuning. Increase `target_accept` or reparameterize.\n",
      "There were 615 divergences after tuning. Increase `target_accept` or reparameterize.\n",
      "The acceptance probability does not match the target. It is 0.579733405795322, but should be close to 0.8. Try to increase the number of tuning steps.\n",
      "The rhat statistic is larger than 1.2 for some parameters.\n",
      "The estimated number of effective samples is smaller than 200 for some parameters.\n",
      "Auto-assigning NUTS sampler...\n",
      "Initializing NUTS using advi+adapt_diag...\n"
     ]
    },
    {
     "name": "stdout",
     "output_type": "stream",
     "text": [
      "(3:3) running inference on dataset #9/30\n"
     ]
    },
    {
     "name": "stderr",
     "output_type": "stream",
     "text": [
      "Average Loss = 2,466.7:  24%|██▍       | 48851/200000 [00:32<01:41, 1495.80it/s]  \n",
      "Convergence achieved at 48900\n",
      "Interrupted at 48,899 [24%]: Average Loss = 28,724\n",
      "Multiprocess sampling (2 chains in 2 jobs)\n",
      "NUTS: [epsilon, sigma_e, sigma, mu, amp]\n",
      "Sampling 2 chains, 271 divergences: 100%|██████████| 5000/5000 [00:40<00:00, 123.92draws/s]\n",
      "There were 172 divergences after tuning. Increase `target_accept` or reparameterize.\n",
      "There were 99 divergences after tuning. Increase `target_accept` or reparameterize.\n",
      "The number of effective samples is smaller than 10% for some parameters.\n",
      "Auto-assigning NUTS sampler...\n",
      "Initializing NUTS using advi+adapt_diag...\n"
     ]
    },
    {
     "name": "stdout",
     "output_type": "stream",
     "text": [
      "(3:3) running inference on dataset #10/30\n"
     ]
    },
    {
     "name": "stderr",
     "output_type": "stream",
     "text": [
      "Average Loss = 3,598:  21%|██        | 42086/200000 [00:27<01:44, 1509.78it/s]    \n",
      "Convergence achieved at 42100\n",
      "Interrupted at 42,099 [21%]: Average Loss = 20,831\n",
      "Multiprocess sampling (2 chains in 2 jobs)\n",
      "NUTS: [epsilon, sigma_e, sigma, mu, amp]\n",
      "Sampling 2 chains, 1,664 divergences: 100%|██████████| 5000/5000 [03:16<00:00, 25.46draws/s] \n",
      "There were 1054 divergences after tuning. Increase `target_accept` or reparameterize.\n",
      "The acceptance probability does not match the target. It is 0.15044949576677372, but should be close to 0.8. Try to increase the number of tuning steps.\n",
      "There were 610 divergences after tuning. Increase `target_accept` or reparameterize.\n",
      "The acceptance probability does not match the target. It is 0.4469090663680806, but should be close to 0.8. Try to increase the number of tuning steps.\n",
      "The rhat statistic is larger than 1.4 for some parameters. The sampler did not converge.\n",
      "The estimated number of effective samples is smaller than 200 for some parameters.\n",
      "Auto-assigning NUTS sampler...\n",
      "Initializing NUTS using advi+adapt_diag...\n"
     ]
    },
    {
     "name": "stdout",
     "output_type": "stream",
     "text": [
      "(3:3) running inference on dataset #11/30\n"
     ]
    },
    {
     "name": "stderr",
     "output_type": "stream",
     "text": [
      "Average Loss = 4,425.2:  11%|█▏        | 22871/200000 [00:15<01:58, 1491.43it/s]  \n",
      "Convergence achieved at 22900\n",
      "Interrupted at 22,899 [11%]: Average Loss = 46,120\n",
      "Multiprocess sampling (2 chains in 2 jobs)\n",
      "NUTS: [epsilon, sigma_e, sigma, mu, amp]\n",
      "Sampling 2 chains, 0 divergences: 100%|██████████| 5000/5000 [07:43<00:00, 10.79draws/s]\n",
      "The acceptance probability does not match the target. It is 0.9998147030629755, but should be close to 0.8. Try to increase the number of tuning steps.\n",
      "The acceptance probability does not match the target. It is 0.9997160057879185, but should be close to 0.8. Try to increase the number of tuning steps.\n",
      "Auto-assigning NUTS sampler...\n",
      "Initializing NUTS using advi+adapt_diag...\n"
     ]
    },
    {
     "name": "stdout",
     "output_type": "stream",
     "text": [
      "(3:3) running inference on dataset #12/30\n"
     ]
    },
    {
     "name": "stderr",
     "output_type": "stream",
     "text": [
      "Average Loss = 4,103.1:  15%|█▍        | 29601/200000 [00:20<01:56, 1460.66it/s]  \n",
      "Convergence achieved at 29700\n",
      "Interrupted at 29,699 [14%]: Average Loss = 35,086\n",
      "Multiprocess sampling (2 chains in 2 jobs)\n",
      "NUTS: [epsilon, sigma_e, sigma, mu, amp]\n",
      "Sampling 2 chains, 4 divergences: 100%|██████████| 5000/5000 [00:23<00:00, 208.75draws/s]\n",
      "There was 1 divergence after tuning. Increase `target_accept` or reparameterize.\n",
      "The acceptance probability does not match the target. It is 0.8953946064691357, but should be close to 0.8. Try to increase the number of tuning steps.\n",
      "There were 3 divergences after tuning. Increase `target_accept` or reparameterize.\n",
      "The acceptance probability does not match the target. It is 0.8919136266471436, but should be close to 0.8. Try to increase the number of tuning steps.\n",
      "Auto-assigning NUTS sampler...\n",
      "Initializing NUTS using advi+adapt_diag...\n"
     ]
    },
    {
     "name": "stdout",
     "output_type": "stream",
     "text": [
      "(3:3) running inference on dataset #13/30\n"
     ]
    },
    {
     "name": "stderr",
     "output_type": "stream",
     "text": [
      "Average Loss = 4,655.4:  14%|█▍        | 28731/200000 [00:18<01:52, 1523.46it/s]  \n",
      "Convergence achieved at 28800\n",
      "Interrupted at 28,799 [14%]: Average Loss = 31,094\n",
      "Multiprocess sampling (2 chains in 2 jobs)\n",
      "NUTS: [epsilon, sigma_e, sigma, mu, amp]\n",
      "Sampling 2 chains, 361 divergences: 100%|██████████| 5000/5000 [14:36<00:00,  5.70draws/s] \n",
      "The chain reached the maximum tree depth. Increase max_treedepth, increase target_accept or reparameterize.\n",
      "There were 361 divergences after tuning. Increase `target_accept` or reparameterize.\n",
      "The acceptance probability does not match the target. It is 0.5851730661035834, but should be close to 0.8. Try to increase the number of tuning steps.\n",
      "The rhat statistic is larger than 1.4 for some parameters. The sampler did not converge.\n",
      "The estimated number of effective samples is smaller than 200 for some parameters.\n",
      "Auto-assigning NUTS sampler...\n",
      "Initializing NUTS using advi+adapt_diag...\n"
     ]
    },
    {
     "name": "stdout",
     "output_type": "stream",
     "text": [
      "(3:3) running inference on dataset #14/30\n"
     ]
    },
    {
     "name": "stderr",
     "output_type": "stream",
     "text": [
      "Average Loss = 1,303.4:  25%|██▌       | 50465/200000 [00:35<01:45, 1412.00it/s]  \n",
      "Convergence achieved at 50500\n",
      "Interrupted at 50,499 [25%]: Average Loss = 20,654\n",
      "Multiprocess sampling (2 chains in 2 jobs)\n",
      "NUTS: [epsilon, sigma_e, sigma, mu, amp]\n",
      "Sampling 2 chains, 1,322 divergences: 100%|██████████| 5000/5000 [02:15<00:00, 36.97draws/s] \n",
      "The acceptance probability does not match the target. It is 0.9570689248300618, but should be close to 0.8. Try to increase the number of tuning steps.\n",
      "There were 1322 divergences after tuning. Increase `target_accept` or reparameterize.\n",
      "The acceptance probability does not match the target. It is 0.036682771683221795, but should be close to 0.8. Try to increase the number of tuning steps.\n",
      "The rhat statistic is larger than 1.4 for some parameters. The sampler did not converge.\n",
      "The estimated number of effective samples is smaller than 200 for some parameters.\n",
      "Auto-assigning NUTS sampler...\n",
      "Initializing NUTS using advi+adapt_diag...\n"
     ]
    },
    {
     "name": "stdout",
     "output_type": "stream",
     "text": [
      "(3:3) running inference on dataset #15/30\n"
     ]
    },
    {
     "name": "stderr",
     "output_type": "stream",
     "text": [
      "Average Loss = 4,464.6:  11%|█         | 21084/200000 [00:14<01:59, 1500.26it/s]  \n",
      "Convergence achieved at 21100\n",
      "Interrupted at 21,099 [10%]: Average Loss = 51,462\n",
      "Multiprocess sampling (2 chains in 2 jobs)\n",
      "NUTS: [epsilon, sigma_e, sigma, mu, amp]\n",
      "Sampling 2 chains, 50 divergences: 100%|██████████| 5000/5000 [04:37<00:00, 17.99draws/s]\n",
      "There were 50 divergences after tuning. Increase `target_accept` or reparameterize.\n",
      "The acceptance probability does not match the target. It is 0.9978446017645299, but should be close to 0.8. Try to increase the number of tuning steps.\n",
      "The rhat statistic is larger than 1.4 for some parameters. The sampler did not converge.\n",
      "The estimated number of effective samples is smaller than 200 for some parameters.\n",
      "Auto-assigning NUTS sampler...\n",
      "Initializing NUTS using advi+adapt_diag...\n"
     ]
    },
    {
     "name": "stdout",
     "output_type": "stream",
     "text": [
      "(3:3) running inference on dataset #16/30\n"
     ]
    },
    {
     "name": "stderr",
     "output_type": "stream",
     "text": [
      "Average Loss = 4,411.5:   8%|▊         | 15399/200000 [00:09<01:58, 1562.05it/s]  \n",
      "Convergence achieved at 15500\n",
      "Interrupted at 15,499 [7%]: Average Loss = 69,500\n",
      "Multiprocess sampling (2 chains in 2 jobs)\n",
      "NUTS: [epsilon, sigma_e, sigma, mu, amp]\n",
      "Sampling 2 chains, 0 divergences: 100%|██████████| 5000/5000 [00:29<00:00, 167.24draws/s]\n",
      "The acceptance probability does not match the target. It is 0.9538633742386761, but should be close to 0.8. Try to increase the number of tuning steps.\n",
      "The acceptance probability does not match the target. It is 0.9073035652567626, but should be close to 0.8. Try to increase the number of tuning steps.\n",
      "Auto-assigning NUTS sampler...\n",
      "Initializing NUTS using advi+adapt_diag...\n"
     ]
    },
    {
     "name": "stdout",
     "output_type": "stream",
     "text": [
      "(3:3) running inference on dataset #17/30\n"
     ]
    },
    {
     "name": "stderr",
     "output_type": "stream",
     "text": [
      "Average Loss = 4,343.2:   8%|▊         | 16499/200000 [00:10<02:00, 1524.27it/s]  \n",
      "Convergence achieved at 16500\n",
      "Interrupted at 16,499 [8%]: Average Loss = 60,267\n",
      "Multiprocess sampling (2 chains in 2 jobs)\n",
      "NUTS: [epsilon, sigma_e, sigma, mu, amp]\n",
      "Sampling 2 chains, 114 divergences: 100%|██████████| 5000/5000 [02:30<00:00, 33.15draws/s]\n",
      "There were 114 divergences after tuning. Increase `target_accept` or reparameterize.\n",
      "The acceptance probability does not match the target. It is 0.9083609485227278, but should be close to 0.8. Try to increase the number of tuning steps.\n",
      "The rhat statistic is larger than 1.4 for some parameters. The sampler did not converge.\n",
      "The estimated number of effective samples is smaller than 200 for some parameters.\n",
      "Auto-assigning NUTS sampler...\n",
      "Initializing NUTS using advi+adapt_diag...\n"
     ]
    },
    {
     "name": "stdout",
     "output_type": "stream",
     "text": [
      "(3:3) running inference on dataset #18/30\n"
     ]
    },
    {
     "name": "stderr",
     "output_type": "stream",
     "text": [
      "Average Loss = 4,348.5:  11%|█         | 21637/200000 [00:17<02:27, 1205.72it/s]  \n",
      "Convergence achieved at 21700\n",
      "Interrupted at 21,699 [10%]: Average Loss = 48,709\n",
      "Multiprocess sampling (2 chains in 2 jobs)\n",
      "NUTS: [epsilon, sigma_e, sigma, mu, amp]\n",
      "Sampling 2 chains, 3 divergences: 100%|██████████| 5000/5000 [07:57<00:00, 10.47draws/s]\n",
      "There was 1 divergence after tuning. Increase `target_accept` or reparameterize.\n",
      "There were 2 divergences after tuning. Increase `target_accept` or reparameterize.\n",
      "The acceptance probability does not match the target. It is 0.8994517254455398, but should be close to 0.8. Try to increase the number of tuning steps.\n",
      "The number of effective samples is smaller than 25% for some parameters.\n",
      "Auto-assigning NUTS sampler...\n",
      "Initializing NUTS using advi+adapt_diag...\n"
     ]
    },
    {
     "name": "stdout",
     "output_type": "stream",
     "text": [
      "(3:3) running inference on dataset #19/30\n"
     ]
    },
    {
     "name": "stderr",
     "output_type": "stream",
     "text": [
      "Average Loss = 4,131.9:  17%|█▋        | 34741/200000 [00:32<02:32, 1082.64it/s]  \n",
      "Convergence achieved at 34800\n",
      "Interrupted at 34,799 [17%]: Average Loss = 37,139\n",
      "Multiprocess sampling (2 chains in 2 jobs)\n",
      "NUTS: [epsilon, sigma_e, sigma, mu, amp]\n",
      "Sampling 2 chains, 1,136 divergences: 100%|██████████| 5000/5000 [11:34<00:00,  7.20draws/s] \n",
      "There were 73 divergences after tuning. Increase `target_accept` or reparameterize.\n",
      "The acceptance probability does not match the target. It is 0.6484245388107621, but should be close to 0.8. Try to increase the number of tuning steps.\n",
      "The chain reached the maximum tree depth. Increase max_treedepth, increase target_accept or reparameterize.\n",
      "There were 1063 divergences after tuning. Increase `target_accept` or reparameterize.\n",
      "The acceptance probability does not match the target. It is 0.0012965961649129439, but should be close to 0.8. Try to increase the number of tuning steps.\n",
      "The rhat statistic is larger than 1.4 for some parameters. The sampler did not converge.\n",
      "The estimated number of effective samples is smaller than 200 for some parameters.\n",
      "Auto-assigning NUTS sampler...\n",
      "Initializing NUTS using advi+adapt_diag...\n"
     ]
    },
    {
     "name": "stdout",
     "output_type": "stream",
     "text": [
      "(3:3) running inference on dataset #20/30\n"
     ]
    },
    {
     "name": "stderr",
     "output_type": "stream",
     "text": [
      "Average Loss = 4,386.4:  12%|█▏        | 24861/200000 [00:16<01:57, 1496.36it/s]  \n",
      "Convergence achieved at 24900\n",
      "Interrupted at 24,899 [12%]: Average Loss = 38,719\n",
      "Multiprocess sampling (2 chains in 2 jobs)\n",
      "NUTS: [epsilon, sigma_e, sigma, mu, amp]\n",
      "Sampling 2 chains, 3,194 divergences: 100%|██████████| 5000/5000 [00:56<00:00, 89.25draws/s] \n",
      "The chain contains only diverging samples. The model is probably misspecified.\n",
      "The acceptance probability does not match the target. It is 0.0, but should be close to 0.8. Try to increase the number of tuning steps.\n",
      "There were 1195 divergences after tuning. Increase `target_accept` or reparameterize.\n",
      "The acceptance probability does not match the target. It is 0.23795231623471247, but should be close to 0.8. Try to increase the number of tuning steps.\n",
      "The rhat statistic is larger than 1.4 for some parameters. The sampler did not converge.\n",
      "The estimated number of effective samples is smaller than 200 for some parameters.\n",
      "Auto-assigning NUTS sampler...\n",
      "Initializing NUTS using advi+adapt_diag...\n"
     ]
    },
    {
     "name": "stdout",
     "output_type": "stream",
     "text": [
      "(3:3) running inference on dataset #21/30\n"
     ]
    },
    {
     "name": "stderr",
     "output_type": "stream",
     "text": [
      "Average Loss = 4,386.6:  13%|█▎        | 25540/200000 [00:16<01:51, 1562.79it/s]  \n",
      "Convergence achieved at 25600\n",
      "Interrupted at 25,599 [12%]: Average Loss = 47,441\n",
      "Multiprocess sampling (2 chains in 2 jobs)\n",
      "NUTS: [epsilon, sigma_e, sigma, mu, amp]\n",
      "Sampling 2 chains, 1,959 divergences: 100%|██████████| 5000/5000 [15:02<00:00,  5.54draws/s] \n",
      "There were 1959 divergences after tuning. Increase `target_accept` or reparameterize.\n",
      "The acceptance probability does not match the target. It is 1.6198155259735408e-31, but should be close to 0.8. Try to increase the number of tuning steps.\n",
      "The acceptance probability does not match the target. It is 0.6346419261420075, but should be close to 0.8. Try to increase the number of tuning steps.\n",
      "The chain reached the maximum tree depth. Increase max_treedepth, increase target_accept or reparameterize.\n",
      "The rhat statistic is larger than 1.4 for some parameters. The sampler did not converge.\n",
      "The estimated number of effective samples is smaller than 200 for some parameters.\n",
      "Auto-assigning NUTS sampler...\n",
      "Initializing NUTS using advi+adapt_diag...\n"
     ]
    },
    {
     "name": "stdout",
     "output_type": "stream",
     "text": [
      "(3:3) running inference on dataset #22/30\n"
     ]
    },
    {
     "name": "stderr",
     "output_type": "stream",
     "text": [
      "Average Loss = 4,542.2:  40%|████      | 80581/200000 [01:06<01:38, 1208.74it/s]  \n",
      "Convergence achieved at 80600\n",
      "Interrupted at 80,599 [40%]: Average Loss = 14,575\n",
      "Multiprocess sampling (2 chains in 2 jobs)\n",
      "NUTS: [epsilon, sigma_e, sigma, mu, amp]\n",
      "Sampling 2 chains, 165 divergences: 100%|██████████| 5000/5000 [00:43<00:00, 116.27draws/s]\n",
      "There were 93 divergences after tuning. Increase `target_accept` or reparameterize.\n",
      "There were 72 divergences after tuning. Increase `target_accept` or reparameterize.\n",
      "The number of effective samples is smaller than 25% for some parameters.\n",
      "Auto-assigning NUTS sampler...\n",
      "Initializing NUTS using advi+adapt_diag...\n"
     ]
    },
    {
     "name": "stdout",
     "output_type": "stream",
     "text": [
      "(3:3) running inference on dataset #23/30\n"
     ]
    },
    {
     "name": "stderr",
     "output_type": "stream",
     "text": [
      "Average Loss = 3,960.6:  13%|█▎        | 26015/200000 [00:25<02:48, 1032.19it/s]  \n",
      "Convergence achieved at 26100\n",
      "Interrupted at 26,099 [13%]: Average Loss = 33,877\n",
      "Multiprocess sampling (2 chains in 2 jobs)\n",
      "NUTS: [epsilon, sigma_e, sigma, mu, amp]\n",
      "Sampling 2 chains, 1 divergences: 100%|██████████| 5000/5000 [15:08<00:00,  5.50draws/s]\n",
      "There was 1 divergence after tuning. Increase `target_accept` or reparameterize.\n",
      "The chain reached the maximum tree depth. Increase max_treedepth, increase target_accept or reparameterize.\n",
      "The acceptance probability does not match the target. It is 0.9949197985938658, but should be close to 0.8. Try to increase the number of tuning steps.\n",
      "The rhat statistic is larger than 1.05 for some parameters. This indicates slight problems during sampling.\n",
      "The estimated number of effective samples is smaller than 200 for some parameters.\n",
      "Auto-assigning NUTS sampler...\n",
      "Initializing NUTS using advi+adapt_diag...\n"
     ]
    },
    {
     "name": "stdout",
     "output_type": "stream",
     "text": [
      "(3:3) running inference on dataset #24/30\n"
     ]
    },
    {
     "name": "stderr",
     "output_type": "stream",
     "text": [
      "Average Loss = 4,063.2:  14%|█▎        | 27026/200000 [00:26<02:46, 1037.08it/s]  \n",
      "Convergence achieved at 27100\n",
      "Interrupted at 27,099 [13%]: Average Loss = 36,857\n",
      "Multiprocess sampling (2 chains in 2 jobs)\n",
      "NUTS: [epsilon, sigma_e, sigma, mu, amp]\n",
      "Sampling 2 chains, 0 divergences: 100%|██████████| 5000/5000 [01:16<00:00, 65.14draws/s] \n",
      "The acceptance probability does not match the target. It is 0.9556894577889845, but should be close to 0.8. Try to increase the number of tuning steps.\n",
      "The acceptance probability does not match the target. It is 0.9832579429944066, but should be close to 0.8. Try to increase the number of tuning steps.\n",
      "Auto-assigning NUTS sampler...\n",
      "Initializing NUTS using advi+adapt_diag...\n"
     ]
    },
    {
     "name": "stdout",
     "output_type": "stream",
     "text": [
      "(3:3) running inference on dataset #25/30\n"
     ]
    },
    {
     "name": "stderr",
     "output_type": "stream",
     "text": [
      "Average Loss = 5,048.5:  11%|█         | 22079/200000 [00:20<02:45, 1075.06it/s]  \n",
      "Convergence achieved at 22100\n",
      "Interrupted at 22,099 [11%]: Average Loss = 1.1705e+05\n",
      "Multiprocess sampling (2 chains in 2 jobs)\n",
      "NUTS: [epsilon, sigma_e, sigma, mu, amp]\n",
      "Sampling 2 chains, 107 divergences: 100%|██████████| 5000/5000 [02:04<00:00, 40.20draws/s]\n",
      "There were 16 divergences after tuning. Increase `target_accept` or reparameterize.\n",
      "The acceptance probability does not match the target. It is 0.9287307252817041, but should be close to 0.8. Try to increase the number of tuning steps.\n",
      "There were 91 divergences after tuning. Increase `target_accept` or reparameterize.\n",
      "The number of effective samples is smaller than 25% for some parameters.\n",
      "Auto-assigning NUTS sampler...\n",
      "Initializing NUTS using advi+adapt_diag...\n"
     ]
    },
    {
     "name": "stdout",
     "output_type": "stream",
     "text": [
      "(3:3) running inference on dataset #26/30\n"
     ]
    },
    {
     "name": "stderr",
     "output_type": "stream",
     "text": [
      "Average Loss = 4,212.3:  10%|▉         | 19496/200000 [00:12<01:52, 1602.11it/s]  \n",
      "Convergence achieved at 19500\n",
      "Interrupted at 19,499 [9%]: Average Loss = 32,686\n",
      "Multiprocess sampling (2 chains in 2 jobs)\n",
      "NUTS: [epsilon, sigma_e, sigma, mu, amp]\n",
      "Sampling 2 chains, 1,282 divergences: 100%|██████████| 5000/5000 [01:40<00:00, 49.98draws/s] \n",
      "There were 1282 divergences after tuning. Increase `target_accept` or reparameterize.\n",
      "The acceptance probability does not match the target. It is 0.1554048853039946, but should be close to 0.8. Try to increase the number of tuning steps.\n",
      "The acceptance probability does not match the target. It is 0.9636063485188016, but should be close to 0.8. Try to increase the number of tuning steps.\n",
      "The rhat statistic is larger than 1.4 for some parameters. The sampler did not converge.\n",
      "The estimated number of effective samples is smaller than 200 for some parameters.\n",
      "Auto-assigning NUTS sampler...\n",
      "Initializing NUTS using advi+adapt_diag...\n"
     ]
    },
    {
     "name": "stdout",
     "output_type": "stream",
     "text": [
      "(3:3) running inference on dataset #27/30\n"
     ]
    },
    {
     "name": "stderr",
     "output_type": "stream",
     "text": [
      "Average Loss = 4,520:  17%|█▋        | 34741/200000 [00:33<02:38, 1045.85it/s]    \n",
      "Convergence achieved at 34800\n",
      "Interrupted at 34,799 [17%]: Average Loss = 35,749\n",
      "Multiprocess sampling (2 chains in 2 jobs)\n",
      "NUTS: [epsilon, sigma_e, sigma, mu, amp]\n",
      "Sampling 2 chains, 1,577 divergences: 100%|██████████| 5000/5000 [00:34<00:00, 144.54draws/s]\n",
      "There were 367 divergences after tuning. Increase `target_accept` or reparameterize.\n",
      "The acceptance probability does not match the target. It is 0.6532843850604528, but should be close to 0.8. Try to increase the number of tuning steps.\n",
      "There were 1210 divergences after tuning. Increase `target_accept` or reparameterize.\n",
      "The acceptance probability does not match the target. It is 0.25552941306402094, but should be close to 0.8. Try to increase the number of tuning steps.\n",
      "The rhat statistic is larger than 1.4 for some parameters. The sampler did not converge.\n",
      "The estimated number of effective samples is smaller than 200 for some parameters.\n",
      "Auto-assigning NUTS sampler...\n",
      "Initializing NUTS using advi+adapt_diag...\n"
     ]
    },
    {
     "name": "stdout",
     "output_type": "stream",
     "text": [
      "(3:3) running inference on dataset #28/30\n"
     ]
    },
    {
     "name": "stderr",
     "output_type": "stream",
     "text": [
      "Average Loss = 3,396.8:  24%|██▍       | 48148/200000 [00:44<02:21, 1074.38it/s]  \n",
      "Convergence achieved at 48200\n",
      "Interrupted at 48,199 [24%]: Average Loss = 21,863\n",
      "Multiprocess sampling (2 chains in 2 jobs)\n",
      "NUTS: [epsilon, sigma_e, sigma, mu, amp]\n",
      "Sampling 2 chains, 1,501 divergences: 100%|██████████| 5000/5000 [02:57<00:00, 28.14draws/s] \n",
      "There were 1501 divergences after tuning. Increase `target_accept` or reparameterize.\n",
      "The acceptance probability does not match the target. It is 0.02590455553493917, but should be close to 0.8. Try to increase the number of tuning steps.\n",
      "The acceptance probability does not match the target. It is 0.9960430006504286, but should be close to 0.8. Try to increase the number of tuning steps.\n",
      "The rhat statistic is larger than 1.4 for some parameters. The sampler did not converge.\n",
      "The estimated number of effective samples is smaller than 200 for some parameters.\n",
      "Auto-assigning NUTS sampler...\n",
      "Initializing NUTS using advi+adapt_diag...\n"
     ]
    },
    {
     "name": "stdout",
     "output_type": "stream",
     "text": [
      "(3:3) running inference on dataset #29/30\n"
     ]
    },
    {
     "name": "stderr",
     "output_type": "stream",
     "text": [
      "Average Loss = 4,207.8:   8%|▊         | 16425/200000 [00:15<02:49, 1084.12it/s]  \n",
      "Convergence achieved at 16500\n",
      "Interrupted at 16,499 [8%]: Average Loss = 51,172\n",
      "Multiprocess sampling (2 chains in 2 jobs)\n",
      "NUTS: [epsilon, sigma_e, sigma, mu, amp]\n",
      "Sampling 2 chains, 0 divergences: 100%|██████████| 5000/5000 [01:25<00:00, 58.50draws/s] \n",
      "The acceptance probability does not match the target. It is 0.9371944879550469, but should be close to 0.8. Try to increase the number of tuning steps.\n",
      "The acceptance probability does not match the target. It is 0.9218081623354777, but should be close to 0.8. Try to increase the number of tuning steps.\n",
      "Auto-assigning NUTS sampler...\n",
      "Initializing NUTS using advi+adapt_diag...\n"
     ]
    },
    {
     "name": "stdout",
     "output_type": "stream",
     "text": [
      "(3:3) running inference on dataset #30/30\n"
     ]
    },
    {
     "name": "stderr",
     "output_type": "stream",
     "text": [
      "Average Loss = 4,279.6:   8%|▊         | 15042/200000 [00:15<03:10, 969.87it/s]  \n",
      "Convergence achieved at 15100\n",
      "Interrupted at 15,099 [7%]: Average Loss = 53,307\n",
      "Multiprocess sampling (2 chains in 2 jobs)\n",
      "NUTS: [epsilon, sigma_e, sigma, mu, amp]\n",
      "Sampling 2 chains, 0 divergences: 100%|██████████| 5000/5000 [00:47<00:00, 104.88draws/s]\n",
      "The acceptance probability does not match the target. It is 0.9746284947282828, but should be close to 0.8. Try to increase the number of tuning steps.\n",
      "The acceptance probability does not match the target. It is 0.9606674550159202, but should be close to 0.8. Try to increase the number of tuning steps.\n"
     ]
    }
   ],
   "source": [
    "# initialize models and run inference\n",
    "models = []\n",
    "traces = []\n",
    "\n",
    "for r in range(nruns):\n",
    "    print(\"running loop {0}/{1} over datasets\".format(r+1,nruns))\n",
    "    for i in range(len(ldata)):\n",
    "        if peak_info == 'yes':\n",
    "            plist = lpeaks[i].flatten()\n",
    "            plist.sort()\n",
    "            model_g = mdl.model_gauss(xvalues=x_val, observations=y_val[i], npeaks=3, mu_peaks=plist)\n",
    "        else:\n",
    "            model_g = mdl.model_gauss(xvalues=x_val, observations=y_val[i], npeaks=3)\n",
    "        models.append(model_g)\n",
    "\n",
    "        with model_g:\n",
    "            print(\"({0}:{1}) running inference on dataset #{2}/{3}\".format(r+1,nruns,i+1,len(ldata)))\n",
    "            trace_g = pm.sample(2000, init=init_mode, cores=2)\n",
    "            traces.append(trace_g)"
   ]
  },
  {
   "cell_type": "markdown",
   "metadata": {},
   "source": [
    "# Model visualization"
   ]
  },
  {
   "cell_type": "code",
   "execution_count": 9,
   "metadata": {
    "scrolled": false
   },
   "outputs": [
    {
     "data": {
      "image/svg+xml": [
       "<?xml version=\"1.0\" encoding=\"UTF-8\" standalone=\"no\"?>\n",
       "<!DOCTYPE svg PUBLIC \"-//W3C//DTD SVG 1.1//EN\"\n",
       " \"http://www.w3.org/Graphics/SVG/1.1/DTD/svg11.dtd\">\n",
       "<!-- Generated by graphviz version 2.40.1 (20161225.0304)\n",
       " -->\n",
       "<!-- Title: %3 Pages: 1 -->\n",
       "<svg width=\"660pt\" height=\"265pt\"\n",
       " viewBox=\"0.00 0.00 660.29 265.00\" xmlns=\"http://www.w3.org/2000/svg\" xmlns:xlink=\"http://www.w3.org/1999/xlink\">\n",
       "<g id=\"graph0\" class=\"graph\" transform=\"scale(1 1) rotate(0) translate(4 261)\">\n",
       "<title>%3</title>\n",
       "<polygon fill=\"#ffffff\" stroke=\"transparent\" points=\"-4,4 -4,-261 656.293,-261 656.293,4 -4,4\"/>\n",
       "<g id=\"clust1\" class=\"cluster\">\n",
       "<title>cluster1 x 3</title>\n",
       "<path fill=\"none\" stroke=\"#000000\" d=\"M20,-174C20,-174 472,-174 472,-174 478,-174 484,-180 484,-186 484,-186 484,-237 484,-237 484,-243 478,-249 472,-249 472,-249 20,-249 20,-249 14,-249 8,-243 8,-237 8,-237 8,-186 8,-186 8,-180 14,-174 20,-174\"/>\n",
       "<text text-anchor=\"middle\" x=\"462\" y=\"-181.8\" font-family=\"Times,serif\" font-size=\"14.00\" fill=\"#000000\">1 x 3</text>\n",
       "</g>\n",
       "<g id=\"clust2\" class=\"cluster\">\n",
       "<title>cluster100</title>\n",
       "<path fill=\"none\" stroke=\"#000000\" d=\"M215,-91C215,-91 321,-91 321,-91 327,-91 333,-97 333,-103 333,-103 333,-154 333,-154 333,-160 327,-166 321,-166 321,-166 215,-166 215,-166 209,-166 203,-160 203,-154 203,-154 203,-103 203,-103 203,-97 209,-91 215,-91\"/>\n",
       "<text text-anchor=\"middle\" x=\"314.5\" y=\"-98.8\" font-family=\"Times,serif\" font-size=\"14.00\" fill=\"#000000\">100</text>\n",
       "</g>\n",
       "<g id=\"clust3\" class=\"cluster\">\n",
       "<title>cluster15 x 100</title>\n",
       "<path fill=\"none\" stroke=\"#000000\" d=\"M268,-8C268,-8 404,-8 404,-8 410,-8 416,-14 416,-20 416,-20 416,-71 416,-71 416,-77 410,-83 404,-83 404,-83 268,-83 268,-83 262,-83 256,-77 256,-71 256,-71 256,-20 256,-20 256,-14 262,-8 268,-8\"/>\n",
       "<text text-anchor=\"middle\" x=\"383.5\" y=\"-15.8\" font-family=\"Times,serif\" font-size=\"14.00\" fill=\"#000000\">15 x 100</text>\n",
       "</g>\n",
       "<!-- sigma -->\n",
       "<g id=\"node1\" class=\"node\">\n",
       "<title>sigma</title>\n",
       "<ellipse fill=\"none\" stroke=\"#000000\" cx=\"391\" cy=\"-223\" rx=\"85.2851\" ry=\"18\"/>\n",
       "<text text-anchor=\"middle\" x=\"391\" y=\"-219.3\" font-family=\"Times,serif\" font-size=\"14.00\" fill=\"#000000\">sigma ~ HalfNormal</text>\n",
       "</g>\n",
       "<!-- y -->\n",
       "<g id=\"node4\" class=\"node\">\n",
       "<title>y</title>\n",
       "<polygon fill=\"none\" stroke=\"#000000\" points=\"324.5,-158 211.5,-158 211.5,-122 324.5,-122 324.5,-158\"/>\n",
       "<text text-anchor=\"middle\" x=\"268\" y=\"-136.3\" font-family=\"Times,serif\" font-size=\"14.00\" fill=\"#000000\">y ~ Deterministic</text>\n",
       "</g>\n",
       "<!-- sigma&#45;&gt;y -->\n",
       "<g id=\"edge1\" class=\"edge\">\n",
       "<title>sigma&#45;&gt;y</title>\n",
       "<path fill=\"none\" stroke=\"#000000\" d=\"M365.5143,-205.8023C347.4934,-193.6419 323.1027,-177.1831 303.2232,-163.7685\"/>\n",
       "<polygon fill=\"#000000\" stroke=\"#000000\" points=\"304.9765,-160.7293 294.7294,-158.0369 301.061,-166.5318 304.9765,-160.7293\"/>\n",
       "</g>\n",
       "<!-- amp -->\n",
       "<g id=\"node2\" class=\"node\">\n",
       "<title>amp</title>\n",
       "<ellipse fill=\"none\" stroke=\"#000000\" cx=\"221\" cy=\"-223\" rx=\"66.8882\" ry=\"18\"/>\n",
       "<text text-anchor=\"middle\" x=\"221\" y=\"-219.3\" font-family=\"Times,serif\" font-size=\"14.00\" fill=\"#000000\">amp ~ Uniform</text>\n",
       "</g>\n",
       "<!-- amp&#45;&gt;y -->\n",
       "<g id=\"edge2\" class=\"edge\">\n",
       "<title>amp&#45;&gt;y</title>\n",
       "<path fill=\"none\" stroke=\"#000000\" d=\"M231.1983,-204.9902C237.4374,-193.9722 245.5417,-179.6604 252.5564,-167.2727\"/>\n",
       "<polygon fill=\"#000000\" stroke=\"#000000\" points=\"255.7774,-168.6876 257.6593,-158.2612 249.6862,-165.2383 255.7774,-168.6876\"/>\n",
       "</g>\n",
       "<!-- mu -->\n",
       "<g id=\"node3\" class=\"node\">\n",
       "<title>mu</title>\n",
       "<ellipse fill=\"none\" stroke=\"#000000\" cx=\"76\" cy=\"-223\" rx=\"59.5901\" ry=\"18\"/>\n",
       "<text text-anchor=\"middle\" x=\"76\" y=\"-219.3\" font-family=\"Times,serif\" font-size=\"14.00\" fill=\"#000000\">mu ~ Normal</text>\n",
       "</g>\n",
       "<!-- mu&#45;&gt;y -->\n",
       "<g id=\"edge3\" class=\"edge\">\n",
       "<title>mu&#45;&gt;y</title>\n",
       "<path fill=\"none\" stroke=\"#000000\" d=\"M95.9602,-205.9786C109.1461,-195.4791 127.2176,-182.4498 145,-174 162.722,-165.5789 182.9028,-158.9152 201.7202,-153.8008\"/>\n",
       "<polygon fill=\"#000000\" stroke=\"#000000\" points=\"202.6262,-157.1816 211.416,-151.2664 200.8559,-150.4092 202.6262,-157.1816\"/>\n",
       "</g>\n",
       "<!-- y_pred -->\n",
       "<g id=\"node7\" class=\"node\">\n",
       "<title>y_pred</title>\n",
       "<ellipse fill=\"#d3d3d3\" stroke=\"#000000\" cx=\"336\" cy=\"-57\" rx=\"72.2875\" ry=\"18\"/>\n",
       "<text text-anchor=\"middle\" x=\"336\" y=\"-53.3\" font-family=\"Times,serif\" font-size=\"14.00\" fill=\"#000000\">y_pred ~ Normal</text>\n",
       "</g>\n",
       "<!-- y&#45;&gt;y_pred -->\n",
       "<g id=\"edge5\" class=\"edge\">\n",
       "<title>y&#45;&gt;y_pred</title>\n",
       "<path fill=\"none\" stroke=\"#000000\" d=\"M282.755,-121.9902C292.1755,-110.4917 304.535,-95.4058 314.9746,-82.6634\"/>\n",
       "<polygon fill=\"#000000\" stroke=\"#000000\" points=\"317.8773,-84.643 321.5074,-74.6895 312.4625,-80.2068 317.8773,-84.643\"/>\n",
       "</g>\n",
       "<!-- sigma_e -->\n",
       "<g id=\"node5\" class=\"node\">\n",
       "<title>sigma_e</title>\n",
       "<ellipse fill=\"none\" stroke=\"#000000\" cx=\"573\" cy=\"-223\" rx=\"79.0865\" ry=\"18\"/>\n",
       "<text text-anchor=\"middle\" x=\"573\" y=\"-219.3\" font-family=\"Times,serif\" font-size=\"14.00\" fill=\"#000000\">sigma_e ~ Gamma</text>\n",
       "</g>\n",
       "<!-- epsilon -->\n",
       "<g id=\"node6\" class=\"node\">\n",
       "<title>epsilon</title>\n",
       "<ellipse fill=\"none\" stroke=\"#000000\" cx=\"526\" cy=\"-140\" rx=\"89.0842\" ry=\"18\"/>\n",
       "<text text-anchor=\"middle\" x=\"526\" y=\"-136.3\" font-family=\"Times,serif\" font-size=\"14.00\" fill=\"#000000\">epsilon ~ HalfNormal</text>\n",
       "</g>\n",
       "<!-- sigma_e&#45;&gt;epsilon -->\n",
       "<g id=\"edge4\" class=\"edge\">\n",
       "<title>sigma_e&#45;&gt;epsilon</title>\n",
       "<path fill=\"none\" stroke=\"#000000\" d=\"M562.8017,-204.9902C556.5196,-193.8962 548.3464,-179.4628 541.2986,-167.0167\"/>\n",
       "<polygon fill=\"#000000\" stroke=\"#000000\" points=\"544.1515,-164.9517 536.1784,-157.9746 538.0603,-168.401 544.1515,-164.9517\"/>\n",
       "</g>\n",
       "<!-- epsilon&#45;&gt;y_pred -->\n",
       "<g id=\"edge6\" class=\"edge\">\n",
       "<title>epsilon&#45;&gt;y_pred</title>\n",
       "<path fill=\"none\" stroke=\"#000000\" d=\"M488.4621,-123.6019C457.653,-110.1432 413.9285,-91.0424 381.1989,-76.7448\"/>\n",
       "<polygon fill=\"#000000\" stroke=\"#000000\" points=\"382.4158,-73.457 371.8509,-72.6612 379.6136,-79.8717 382.4158,-73.457\"/>\n",
       "</g>\n",
       "</g>\n",
       "</svg>\n"
      ],
      "text/plain": [
       "<graphviz.dot.Digraph at 0x7f40ccc32908>"
      ]
     },
     "execution_count": 9,
     "metadata": {},
     "output_type": "execute_result"
    }
   ],
   "source": [
    "pm.model_to_graphviz(models[0])"
   ]
  },
  {
   "cell_type": "code",
   "execution_count": 10,
   "metadata": {},
   "outputs": [],
   "source": [
    "# save model figure as image\n",
    "img = pm.model_to_graphviz(models[0])\n",
    "img.render(filename=file_basename + '_model', format='png');"
   ]
  },
  {
   "cell_type": "markdown",
   "metadata": {},
   "source": [
    "# Collect results and save"
   ]
  },
  {
   "cell_type": "code",
   "execution_count": 11,
   "metadata": {},
   "outputs": [
    {
     "name": "stderr",
     "output_type": "stream",
     "text": [
      "/home/johan/VirtualEnv/ppsda/lib/python3.6/site-packages/pymc3/sampling.py:1247: UserWarning: samples parameter is smaller than nchains times ndraws, some draws and/or chains may not be represented in the returned posterior predictive sample\n",
      "  \"samples parameter is smaller than nchains times ndraws, some draws \"\n",
      "100%|██████████| 500/500 [00:01<00:00, 429.76it/s]\n",
      "/home/johan/VirtualEnv/ppsda/lib/python3.6/site-packages/pymc3/sampling.py:1247: UserWarning: samples parameter is smaller than nchains times ndraws, some draws and/or chains may not be represented in the returned posterior predictive sample\n",
      "  \"samples parameter is smaller than nchains times ndraws, some draws \"\n",
      "100%|██████████| 500/500 [00:01<00:00, 432.68it/s]\n",
      "100%|██████████| 500/500 [00:01<00:00, 441.61it/s]\n",
      "100%|██████████| 500/500 [00:01<00:00, 436.14it/s]\n",
      "100%|██████████| 500/500 [00:01<00:00, 433.54it/s]\n",
      "100%|██████████| 500/500 [00:01<00:00, 432.17it/s]\n",
      "100%|██████████| 500/500 [00:01<00:00, 434.80it/s]\n",
      "100%|██████████| 500/500 [00:01<00:00, 432.68it/s]\n",
      "100%|██████████| 500/500 [00:01<00:00, 436.34it/s]\n",
      "100%|██████████| 500/500 [00:01<00:00, 430.83it/s]\n",
      "100%|██████████| 500/500 [00:01<00:00, 444.58it/s]\n",
      "100%|██████████| 500/500 [00:01<00:00, 440.28it/s]\n",
      "100%|██████████| 500/500 [00:01<00:00, 433.59it/s]\n",
      "100%|██████████| 500/500 [00:01<00:00, 436.78it/s]\n",
      "100%|██████████| 500/500 [00:01<00:00, 441.81it/s]\n",
      "100%|██████████| 500/500 [00:01<00:00, 443.98it/s]\n",
      "100%|██████████| 500/500 [00:01<00:00, 436.58it/s]\n",
      "100%|██████████| 500/500 [00:01<00:00, 437.41it/s]\n",
      "100%|██████████| 500/500 [00:01<00:00, 430.51it/s]\n",
      "100%|██████████| 500/500 [00:01<00:00, 438.60it/s]\n",
      "100%|██████████| 500/500 [00:01<00:00, 439.38it/s]\n",
      "100%|██████████| 500/500 [00:01<00:00, 436.09it/s]\n",
      "100%|██████████| 500/500 [00:01<00:00, 440.88it/s]\n",
      "100%|██████████| 500/500 [00:01<00:00, 433.15it/s]\n",
      "100%|██████████| 500/500 [00:01<00:00, 438.21it/s]\n",
      "100%|██████████| 500/500 [00:01<00:00, 437.30it/s]\n",
      "100%|██████████| 500/500 [00:01<00:00, 443.12it/s]\n",
      "100%|██████████| 500/500 [00:01<00:00, 438.84it/s]\n",
      "100%|██████████| 500/500 [00:01<00:00, 441.56it/s]\n",
      "100%|██████████| 500/500 [00:01<00:00, 434.62it/s]\n",
      "100%|██████████| 500/500 [00:01<00:00, 442.68it/s]\n",
      "100%|██████████| 500/500 [00:01<00:00, 445.59it/s]\n",
      "100%|██████████| 500/500 [00:01<00:00, 444.54it/s]\n",
      "100%|██████████| 500/500 [00:01<00:00, 434.63it/s]\n",
      "100%|██████████| 500/500 [00:01<00:00, 444.94it/s]\n",
      "100%|██████████| 500/500 [00:01<00:00, 444.03it/s]\n",
      "100%|██████████| 500/500 [00:01<00:00, 450.45it/s]\n",
      "100%|██████████| 500/500 [00:01<00:00, 443.16it/s]\n",
      "100%|██████████| 500/500 [00:01<00:00, 450.85it/s]\n",
      "100%|██████████| 500/500 [00:01<00:00, 446.94it/s]\n",
      "100%|██████████| 500/500 [00:01<00:00, 446.73it/s]\n",
      "100%|██████████| 500/500 [00:01<00:00, 443.60it/s]\n",
      "100%|██████████| 500/500 [00:01<00:00, 449.26it/s]\n",
      "100%|██████████| 500/500 [00:01<00:00, 447.20it/s]\n",
      "100%|██████████| 500/500 [00:01<00:00, 446.05it/s]\n",
      "100%|██████████| 500/500 [00:01<00:00, 448.86it/s]\n",
      "100%|██████████| 500/500 [00:01<00:00, 447.23it/s]\n",
      "100%|██████████| 500/500 [00:01<00:00, 450.72it/s]\n",
      "100%|██████████| 500/500 [00:01<00:00, 448.28it/s]\n",
      "100%|██████████| 500/500 [00:01<00:00, 450.26it/s]\n",
      "100%|██████████| 500/500 [00:01<00:00, 446.10it/s]\n",
      "100%|██████████| 500/500 [00:01<00:00, 449.57it/s]\n",
      "100%|██████████| 500/500 [00:01<00:00, 444.65it/s]\n",
      "100%|██████████| 500/500 [00:01<00:00, 443.96it/s]\n",
      "100%|██████████| 500/500 [00:01<00:00, 448.09it/s]\n",
      "100%|██████████| 500/500 [00:01<00:00, 446.50it/s]\n",
      "100%|██████████| 500/500 [00:01<00:00, 449.37it/s]\n",
      "100%|██████████| 500/500 [00:01<00:00, 444.34it/s]\n",
      "100%|██████████| 500/500 [00:01<00:00, 439.81it/s]\n",
      "100%|██████████| 500/500 [00:01<00:00, 440.71it/s]\n",
      "100%|██████████| 500/500 [00:01<00:00, 441.64it/s]\n",
      "100%|██████████| 500/500 [00:01<00:00, 443.97it/s]\n",
      "100%|██████████| 500/500 [00:01<00:00, 447.26it/s]\n",
      "100%|██████████| 500/500 [00:01<00:00, 444.03it/s]\n",
      "100%|██████████| 500/500 [00:01<00:00, 435.98it/s]\n",
      "100%|██████████| 500/500 [00:01<00:00, 442.73it/s]\n",
      "100%|██████████| 500/500 [00:01<00:00, 442.58it/s]\n",
      "100%|██████████| 500/500 [00:01<00:00, 447.66it/s]\n",
      "100%|██████████| 500/500 [00:01<00:00, 444.20it/s]\n",
      "100%|██████████| 500/500 [00:01<00:00, 438.54it/s]\n",
      "100%|██████████| 500/500 [00:01<00:00, 441.82it/s]\n",
      "100%|██████████| 500/500 [00:01<00:00, 440.87it/s]\n",
      "100%|██████████| 500/500 [00:01<00:00, 446.71it/s]\n",
      "100%|██████████| 500/500 [00:01<00:00, 447.62it/s]\n",
      "100%|██████████| 500/500 [00:01<00:00, 439.74it/s]\n",
      "100%|██████████| 500/500 [00:01<00:00, 447.62it/s]\n",
      "100%|██████████| 500/500 [00:01<00:00, 450.42it/s]\n",
      "100%|██████████| 500/500 [00:01<00:00, 442.42it/s]\n",
      "100%|██████████| 500/500 [00:01<00:00, 443.83it/s]\n",
      "100%|██████████| 500/500 [00:01<00:00, 449.18it/s]\n",
      "100%|██████████| 500/500 [00:01<00:00, 445.63it/s]\n",
      "100%|██████████| 500/500 [00:01<00:00, 441.07it/s]\n",
      "100%|██████████| 500/500 [00:01<00:00, 449.15it/s]\n",
      "100%|██████████| 500/500 [00:01<00:00, 441.57it/s]\n",
      "100%|██████████| 500/500 [00:01<00:00, 438.34it/s]\n",
      "100%|██████████| 500/500 [00:01<00:00, 444.89it/s]\n",
      "100%|██████████| 500/500 [00:01<00:00, 441.28it/s]\n",
      "100%|██████████| 500/500 [00:01<00:00, 443.43it/s]\n",
      "100%|██████████| 500/500 [00:01<00:00, 444.92it/s]\n",
      "100%|██████████| 500/500 [00:01<00:00, 440.96it/s]\n"
     ]
    }
   ],
   "source": [
    "# posterior predictive traces\n",
    "ppc = [pm.sample_posterior_predictive(traces[i], samples=500, model=models[i]) for i in range(len(traces))]"
   ]
  },
  {
   "cell_type": "code",
   "execution_count": 12,
   "metadata": {},
   "outputs": [
    {
     "name": "stderr",
     "output_type": "stream",
     "text": [
      "/home/johan/VirtualEnv/ppsda/lib/python3.6/site-packages/arviz/stats/stats.py:1126: UserWarning: For one or more samples the posterior variance of the log predictive densities exceeds 0.4. This could be indication of WAIC starting to fail. \n",
      "See http://arxiv.org/abs/1507.04544 for details\n",
      "  \"For one or more samples the posterior variance of the log predictive \"\n"
     ]
    },
    {
     "data": {
      "text/html": [
       "<div>\n",
       "<style scoped>\n",
       "    .dataframe tbody tr th:only-of-type {\n",
       "        vertical-align: middle;\n",
       "    }\n",
       "\n",
       "    .dataframe tbody tr th {\n",
       "        vertical-align: top;\n",
       "    }\n",
       "\n",
       "    .dataframe thead th {\n",
       "        text-align: right;\n",
       "    }\n",
       "</style>\n",
       "<table border=\"1\" class=\"dataframe\">\n",
       "  <thead>\n",
       "    <tr style=\"text-align: right;\">\n",
       "      <th></th>\n",
       "      <th>r_hat</th>\n",
       "      <th>mcse</th>\n",
       "      <th>ess</th>\n",
       "      <th>bfmi</th>\n",
       "      <th>r2</th>\n",
       "      <th>waic</th>\n",
       "      <th>epsilon</th>\n",
       "      <th>epsilon_real</th>\n",
       "      <th>run</th>\n",
       "    </tr>\n",
       "  </thead>\n",
       "  <tbody>\n",
       "    <tr>\n",
       "      <th>1</th>\n",
       "      <td>1.603</td>\n",
       "      <td>13.3911</td>\n",
       "      <td>291.1</td>\n",
       "      <td>0.483631</td>\n",
       "      <td>0.819154</td>\n",
       "      <td>5454.641022</td>\n",
       "      <td>1.452013</td>\n",
       "      <td>0.05</td>\n",
       "      <td>1</td>\n",
       "    </tr>\n",
       "    <tr>\n",
       "      <th>2</th>\n",
       "      <td>1.056</td>\n",
       "      <td>2.5748</td>\n",
       "      <td>583.1</td>\n",
       "      <td>0.811940</td>\n",
       "      <td>0.905255</td>\n",
       "      <td>5397.346856</td>\n",
       "      <td>1.451346</td>\n",
       "      <td>0.05</td>\n",
       "      <td>1</td>\n",
       "    </tr>\n",
       "    <tr>\n",
       "      <th>3</th>\n",
       "      <td>2.650</td>\n",
       "      <td>0.0901</td>\n",
       "      <td>2.1</td>\n",
       "      <td>1.970679</td>\n",
       "      <td>0.999683</td>\n",
       "      <td>-4375.237549</td>\n",
       "      <td>0.062073</td>\n",
       "      <td>0.05</td>\n",
       "      <td>1</td>\n",
       "    </tr>\n",
       "    <tr>\n",
       "      <th>4</th>\n",
       "      <td>1.000</td>\n",
       "      <td>0.0000</td>\n",
       "      <td>3690.9</td>\n",
       "      <td>1.027842</td>\n",
       "      <td>0.999782</td>\n",
       "      <td>-3282.376501</td>\n",
       "      <td>0.080558</td>\n",
       "      <td>0.05</td>\n",
       "      <td>1</td>\n",
       "    </tr>\n",
       "    <tr>\n",
       "      <th>5</th>\n",
       "      <td>1.000</td>\n",
       "      <td>0.0037</td>\n",
       "      <td>3002.6</td>\n",
       "      <td>1.024956</td>\n",
       "      <td>0.981626</td>\n",
       "      <td>3402.565490</td>\n",
       "      <td>0.745640</td>\n",
       "      <td>0.05</td>\n",
       "      <td>1</td>\n",
       "    </tr>\n",
       "    <tr>\n",
       "      <th>...</th>\n",
       "      <td>...</td>\n",
       "      <td>...</td>\n",
       "      <td>...</td>\n",
       "      <td>...</td>\n",
       "      <td>...</td>\n",
       "      <td>...</td>\n",
       "      <td>...</td>\n",
       "      <td>...</td>\n",
       "      <td>...</td>\n",
       "    </tr>\n",
       "    <tr>\n",
       "      <th>86</th>\n",
       "      <td>1.785</td>\n",
       "      <td>1.1623</td>\n",
       "      <td>17.8</td>\n",
       "      <td>0.485588</td>\n",
       "      <td>0.887159</td>\n",
       "      <td>3211.484279</td>\n",
       "      <td>0.663659</td>\n",
       "      <td>0.25</td>\n",
       "      <td>3</td>\n",
       "    </tr>\n",
       "    <tr>\n",
       "      <th>87</th>\n",
       "      <td>1.248</td>\n",
       "      <td>3.6908</td>\n",
       "      <td>121.1</td>\n",
       "      <td>0.001977</td>\n",
       "      <td>0.513600</td>\n",
       "      <td>8604.478721</td>\n",
       "      <td>4.072607</td>\n",
       "      <td>0.25</td>\n",
       "      <td>3</td>\n",
       "    </tr>\n",
       "    <tr>\n",
       "      <th>88</th>\n",
       "      <td>1.397</td>\n",
       "      <td>0.0150</td>\n",
       "      <td>184.0</td>\n",
       "      <td>1.267165</td>\n",
       "      <td>0.997860</td>\n",
       "      <td>64.619724</td>\n",
       "      <td>0.246421</td>\n",
       "      <td>0.25</td>\n",
       "      <td>3</td>\n",
       "    </tr>\n",
       "    <tr>\n",
       "      <th>89</th>\n",
       "      <td>1.000</td>\n",
       "      <td>0.0026</td>\n",
       "      <td>3461.2</td>\n",
       "      <td>1.023083</td>\n",
       "      <td>0.911671</td>\n",
       "      <td>4596.548898</td>\n",
       "      <td>1.114469</td>\n",
       "      <td>0.25</td>\n",
       "      <td>3</td>\n",
       "    </tr>\n",
       "    <tr>\n",
       "      <th>90</th>\n",
       "      <td>1.000</td>\n",
       "      <td>0.0947</td>\n",
       "      <td>3512.2</td>\n",
       "      <td>0.921536</td>\n",
       "      <td>0.959865</td>\n",
       "      <td>3583.857682</td>\n",
       "      <td>0.793129</td>\n",
       "      <td>0.25</td>\n",
       "      <td>3</td>\n",
       "    </tr>\n",
       "  </tbody>\n",
       "</table>\n",
       "<p>90 rows × 9 columns</p>\n",
       "</div>"
      ],
      "text/plain": [
       "    r_hat     mcse     ess      bfmi        r2         waic   epsilon  \\\n",
       "1   1.603  13.3911   291.1  0.483631  0.819154  5454.641022  1.452013   \n",
       "2   1.056   2.5748   583.1  0.811940  0.905255  5397.346856  1.451346   \n",
       "3   2.650   0.0901     2.1  1.970679  0.999683 -4375.237549  0.062073   \n",
       "4   1.000   0.0000  3690.9  1.027842  0.999782 -3282.376501  0.080558   \n",
       "5   1.000   0.0037  3002.6  1.024956  0.981626  3402.565490  0.745640   \n",
       "..    ...      ...     ...       ...       ...          ...       ...   \n",
       "86  1.785   1.1623    17.8  0.485588  0.887159  3211.484279  0.663659   \n",
       "87  1.248   3.6908   121.1  0.001977  0.513600  8604.478721  4.072607   \n",
       "88  1.397   0.0150   184.0  1.267165  0.997860    64.619724  0.246421   \n",
       "89  1.000   0.0026  3461.2  1.023083  0.911671  4596.548898  1.114469   \n",
       "90  1.000   0.0947  3512.2  0.921536  0.959865  3583.857682  0.793129   \n",
       "\n",
       "    epsilon_real run  \n",
       "1           0.05   1  \n",
       "2           0.05   1  \n",
       "3           0.05   1  \n",
       "4           0.05   1  \n",
       "5           0.05   1  \n",
       "..           ...  ..  \n",
       "86          0.25   3  \n",
       "87          0.25   3  \n",
       "88          0.25   3  \n",
       "89          0.25   3  \n",
       "90          0.25   3  \n",
       "\n",
       "[90 rows x 9 columns]"
      ]
     },
     "execution_count": 12,
     "metadata": {},
     "output_type": "execute_result"
    }
   ],
   "source": [
    "varnames = ['amp', 'mu', 'sigma', 'epsilon']\n",
    "\n",
    "# total dataset y-values, noise and run number list\n",
    "ly_val = [val for run in range(nruns) for idx, val in enumerate(y_val)]\n",
    "lnoise = [nl for run in range(nruns) for nl in noise_levels for i in range(nsets)]\n",
    "lruns = ['{0}'.format(run+1) for run in range(nruns) for i in range(tsets)]\n",
    "\n",
    "# collect the results and display\n",
    "df = res.get_results_summary(varnames, traces, ppc, ly_val, epsilon_real=lnoise, runlist=lruns)\n",
    "df"
   ]
  },
  {
   "cell_type": "code",
   "execution_count": 13,
   "metadata": {},
   "outputs": [],
   "source": [
    "# save results to .csv\n",
    "df.to_csv(file_basename + '.csv', index=False)"
   ]
  },
  {
   "cell_type": "code",
   "execution_count": 14,
   "metadata": {},
   "outputs": [],
   "source": [
    "fp = open(out_path + 'settings.txt', 'a')\n",
    "fp.write('stop : ' + datetime.datetime.now().strftime(\"%A, %d. %B %Y %I:%M%p\") + '\\n')\n",
    "fp.close()"
   ]
  },
  {
   "cell_type": "code",
   "execution_count": null,
   "metadata": {},
   "outputs": [],
   "source": []
  }
 ],
 "metadata": {
  "kernelspec": {
   "display_name": "Python 3",
   "language": "python",
   "name": "python3"
  },
  "language_info": {
   "codemirror_mode": {
    "name": "ipython",
    "version": 3
   },
   "file_extension": ".py",
   "mimetype": "text/x-python",
   "name": "python",
   "nbconvert_exporter": "python",
   "pygments_lexer": "ipython3",
   "version": "3.6.8"
  }
 },
 "nbformat": 4,
 "nbformat_minor": 2
}
