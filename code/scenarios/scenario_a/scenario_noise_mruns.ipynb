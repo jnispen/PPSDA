{
 "cells": [
  {
   "cell_type": "markdown",
   "metadata": {},
   "source": [
    "# Scenario A - Noise Level Variation (multiple runs for init mode)\n",
    "\n",
    "In this scenario the noise level on a generated dataset is varied in three steps: low/medium/high, \n",
    "the rest of the parameters in the dataset is kept constant.\n",
    "\n",
    "The model used in the inference of the parameters is formulated as follows: \n",
    "\n",
    "\\begin{equation}\n",
    "\\large y = f(x) = \\sum\\limits_{m=1}^M \\big[A_m \\cdot e^{-\\frac{(x-\\mu_m)^2}{2\\cdot\\sigma_m^2}}\\big] + \\epsilon\n",
    "\\end{equation}\n",
    "\n",
    "\n",
    "This file runs a series of runs for a single sampler init mode. It does not store the traces or plots, only the summary statistics are stored."
   ]
  },
  {
   "cell_type": "code",
   "execution_count": 1,
   "metadata": {},
   "outputs": [
    {
     "name": "stderr",
     "output_type": "stream",
     "text": [
      "WARNING (theano.tensor.blas): Using NumPy C-API based implementation for BLAS functions.\n"
     ]
    },
    {
     "name": "stdout",
     "output_type": "stream",
     "text": [
      "Running on PyMC3 v3.8\n"
     ]
    }
   ],
   "source": [
    "%matplotlib inline\n",
    "import numpy as np\n",
    "import pandas as pd\n",
    "import matplotlib.pyplot as plt\n",
    "import pymc3 as pm\n",
    "import arviz as az\n",
    "\n",
    "#az.style.use('arviz-darkgrid')\n",
    "\n",
    "print('Running on PyMC3 v{}'.format(pm.__version__))"
   ]
  },
  {
   "cell_type": "markdown",
   "metadata": {},
   "source": [
    "## Import local utility functions"
   ]
  },
  {
   "cell_type": "code",
   "execution_count": 2,
   "metadata": {},
   "outputs": [],
   "source": [
    "import datetime\n",
    "import os\n",
    "import sys\n",
    "sys.path.append('../../utils')\n",
    "import utils as utl\n",
    "import datagen as dg\n",
    "import models as mdl\n",
    "import results as res\n",
    "import figures as fig"
   ]
  },
  {
   "cell_type": "markdown",
   "metadata": {},
   "source": [
    "## Local settings"
   ]
  },
  {
   "cell_type": "code",
   "execution_count": 3,
   "metadata": {},
   "outputs": [],
   "source": [
    "# output for results and images\n",
    "out_path      = './output_mruns_nopeak_20000_adapt/'\n",
    "fbase         = 'scenario_noise'\n",
    "file_basename = out_path + fbase\n",
    "        \n",
    "# if dir does not exist, create it\n",
    "if not os.path.exists(out_path):\n",
    "    os.makedirs(out_path)\n",
    "\n",
    "# initialization method for sampler ('jitter+adapt_diag'/'advi+adapt_diag'/'adapt_diag')\n",
    "init_mode = 'adapt_diag'\n",
    "\n",
    "# probabilistic model (priors)\n",
    "prior_model = 'normal'\n",
    "\n",
    "# provide peak positions to the model as testvalues ('yes'/'no')\n",
    "peak_info = 'no'\n",
    "\n",
    "# dataset directory\n",
    "dataset_dir = './input_datasets'\n",
    "\n",
    "# number of runs over the dataset\n",
    "nruns = 1\n",
    "\n",
    "# number of cores to run\n",
    "ncores = 2\n",
    "\n",
    "# number of samples per chain\n",
    "nsamples = 20000"
   ]
  },
  {
   "cell_type": "markdown",
   "metadata": {},
   "source": [
    "## Save configuration"
   ]
  },
  {
   "cell_type": "code",
   "execution_count": 4,
   "metadata": {},
   "outputs": [],
   "source": [
    "fp = open(out_path + 'settings.txt', 'w')\n",
    "fp.write('start: ' + datetime.datetime.now().strftime(\"%A, %d. %B %Y %I:%M%p\") + '\\n')\n",
    "fp.write('init_mode   = ' + init_mode + '\\n')\n",
    "fp.write('prior_model = ' + prior_model + '\\n')\n",
    "fp.write('peak_info   = ' + peak_info + '\\n')\n",
    "fp.write('data_dir    = ' + dataset_dir + '\\n')\n",
    "fp.write('nruns       = ' + str(nruns) + '\\n')\n",
    "fp.write('ncores      = ' + str(ncores) + '\\n')\n",
    "fp.write('nsamples    = ' + str(nsamples) + '\\n')\n",
    "fp.close()"
   ]
  },
  {
   "cell_type": "markdown",
   "metadata": {},
   "source": [
    "# Generate data and plot"
   ]
  },
  {
   "cell_type": "code",
   "execution_count": 5,
   "metadata": {
    "scrolled": false
   },
   "outputs": [],
   "source": [
    "# list of wavelengths (x-values)\n",
    "xval = [i for i in range(200, 400, 2)]\n",
    "\n",
    "ldata  = []\n",
    "lpeaks = []\n",
    "nsets  = 10\n",
    "\n",
    "# noise level is 1%, 2% and 5% of the minimal signal amplitude\n",
    "noise_levels = [0.05, 0.10, 0.25]\n",
    "\n",
    "# total number of datasets\n",
    "tsets = nsets * len(noise_levels)\n",
    "\n",
    "# load pre-generated datasets from disk\n",
    "ldata, lpeaks = dg.data_load(tsets, dataset_dir)"
   ]
  },
  {
   "cell_type": "code",
   "execution_count": 6,
   "metadata": {
    "scrolled": false
   },
   "outputs": [],
   "source": [
    "# plot datasets\n",
    "#fig.plot_datasets(ldata, lpeaks, dims=(15,2), figure_size=(12,48), savefig='yes', fname=file_basename)"
   ]
  },
  {
   "cell_type": "markdown",
   "metadata": {},
   "source": [
    "# Initialize models and run inference"
   ]
  },
  {
   "cell_type": "code",
   "execution_count": 7,
   "metadata": {},
   "outputs": [],
   "source": [
    "# convert pandas data to numpy arrays\n",
    "x_val = np.array(xval, dtype='float32')\n",
    "\n",
    "# store dataset y-values in list\n",
    "cols = ldata[0].columns\n",
    "y_val = [ldata[i][cols].values for i in range(len(ldata))]"
   ]
  },
  {
   "cell_type": "code",
   "execution_count": 8,
   "metadata": {
    "scrolled": false
   },
   "outputs": [
    {
     "name": "stdout",
     "output_type": "stream",
     "text": [
      "running loop 1/1 over datasets\n"
     ]
    },
    {
     "name": "stderr",
     "output_type": "stream",
     "text": [
      "Auto-assigning NUTS sampler...\n",
      "Initializing NUTS using adapt_diag...\n"
     ]
    },
    {
     "name": "stdout",
     "output_type": "stream",
     "text": [
      "(1:1) running inference on dataset #1/30\n"
     ]
    },
    {
     "name": "stderr",
     "output_type": "stream",
     "text": [
      "Multiprocess sampling (2 chains in 2 jobs)\n",
      "NUTS: [epsilon, sigma_e, sigma, mu, amp]\n",
      "Sampling 2 chains, 13 divergences: 100%|██████████| 41000/41000 [30:14<00:00, 22.59draws/s] \n",
      "There were 12 divergences after tuning. Increase `target_accept` or reparameterize.\n",
      "The acceptance probability does not match the target. It is 0.9816030856872482, but should be close to 0.8. Try to increase the number of tuning steps.\n",
      "The rhat statistic is larger than 1.4 for some parameters. The sampler did not converge.\n",
      "The estimated number of effective samples is smaller than 200 for some parameters.\n",
      "Auto-assigning NUTS sampler...\n",
      "Initializing NUTS using adapt_diag...\n"
     ]
    },
    {
     "name": "stdout",
     "output_type": "stream",
     "text": [
      "(1:1) running inference on dataset #2/30\n"
     ]
    },
    {
     "name": "stderr",
     "output_type": "stream",
     "text": [
      "Multiprocess sampling (2 chains in 2 jobs)\n",
      "NUTS: [epsilon, sigma_e, sigma, mu, amp]\n",
      "Sampling 2 chains, 2,130 divergences: 100%|██████████| 41000/41000 [46:46<00:00, 14.61draws/s]  \n",
      "There were 762 divergences after tuning. Increase `target_accept` or reparameterize.\n",
      "The acceptance probability does not match the target. It is 0.9174974670431278, but should be close to 0.8. Try to increase the number of tuning steps.\n",
      "There were 1368 divergences after tuning. Increase `target_accept` or reparameterize.\n",
      "The rhat statistic is larger than 1.05 for some parameters. This indicates slight problems during sampling.\n",
      "The estimated number of effective samples is smaller than 200 for some parameters.\n",
      "Auto-assigning NUTS sampler...\n",
      "Initializing NUTS using adapt_diag...\n"
     ]
    },
    {
     "name": "stdout",
     "output_type": "stream",
     "text": [
      "(1:1) running inference on dataset #3/30\n"
     ]
    },
    {
     "name": "stderr",
     "output_type": "stream",
     "text": [
      "Multiprocess sampling (2 chains in 2 jobs)\n",
      "NUTS: [epsilon, sigma_e, sigma, mu, amp]\n",
      "Sampling 2 chains, 18,077 divergences: 100%|██████████| 41000/41000 [10:08<00:00, 67.35draws/s] \n",
      "There were 595 divergences after tuning. Increase `target_accept` or reparameterize.\n",
      "The acceptance probability does not match the target. It is 0.8916716909206677, but should be close to 0.8. Try to increase the number of tuning steps.\n",
      "There were 17482 divergences after tuning. Increase `target_accept` or reparameterize.\n",
      "The acceptance probability does not match the target. It is 0.00537575043967276, but should be close to 0.8. Try to increase the number of tuning steps.\n",
      "The rhat statistic is larger than 1.4 for some parameters. The sampler did not converge.\n",
      "The estimated number of effective samples is smaller than 200 for some parameters.\n",
      "Auto-assigning NUTS sampler...\n",
      "Initializing NUTS using adapt_diag...\n"
     ]
    },
    {
     "name": "stdout",
     "output_type": "stream",
     "text": [
      "(1:1) running inference on dataset #4/30\n"
     ]
    },
    {
     "name": "stderr",
     "output_type": "stream",
     "text": [
      "Multiprocess sampling (2 chains in 2 jobs)\n",
      "NUTS: [epsilon, sigma_e, sigma, mu, amp]\n",
      "Sampling 2 chains, 0 divergences: 100%|██████████| 41000/41000 [1:05:20<00:00, 10.46draws/s]\n",
      "The acceptance probability does not match the target. It is 0.9997896513663487, but should be close to 0.8. Try to increase the number of tuning steps.\n",
      "The acceptance probability does not match the target. It is 0.9998730360640445, but should be close to 0.8. Try to increase the number of tuning steps.\n",
      "Auto-assigning NUTS sampler...\n",
      "Initializing NUTS using adapt_diag...\n"
     ]
    },
    {
     "name": "stdout",
     "output_type": "stream",
     "text": [
      "(1:1) running inference on dataset #5/30\n"
     ]
    },
    {
     "name": "stderr",
     "output_type": "stream",
     "text": [
      "Multiprocess sampling (2 chains in 2 jobs)\n",
      "NUTS: [epsilon, sigma_e, sigma, mu, amp]\n",
      "Sampling 2 chains, 2,832 divergences: 100%|██████████| 41000/41000 [07:59<00:00, 85.59draws/s] \n",
      "There were 1947 divergences after tuning. Increase `target_accept` or reparameterize.\n",
      "There were 885 divergences after tuning. Increase `target_accept` or reparameterize.\n",
      "The acceptance probability does not match the target. It is 0.900574355463574, but should be close to 0.8. Try to increase the number of tuning steps.\n",
      "The estimated number of effective samples is smaller than 200 for some parameters.\n",
      "Auto-assigning NUTS sampler...\n",
      "Initializing NUTS using adapt_diag...\n"
     ]
    },
    {
     "name": "stdout",
     "output_type": "stream",
     "text": [
      "(1:1) running inference on dataset #6/30\n"
     ]
    },
    {
     "name": "stderr",
     "output_type": "stream",
     "text": [
      "Multiprocess sampling (2 chains in 2 jobs)\n",
      "NUTS: [epsilon, sigma_e, sigma, mu, amp]\n",
      "Sampling 2 chains, 12,110 divergences: 100%|██████████| 41000/41000 [2:23:42<00:00,  4.76draws/s]  \n",
      "There were 11539 divergences after tuning. Increase `target_accept` or reparameterize.\n",
      "The acceptance probability does not match the target. It is 0.11394253925522337, but should be close to 0.8. Try to increase the number of tuning steps.\n",
      "There were 571 divergences after tuning. Increase `target_accept` or reparameterize.\n",
      "The chain reached the maximum tree depth. Increase max_treedepth, increase target_accept or reparameterize.\n",
      "The rhat statistic is larger than 1.4 for some parameters. The sampler did not converge.\n",
      "The estimated number of effective samples is smaller than 200 for some parameters.\n",
      "Auto-assigning NUTS sampler...\n",
      "Initializing NUTS using adapt_diag...\n"
     ]
    },
    {
     "name": "stdout",
     "output_type": "stream",
     "text": [
      "(1:1) running inference on dataset #7/30\n"
     ]
    },
    {
     "name": "stderr",
     "output_type": "stream",
     "text": [
      "Multiprocess sampling (2 chains in 2 jobs)\n",
      "NUTS: [epsilon, sigma_e, sigma, mu, amp]\n",
      "Sampling 2 chains, 14,890 divergences: 100%|██████████| 41000/41000 [09:23<00:00, 72.81draws/s] \n",
      "There were 13878 divergences after tuning. Increase `target_accept` or reparameterize.\n",
      "The acceptance probability does not match the target. It is 0.011850124467995334, but should be close to 0.8. Try to increase the number of tuning steps.\n",
      "There were 1012 divergences after tuning. Increase `target_accept` or reparameterize.\n",
      "The rhat statistic is larger than 1.4 for some parameters. The sampler did not converge.\n",
      "The estimated number of effective samples is smaller than 200 for some parameters.\n",
      "Auto-assigning NUTS sampler...\n",
      "Initializing NUTS using adapt_diag...\n"
     ]
    },
    {
     "name": "stdout",
     "output_type": "stream",
     "text": [
      "(1:1) running inference on dataset #8/30\n"
     ]
    },
    {
     "name": "stderr",
     "output_type": "stream",
     "text": [
      "Multiprocess sampling (2 chains in 2 jobs)\n",
      "NUTS: [epsilon, sigma_e, sigma, mu, amp]\n",
      "Sampling 2 chains, 12,681 divergences: 100%|██████████| 41000/41000 [08:43<00:00, 78.32draws/s] \n",
      "The acceptance probability does not match the target. It is 0.996516839044911, but should be close to 0.8. Try to increase the number of tuning steps.\n",
      "There were 12681 divergences after tuning. Increase `target_accept` or reparameterize.\n",
      "The acceptance probability does not match the target. It is 0.32612258130957644, but should be close to 0.8. Try to increase the number of tuning steps.\n",
      "The rhat statistic is larger than 1.4 for some parameters. The sampler did not converge.\n",
      "The estimated number of effective samples is smaller than 200 for some parameters.\n",
      "Auto-assigning NUTS sampler...\n",
      "Initializing NUTS using adapt_diag...\n"
     ]
    },
    {
     "name": "stdout",
     "output_type": "stream",
     "text": [
      "(1:1) running inference on dataset #9/30\n"
     ]
    },
    {
     "name": "stderr",
     "output_type": "stream",
     "text": [
      "Multiprocess sampling (2 chains in 2 jobs)\n",
      "NUTS: [epsilon, sigma_e, sigma, mu, amp]\n",
      "Sampling 2 chains, 6,167 divergences: 100%|██████████| 41000/41000 [07:43<00:00, 88.38draws/s] \n",
      "There were 770 divergences after tuning. Increase `target_accept` or reparameterize.\n",
      "There were 5397 divergences after tuning. Increase `target_accept` or reparameterize.\n",
      "The acceptance probability does not match the target. It is 0.44842127521502767, but should be close to 0.8. Try to increase the number of tuning steps.\n",
      "The rhat statistic is larger than 1.2 for some parameters.\n",
      "The estimated number of effective samples is smaller than 200 for some parameters.\n",
      "Auto-assigning NUTS sampler...\n",
      "Initializing NUTS using adapt_diag...\n"
     ]
    },
    {
     "name": "stdout",
     "output_type": "stream",
     "text": [
      "(1:1) running inference on dataset #10/30\n"
     ]
    },
    {
     "name": "stderr",
     "output_type": "stream",
     "text": [
      "Multiprocess sampling (2 chains in 2 jobs)\n",
      "NUTS: [epsilon, sigma_e, sigma, mu, amp]\n",
      "Sampling 2 chains, 24,008 divergences: 100%|██████████| 41000/41000 [04:06<00:00, 166.31draws/s]\n",
      "There were 10902 divergences after tuning. Increase `target_accept` or reparameterize.\n",
      "The acceptance probability does not match the target. It is 0.065218193765888, but should be close to 0.8. Try to increase the number of tuning steps.\n",
      "There were 13106 divergences after tuning. Increase `target_accept` or reparameterize.\n",
      "The acceptance probability does not match the target. It is 0.06548874545919404, but should be close to 0.8. Try to increase the number of tuning steps.\n",
      "The rhat statistic is larger than 1.4 for some parameters. The sampler did not converge.\n",
      "The estimated number of effective samples is smaller than 200 for some parameters.\n",
      "Auto-assigning NUTS sampler...\n",
      "Initializing NUTS using adapt_diag...\n"
     ]
    },
    {
     "name": "stdout",
     "output_type": "stream",
     "text": [
      "(1:1) running inference on dataset #11/30\n"
     ]
    },
    {
     "name": "stderr",
     "output_type": "stream",
     "text": [
      "Multiprocess sampling (2 chains in 2 jobs)\n",
      "NUTS: [epsilon, sigma_e, sigma, mu, amp]\n",
      "Sampling 2 chains, 1 divergences: 100%|██████████| 41000/41000 [41:55<00:00, 16.30draws/s]\n",
      "The acceptance probability does not match the target. It is 0.9993497608325904, but should be close to 0.8. Try to increase the number of tuning steps.\n",
      "There was 1 divergence after tuning. Increase `target_accept` or reparameterize.\n",
      "The acceptance probability does not match the target. It is 0.8808108462369941, but should be close to 0.8. Try to increase the number of tuning steps.\n",
      "The rhat statistic is larger than 1.4 for some parameters. The sampler did not converge.\n",
      "The estimated number of effective samples is smaller than 200 for some parameters.\n",
      "Auto-assigning NUTS sampler...\n",
      "Initializing NUTS using adapt_diag...\n"
     ]
    },
    {
     "name": "stdout",
     "output_type": "stream",
     "text": [
      "(1:1) running inference on dataset #12/30\n"
     ]
    },
    {
     "name": "stderr",
     "output_type": "stream",
     "text": [
      "Multiprocess sampling (2 chains in 2 jobs)\n",
      "NUTS: [epsilon, sigma_e, sigma, mu, amp]\n",
      "Sampling 2 chains, 7 divergences: 100%|██████████| 41000/41000 [03:19<00:00, 205.68draws/s]\n",
      "There were 5 divergences after tuning. Increase `target_accept` or reparameterize.\n",
      "The acceptance probability does not match the target. It is 0.6949939352508645, but should be close to 0.8. Try to increase the number of tuning steps.\n",
      "There were 2 divergences after tuning. Increase `target_accept` or reparameterize.\n",
      "The acceptance probability does not match the target. It is 0.9064325918089517, but should be close to 0.8. Try to increase the number of tuning steps.\n",
      "Auto-assigning NUTS sampler...\n",
      "Initializing NUTS using adapt_diag...\n"
     ]
    },
    {
     "name": "stdout",
     "output_type": "stream",
     "text": [
      "(1:1) running inference on dataset #13/30\n"
     ]
    },
    {
     "name": "stderr",
     "output_type": "stream",
     "text": [
      "Multiprocess sampling (2 chains in 2 jobs)\n",
      "NUTS: [epsilon, sigma_e, sigma, mu, amp]\n",
      "Sampling 2 chains, 10,133 divergences: 100%|██████████| 41000/41000 [1:02:44<00:00, 10.89draws/s]\n",
      "There were 10133 divergences after tuning. Increase `target_accept` or reparameterize.\n",
      "The acceptance probability does not match the target. It is 0.1450750586029596, but should be close to 0.8. Try to increase the number of tuning steps.\n",
      "The acceptance probability does not match the target. It is 0.9899238873872435, but should be close to 0.8. Try to increase the number of tuning steps.\n",
      "The rhat statistic is larger than 1.4 for some parameters. The sampler did not converge.\n",
      "The estimated number of effective samples is smaller than 200 for some parameters.\n",
      "Auto-assigning NUTS sampler...\n",
      "Initializing NUTS using adapt_diag...\n"
     ]
    },
    {
     "name": "stdout",
     "output_type": "stream",
     "text": [
      "(1:1) running inference on dataset #14/30\n"
     ]
    },
    {
     "name": "stderr",
     "output_type": "stream",
     "text": [
      "Multiprocess sampling (2 chains in 2 jobs)\n",
      "NUTS: [epsilon, sigma_e, sigma, mu, amp]\n",
      "Sampling 2 chains, 34,864 divergences: 100%|██████████| 41000/41000 [02:27<00:00, 277.32draws/s]\n",
      "The chain contains only diverging samples. The model is probably misspecified.\n",
      "The acceptance probability does not match the target. It is 0.0, but should be close to 0.8. Try to increase the number of tuning steps.\n",
      "There were 14864 divergences after tuning. Increase `target_accept` or reparameterize.\n",
      "The acceptance probability does not match the target. It is 0.009147946129337342, but should be close to 0.8. Try to increase the number of tuning steps.\n",
      "The rhat statistic is larger than 1.4 for some parameters. The sampler did not converge.\n",
      "The estimated number of effective samples is smaller than 200 for some parameters.\n",
      "Auto-assigning NUTS sampler...\n",
      "Initializing NUTS using adapt_diag...\n"
     ]
    },
    {
     "name": "stdout",
     "output_type": "stream",
     "text": [
      "(1:1) running inference on dataset #15/30\n"
     ]
    },
    {
     "name": "stderr",
     "output_type": "stream",
     "text": [
      "Multiprocess sampling (2 chains in 2 jobs)\n",
      "NUTS: [epsilon, sigma_e, sigma, mu, amp]\n",
      "Sampling 2 chains, 16,014 divergences: 100%|██████████| 41000/41000 [05:34<00:00, 122.41draws/s]\n",
      "There were 1900 divergences after tuning. Increase `target_accept` or reparameterize.\n",
      "The acceptance probability does not match the target. It is 0.5214360671935723, but should be close to 0.8. Try to increase the number of tuning steps.\n",
      "There were 14114 divergences after tuning. Increase `target_accept` or reparameterize.\n",
      "The acceptance probability does not match the target. It is 0.017814444566381468, but should be close to 0.8. Try to increase the number of tuning steps.\n",
      "The rhat statistic is larger than 1.4 for some parameters. The sampler did not converge.\n",
      "The estimated number of effective samples is smaller than 200 for some parameters.\n",
      "Auto-assigning NUTS sampler...\n",
      "Initializing NUTS using adapt_diag...\n"
     ]
    },
    {
     "name": "stdout",
     "output_type": "stream",
     "text": [
      "(1:1) running inference on dataset #16/30\n"
     ]
    },
    {
     "name": "stderr",
     "output_type": "stream",
     "text": [
      "Multiprocess sampling (2 chains in 2 jobs)\n",
      "NUTS: [epsilon, sigma_e, sigma, mu, amp]\n",
      "Sampling 2 chains, 0 divergences: 100%|██████████| 41000/41000 [05:15<00:00, 129.90draws/s]\n",
      "The acceptance probability does not match the target. It is 0.972674360395137, but should be close to 0.8. Try to increase the number of tuning steps.\n",
      "The acceptance probability does not match the target. It is 0.9438812478505845, but should be close to 0.8. Try to increase the number of tuning steps.\n",
      "Auto-assigning NUTS sampler...\n",
      "Initializing NUTS using adapt_diag...\n"
     ]
    },
    {
     "name": "stdout",
     "output_type": "stream",
     "text": [
      "(1:1) running inference on dataset #17/30\n"
     ]
    },
    {
     "name": "stderr",
     "output_type": "stream",
     "text": [
      "Multiprocess sampling (2 chains in 2 jobs)\n",
      "NUTS: [epsilon, sigma_e, sigma, mu, amp]\n",
      "Sampling 2 chains, 13,270 divergences: 100%|██████████| 41000/41000 [44:24<00:00, 15.39draws/s]  \n",
      "There were 70 divergences after tuning. Increase `target_accept` or reparameterize.\n",
      "The acceptance probability does not match the target. It is 0.9743336000914388, but should be close to 0.8. Try to increase the number of tuning steps.\n",
      "There were 13200 divergences after tuning. Increase `target_accept` or reparameterize.\n",
      "The acceptance probability does not match the target. It is 0.20362029023627717, but should be close to 0.8. Try to increase the number of tuning steps.\n",
      "The chain reached the maximum tree depth. Increase max_treedepth, increase target_accept or reparameterize.\n",
      "The rhat statistic is larger than 1.4 for some parameters. The sampler did not converge.\n",
      "The estimated number of effective samples is smaller than 200 for some parameters.\n",
      "Auto-assigning NUTS sampler...\n",
      "Initializing NUTS using adapt_diag...\n"
     ]
    },
    {
     "name": "stdout",
     "output_type": "stream",
     "text": [
      "(1:1) running inference on dataset #18/30\n"
     ]
    },
    {
     "name": "stderr",
     "output_type": "stream",
     "text": [
      "Multiprocess sampling (2 chains in 2 jobs)\n",
      "NUTS: [epsilon, sigma_e, sigma, mu, amp]\n",
      "Sampling 2 chains, 3,440 divergences: 100%|██████████| 41000/41000 [1:42:24<00:00,  6.67draws/s] \n",
      "There were 3287 divergences after tuning. Increase `target_accept` or reparameterize.\n",
      "There were 153 divergences after tuning. Increase `target_accept` or reparameterize.\n",
      "The acceptance probability does not match the target. It is 0.9231317503885862, but should be close to 0.8. Try to increase the number of tuning steps.\n",
      "The rhat statistic is larger than 1.05 for some parameters. This indicates slight problems during sampling.\n",
      "The estimated number of effective samples is smaller than 200 for some parameters.\n",
      "Auto-assigning NUTS sampler...\n",
      "Initializing NUTS using adapt_diag...\n"
     ]
    },
    {
     "name": "stdout",
     "output_type": "stream",
     "text": [
      "(1:1) running inference on dataset #19/30\n"
     ]
    },
    {
     "name": "stderr",
     "output_type": "stream",
     "text": [
      "Multiprocess sampling (2 chains in 2 jobs)\n",
      "NUTS: [epsilon, sigma_e, sigma, mu, amp]\n",
      "Sampling 2 chains, 33,191 divergences: 100%|██████████| 41000/41000 [27:08<00:00, 25.18draws/s]  \n",
      "There were 15441 divergences after tuning. Increase `target_accept` or reparameterize.\n",
      "The acceptance probability does not match the target. It is 0.03476686276439269, but should be close to 0.8. Try to increase the number of tuning steps.\n",
      "There were 17750 divergences after tuning. Increase `target_accept` or reparameterize.\n",
      "The acceptance probability does not match the target. It is 0.15934190632888828, but should be close to 0.8. Try to increase the number of tuning steps.\n",
      "The chain reached the maximum tree depth. Increase max_treedepth, increase target_accept or reparameterize.\n",
      "The rhat statistic is larger than 1.4 for some parameters. The sampler did not converge.\n",
      "The estimated number of effective samples is smaller than 200 for some parameters.\n",
      "Auto-assigning NUTS sampler...\n",
      "Initializing NUTS using adapt_diag...\n"
     ]
    },
    {
     "name": "stdout",
     "output_type": "stream",
     "text": [
      "(1:1) running inference on dataset #20/30\n"
     ]
    },
    {
     "name": "stderr",
     "output_type": "stream",
     "text": [
      "Multiprocess sampling (2 chains in 2 jobs)\n",
      "NUTS: [epsilon, sigma_e, sigma, mu, amp]\n",
      "Sampling 2 chains, 17,586 divergences: 100%|██████████| 41000/41000 [51:04<00:00, 13.38draws/s]  \n",
      "There were 17586 divergences after tuning. Increase `target_accept` or reparameterize.\n",
      "The acceptance probability does not match the target. It is 0.014357840348088518, but should be close to 0.8. Try to increase the number of tuning steps.\n",
      "The acceptance probability does not match the target. It is 0.9933308486817628, but should be close to 0.8. Try to increase the number of tuning steps.\n",
      "The rhat statistic is larger than 1.4 for some parameters. The sampler did not converge.\n",
      "The estimated number of effective samples is smaller than 200 for some parameters.\n",
      "Auto-assigning NUTS sampler...\n",
      "Initializing NUTS using adapt_diag...\n"
     ]
    },
    {
     "name": "stdout",
     "output_type": "stream",
     "text": [
      "(1:1) running inference on dataset #21/30\n"
     ]
    },
    {
     "name": "stderr",
     "output_type": "stream",
     "text": [
      "Multiprocess sampling (2 chains in 2 jobs)\n",
      "NUTS: [epsilon, sigma_e, sigma, mu, amp]\n",
      "Sampling 2 chains, 9,190 divergences: 100%|██████████| 41000/41000 [1:12:24<00:00,  9.44draws/s]\n",
      "There were 9190 divergences after tuning. Increase `target_accept` or reparameterize.\n",
      "The acceptance probability does not match the target. It is 0.16343939157853182, but should be close to 0.8. Try to increase the number of tuning steps.\n",
      "The acceptance probability does not match the target. It is 0.9954558558129735, but should be close to 0.8. Try to increase the number of tuning steps.\n",
      "The rhat statistic is larger than 1.4 for some parameters. The sampler did not converge.\n",
      "The estimated number of effective samples is smaller than 200 for some parameters.\n",
      "Auto-assigning NUTS sampler...\n",
      "Initializing NUTS using adapt_diag...\n"
     ]
    },
    {
     "name": "stdout",
     "output_type": "stream",
     "text": [
      "(1:1) running inference on dataset #22/30\n"
     ]
    },
    {
     "name": "stderr",
     "output_type": "stream",
     "text": [
      "Multiprocess sampling (2 chains in 2 jobs)\n",
      "NUTS: [epsilon, sigma_e, sigma, mu, amp]\n",
      "Sampling 2 chains, 2,983 divergences: 100%|██████████| 41000/41000 [14:08<00:00, 48.31draws/s]\n",
      "There were 2564 divergences after tuning. Increase `target_accept` or reparameterize.\n",
      "There were 419 divergences after tuning. Increase `target_accept` or reparameterize.\n",
      "The acceptance probability does not match the target. It is 0.9730404814152342, but should be close to 0.8. Try to increase the number of tuning steps.\n",
      "The number of effective samples is smaller than 10% for some parameters.\n",
      "Auto-assigning NUTS sampler...\n",
      "Initializing NUTS using adapt_diag...\n"
     ]
    },
    {
     "name": "stdout",
     "output_type": "stream",
     "text": [
      "(1:1) running inference on dataset #23/30\n"
     ]
    },
    {
     "name": "stderr",
     "output_type": "stream",
     "text": [
      "Multiprocess sampling (2 chains in 2 jobs)\n",
      "NUTS: [epsilon, sigma_e, sigma, mu, amp]\n",
      "Sampling 2 chains, 0 divergences: 100%|██████████| 41000/41000 [2:40:37<00:00,  4.25draws/s]  \n",
      "The chain reached the maximum tree depth. Increase max_treedepth, increase target_accept or reparameterize.\n",
      "The acceptance probability does not match the target. It is 0.9058654644300594, but should be close to 0.8. Try to increase the number of tuning steps.\n",
      "The chain reached the maximum tree depth. Increase max_treedepth, increase target_accept or reparameterize.\n",
      "The estimated number of effective samples is smaller than 200 for some parameters.\n",
      "Auto-assigning NUTS sampler...\n",
      "Initializing NUTS using adapt_diag...\n"
     ]
    },
    {
     "name": "stdout",
     "output_type": "stream",
     "text": [
      "(1:1) running inference on dataset #24/30\n"
     ]
    },
    {
     "name": "stderr",
     "output_type": "stream",
     "text": [
      "Multiprocess sampling (2 chains in 2 jobs)\n",
      "NUTS: [epsilon, sigma_e, sigma, mu, amp]\n",
      "Sampling 2 chains, 0 divergences: 100%|██████████| 41000/41000 [10:59<00:00, 62.17draws/s] \n",
      "The acceptance probability does not match the target. It is 0.99868951276669, but should be close to 0.8. Try to increase the number of tuning steps.\n",
      "The acceptance probability does not match the target. It is 0.9911681316185023, but should be close to 0.8. Try to increase the number of tuning steps.\n",
      "The rhat statistic is larger than 1.4 for some parameters. The sampler did not converge.\n",
      "The estimated number of effective samples is smaller than 200 for some parameters.\n",
      "Auto-assigning NUTS sampler...\n",
      "Initializing NUTS using adapt_diag...\n"
     ]
    },
    {
     "name": "stdout",
     "output_type": "stream",
     "text": [
      "(1:1) running inference on dataset #25/30\n"
     ]
    },
    {
     "name": "stderr",
     "output_type": "stream",
     "text": [
      "Multiprocess sampling (2 chains in 2 jobs)\n",
      "NUTS: [epsilon, sigma_e, sigma, mu, amp]\n",
      "Sampling 2 chains, 17,747 divergences: 100%|██████████| 41000/41000 [07:13<00:00, 94.51draws/s] \n",
      "There were 17090 divergences after tuning. Increase `target_accept` or reparameterize.\n",
      "The acceptance probability does not match the target. It is 0.00011550565226236742, but should be close to 0.8. Try to increase the number of tuning steps.\n",
      "There were 656 divergences after tuning. Increase `target_accept` or reparameterize.\n",
      "The rhat statistic is larger than 1.4 for some parameters. The sampler did not converge.\n",
      "The estimated number of effective samples is smaller than 200 for some parameters.\n",
      "Auto-assigning NUTS sampler...\n",
      "Initializing NUTS using adapt_diag...\n"
     ]
    },
    {
     "name": "stdout",
     "output_type": "stream",
     "text": [
      "(1:1) running inference on dataset #26/30\n"
     ]
    },
    {
     "name": "stderr",
     "output_type": "stream",
     "text": [
      "Multiprocess sampling (2 chains in 2 jobs)\n",
      "NUTS: [epsilon, sigma_e, sigma, mu, amp]\n",
      "Sampling 2 chains, 11,713 divergences: 100%|██████████| 41000/41000 [04:21<00:00, 156.61draws/s]\n",
      "There were 3911 divergences after tuning. Increase `target_accept` or reparameterize.\n",
      "The acceptance probability does not match the target. It is 0.5988969549495682, but should be close to 0.8. Try to increase the number of tuning steps.\n",
      "There were 7802 divergences after tuning. Increase `target_accept` or reparameterize.\n",
      "The acceptance probability does not match the target. It is 0.3668321684563313, but should be close to 0.8. Try to increase the number of tuning steps.\n",
      "The rhat statistic is larger than 1.4 for some parameters. The sampler did not converge.\n",
      "The estimated number of effective samples is smaller than 200 for some parameters.\n",
      "Auto-assigning NUTS sampler...\n",
      "Initializing NUTS using adapt_diag...\n"
     ]
    },
    {
     "name": "stdout",
     "output_type": "stream",
     "text": [
      "(1:1) running inference on dataset #27/30\n"
     ]
    },
    {
     "name": "stderr",
     "output_type": "stream",
     "text": [
      "Multiprocess sampling (2 chains in 2 jobs)\n",
      "NUTS: [epsilon, sigma_e, sigma, mu, amp]\n",
      "Sampling 2 chains, 10,312 divergences: 100%|██████████| 41000/41000 [05:51<00:00, 116.62draws/s]\n",
      "There were 10312 divergences after tuning. Increase `target_accept` or reparameterize.\n",
      "The acceptance probability does not match the target. It is 0.21240116782876534, but should be close to 0.8. Try to increase the number of tuning steps.\n",
      "The acceptance probability does not match the target. It is 0.9919881262683602, but should be close to 0.8. Try to increase the number of tuning steps.\n",
      "The rhat statistic is larger than 1.4 for some parameters. The sampler did not converge.\n",
      "The estimated number of effective samples is smaller than 200 for some parameters.\n",
      "Auto-assigning NUTS sampler...\n",
      "Initializing NUTS using adapt_diag...\n"
     ]
    },
    {
     "name": "stdout",
     "output_type": "stream",
     "text": [
      "(1:1) running inference on dataset #28/30\n"
     ]
    },
    {
     "name": "stderr",
     "output_type": "stream",
     "text": [
      "Multiprocess sampling (2 chains in 2 jobs)\n",
      "NUTS: [epsilon, sigma_e, sigma, mu, amp]\n",
      "Sampling 2 chains, 22,189 divergences: 100%|██████████| 41000/41000 [02:55<00:00, 233.70draws/s]\n",
      "There were 11539 divergences after tuning. Increase `target_accept` or reparameterize.\n",
      "The acceptance probability does not match the target. It is 0.07969276411867797, but should be close to 0.8. Try to increase the number of tuning steps.\n",
      "There were 10650 divergences after tuning. Increase `target_accept` or reparameterize.\n",
      "The acceptance probability does not match the target. It is 0.051973754709527975, but should be close to 0.8. Try to increase the number of tuning steps.\n",
      "The rhat statistic is larger than 1.4 for some parameters. The sampler did not converge.\n",
      "The estimated number of effective samples is smaller than 200 for some parameters.\n",
      "Auto-assigning NUTS sampler...\n",
      "Initializing NUTS using adapt_diag...\n"
     ]
    },
    {
     "name": "stdout",
     "output_type": "stream",
     "text": [
      "(1:1) running inference on dataset #29/30\n"
     ]
    },
    {
     "name": "stderr",
     "output_type": "stream",
     "text": [
      "Multiprocess sampling (2 chains in 2 jobs)\n",
      "NUTS: [epsilon, sigma_e, sigma, mu, amp]\n",
      "Sampling 2 chains, 0 divergences: 100%|██████████| 41000/41000 [16:59<00:00, 40.20draws/s] \n",
      "The acceptance probability does not match the target. It is 0.9818107618051836, but should be close to 0.8. Try to increase the number of tuning steps.\n",
      "The acceptance probability does not match the target. It is 0.8881680066732243, but should be close to 0.8. Try to increase the number of tuning steps.\n",
      "Auto-assigning NUTS sampler...\n",
      "Initializing NUTS using adapt_diag...\n"
     ]
    },
    {
     "name": "stdout",
     "output_type": "stream",
     "text": [
      "(1:1) running inference on dataset #30/30\n"
     ]
    },
    {
     "name": "stderr",
     "output_type": "stream",
     "text": [
      "Multiprocess sampling (2 chains in 2 jobs)\n",
      "NUTS: [epsilon, sigma_e, sigma, mu, amp]\n",
      "Sampling 2 chains, 105 divergences: 100%|██████████| 41000/41000 [10:29<00:00, 65.15draws/s] \n",
      "The acceptance probability does not match the target. It is 0.9971562716245345, but should be close to 0.8. Try to increase the number of tuning steps.\n",
      "There were 105 divergences after tuning. Increase `target_accept` or reparameterize.\n",
      "The acceptance probability does not match the target. It is 0.9091059618205304, but should be close to 0.8. Try to increase the number of tuning steps.\n",
      "The number of effective samples is smaller than 10% for some parameters.\n"
     ]
    }
   ],
   "source": [
    "# initialize models and run inference\n",
    "models = []\n",
    "traces = []\n",
    "\n",
    "for r in range(nruns):\n",
    "    print(\"running loop {0}/{1} over datasets\".format(r+1,nruns))\n",
    "    for i in range(len(ldata)):\n",
    "        if peak_info == 'yes':\n",
    "            plist = lpeaks[i].flatten()\n",
    "            plist.sort()\n",
    "            model_g = mdl.model_gauss(xvalues=x_val, observations=y_val[i], npeaks=3, \n",
    "                                      mu_peaks=plist, pmodel=prior_model)\n",
    "        else:\n",
    "            model_g = mdl.model_gauss(xvalues=x_val, observations=y_val[i], npeaks=3,\n",
    "                                     pmodel=prior_model)\n",
    "        models.append(model_g)\n",
    "\n",
    "        with model_g:\n",
    "            print(\"({0}:{1}) running inference on dataset #{2}/{3}\".format(r+1,nruns,i+1,len(ldata)))\n",
    "            trace_g = pm.sample(nsamples, init=init_mode, cores=ncores)\n",
    "            traces.append(trace_g)"
   ]
  },
  {
   "cell_type": "markdown",
   "metadata": {},
   "source": [
    "# Model visualization"
   ]
  },
  {
   "cell_type": "code",
   "execution_count": 9,
   "metadata": {
    "scrolled": false
   },
   "outputs": [
    {
     "data": {
      "image/svg+xml": [
       "<?xml version=\"1.0\" encoding=\"UTF-8\" standalone=\"no\"?>\n",
       "<!DOCTYPE svg PUBLIC \"-//W3C//DTD SVG 1.1//EN\"\n",
       " \"http://www.w3.org/Graphics/SVG/1.1/DTD/svg11.dtd\">\n",
       "<!-- Generated by graphviz version 2.40.1 (20161225.0304)\n",
       " -->\n",
       "<!-- Title: %3 Pages: 1 -->\n",
       "<svg width=\"660pt\" height=\"265pt\"\n",
       " viewBox=\"0.00 0.00 660.29 265.00\" xmlns=\"http://www.w3.org/2000/svg\" xmlns:xlink=\"http://www.w3.org/1999/xlink\">\n",
       "<g id=\"graph0\" class=\"graph\" transform=\"scale(1 1) rotate(0) translate(4 261)\">\n",
       "<title>%3</title>\n",
       "<polygon fill=\"#ffffff\" stroke=\"transparent\" points=\"-4,4 -4,-261 656.293,-261 656.293,4 -4,4\"/>\n",
       "<g id=\"clust1\" class=\"cluster\">\n",
       "<title>cluster1 x 3</title>\n",
       "<path fill=\"none\" stroke=\"#000000\" d=\"M20,-174C20,-174 472,-174 472,-174 478,-174 484,-180 484,-186 484,-186 484,-237 484,-237 484,-243 478,-249 472,-249 472,-249 20,-249 20,-249 14,-249 8,-243 8,-237 8,-237 8,-186 8,-186 8,-180 14,-174 20,-174\"/>\n",
       "<text text-anchor=\"middle\" x=\"462\" y=\"-181.8\" font-family=\"Times,serif\" font-size=\"14.00\" fill=\"#000000\">1 x 3</text>\n",
       "</g>\n",
       "<g id=\"clust2\" class=\"cluster\">\n",
       "<title>cluster100</title>\n",
       "<path fill=\"none\" stroke=\"#000000\" d=\"M228,-91C228,-91 334,-91 334,-91 340,-91 346,-97 346,-103 346,-103 346,-154 346,-154 346,-160 340,-166 334,-166 334,-166 228,-166 228,-166 222,-166 216,-160 216,-154 216,-154 216,-103 216,-103 216,-97 222,-91 228,-91\"/>\n",
       "<text text-anchor=\"middle\" x=\"327.5\" y=\"-98.8\" font-family=\"Times,serif\" font-size=\"14.00\" fill=\"#000000\">100</text>\n",
       "</g>\n",
       "<g id=\"clust3\" class=\"cluster\">\n",
       "<title>cluster15 x 100</title>\n",
       "<path fill=\"none\" stroke=\"#000000\" d=\"M274,-8C274,-8 410,-8 410,-8 416,-8 422,-14 422,-20 422,-20 422,-71 422,-71 422,-77 416,-83 410,-83 410,-83 274,-83 274,-83 268,-83 262,-77 262,-71 262,-71 262,-20 262,-20 262,-14 268,-8 274,-8\"/>\n",
       "<text text-anchor=\"middle\" x=\"389.5\" y=\"-15.8\" font-family=\"Times,serif\" font-size=\"14.00\" fill=\"#000000\">15 x 100</text>\n",
       "</g>\n",
       "<!-- amp -->\n",
       "<g id=\"node1\" class=\"node\">\n",
       "<title>amp</title>\n",
       "<ellipse fill=\"none\" stroke=\"#000000\" cx=\"409\" cy=\"-223\" rx=\"66.8882\" ry=\"18\"/>\n",
       "<text text-anchor=\"middle\" x=\"409\" y=\"-219.3\" font-family=\"Times,serif\" font-size=\"14.00\" fill=\"#000000\">amp ~ Uniform</text>\n",
       "</g>\n",
       "<!-- y -->\n",
       "<g id=\"node4\" class=\"node\">\n",
       "<title>y</title>\n",
       "<polygon fill=\"none\" stroke=\"#000000\" points=\"337.5,-158 224.5,-158 224.5,-122 337.5,-122 337.5,-158\"/>\n",
       "<text text-anchor=\"middle\" x=\"281\" y=\"-136.3\" font-family=\"Times,serif\" font-size=\"14.00\" fill=\"#000000\">y ~ Deterministic</text>\n",
       "</g>\n",
       "<!-- amp&#45;&gt;y -->\n",
       "<g id=\"edge1\" class=\"edge\">\n",
       "<title>amp&#45;&gt;y</title>\n",
       "<path fill=\"none\" stroke=\"#000000\" d=\"M383.0973,-206.2037C364.305,-194.0181 338.6226,-177.3646 317.7178,-163.8092\"/>\n",
       "<polygon fill=\"#000000\" stroke=\"#000000\" points=\"319.3799,-160.7155 309.0852,-158.2115 315.5714,-166.5889 319.3799,-160.7155\"/>\n",
       "</g>\n",
       "<!-- sigma -->\n",
       "<g id=\"node2\" class=\"node\">\n",
       "<title>sigma</title>\n",
       "<ellipse fill=\"none\" stroke=\"#000000\" cx=\"239\" cy=\"-223\" rx=\"85.2851\" ry=\"18\"/>\n",
       "<text text-anchor=\"middle\" x=\"239\" y=\"-219.3\" font-family=\"Times,serif\" font-size=\"14.00\" fill=\"#000000\">sigma ~ HalfNormal</text>\n",
       "</g>\n",
       "<!-- sigma&#45;&gt;y -->\n",
       "<g id=\"edge2\" class=\"edge\">\n",
       "<title>sigma&#45;&gt;y</title>\n",
       "<path fill=\"none\" stroke=\"#000000\" d=\"M248.1134,-204.9902C253.6888,-193.9722 260.9309,-179.6604 267.1994,-167.2727\"/>\n",
       "<polygon fill=\"#000000\" stroke=\"#000000\" points=\"270.3672,-168.7642 271.7594,-158.2612 264.1213,-165.6036 270.3672,-168.7642\"/>\n",
       "</g>\n",
       "<!-- mu -->\n",
       "<g id=\"node3\" class=\"node\">\n",
       "<title>mu</title>\n",
       "<ellipse fill=\"none\" stroke=\"#000000\" cx=\"76\" cy=\"-223\" rx=\"59.5901\" ry=\"18\"/>\n",
       "<text text-anchor=\"middle\" x=\"76\" y=\"-219.3\" font-family=\"Times,serif\" font-size=\"14.00\" fill=\"#000000\">mu ~ Normal</text>\n",
       "</g>\n",
       "<!-- mu&#45;&gt;y -->\n",
       "<g id=\"edge3\" class=\"edge\">\n",
       "<title>mu&#45;&gt;y</title>\n",
       "<path fill=\"none\" stroke=\"#000000\" d=\"M95.89,-205.8284C109.0479,-195.2691 127.1146,-182.2295 145,-174 166.7633,-163.9862 191.8972,-156.6464 214.5922,-151.4048\"/>\n",
       "<polygon fill=\"#000000\" stroke=\"#000000\" points=\"215.4815,-154.7927 224.4885,-149.2137 213.9683,-147.9582 215.4815,-154.7927\"/>\n",
       "</g>\n",
       "<!-- y_pred -->\n",
       "<g id=\"node7\" class=\"node\">\n",
       "<title>y_pred</title>\n",
       "<ellipse fill=\"#d3d3d3\" stroke=\"#000000\" cx=\"342\" cy=\"-57\" rx=\"72.2875\" ry=\"18\"/>\n",
       "<text text-anchor=\"middle\" x=\"342\" y=\"-53.3\" font-family=\"Times,serif\" font-size=\"14.00\" fill=\"#000000\">y_pred ~ Normal</text>\n",
       "</g>\n",
       "<!-- y&#45;&gt;y_pred -->\n",
       "<g id=\"edge6\" class=\"edge\">\n",
       "<title>y&#45;&gt;y_pred</title>\n",
       "<path fill=\"none\" stroke=\"#000000\" d=\"M294.2361,-121.9902C302.5494,-110.6787 313.4141,-95.8955 322.6807,-83.2869\"/>\n",
       "<polygon fill=\"#000000\" stroke=\"#000000\" points=\"325.6879,-85.1052 328.7897,-74.9746 320.0474,-80.9598 325.6879,-85.1052\"/>\n",
       "</g>\n",
       "<!-- sigma_e -->\n",
       "<g id=\"node5\" class=\"node\">\n",
       "<title>sigma_e</title>\n",
       "<ellipse fill=\"none\" stroke=\"#000000\" cx=\"573\" cy=\"-223\" rx=\"79.0865\" ry=\"18\"/>\n",
       "<text text-anchor=\"middle\" x=\"573\" y=\"-219.3\" font-family=\"Times,serif\" font-size=\"14.00\" fill=\"#000000\">sigma_e ~ Gamma</text>\n",
       "</g>\n",
       "<!-- epsilon -->\n",
       "<g id=\"node6\" class=\"node\">\n",
       "<title>epsilon</title>\n",
       "<ellipse fill=\"none\" stroke=\"#000000\" cx=\"530\" cy=\"-140\" rx=\"89.0842\" ry=\"18\"/>\n",
       "<text text-anchor=\"middle\" x=\"530\" y=\"-136.3\" font-family=\"Times,serif\" font-size=\"14.00\" fill=\"#000000\">epsilon ~ HalfNormal</text>\n",
       "</g>\n",
       "<!-- sigma_e&#45;&gt;epsilon -->\n",
       "<g id=\"edge4\" class=\"edge\">\n",
       "<title>sigma_e&#45;&gt;epsilon</title>\n",
       "<path fill=\"none\" stroke=\"#000000\" d=\"M563.6696,-204.9902C557.9221,-193.8962 550.4446,-179.4628 543.9966,-167.0167\"/>\n",
       "<polygon fill=\"#000000\" stroke=\"#000000\" points=\"547.02,-165.2438 539.3122,-157.9746 540.8045,-168.4638 547.02,-165.2438\"/>\n",
       "</g>\n",
       "<!-- epsilon&#45;&gt;y_pred -->\n",
       "<g id=\"edge5\" class=\"edge\">\n",
       "<title>epsilon&#45;&gt;y_pred</title>\n",
       "<path fill=\"none\" stroke=\"#000000\" d=\"M492.8572,-123.6019C462.4698,-110.1862 419.3845,-91.1644 387.0339,-76.882\"/>\n",
       "<polygon fill=\"#000000\" stroke=\"#000000\" points=\"388.3517,-73.6379 377.79,-72.8009 385.5245,-80.0416 388.3517,-73.6379\"/>\n",
       "</g>\n",
       "</g>\n",
       "</svg>\n"
      ],
      "text/plain": [
       "<graphviz.dot.Digraph at 0x7fc2915ab0b8>"
      ]
     },
     "execution_count": 9,
     "metadata": {},
     "output_type": "execute_result"
    }
   ],
   "source": [
    "pm.model_to_graphviz(models[0])"
   ]
  },
  {
   "cell_type": "code",
   "execution_count": 10,
   "metadata": {},
   "outputs": [],
   "source": [
    "# save model figure as image\n",
    "img = pm.model_to_graphviz(models[0])\n",
    "img.render(filename=file_basename + '_model', format='png');"
   ]
  },
  {
   "cell_type": "markdown",
   "metadata": {},
   "source": [
    "# Collect results and save"
   ]
  },
  {
   "cell_type": "code",
   "execution_count": 11,
   "metadata": {},
   "outputs": [
    {
     "name": "stderr",
     "output_type": "stream",
     "text": [
      "/home/ppsda/venv/ppsda/lib/python3.6/site-packages/pymc3/sampling.py:1247: UserWarning: samples parameter is smaller than nchains times ndraws, some draws and/or chains may not be represented in the returned posterior predictive sample\n",
      "  \"samples parameter is smaller than nchains times ndraws, some draws \"\n",
      "100%|██████████| 500/500 [00:01<00:00, 304.52it/s]\n",
      "/home/ppsda/venv/ppsda/lib/python3.6/site-packages/pymc3/sampling.py:1247: UserWarning: samples parameter is smaller than nchains times ndraws, some draws and/or chains may not be represented in the returned posterior predictive sample\n",
      "  \"samples parameter is smaller than nchains times ndraws, some draws \"\n",
      "100%|██████████| 500/500 [00:01<00:00, 330.31it/s]\n",
      "100%|██████████| 500/500 [00:01<00:00, 356.19it/s]\n",
      "100%|██████████| 500/500 [00:01<00:00, 315.18it/s]\n",
      "100%|██████████| 500/500 [00:01<00:00, 345.13it/s]\n",
      "100%|██████████| 500/500 [00:01<00:00, 333.03it/s]\n",
      "100%|██████████| 500/500 [00:01<00:00, 391.13it/s]\n",
      "100%|██████████| 500/500 [00:01<00:00, 347.28it/s]\n",
      "100%|██████████| 500/500 [00:01<00:00, 305.25it/s]\n",
      "100%|██████████| 500/500 [00:01<00:00, 379.53it/s]\n",
      "100%|██████████| 500/500 [00:01<00:00, 337.66it/s]\n",
      "100%|██████████| 500/500 [00:01<00:00, 283.77it/s]\n",
      "100%|██████████| 500/500 [00:01<00:00, 275.07it/s]\n",
      "100%|██████████| 500/500 [00:01<00:00, 306.59it/s]\n",
      "100%|██████████| 500/500 [00:01<00:00, 310.73it/s]\n",
      "100%|██████████| 500/500 [00:01<00:00, 298.65it/s]\n",
      "100%|██████████| 500/500 [00:01<00:00, 366.18it/s]\n",
      "100%|██████████| 500/500 [00:01<00:00, 293.30it/s]\n",
      "100%|██████████| 500/500 [00:01<00:00, 345.33it/s]\n",
      "100%|██████████| 500/500 [00:01<00:00, 296.50it/s]\n",
      "100%|██████████| 500/500 [00:01<00:00, 315.67it/s]\n",
      "100%|██████████| 500/500 [00:01<00:00, 308.65it/s]\n",
      "100%|██████████| 500/500 [00:02<00:00, 183.27it/s]\n",
      "100%|██████████| 500/500 [00:01<00:00, 308.93it/s]\n",
      "100%|██████████| 500/500 [00:01<00:00, 372.44it/s]\n",
      "100%|██████████| 500/500 [00:01<00:00, 343.43it/s]\n",
      "100%|██████████| 500/500 [00:01<00:00, 343.32it/s]\n",
      "100%|██████████| 500/500 [00:01<00:00, 375.47it/s]\n",
      "100%|██████████| 500/500 [00:01<00:00, 338.48it/s]\n",
      "100%|██████████| 500/500 [00:01<00:00, 275.72it/s]\n"
     ]
    }
   ],
   "source": [
    "# posterior predictive traces\n",
    "ppc = [pm.sample_posterior_predictive(traces[i], samples=500, model=models[i]) for i in range(len(traces))]"
   ]
  },
  {
   "cell_type": "code",
   "execution_count": 12,
   "metadata": {},
   "outputs": [
    {
     "name": "stderr",
     "output_type": "stream",
     "text": [
      "/home/ppsda/venv/ppsda/lib/python3.6/site-packages/arviz/stats/stats.py:1196: UserWarning: For one or more samples the posterior variance of the log predictive densities exceeds 0.4. This could be indication of WAIC starting to fail. \n",
      "See http://arxiv.org/abs/1507.04544 for details\n",
      "  \"For one or more samples the posterior variance of the log predictive \"\n"
     ]
    },
    {
     "data": {
      "text/html": [
       "<div>\n",
       "<style scoped>\n",
       "    .dataframe tbody tr th:only-of-type {\n",
       "        vertical-align: middle;\n",
       "    }\n",
       "\n",
       "    .dataframe tbody tr th {\n",
       "        vertical-align: top;\n",
       "    }\n",
       "\n",
       "    .dataframe thead th {\n",
       "        text-align: right;\n",
       "    }\n",
       "</style>\n",
       "<table border=\"1\" class=\"dataframe\">\n",
       "  <thead>\n",
       "    <tr style=\"text-align: right;\">\n",
       "      <th></th>\n",
       "      <th>r_hat</th>\n",
       "      <th>mcse</th>\n",
       "      <th>ess</th>\n",
       "      <th>bfmi</th>\n",
       "      <th>r2</th>\n",
       "      <th>waic</th>\n",
       "      <th>epsilon</th>\n",
       "      <th>epsilon_real</th>\n",
       "      <th>run</th>\n",
       "    </tr>\n",
       "  </thead>\n",
       "  <tbody>\n",
       "    <tr>\n",
       "      <th>1</th>\n",
       "      <td>1.792</td>\n",
       "      <td>17.6343</td>\n",
       "      <td>2.7</td>\n",
       "      <td>0.983629</td>\n",
       "      <td>0.819621</td>\n",
       "      <td>5224.546374</td>\n",
       "      <td>1.363282</td>\n",
       "      <td>0.05</td>\n",
       "      <td>1</td>\n",
       "    </tr>\n",
       "    <tr>\n",
       "      <th>2</th>\n",
       "      <td>1.046</td>\n",
       "      <td>2.6305</td>\n",
       "      <td>6995.3</td>\n",
       "      <td>0.797742</td>\n",
       "      <td>0.906804</td>\n",
       "      <td>5396.323351</td>\n",
       "      <td>1.449872</td>\n",
       "      <td>0.05</td>\n",
       "      <td>1</td>\n",
       "    </tr>\n",
       "    <tr>\n",
       "      <th>3</th>\n",
       "      <td>1.497</td>\n",
       "      <td>1.2642</td>\n",
       "      <td>101.8</td>\n",
       "      <td>1.264172</td>\n",
       "      <td>0.999211</td>\n",
       "      <td>-3299.410427</td>\n",
       "      <td>0.079342</td>\n",
       "      <td>0.05</td>\n",
       "      <td>1</td>\n",
       "    </tr>\n",
       "    <tr>\n",
       "      <th>4</th>\n",
       "      <td>1.000</td>\n",
       "      <td>0.0000</td>\n",
       "      <td>35333.5</td>\n",
       "      <td>1.010989</td>\n",
       "      <td>0.999781</td>\n",
       "      <td>-3282.649651</td>\n",
       "      <td>0.080546</td>\n",
       "      <td>0.05</td>\n",
       "      <td>1</td>\n",
       "    </tr>\n",
       "    <tr>\n",
       "      <th>5</th>\n",
       "      <td>1.010</td>\n",
       "      <td>1.2969</td>\n",
       "      <td>2590.5</td>\n",
       "      <td>0.505033</td>\n",
       "      <td>0.720291</td>\n",
       "      <td>7475.069122</td>\n",
       "      <td>2.909367</td>\n",
       "      <td>0.05</td>\n",
       "      <td>1</td>\n",
       "    </tr>\n",
       "    <tr>\n",
       "      <th>6</th>\n",
       "      <td>1.375</td>\n",
       "      <td>0.5484</td>\n",
       "      <td>1384.7</td>\n",
       "      <td>1.251146</td>\n",
       "      <td>0.876761</td>\n",
       "      <td>5318.837708</td>\n",
       "      <td>1.421364</td>\n",
       "      <td>0.05</td>\n",
       "      <td>1</td>\n",
       "    </tr>\n",
       "    <tr>\n",
       "      <th>7</th>\n",
       "      <td>1.345</td>\n",
       "      <td>1.1971</td>\n",
       "      <td>291.5</td>\n",
       "      <td>1.154194</td>\n",
       "      <td>0.995257</td>\n",
       "      <td>1016.922391</td>\n",
       "      <td>0.338878</td>\n",
       "      <td>0.05</td>\n",
       "      <td>1</td>\n",
       "    </tr>\n",
       "    <tr>\n",
       "      <th>8</th>\n",
       "      <td>1.763</td>\n",
       "      <td>3.4459</td>\n",
       "      <td>10.2</td>\n",
       "      <td>0.497526</td>\n",
       "      <td>0.699698</td>\n",
       "      <td>7306.713303</td>\n",
       "      <td>1.415655</td>\n",
       "      <td>0.05</td>\n",
       "      <td>1</td>\n",
       "    </tr>\n",
       "    <tr>\n",
       "      <th>9</th>\n",
       "      <td>1.168</td>\n",
       "      <td>3.6623</td>\n",
       "      <td>31.6</td>\n",
       "      <td>0.441019</td>\n",
       "      <td>0.934793</td>\n",
       "      <td>4777.161077</td>\n",
       "      <td>1.161842</td>\n",
       "      <td>0.05</td>\n",
       "      <td>1</td>\n",
       "    </tr>\n",
       "    <tr>\n",
       "      <th>10</th>\n",
       "      <td>2.308</td>\n",
       "      <td>0.2235</td>\n",
       "      <td>34.0</td>\n",
       "      <td>0.003836</td>\n",
       "      <td>0.993789</td>\n",
       "      <td>1066.920371</td>\n",
       "      <td>0.361880</td>\n",
       "      <td>0.05</td>\n",
       "      <td>1</td>\n",
       "    </tr>\n",
       "    <tr>\n",
       "      <th>11</th>\n",
       "      <td>1.735</td>\n",
       "      <td>14.4972</td>\n",
       "      <td>23.0</td>\n",
       "      <td>0.986735</td>\n",
       "      <td>0.977436</td>\n",
       "      <td>3291.500964</td>\n",
       "      <td>0.711856</td>\n",
       "      <td>0.10</td>\n",
       "      <td>1</td>\n",
       "    </tr>\n",
       "    <tr>\n",
       "      <th>12</th>\n",
       "      <td>1.000</td>\n",
       "      <td>0.0393</td>\n",
       "      <td>29583.1</td>\n",
       "      <td>1.008336</td>\n",
       "      <td>0.799142</td>\n",
       "      <td>6492.833368</td>\n",
       "      <td>2.099084</td>\n",
       "      <td>0.10</td>\n",
       "      <td>1</td>\n",
       "    </tr>\n",
       "    <tr>\n",
       "      <th>13</th>\n",
       "      <td>1.999</td>\n",
       "      <td>7.4211</td>\n",
       "      <td>2.7</td>\n",
       "      <td>1.393198</td>\n",
       "      <td>0.998259</td>\n",
       "      <td>171.074332</td>\n",
       "      <td>0.162321</td>\n",
       "      <td>0.10</td>\n",
       "      <td>1</td>\n",
       "    </tr>\n",
       "    <tr>\n",
       "      <th>14</th>\n",
       "      <td>2.739</td>\n",
       "      <td>0.7501</td>\n",
       "      <td>3.3</td>\n",
       "      <td>1.003822</td>\n",
       "      <td>0.999518</td>\n",
       "      <td>1309.262642</td>\n",
       "      <td>0.302636</td>\n",
       "      <td>0.10</td>\n",
       "      <td>1</td>\n",
       "    </tr>\n",
       "    <tr>\n",
       "      <th>15</th>\n",
       "      <td>2.015</td>\n",
       "      <td>8.2185</td>\n",
       "      <td>1218.0</td>\n",
       "      <td>0.001468</td>\n",
       "      <td>0.707638</td>\n",
       "      <td>7196.037268</td>\n",
       "      <td>1.450688</td>\n",
       "      <td>0.10</td>\n",
       "      <td>1</td>\n",
       "    </tr>\n",
       "    <tr>\n",
       "      <th>16</th>\n",
       "      <td>1.000</td>\n",
       "      <td>0.0353</td>\n",
       "      <td>41440.1</td>\n",
       "      <td>0.976178</td>\n",
       "      <td>0.636774</td>\n",
       "      <td>7525.263090</td>\n",
       "      <td>2.955174</td>\n",
       "      <td>0.10</td>\n",
       "      <td>1</td>\n",
       "    </tr>\n",
       "    <tr>\n",
       "      <th>17</th>\n",
       "      <td>1.833</td>\n",
       "      <td>9.2352</td>\n",
       "      <td>4.7</td>\n",
       "      <td>0.442542</td>\n",
       "      <td>0.757043</td>\n",
       "      <td>6118.781046</td>\n",
       "      <td>1.620072</td>\n",
       "      <td>0.10</td>\n",
       "      <td>1</td>\n",
       "    </tr>\n",
       "    <tr>\n",
       "      <th>18</th>\n",
       "      <td>1.060</td>\n",
       "      <td>3.0758</td>\n",
       "      <td>400.1</td>\n",
       "      <td>0.434032</td>\n",
       "      <td>0.757816</td>\n",
       "      <td>6632.806131</td>\n",
       "      <td>2.164517</td>\n",
       "      <td>0.10</td>\n",
       "      <td>1</td>\n",
       "    </tr>\n",
       "    <tr>\n",
       "      <th>19</th>\n",
       "      <td>1.980</td>\n",
       "      <td>11.4349</td>\n",
       "      <td>2.5</td>\n",
       "      <td>0.918732</td>\n",
       "      <td>0.986219</td>\n",
       "      <td>3106.783921</td>\n",
       "      <td>0.520355</td>\n",
       "      <td>0.10</td>\n",
       "      <td>1</td>\n",
       "    </tr>\n",
       "    <tr>\n",
       "      <th>20</th>\n",
       "      <td>2.131</td>\n",
       "      <td>9.1774</td>\n",
       "      <td>7.5</td>\n",
       "      <td>0.486471</td>\n",
       "      <td>0.265548</td>\n",
       "      <td>10582.633054</td>\n",
       "      <td>2.771358</td>\n",
       "      <td>0.10</td>\n",
       "      <td>1</td>\n",
       "    </tr>\n",
       "    <tr>\n",
       "      <th>21</th>\n",
       "      <td>1.827</td>\n",
       "      <td>1.6465</td>\n",
       "      <td>20.7</td>\n",
       "      <td>0.494267</td>\n",
       "      <td>0.096097</td>\n",
       "      <td>7580.319020</td>\n",
       "      <td>1.563907</td>\n",
       "      <td>0.25</td>\n",
       "      <td>1</td>\n",
       "    </tr>\n",
       "    <tr>\n",
       "      <th>22</th>\n",
       "      <td>1.000</td>\n",
       "      <td>0.0983</td>\n",
       "      <td>11285.1</td>\n",
       "      <td>0.861854</td>\n",
       "      <td>0.779369</td>\n",
       "      <td>7063.682095</td>\n",
       "      <td>2.534114</td>\n",
       "      <td>0.25</td>\n",
       "      <td>1</td>\n",
       "    </tr>\n",
       "    <tr>\n",
       "      <th>23</th>\n",
       "      <td>1.015</td>\n",
       "      <td>1.6263</td>\n",
       "      <td>6300.3</td>\n",
       "      <td>0.001088</td>\n",
       "      <td>0.725909</td>\n",
       "      <td>5757.857579</td>\n",
       "      <td>1.571888</td>\n",
       "      <td>0.25</td>\n",
       "      <td>1</td>\n",
       "    </tr>\n",
       "    <tr>\n",
       "      <th>24</th>\n",
       "      <td>1.660</td>\n",
       "      <td>3.1826</td>\n",
       "      <td>4250.5</td>\n",
       "      <td>0.992823</td>\n",
       "      <td>0.932047</td>\n",
       "      <td>7226.362048</td>\n",
       "      <td>0.632385</td>\n",
       "      <td>0.25</td>\n",
       "      <td>1</td>\n",
       "    </tr>\n",
       "    <tr>\n",
       "      <th>25</th>\n",
       "      <td>2.199</td>\n",
       "      <td>3.5816</td>\n",
       "      <td>20.4</td>\n",
       "      <td>0.531355</td>\n",
       "      <td>0.964774</td>\n",
       "      <td>3814.780677</td>\n",
       "      <td>0.942123</td>\n",
       "      <td>0.25</td>\n",
       "      <td>1</td>\n",
       "    </tr>\n",
       "    <tr>\n",
       "      <th>26</th>\n",
       "      <td>1.455</td>\n",
       "      <td>5.5307</td>\n",
       "      <td>42.7</td>\n",
       "      <td>0.001519</td>\n",
       "      <td>0.757377</td>\n",
       "      <td>6417.173372</td>\n",
       "      <td>2.050267</td>\n",
       "      <td>0.25</td>\n",
       "      <td>1</td>\n",
       "    </tr>\n",
       "    <tr>\n",
       "      <th>27</th>\n",
       "      <td>1.938</td>\n",
       "      <td>3.8205</td>\n",
       "      <td>11.4</td>\n",
       "      <td>0.514028</td>\n",
       "      <td>0.513889</td>\n",
       "      <td>8918.640812</td>\n",
       "      <td>2.004500</td>\n",
       "      <td>0.25</td>\n",
       "      <td>1</td>\n",
       "    </tr>\n",
       "    <tr>\n",
       "      <th>28</th>\n",
       "      <td>2.002</td>\n",
       "      <td>0.1386</td>\n",
       "      <td>26.7</td>\n",
       "      <td>0.016020</td>\n",
       "      <td>0.989207</td>\n",
       "      <td>1289.054065</td>\n",
       "      <td>0.396308</td>\n",
       "      <td>0.25</td>\n",
       "      <td>1</td>\n",
       "    </tr>\n",
       "    <tr>\n",
       "      <th>29</th>\n",
       "      <td>1.000</td>\n",
       "      <td>0.0008</td>\n",
       "      <td>30679.2</td>\n",
       "      <td>0.996755</td>\n",
       "      <td>0.911607</td>\n",
       "      <td>4596.484693</td>\n",
       "      <td>1.114364</td>\n",
       "      <td>0.25</td>\n",
       "      <td>1</td>\n",
       "    </tr>\n",
       "    <tr>\n",
       "      <th>30</th>\n",
       "      <td>1.000</td>\n",
       "      <td>0.1927</td>\n",
       "      <td>14839.5</td>\n",
       "      <td>0.917105</td>\n",
       "      <td>0.960027</td>\n",
       "      <td>3584.065631</td>\n",
       "      <td>0.793608</td>\n",
       "      <td>0.25</td>\n",
       "      <td>1</td>\n",
       "    </tr>\n",
       "  </tbody>\n",
       "</table>\n",
       "</div>"
      ],
      "text/plain": [
       "    r_hat     mcse      ess      bfmi        r2          waic   epsilon  \\\n",
       "1   1.792  17.6343      2.7  0.983629  0.819621   5224.546374  1.363282   \n",
       "2   1.046   2.6305   6995.3  0.797742  0.906804   5396.323351  1.449872   \n",
       "3   1.497   1.2642    101.8  1.264172  0.999211  -3299.410427  0.079342   \n",
       "4   1.000   0.0000  35333.5  1.010989  0.999781  -3282.649651  0.080546   \n",
       "5   1.010   1.2969   2590.5  0.505033  0.720291   7475.069122  2.909367   \n",
       "6   1.375   0.5484   1384.7  1.251146  0.876761   5318.837708  1.421364   \n",
       "7   1.345   1.1971    291.5  1.154194  0.995257   1016.922391  0.338878   \n",
       "8   1.763   3.4459     10.2  0.497526  0.699698   7306.713303  1.415655   \n",
       "9   1.168   3.6623     31.6  0.441019  0.934793   4777.161077  1.161842   \n",
       "10  2.308   0.2235     34.0  0.003836  0.993789   1066.920371  0.361880   \n",
       "11  1.735  14.4972     23.0  0.986735  0.977436   3291.500964  0.711856   \n",
       "12  1.000   0.0393  29583.1  1.008336  0.799142   6492.833368  2.099084   \n",
       "13  1.999   7.4211      2.7  1.393198  0.998259    171.074332  0.162321   \n",
       "14  2.739   0.7501      3.3  1.003822  0.999518   1309.262642  0.302636   \n",
       "15  2.015   8.2185   1218.0  0.001468  0.707638   7196.037268  1.450688   \n",
       "16  1.000   0.0353  41440.1  0.976178  0.636774   7525.263090  2.955174   \n",
       "17  1.833   9.2352      4.7  0.442542  0.757043   6118.781046  1.620072   \n",
       "18  1.060   3.0758    400.1  0.434032  0.757816   6632.806131  2.164517   \n",
       "19  1.980  11.4349      2.5  0.918732  0.986219   3106.783921  0.520355   \n",
       "20  2.131   9.1774      7.5  0.486471  0.265548  10582.633054  2.771358   \n",
       "21  1.827   1.6465     20.7  0.494267  0.096097   7580.319020  1.563907   \n",
       "22  1.000   0.0983  11285.1  0.861854  0.779369   7063.682095  2.534114   \n",
       "23  1.015   1.6263   6300.3  0.001088  0.725909   5757.857579  1.571888   \n",
       "24  1.660   3.1826   4250.5  0.992823  0.932047   7226.362048  0.632385   \n",
       "25  2.199   3.5816     20.4  0.531355  0.964774   3814.780677  0.942123   \n",
       "26  1.455   5.5307     42.7  0.001519  0.757377   6417.173372  2.050267   \n",
       "27  1.938   3.8205     11.4  0.514028  0.513889   8918.640812  2.004500   \n",
       "28  2.002   0.1386     26.7  0.016020  0.989207   1289.054065  0.396308   \n",
       "29  1.000   0.0008  30679.2  0.996755  0.911607   4596.484693  1.114364   \n",
       "30  1.000   0.1927  14839.5  0.917105  0.960027   3584.065631  0.793608   \n",
       "\n",
       "    epsilon_real run  \n",
       "1           0.05   1  \n",
       "2           0.05   1  \n",
       "3           0.05   1  \n",
       "4           0.05   1  \n",
       "5           0.05   1  \n",
       "6           0.05   1  \n",
       "7           0.05   1  \n",
       "8           0.05   1  \n",
       "9           0.05   1  \n",
       "10          0.05   1  \n",
       "11          0.10   1  \n",
       "12          0.10   1  \n",
       "13          0.10   1  \n",
       "14          0.10   1  \n",
       "15          0.10   1  \n",
       "16          0.10   1  \n",
       "17          0.10   1  \n",
       "18          0.10   1  \n",
       "19          0.10   1  \n",
       "20          0.10   1  \n",
       "21          0.25   1  \n",
       "22          0.25   1  \n",
       "23          0.25   1  \n",
       "24          0.25   1  \n",
       "25          0.25   1  \n",
       "26          0.25   1  \n",
       "27          0.25   1  \n",
       "28          0.25   1  \n",
       "29          0.25   1  \n",
       "30          0.25   1  "
      ]
     },
     "execution_count": 12,
     "metadata": {},
     "output_type": "execute_result"
    }
   ],
   "source": [
    "varnames = ['amp', 'mu', 'sigma', 'epsilon']\n",
    "\n",
    "# total dataset y-values, noise and run number list\n",
    "ly_val = [val for run in range(nruns) for idx, val in enumerate(y_val)]\n",
    "lnoise = [nl for run in range(nruns) for nl in noise_levels for i in range(nsets)]\n",
    "lruns = ['{0}'.format(run+1) for run in range(nruns) for i in range(tsets)]\n",
    "\n",
    "# collect the results and display\n",
    "df = res.get_results_summary(varnames, traces, ppc, ly_val, epsilon_real=lnoise, runlist=lruns)\n",
    "df"
   ]
  },
  {
   "cell_type": "code",
   "execution_count": 13,
   "metadata": {},
   "outputs": [],
   "source": [
    "# save results to .csv\n",
    "df.to_csv(file_basename + '.csv', index=False)"
   ]
  },
  {
   "cell_type": "code",
   "execution_count": 14,
   "metadata": {},
   "outputs": [],
   "source": [
    "fp = open(out_path + 'settings.txt', 'a')\n",
    "fp.write('stop : ' + datetime.datetime.now().strftime(\"%A, %d. %B %Y %I:%M%p\") + '\\n')\n",
    "fp.close()"
   ]
  },
  {
   "cell_type": "code",
   "execution_count": null,
   "metadata": {},
   "outputs": [],
   "source": []
  }
 ],
 "metadata": {
  "kernelspec": {
   "display_name": "Python 3",
   "language": "python",
   "name": "python3"
  },
  "language_info": {
   "codemirror_mode": {
    "name": "ipython",
    "version": 3
   },
   "file_extension": ".py",
   "mimetype": "text/x-python",
   "name": "python",
   "nbconvert_exporter": "python",
   "pygments_lexer": "ipython3",
   "version": "3.6.9"
  }
 },
 "nbformat": 4,
 "nbformat_minor": 2
}
