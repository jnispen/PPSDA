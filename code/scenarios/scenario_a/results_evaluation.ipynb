{
 "cells": [
  {
   "cell_type": "markdown",
   "metadata": {},
   "source": [
    "# Scenario A - Noise Level Variation (results evaluation)\n",
    "\n",
    "This file is used to evaluate the inference (numerical) results.\n",
    "\n",
    "The model used in the inference of the parameters is formulated as follows: \n",
    "\n",
    "\\begin{equation}\n",
    "\\large y = f(x) = \\sum\\limits_{m=1}^M \\big[A_m \\cdot e^{-\\frac{(x-\\mu_m)^2}{2\\cdot\\sigma_m^2}}\\big] + \\epsilon\n",
    "\\end{equation}"
   ]
  },
  {
   "cell_type": "code",
   "execution_count": 1,
   "metadata": {},
   "outputs": [
    {
     "name": "stderr",
     "output_type": "stream",
     "text": [
      "WARNING (theano.tensor.blas): Using NumPy C-API based implementation for BLAS functions.\n"
     ]
    },
    {
     "name": "stdout",
     "output_type": "stream",
     "text": [
      "Running on PyMC3 v3.8\n"
     ]
    }
   ],
   "source": [
    "%matplotlib inline\n",
    "import numpy as np\n",
    "import pandas as pd\n",
    "import matplotlib.pyplot as plt\n",
    "import pymc3 as pm\n",
    "import arviz as az\n",
    "\n",
    "#az.style.use('arviz-darkgrid')\n",
    "\n",
    "print('Running on PyMC3 v{}'.format(pm.__version__))"
   ]
  },
  {
   "cell_type": "markdown",
   "metadata": {},
   "source": [
    "## Load results summary"
   ]
  },
  {
   "cell_type": "code",
   "execution_count": 114,
   "metadata": {
    "scrolled": false
   },
   "outputs": [
    {
     "data": {
      "text/html": [
       "<div>\n",
       "<style scoped>\n",
       "    .dataframe tbody tr th:only-of-type {\n",
       "        vertical-align: middle;\n",
       "    }\n",
       "\n",
       "    .dataframe tbody tr th {\n",
       "        vertical-align: top;\n",
       "    }\n",
       "\n",
       "    .dataframe thead th {\n",
       "        text-align: right;\n",
       "    }\n",
       "</style>\n",
       "<table border=\"1\" class=\"dataframe\">\n",
       "  <thead>\n",
       "    <tr style=\"text-align: right;\">\n",
       "      <th></th>\n",
       "      <th>r_hat</th>\n",
       "      <th>mcse</th>\n",
       "      <th>ess</th>\n",
       "      <th>bfmi</th>\n",
       "      <th>r2</th>\n",
       "      <th>waic</th>\n",
       "      <th>epsilon</th>\n",
       "      <th>epsilon_real</th>\n",
       "      <th>run</th>\n",
       "    </tr>\n",
       "  </thead>\n",
       "  <tbody>\n",
       "    <tr>\n",
       "      <th>1</th>\n",
       "      <td>1.000</td>\n",
       "      <td>0.0000</td>\n",
       "      <td>4666.8</td>\n",
       "      <td>1.070613</td>\n",
       "      <td>0.999764</td>\n",
       "      <td>-4682.815096</td>\n",
       "      <td>0.050653</td>\n",
       "      <td>0.05</td>\n",
       "      <td>run_1</td>\n",
       "    </tr>\n",
       "    <tr>\n",
       "      <th>2</th>\n",
       "      <td>1.000</td>\n",
       "      <td>0.0000</td>\n",
       "      <td>4492.0</td>\n",
       "      <td>1.018099</td>\n",
       "      <td>0.999381</td>\n",
       "      <td>-2156.797809</td>\n",
       "      <td>0.117157</td>\n",
       "      <td>0.10</td>\n",
       "      <td>run_1</td>\n",
       "    </tr>\n",
       "    <tr>\n",
       "      <th>3</th>\n",
       "      <td>1.108</td>\n",
       "      <td>0.1073</td>\n",
       "      <td>682.6</td>\n",
       "      <td>0.967143</td>\n",
       "      <td>0.999696</td>\n",
       "      <td>-4698.906496</td>\n",
       "      <td>0.050396</td>\n",
       "      <td>0.25</td>\n",
       "      <td>run_1</td>\n",
       "    </tr>\n",
       "    <tr>\n",
       "      <th>4</th>\n",
       "      <td>1.000</td>\n",
       "      <td>0.0000</td>\n",
       "      <td>4357.5</td>\n",
       "      <td>1.024266</td>\n",
       "      <td>0.999763</td>\n",
       "      <td>-4682.477654</td>\n",
       "      <td>0.050639</td>\n",
       "      <td>0.05</td>\n",
       "      <td>run_2</td>\n",
       "    </tr>\n",
       "    <tr>\n",
       "      <th>5</th>\n",
       "      <td>1.000</td>\n",
       "      <td>0.0000</td>\n",
       "      <td>4395.9</td>\n",
       "      <td>1.029305</td>\n",
       "      <td>0.999382</td>\n",
       "      <td>-2155.010993</td>\n",
       "      <td>0.117171</td>\n",
       "      <td>0.10</td>\n",
       "      <td>run_2</td>\n",
       "    </tr>\n",
       "    <tr>\n",
       "      <th>6</th>\n",
       "      <td>1.004</td>\n",
       "      <td>0.0064</td>\n",
       "      <td>1496.8</td>\n",
       "      <td>0.970603</td>\n",
       "      <td>0.999697</td>\n",
       "      <td>-4698.840584</td>\n",
       "      <td>0.050411</td>\n",
       "      <td>0.25</td>\n",
       "      <td>run_2</td>\n",
       "    </tr>\n",
       "    <tr>\n",
       "      <th>7</th>\n",
       "      <td>1.000</td>\n",
       "      <td>0.0000</td>\n",
       "      <td>3959.4</td>\n",
       "      <td>1.042734</td>\n",
       "      <td>0.999765</td>\n",
       "      <td>-4682.675816</td>\n",
       "      <td>0.050635</td>\n",
       "      <td>0.05</td>\n",
       "      <td>run_3</td>\n",
       "    </tr>\n",
       "    <tr>\n",
       "      <th>8</th>\n",
       "      <td>1.000</td>\n",
       "      <td>0.0000</td>\n",
       "      <td>4587.1</td>\n",
       "      <td>1.033986</td>\n",
       "      <td>0.999378</td>\n",
       "      <td>-2157.045066</td>\n",
       "      <td>0.117173</td>\n",
       "      <td>0.10</td>\n",
       "      <td>run_3</td>\n",
       "    </tr>\n",
       "    <tr>\n",
       "      <th>9</th>\n",
       "      <td>1.001</td>\n",
       "      <td>0.0050</td>\n",
       "      <td>1148.7</td>\n",
       "      <td>0.969120</td>\n",
       "      <td>0.999694</td>\n",
       "      <td>-4699.343310</td>\n",
       "      <td>0.050414</td>\n",
       "      <td>0.25</td>\n",
       "      <td>run_3</td>\n",
       "    </tr>\n",
       "  </tbody>\n",
       "</table>\n",
       "</div>"
      ],
      "text/plain": [
       "   r_hat    mcse     ess      bfmi        r2         waic   epsilon  \\\n",
       "1  1.000  0.0000  4666.8  1.070613  0.999764 -4682.815096  0.050653   \n",
       "2  1.000  0.0000  4492.0  1.018099  0.999381 -2156.797809  0.117157   \n",
       "3  1.108  0.1073   682.6  0.967143  0.999696 -4698.906496  0.050396   \n",
       "4  1.000  0.0000  4357.5  1.024266  0.999763 -4682.477654  0.050639   \n",
       "5  1.000  0.0000  4395.9  1.029305  0.999382 -2155.010993  0.117171   \n",
       "6  1.004  0.0064  1496.8  0.970603  0.999697 -4698.840584  0.050411   \n",
       "7  1.000  0.0000  3959.4  1.042734  0.999765 -4682.675816  0.050635   \n",
       "8  1.000  0.0000  4587.1  1.033986  0.999378 -2157.045066  0.117173   \n",
       "9  1.001  0.0050  1148.7  0.969120  0.999694 -4699.343310  0.050414   \n",
       "\n",
       "   epsilon_real    run  \n",
       "1          0.05  run_1  \n",
       "2          0.10  run_1  \n",
       "3          0.25  run_1  \n",
       "4          0.05  run_2  \n",
       "5          0.10  run_2  \n",
       "6          0.25  run_2  \n",
       "7          0.05  run_3  \n",
       "8          0.10  run_3  \n",
       "9          0.25  run_3  "
      ]
     },
     "execution_count": 114,
     "metadata": {},
     "output_type": "execute_result"
    }
   ],
   "source": [
    "# load results from disk\n",
    "df = pd.read_csv('./output_mruns_adapt_diag/scenario_noise.csv')\n",
    "df.index += 1\n",
    "#df.sort_values(by=['waic'], ascending=False)\n",
    "df"
   ]
  },
  {
   "cell_type": "code",
   "execution_count": 113,
   "metadata": {},
   "outputs": [
    {
     "data": {
      "text/html": [
       "<div>\n",
       "<style scoped>\n",
       "    .dataframe tbody tr th:only-of-type {\n",
       "        vertical-align: middle;\n",
       "    }\n",
       "\n",
       "    .dataframe tbody tr th {\n",
       "        vertical-align: top;\n",
       "    }\n",
       "\n",
       "    .dataframe thead th {\n",
       "        text-align: right;\n",
       "    }\n",
       "</style>\n",
       "<table border=\"1\" class=\"dataframe\">\n",
       "  <thead>\n",
       "    <tr style=\"text-align: right;\">\n",
       "      <th></th>\n",
       "      <th>r_hat</th>\n",
       "      <th>mcse</th>\n",
       "      <th>ess</th>\n",
       "      <th>bfmi</th>\n",
       "      <th>r2</th>\n",
       "      <th>waic</th>\n",
       "      <th>epsilon</th>\n",
       "      <th>epsilon_real</th>\n",
       "      <th>run</th>\n",
       "    </tr>\n",
       "  </thead>\n",
       "  <tbody>\n",
       "    <tr>\n",
       "      <th>7</th>\n",
       "      <td>1.000</td>\n",
       "      <td>0.000</td>\n",
       "      <td>3959.4</td>\n",
       "      <td>1.042734</td>\n",
       "      <td>0.999765</td>\n",
       "      <td>-4682.675816</td>\n",
       "      <td>0.050635</td>\n",
       "      <td>0.05</td>\n",
       "      <td>run_3</td>\n",
       "    </tr>\n",
       "    <tr>\n",
       "      <th>8</th>\n",
       "      <td>1.000</td>\n",
       "      <td>0.000</td>\n",
       "      <td>4587.1</td>\n",
       "      <td>1.033986</td>\n",
       "      <td>0.999378</td>\n",
       "      <td>-2157.045066</td>\n",
       "      <td>0.117173</td>\n",
       "      <td>0.10</td>\n",
       "      <td>run_3</td>\n",
       "    </tr>\n",
       "    <tr>\n",
       "      <th>9</th>\n",
       "      <td>1.001</td>\n",
       "      <td>0.005</td>\n",
       "      <td>1148.7</td>\n",
       "      <td>0.969120</td>\n",
       "      <td>0.999694</td>\n",
       "      <td>-4699.343310</td>\n",
       "      <td>0.050414</td>\n",
       "      <td>0.25</td>\n",
       "      <td>run_3</td>\n",
       "    </tr>\n",
       "  </tbody>\n",
       "</table>\n",
       "</div>"
      ],
      "text/plain": [
       "   r_hat   mcse     ess      bfmi        r2         waic   epsilon  \\\n",
       "7  1.000  0.000  3959.4  1.042734  0.999765 -4682.675816  0.050635   \n",
       "8  1.000  0.000  4587.1  1.033986  0.999378 -2157.045066  0.117173   \n",
       "9  1.001  0.005  1148.7  0.969120  0.999694 -4699.343310  0.050414   \n",
       "\n",
       "   epsilon_real    run  \n",
       "7          0.05  run_3  \n",
       "8          0.10  run_3  \n",
       "9          0.25  run_3  "
      ]
     },
     "execution_count": 113,
     "metadata": {},
     "output_type": "execute_result"
    }
   ],
   "source": [
    "suc = df.loc[(df['r_hat'] <= 1.1) & (df['r2'] >= 0.99) & (df['run'] == 'run_3')]\n",
    "suc"
   ]
  },
  {
   "cell_type": "code",
   "execution_count": 50,
   "metadata": {},
   "outputs": [
    {
     "data": {
      "text/plain": [
       "1"
      ]
     },
     "execution_count": 50,
     "metadata": {},
     "output_type": "execute_result"
    }
   ],
   "source": [
    "len(suc)"
   ]
  },
  {
   "cell_type": "code",
   "execution_count": 51,
   "metadata": {},
   "outputs": [
    {
     "data": {
      "text/plain": [
       "21"
      ]
     },
     "execution_count": 51,
     "metadata": {},
     "output_type": "execute_result"
    }
   ],
   "source": [
    "len(df.loc[(df['r_hat'] > 1.1)])"
   ]
  },
  {
   "cell_type": "code",
   "execution_count": 107,
   "metadata": {},
   "outputs": [
    {
     "data": {
      "image/png": "[encoded data removed]",
      "text/plain": [
       "<Figure size 864x576 with 1 Axes>"
      ]
     },
     "metadata": {
      "needs_background": "light"
     },
     "output_type": "display_data"
    }
   ],
   "source": [
    "# libraries\n",
    "import numpy as np\n",
    "import matplotlib.pyplot as plt\n",
    "\n",
    "plt.figure(figsize=(12, 8))\n",
    "plt.ylabel('Score (rhat <= 1.1 & r2 >= .99)', fontweight='bold')\n",
    "plt.title('Convergence by noise level and init method', fontweight='bold')\n",
    "\n",
    "# set width of bar\n",
    "barWidth = 0.25\n",
    "\n",
    "# set height of bar\n",
    "bars1 = [5, 6, 6]\n",
    "bars2 = [3, 4, 6]\n",
    "bars3 = [3, 4, 3]\n",
    "\n",
    "# Set position of bar on X axis\n",
    "r1 = np.arange(len(bars1))\n",
    "r2 = [x + barWidth for x in r1]\n",
    "r3 = [x + barWidth for x in r2]\n",
    "\n",
    "caps = 7\n",
    "\n",
    "# Make the plot\n",
    "plt.bar(r1, bars1, yerr=0.33, capsize=caps, color='burlywood', width=barWidth, \n",
    "        edgecolor='white', label='1% noise')\n",
    "plt.bar(r2, bars2, yerr=0.1, capsize=caps, color='peru', width=barWidth, \n",
    "        edgecolor='white', label='2% noise')\n",
    "plt.bar(r3, bars3, yerr=0.66, capsize=caps, color='saddlebrown', width=barWidth, \n",
    "        edgecolor='white', label='3% noise')\n",
    "\n",
    "# Add xticks on the middle of the group bars\n",
    "plt.xlabel('Sampler Init Method', fontweight='bold')\n",
    "plt.xticks([r + barWidth for r in range(len(bars1))], ['jitter+adapt_diag', 'advi+adapt_diag', 'adapt_diag'])\n",
    "\n",
    "# Create legend & Show graphic\n",
    "plt.legend()\n",
    "plt.show()"
   ]
  }
 ],
 "metadata": {
  "kernelspec": {
   "display_name": "Python 3",
   "language": "python",
   "name": "python3"
  },
  "language_info": {
   "codemirror_mode": {
    "name": "ipython",
    "version": 3
   },
   "file_extension": ".py",
   "mimetype": "text/x-python",
   "name": "python",
   "nbconvert_exporter": "python",
   "pygments_lexer": "ipython3",
   "version": "3.6.8"
  }
 },
 "nbformat": 4,
 "nbformat_minor": 2
}
