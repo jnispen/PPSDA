{
 "cells": [
  {
   "cell_type": "markdown",
   "metadata": {},
   "source": [
    "# Scenario E - Peakshape Variation (pVoigt model)\n",
    "\n",
    "In this scenario the peakshape in a spectrum with a fixed number of peaks is varied from Gaussian (n = 0.0) to Lorentzian (n = 1.0). All datasets contain 3 peaks and the noise level is kept constant at 1%.\n",
    "\n",
    "The model used in the inference of the parameters is formulated as follows:\n",
    "\n",
    "\\begin{equation}\n",
    "\\large y = f(x) = \\sum\\limits_{m=1}^M \\big[A_m \\cdot f_{pseudo-Voigt}(x)\\big] + \\epsilon\n",
    "\\end{equation}\n",
    "\n",
    "where:\n",
    "\n",
    "\\begin{equation}\n",
    "\\large f_{pseudo-Voigt}(x) = \\eta \\cdot \\frac{\\sigma_m^2}{(x-\\mu_m)^2 + \\sigma_m^2} + (1 - \\eta) \\cdot e^{-\\frac{(x-\\mu_m)^2}{2\\cdot\\sigma_m^2}}\n",
    "\\end{equation}"
   ]
  },
  {
   "cell_type": "code",
   "execution_count": 1,
   "metadata": {},
   "outputs": [
    {
     "name": "stderr",
     "output_type": "stream",
     "text": [
      "WARNING (theano.tensor.blas): Using NumPy C-API based implementation for BLAS functions.\n"
     ]
    },
    {
     "name": "stdout",
     "output_type": "stream",
     "text": [
      "Running on PyMC3 v3.8\n"
     ]
    }
   ],
   "source": [
    "%matplotlib inline\n",
    "import numpy as np\n",
    "import pandas as pd\n",
    "import matplotlib.pyplot as plt\n",
    "import pymc3 as pm\n",
    "import arviz as az\n",
    "\n",
    "#az.style.use('arviz-darkgrid')\n",
    "\n",
    "print('Running on PyMC3 v{}'.format(pm.__version__))"
   ]
  },
  {
   "cell_type": "markdown",
   "metadata": {},
   "source": [
    "## Import local modules"
   ]
  },
  {
   "cell_type": "code",
   "execution_count": 2,
   "metadata": {},
   "outputs": [],
   "source": [
    "import os\n",
    "import sys\n",
    "sys.path.append('../../modules')\n",
    "import datagen as dg\n",
    "import models as mdl\n",
    "import results as res\n",
    "import figures as fig\n",
    "import settings as cnf"
   ]
  },
  {
   "cell_type": "markdown",
   "metadata": {},
   "source": [
    "## Local configuration"
   ]
  },
  {
   "cell_type": "code",
   "execution_count": 3,
   "metadata": {},
   "outputs": [],
   "source": [
    "# output for results and images\n",
    "out_path      = './output_peakshape_pvoigt_lrun'\n",
    "file_basename = out_path + '/scenario_peakshape_pvoigt'\n",
    "        \n",
    "conf = {}\n",
    "    \n",
    "# scenario name\n",
    "conf['scenario'] = 'peakshape variation (pVoigt model)'\n",
    "    \n",
    "# initialization method for sampler\n",
    "conf['init_mode'] = 'adapt_diag'\n",
    "\n",
    "# probabilistic model (priors) (normal/lognormal/eta_rv)\n",
    "conf['prior_model'] = 'eta_rv'\n",
    "\n",
    "# provide peak positions to the model as testvalues ('yes'/'no')\n",
    "conf['peak_info'] = 'yes'\n",
    "\n",
    "# model mode ('train'/eval')\n",
    "conf['model_mode'] = 'train'\n",
    "\n",
    "# data mode ('generate'/'preload')\n",
    "conf['data_mode'] = 'generate'\n",
    "\n",
    "# dataset directory (needed for 'preload' data mode)\n",
    "#conf['dataset_dir'] = './input_datasets'\n",
    "\n",
    "# number of cores to run sampling chains on\n",
    "conf['ncores'] = 2\n",
    "\n",
    "# number of samples per chain\n",
    "conf['nsamples'] = 2000"
   ]
  },
  {
   "cell_type": "code",
   "execution_count": 4,
   "metadata": {},
   "outputs": [
    {
     "data": {
      "text/plain": [
       "{'scenario': 'peakshape variation (pVoigt model)',\n",
       " 'init_mode': 'adapt_diag',\n",
       " 'prior_model': 'eta_rv',\n",
       " 'peak_info': 'yes',\n",
       " 'model_mode': 'train',\n",
       " 'data_mode': 'generate',\n",
       " 'ncores': 2,\n",
       " 'nsamples': 2000}"
      ]
     },
     "execution_count": 4,
     "metadata": {},
     "output_type": "execute_result"
    }
   ],
   "source": [
    "# if the output dir does not exist, create it\n",
    "if not os.path.exists(out_path):\n",
    "    os.makedirs(out_path)\n",
    "\n",
    "conf"
   ]
  },
  {
   "cell_type": "markdown",
   "metadata": {},
   "source": [
    "## Save configuration"
   ]
  },
  {
   "cell_type": "code",
   "execution_count": 5,
   "metadata": {},
   "outputs": [],
   "source": [
    "cnf.save(out_path, conf)"
   ]
  },
  {
   "cell_type": "markdown",
   "metadata": {},
   "source": [
    "# Generate data and plot"
   ]
  },
  {
   "cell_type": "code",
   "execution_count": 6,
   "metadata": {
    "scrolled": false
   },
   "outputs": [],
   "source": [
    "# list of wavelengths (x-values)\n",
    "xval = [i for i in range(200, 400, 2)]\n",
    "\n",
    "ldata  = []\n",
    "lpeaks = []\n",
    "lpeakshape = []\n",
    "\n",
    "# number of spectra per peakshape factor\n",
    "nsets  = 40\n",
    "\n",
    "# peakshape weight factors (0 = Gauss, 1 = Lorentz)\n",
    "peakshapes = [0.0, 0.25, 0.5, 0.75, 1.0]\n",
    "lpeakshape = [ps for ps in peakshapes for i in range(nsets)]\n",
    "\n",
    "# total number of datasets\n",
    "tsets = nsets * len(peakshapes)\n",
    "        \n",
    "if conf['model_mode'] == 'train' and conf['data_mode'] == 'generate':\n",
    "    # generate the datasets\n",
    "    for ps in peakshapes:\n",
    "        for i in range(nsets):\n",
    "            df, peaks, _ = dg.data_generator(xvalues=xval, nsamples=15, npeaks=3, peakshape=ps)\n",
    "            ldata.append(df)\n",
    "            lpeaks.append(peaks)\n",
    "            \n",
    "    # save data and peak information to disk\n",
    "    for i in range(len(ldata)):\n",
    "        ldata[i].to_csv(out_path + '/dataset_%02d.csv' % (i+1), index=False)\n",
    "    dg.data_save(out_path + '/peakinfo.csv', lpeaks)\n",
    "        \n",
    "elif conf['model_mode'] == 'train' and conf['data_mode'] == 'preload':           \n",
    "    # load pre-generated datasets from disk\n",
    "    ldata, lpeaks, _ = dg.data_load(tsets, conf['dataset_dir'])\n",
    "    \n",
    "else:        \n",
    "    # load data from disk\n",
    "    if conf['data_mode'] == 'preload':\n",
    "        ldata, lpeaks, _ = dg.data_load(tsets, conf['dataset_dir'])\n",
    "    else:\n",
    "        ldata, lpeaks, _ = dg.data_load(tsets, out_path)"
   ]
  },
  {
   "cell_type": "code",
   "execution_count": 7,
   "metadata": {
    "scrolled": true
   },
   "outputs": [
    {
     "name": "stdout",
     "output_type": "stream",
     "text": [
      "total number of peakshape variations    : 5\n",
      "total number of datasets per peakshape  : 40\n",
      "total number of inference runs          : 200\n"
     ]
    }
   ],
   "source": [
    "print(\"total number of peakshape variations    : {0}\".format(len(peakshapes)))\n",
    "print(\"total number of datasets per peakshape  : {0}\".format(nsets))\n",
    "print(\"total number of inference runs          : {0}\".format(tsets))"
   ]
  },
  {
   "cell_type": "code",
   "execution_count": 8,
   "metadata": {},
   "outputs": [],
   "source": [
    "# plot datasets\n",
    "#fig.plot_datasets(ldata, lpeaks, dims=(int(tsets/2),2), figure_size=(12,int(tsets*(1.8))), \n",
    "#                            savefig='yes', fname=file_basename, scenario='peakshape', labels=lpeakshape)"
   ]
  },
  {
   "cell_type": "markdown",
   "metadata": {},
   "source": [
    "# Initialize models and run inference"
   ]
  },
  {
   "cell_type": "code",
   "execution_count": 9,
   "metadata": {},
   "outputs": [],
   "source": [
    "# convert pandas data to numpy arrays\n",
    "x_val = np.array(xval, dtype='float32')\n",
    "\n",
    "# store dataset y-values in list\n",
    "cols = ldata[0].columns\n",
    "y_val = [ldata[i][cols].values for i in range(len(ldata))]"
   ]
  },
  {
   "cell_type": "code",
   "execution_count": 10,
   "metadata": {
    "scrolled": false
   },
   "outputs": [
    {
     "name": "stderr",
     "output_type": "stream",
     "text": [
      "Auto-assigning NUTS sampler...\n",
      "Initializing NUTS using adapt_diag...\n"
     ]
    },
    {
     "name": "stdout",
     "output_type": "stream",
     "text": [
      "running inference on dataset #1/200\n"
     ]
    },
    {
     "name": "stderr",
     "output_type": "stream",
     "text": [
      "Multiprocess sampling (2 chains in 2 jobs)\n",
      "NUTS: [epsilon, sigma_e, eta, sigma, mu, amp]\n",
      "Sampling 2 chains, 1,103 divergences: 100%|██████████| 5000/5000 [04:39<00:00, 17.90draws/s] \n",
      "There were 4 divergences after tuning. Increase `target_accept` or reparameterize.\n",
      "The acceptance probability does not match the target. It is 0.8927329600195669, but should be close to 0.8. Try to increase the number of tuning steps.\n",
      "There were 1099 divergences after tuning. Increase `target_accept` or reparameterize.\n",
      "The acceptance probability does not match the target. It is 0.14660747760238063, but should be close to 0.8. Try to increase the number of tuning steps.\n",
      "The rhat statistic is larger than 1.4 for some parameters. The sampler did not converge.\n",
      "The estimated number of effective samples is smaller than 200 for some parameters.\n",
      "Auto-assigning NUTS sampler...\n",
      "Initializing NUTS using adapt_diag...\n"
     ]
    },
    {
     "name": "stdout",
     "output_type": "stream",
     "text": [
      "running inference on dataset #2/200\n"
     ]
    },
    {
     "name": "stderr",
     "output_type": "stream",
     "text": [
      "Multiprocess sampling (2 chains in 2 jobs)\n",
      "NUTS: [epsilon, sigma_e, eta, sigma, mu, amp]\n",
      "Sampling 2 chains, 0 divergences: 100%|██████████| 5000/5000 [00:16<00:00, 296.43draws/s]\n",
      "The acceptance probability does not match the target. It is 0.8830340651938204, but should be close to 0.8. Try to increase the number of tuning steps.\n",
      "Auto-assigning NUTS sampler...\n",
      "Initializing NUTS using adapt_diag...\n"
     ]
    },
    {
     "name": "stdout",
     "output_type": "stream",
     "text": [
      "running inference on dataset #3/200\n"
     ]
    },
    {
     "name": "stderr",
     "output_type": "stream",
     "text": [
      "Multiprocess sampling (2 chains in 2 jobs)\n",
      "NUTS: [epsilon, sigma_e, eta, sigma, mu, amp]\n",
      "Sampling 2 chains, 264 divergences: 100%|██████████| 5000/5000 [02:21<00:00, 35.39draws/s] \n",
      "There were 253 divergences after tuning. Increase `target_accept` or reparameterize.\n",
      "There were 11 divergences after tuning. Increase `target_accept` or reparameterize.\n",
      "The acceptance probability does not match the target. It is 0.9467727251155978, but should be close to 0.8. Try to increase the number of tuning steps.\n",
      "The rhat statistic is larger than 1.05 for some parameters. This indicates slight problems during sampling.\n",
      "The estimated number of effective samples is smaller than 200 for some parameters.\n",
      "Auto-assigning NUTS sampler...\n",
      "Initializing NUTS using adapt_diag...\n"
     ]
    },
    {
     "name": "stdout",
     "output_type": "stream",
     "text": [
      "running inference on dataset #4/200\n"
     ]
    },
    {
     "name": "stderr",
     "output_type": "stream",
     "text": [
      "Multiprocess sampling (2 chains in 2 jobs)\n",
      "NUTS: [epsilon, sigma_e, eta, sigma, mu, amp]\n",
      "Sampling 2 chains, 0 divergences: 100%|██████████| 5000/5000 [03:15<00:00, 25.64draws/s]\n",
      "The acceptance probability does not match the target. It is 0.9146475822370017, but should be close to 0.8. Try to increase the number of tuning steps.\n",
      "The acceptance probability does not match the target. It is 0.8968049434904345, but should be close to 0.8. Try to increase the number of tuning steps.\n",
      "The number of effective samples is smaller than 25% for some parameters.\n",
      "Auto-assigning NUTS sampler...\n",
      "Initializing NUTS using adapt_diag...\n"
     ]
    },
    {
     "name": "stdout",
     "output_type": "stream",
     "text": [
      "running inference on dataset #5/200\n"
     ]
    },
    {
     "name": "stderr",
     "output_type": "stream",
     "text": [
      "Multiprocess sampling (2 chains in 2 jobs)\n",
      "NUTS: [epsilon, sigma_e, eta, sigma, mu, amp]\n",
      "Sampling 2 chains, 0 divergences: 100%|██████████| 5000/5000 [01:01<00:00, 80.74draws/s] \n",
      "The acceptance probability does not match the target. It is 0.8851664545560761, but should be close to 0.8. Try to increase the number of tuning steps.\n",
      "Auto-assigning NUTS sampler...\n",
      "Initializing NUTS using adapt_diag...\n"
     ]
    },
    {
     "name": "stdout",
     "output_type": "stream",
     "text": [
      "running inference on dataset #6/200\n"
     ]
    },
    {
     "name": "stderr",
     "output_type": "stream",
     "text": [
      "Multiprocess sampling (2 chains in 2 jobs)\n",
      "NUTS: [epsilon, sigma_e, eta, sigma, mu, amp]\n",
      "Sampling 2 chains, 1 divergences: 100%|██████████| 5000/5000 [00:13<00:00, 359.38draws/s]\n",
      "There was 1 divergence after tuning. Increase `target_accept` or reparameterize.\n",
      "The acceptance probability does not match the target. It is 0.8821103095315848, but should be close to 0.8. Try to increase the number of tuning steps.\n",
      "Auto-assigning NUTS sampler...\n",
      "Initializing NUTS using adapt_diag...\n"
     ]
    },
    {
     "name": "stdout",
     "output_type": "stream",
     "text": [
      "running inference on dataset #7/200\n"
     ]
    },
    {
     "name": "stderr",
     "output_type": "stream",
     "text": [
      "Multiprocess sampling (2 chains in 2 jobs)\n",
      "NUTS: [epsilon, sigma_e, eta, sigma, mu, amp]\n",
      "Sampling 2 chains, 0 divergences: 100%|██████████| 5000/5000 [01:23<00:00, 59.56draws/s]\n",
      "The acceptance probability does not match the target. It is 0.8913167524837037, but should be close to 0.8. Try to increase the number of tuning steps.\n",
      "The acceptance probability does not match the target. It is 0.8884806136717449, but should be close to 0.8. Try to increase the number of tuning steps.\n",
      "The number of effective samples is smaller than 25% for some parameters.\n",
      "Auto-assigning NUTS sampler...\n",
      "Initializing NUTS using adapt_diag...\n"
     ]
    },
    {
     "name": "stdout",
     "output_type": "stream",
     "text": [
      "running inference on dataset #8/200\n"
     ]
    },
    {
     "name": "stderr",
     "output_type": "stream",
     "text": [
      "Multiprocess sampling (2 chains in 2 jobs)\n",
      "NUTS: [epsilon, sigma_e, eta, sigma, mu, amp]\n",
      "Sampling 2 chains, 2 divergences: 100%|██████████| 5000/5000 [00:17<00:00, 284.86draws/s]\n",
      "The acceptance probability does not match the target. It is 0.8960608203561294, but should be close to 0.8. Try to increase the number of tuning steps.\n",
      "There was 1 divergence after tuning. Increase `target_accept` or reparameterize.\n",
      "Auto-assigning NUTS sampler...\n",
      "Initializing NUTS using adapt_diag...\n"
     ]
    },
    {
     "name": "stdout",
     "output_type": "stream",
     "text": [
      "running inference on dataset #9/200\n"
     ]
    },
    {
     "name": "stderr",
     "output_type": "stream",
     "text": [
      "Multiprocess sampling (2 chains in 2 jobs)\n",
      "NUTS: [epsilon, sigma_e, eta, sigma, mu, amp]\n",
      "Sampling 2 chains, 4 divergences: 100%|██████████| 5000/5000 [00:14<00:00, 337.37draws/s]\n",
      "There were 3 divergences after tuning. Increase `target_accept` or reparameterize.\n",
      "The acceptance probability does not match the target. It is 0.8965807698651866, but should be close to 0.8. Try to increase the number of tuning steps.\n",
      "There was 1 divergence after tuning. Increase `target_accept` or reparameterize.\n",
      "Auto-assigning NUTS sampler...\n",
      "Initializing NUTS using adapt_diag...\n"
     ]
    },
    {
     "name": "stdout",
     "output_type": "stream",
     "text": [
      "running inference on dataset #10/200\n"
     ]
    },
    {
     "name": "stderr",
     "output_type": "stream",
     "text": [
      "Multiprocess sampling (2 chains in 2 jobs)\n",
      "NUTS: [epsilon, sigma_e, eta, sigma, mu, amp]\n",
      "Sampling 2 chains, 0 divergences: 100%|██████████| 5000/5000 [01:50<00:00, 45.18draws/s]\n",
      "The acceptance probability does not match the target. It is 0.8930377013740113, but should be close to 0.8. Try to increase the number of tuning steps.\n",
      "The acceptance probability does not match the target. It is 0.8928059884043364, but should be close to 0.8. Try to increase the number of tuning steps.\n",
      "The rhat statistic is larger than 1.4 for some parameters. The sampler did not converge.\n",
      "The estimated number of effective samples is smaller than 200 for some parameters.\n",
      "Auto-assigning NUTS sampler...\n",
      "Initializing NUTS using adapt_diag...\n"
     ]
    },
    {
     "name": "stdout",
     "output_type": "stream",
     "text": [
      "running inference on dataset #11/200\n"
     ]
    },
    {
     "name": "stderr",
     "output_type": "stream",
     "text": [
      "Multiprocess sampling (2 chains in 2 jobs)\n",
      "NUTS: [epsilon, sigma_e, eta, sigma, mu, amp]\n",
      "Sampling 2 chains, 0 divergences: 100%|██████████| 5000/5000 [00:16<00:00, 306.92draws/s]\n",
      "The acceptance probability does not match the target. It is 0.9233559901488017, but should be close to 0.8. Try to increase the number of tuning steps.\n",
      "The acceptance probability does not match the target. It is 0.9117777572426046, but should be close to 0.8. Try to increase the number of tuning steps.\n",
      "Auto-assigning NUTS sampler...\n",
      "Initializing NUTS using adapt_diag...\n"
     ]
    },
    {
     "name": "stdout",
     "output_type": "stream",
     "text": [
      "running inference on dataset #12/200\n"
     ]
    },
    {
     "name": "stderr",
     "output_type": "stream",
     "text": [
      "Multiprocess sampling (2 chains in 2 jobs)\n",
      "NUTS: [epsilon, sigma_e, eta, sigma, mu, amp]\n",
      "Sampling 2 chains, 0 divergences: 100%|██████████| 5000/5000 [00:14<00:00, 343.94draws/s]\n",
      "The acceptance probability does not match the target. It is 0.9060739581861622, but should be close to 0.8. Try to increase the number of tuning steps.\n",
      "The acceptance probability does not match the target. It is 0.9038844341173675, but should be close to 0.8. Try to increase the number of tuning steps.\n",
      "Auto-assigning NUTS sampler...\n",
      "Initializing NUTS using adapt_diag...\n"
     ]
    },
    {
     "name": "stdout",
     "output_type": "stream",
     "text": [
      "running inference on dataset #13/200\n"
     ]
    },
    {
     "name": "stderr",
     "output_type": "stream",
     "text": [
      "Multiprocess sampling (2 chains in 2 jobs)\n",
      "NUTS: [epsilon, sigma_e, eta, sigma, mu, amp]\n",
      "Sampling 2 chains, 2 divergences: 100%|██████████| 5000/5000 [00:13<00:00, 374.63draws/s]\n",
      "The acceptance probability does not match the target. It is 0.8813742006473019, but should be close to 0.8. Try to increase the number of tuning steps.\n",
      "There were 2 divergences after tuning. Increase `target_accept` or reparameterize.\n",
      "Auto-assigning NUTS sampler...\n",
      "Initializing NUTS using adapt_diag...\n"
     ]
    },
    {
     "name": "stdout",
     "output_type": "stream",
     "text": [
      "running inference on dataset #14/200\n"
     ]
    },
    {
     "name": "stderr",
     "output_type": "stream",
     "text": [
      "Multiprocess sampling (2 chains in 2 jobs)\n",
      "NUTS: [epsilon, sigma_e, eta, sigma, mu, amp]\n",
      "Sampling 2 chains, 0 divergences: 100%|██████████| 5000/5000 [00:47<00:00, 106.22draws/s]\n",
      "The acceptance probability does not match the target. It is 0.9265011844806079, but should be close to 0.8. Try to increase the number of tuning steps.\n",
      "The acceptance probability does not match the target. It is 0.9060654336151895, but should be close to 0.8. Try to increase the number of tuning steps.\n",
      "The rhat statistic is larger than 1.4 for some parameters. The sampler did not converge.\n",
      "The estimated number of effective samples is smaller than 200 for some parameters.\n",
      "Auto-assigning NUTS sampler...\n",
      "Initializing NUTS using adapt_diag...\n"
     ]
    },
    {
     "name": "stdout",
     "output_type": "stream",
     "text": [
      "running inference on dataset #15/200\n"
     ]
    },
    {
     "name": "stderr",
     "output_type": "stream",
     "text": [
      "Multiprocess sampling (2 chains in 2 jobs)\n",
      "NUTS: [epsilon, sigma_e, eta, sigma, mu, amp]\n",
      "Sampling 2 chains, 0 divergences: 100%|██████████| 5000/5000 [00:21<00:00, 237.36draws/s]\n",
      "The acceptance probability does not match the target. It is 0.8870737533156734, but should be close to 0.8. Try to increase the number of tuning steps.\n",
      "Auto-assigning NUTS sampler...\n",
      "Initializing NUTS using adapt_diag...\n"
     ]
    },
    {
     "name": "stdout",
     "output_type": "stream",
     "text": [
      "running inference on dataset #16/200\n"
     ]
    },
    {
     "name": "stderr",
     "output_type": "stream",
     "text": [
      "Multiprocess sampling (2 chains in 2 jobs)\n",
      "NUTS: [epsilon, sigma_e, eta, sigma, mu, amp]\n",
      "Sampling 2 chains, 1 divergences: 100%|██████████| 5000/5000 [00:16<00:00, 304.63draws/s]\n",
      "The acceptance probability does not match the target. It is 0.9140143591190993, but should be close to 0.8. Try to increase the number of tuning steps.\n",
      "There was 1 divergence after tuning. Increase `target_accept` or reparameterize.\n",
      "The acceptance probability does not match the target. It is 0.8945977339926243, but should be close to 0.8. Try to increase the number of tuning steps.\n",
      "Auto-assigning NUTS sampler...\n",
      "Initializing NUTS using adapt_diag...\n"
     ]
    },
    {
     "name": "stdout",
     "output_type": "stream",
     "text": [
      "running inference on dataset #17/200\n"
     ]
    },
    {
     "name": "stderr",
     "output_type": "stream",
     "text": [
      "Multiprocess sampling (2 chains in 2 jobs)\n",
      "NUTS: [epsilon, sigma_e, eta, sigma, mu, amp]\n",
      "Sampling 2 chains, 0 divergences: 100%|██████████| 5000/5000 [00:23<00:00, 214.37draws/s]\n",
      "Auto-assigning NUTS sampler...\n",
      "Initializing NUTS using adapt_diag...\n"
     ]
    },
    {
     "name": "stdout",
     "output_type": "stream",
     "text": [
      "running inference on dataset #18/200\n"
     ]
    },
    {
     "name": "stderr",
     "output_type": "stream",
     "text": [
      "Multiprocess sampling (2 chains in 2 jobs)\n",
      "NUTS: [epsilon, sigma_e, eta, sigma, mu, amp]\n",
      "Sampling 2 chains, 1 divergences: 100%|██████████| 5000/5000 [00:16<00:00, 300.73draws/s]\n",
      "There was 1 divergence after tuning. Increase `target_accept` or reparameterize.\n",
      "The acceptance probability does not match the target. It is 0.8849287281073452, but should be close to 0.8. Try to increase the number of tuning steps.\n",
      "Auto-assigning NUTS sampler...\n",
      "Initializing NUTS using adapt_diag...\n"
     ]
    },
    {
     "name": "stdout",
     "output_type": "stream",
     "text": [
      "running inference on dataset #19/200\n"
     ]
    },
    {
     "name": "stderr",
     "output_type": "stream",
     "text": [
      "Multiprocess sampling (2 chains in 2 jobs)\n",
      "NUTS: [epsilon, sigma_e, eta, sigma, mu, amp]\n",
      "Sampling 2 chains, 0 divergences: 100%|██████████| 5000/5000 [01:15<00:00, 66.28draws/s]\n",
      "The acceptance probability does not match the target. It is 0.9285317836990815, but should be close to 0.8. Try to increase the number of tuning steps.\n",
      "The acceptance probability does not match the target. It is 0.927575602773247, but should be close to 0.8. Try to increase the number of tuning steps.\n",
      "The number of effective samples is smaller than 25% for some parameters.\n",
      "Auto-assigning NUTS sampler...\n",
      "Initializing NUTS using adapt_diag...\n"
     ]
    },
    {
     "name": "stdout",
     "output_type": "stream",
     "text": [
      "running inference on dataset #20/200\n"
     ]
    },
    {
     "name": "stderr",
     "output_type": "stream",
     "text": [
      "Multiprocess sampling (2 chains in 2 jobs)\n",
      "NUTS: [epsilon, sigma_e, eta, sigma, mu, amp]\n",
      "Sampling 2 chains, 0 divergences: 100%|██████████| 5000/5000 [00:12<00:00, 391.52draws/s]\n",
      "The acceptance probability does not match the target. It is 0.8787478223249059, but should be close to 0.8. Try to increase the number of tuning steps.\n",
      "The acceptance probability does not match the target. It is 0.8972567957775076, but should be close to 0.8. Try to increase the number of tuning steps.\n",
      "Auto-assigning NUTS sampler...\n",
      "Initializing NUTS using adapt_diag...\n"
     ]
    },
    {
     "name": "stdout",
     "output_type": "stream",
     "text": [
      "running inference on dataset #21/200\n"
     ]
    },
    {
     "name": "stderr",
     "output_type": "stream",
     "text": [
      "Multiprocess sampling (2 chains in 2 jobs)\n",
      "NUTS: [epsilon, sigma_e, eta, sigma, mu, amp]\n",
      "Sampling 2 chains, 3 divergences: 100%|██████████| 5000/5000 [00:17<00:00, 289.47draws/s]\n",
      "There were 2 divergences after tuning. Increase `target_accept` or reparameterize.\n",
      "The acceptance probability does not match the target. It is 0.8995848177610699, but should be close to 0.8. Try to increase the number of tuning steps.\n",
      "There was 1 divergence after tuning. Increase `target_accept` or reparameterize.\n",
      "Auto-assigning NUTS sampler...\n",
      "Initializing NUTS using adapt_diag...\n"
     ]
    },
    {
     "name": "stdout",
     "output_type": "stream",
     "text": [
      "running inference on dataset #22/200\n"
     ]
    },
    {
     "name": "stderr",
     "output_type": "stream",
     "text": [
      "Multiprocess sampling (2 chains in 2 jobs)\n",
      "NUTS: [epsilon, sigma_e, eta, sigma, mu, amp]\n",
      "Sampling 2 chains, 4 divergences: 100%|██████████| 5000/5000 [00:15<00:00, 329.95draws/s]\n",
      "There were 2 divergences after tuning. Increase `target_accept` or reparameterize.\n",
      "The acceptance probability does not match the target. It is 0.8786684552636375, but should be close to 0.8. Try to increase the number of tuning steps.\n",
      "There were 2 divergences after tuning. Increase `target_accept` or reparameterize.\n",
      "The acceptance probability does not match the target. It is 0.8785973953933308, but should be close to 0.8. Try to increase the number of tuning steps.\n",
      "Auto-assigning NUTS sampler...\n",
      "Initializing NUTS using adapt_diag...\n"
     ]
    },
    {
     "name": "stdout",
     "output_type": "stream",
     "text": [
      "running inference on dataset #23/200\n"
     ]
    },
    {
     "name": "stderr",
     "output_type": "stream",
     "text": [
      "Multiprocess sampling (2 chains in 2 jobs)\n",
      "NUTS: [epsilon, sigma_e, eta, sigma, mu, amp]\n",
      "Sampling 2 chains, 1 divergences: 100%|██████████| 5000/5000 [00:15<00:00, 325.68draws/s]\n",
      "There was 1 divergence after tuning. Increase `target_accept` or reparameterize.\n",
      "The acceptance probability does not match the target. It is 0.9107461579201342, but should be close to 0.8. Try to increase the number of tuning steps.\n",
      "Auto-assigning NUTS sampler...\n",
      "Initializing NUTS using adapt_diag...\n"
     ]
    },
    {
     "name": "stdout",
     "output_type": "stream",
     "text": [
      "running inference on dataset #24/200\n"
     ]
    },
    {
     "name": "stderr",
     "output_type": "stream",
     "text": [
      "Multiprocess sampling (2 chains in 2 jobs)\n",
      "NUTS: [epsilon, sigma_e, eta, sigma, mu, amp]\n",
      "Sampling 2 chains, 0 divergences: 100%|██████████| 5000/5000 [00:40<00:00, 124.37draws/s]\n",
      "The acceptance probability does not match the target. It is 0.9080141972417635, but should be close to 0.8. Try to increase the number of tuning steps.\n",
      "The acceptance probability does not match the target. It is 0.9197605777546187, but should be close to 0.8. Try to increase the number of tuning steps.\n",
      "The rhat statistic is larger than 1.4 for some parameters. The sampler did not converge.\n",
      "The estimated number of effective samples is smaller than 200 for some parameters.\n",
      "Auto-assigning NUTS sampler...\n",
      "Initializing NUTS using adapt_diag...\n"
     ]
    },
    {
     "name": "stdout",
     "output_type": "stream",
     "text": [
      "running inference on dataset #25/200\n"
     ]
    },
    {
     "name": "stderr",
     "output_type": "stream",
     "text": [
      "Multiprocess sampling (2 chains in 2 jobs)\n",
      "NUTS: [epsilon, sigma_e, eta, sigma, mu, amp]\n",
      "Sampling 2 chains, 0 divergences: 100%|██████████| 5000/5000 [00:18<00:00, 264.09draws/s]\n",
      "The acceptance probability does not match the target. It is 0.890722882965776, but should be close to 0.8. Try to increase the number of tuning steps.\n",
      "The acceptance probability does not match the target. It is 0.9287308109272961, but should be close to 0.8. Try to increase the number of tuning steps.\n",
      "Auto-assigning NUTS sampler...\n",
      "Initializing NUTS using adapt_diag...\n"
     ]
    },
    {
     "name": "stdout",
     "output_type": "stream",
     "text": [
      "running inference on dataset #26/200\n"
     ]
    },
    {
     "name": "stderr",
     "output_type": "stream",
     "text": [
      "Multiprocess sampling (2 chains in 2 jobs)\n",
      "NUTS: [epsilon, sigma_e, eta, sigma, mu, amp]\n",
      "Sampling 2 chains, 1,784 divergences: 100%|██████████| 5000/5000 [09:30<00:00,  8.77draws/s] \n",
      "There were 566 divergences after tuning. Increase `target_accept` or reparameterize.\n",
      "The chain reached the maximum tree depth. Increase max_treedepth, increase target_accept or reparameterize.\n",
      "There were 1217 divergences after tuning. Increase `target_accept` or reparameterize.\n",
      "The acceptance probability does not match the target. It is 0.11997187979375351, but should be close to 0.8. Try to increase the number of tuning steps.\n",
      "The rhat statistic is larger than 1.4 for some parameters. The sampler did not converge.\n",
      "The estimated number of effective samples is smaller than 200 for some parameters.\n",
      "Auto-assigning NUTS sampler...\n",
      "Initializing NUTS using adapt_diag...\n"
     ]
    },
    {
     "name": "stdout",
     "output_type": "stream",
     "text": [
      "running inference on dataset #27/200\n"
     ]
    },
    {
     "name": "stderr",
     "output_type": "stream",
     "text": [
      "Multiprocess sampling (2 chains in 2 jobs)\n",
      "NUTS: [epsilon, sigma_e, eta, sigma, mu, amp]\n",
      "Sampling 2 chains, 0 divergences: 100%|██████████| 5000/5000 [00:16<00:00, 299.16draws/s]\n",
      "The acceptance probability does not match the target. It is 0.8843985783988856, but should be close to 0.8. Try to increase the number of tuning steps.\n",
      "Auto-assigning NUTS sampler...\n",
      "Initializing NUTS using adapt_diag...\n"
     ]
    },
    {
     "name": "stdout",
     "output_type": "stream",
     "text": [
      "running inference on dataset #28/200\n"
     ]
    },
    {
     "name": "stderr",
     "output_type": "stream",
     "text": [
      "Multiprocess sampling (2 chains in 2 jobs)\n",
      "NUTS: [epsilon, sigma_e, eta, sigma, mu, amp]\n",
      "Sampling 2 chains, 0 divergences: 100%|██████████| 5000/5000 [00:16<00:00, 303.75draws/s]\n",
      "The acceptance probability does not match the target. It is 0.9035077845889158, but should be close to 0.8. Try to increase the number of tuning steps.\n",
      "The acceptance probability does not match the target. It is 0.9237411474848133, but should be close to 0.8. Try to increase the number of tuning steps.\n",
      "Auto-assigning NUTS sampler...\n",
      "Initializing NUTS using adapt_diag...\n"
     ]
    },
    {
     "name": "stdout",
     "output_type": "stream",
     "text": [
      "running inference on dataset #29/200\n"
     ]
    },
    {
     "name": "stderr",
     "output_type": "stream",
     "text": [
      "Multiprocess sampling (2 chains in 2 jobs)\n",
      "NUTS: [epsilon, sigma_e, eta, sigma, mu, amp]\n",
      "Sampling 2 chains, 0 divergences: 100%|██████████| 5000/5000 [00:17<00:00, 292.66draws/s]\n",
      "Auto-assigning NUTS sampler...\n",
      "Initializing NUTS using adapt_diag...\n"
     ]
    },
    {
     "name": "stdout",
     "output_type": "stream",
     "text": [
      "running inference on dataset #30/200\n"
     ]
    },
    {
     "name": "stderr",
     "output_type": "stream",
     "text": [
      "Multiprocess sampling (2 chains in 2 jobs)\n",
      "NUTS: [epsilon, sigma_e, eta, sigma, mu, amp]\n",
      "Sampling 2 chains, 0 divergences: 100%|██████████| 5000/5000 [00:18<00:00, 276.37draws/s]\n",
      "The acceptance probability does not match the target. It is 0.9128568880512388, but should be close to 0.8. Try to increase the number of tuning steps.\n",
      "The acceptance probability does not match the target. It is 0.9048127651251956, but should be close to 0.8. Try to increase the number of tuning steps.\n",
      "Auto-assigning NUTS sampler...\n",
      "Initializing NUTS using adapt_diag...\n"
     ]
    },
    {
     "name": "stdout",
     "output_type": "stream",
     "text": [
      "running inference on dataset #31/200\n"
     ]
    },
    {
     "name": "stderr",
     "output_type": "stream",
     "text": [
      "Multiprocess sampling (2 chains in 2 jobs)\n",
      "NUTS: [epsilon, sigma_e, eta, sigma, mu, amp]\n",
      "Sampling 2 chains, 0 divergences: 100%|██████████| 5000/5000 [00:18<00:00, 272.87draws/s]\n",
      "The acceptance probability does not match the target. It is 0.8890593303955625, but should be close to 0.8. Try to increase the number of tuning steps.\n",
      "The acceptance probability does not match the target. It is 0.9470154214970424, but should be close to 0.8. Try to increase the number of tuning steps.\n",
      "Auto-assigning NUTS sampler...\n",
      "Initializing NUTS using adapt_diag...\n"
     ]
    },
    {
     "name": "stdout",
     "output_type": "stream",
     "text": [
      "running inference on dataset #32/200\n"
     ]
    },
    {
     "name": "stderr",
     "output_type": "stream",
     "text": [
      "Multiprocess sampling (2 chains in 2 jobs)\n",
      "NUTS: [epsilon, sigma_e, eta, sigma, mu, amp]\n",
      "Sampling 2 chains, 1 divergences: 100%|██████████| 5000/5000 [00:13<00:00, 377.43draws/s]\n",
      "There was 1 divergence after tuning. Increase `target_accept` or reparameterize.\n",
      "Auto-assigning NUTS sampler...\n",
      "Initializing NUTS using adapt_diag...\n"
     ]
    },
    {
     "name": "stdout",
     "output_type": "stream",
     "text": [
      "running inference on dataset #33/200\n"
     ]
    },
    {
     "name": "stderr",
     "output_type": "stream",
     "text": [
      "Multiprocess sampling (2 chains in 2 jobs)\n",
      "NUTS: [epsilon, sigma_e, eta, sigma, mu, amp]\n",
      "Sampling 2 chains, 0 divergences: 100%|██████████| 5000/5000 [00:43<00:00, 115.24draws/s]\n",
      "The acceptance probability does not match the target. It is 0.8900100539663346, but should be close to 0.8. Try to increase the number of tuning steps.\n",
      "The acceptance probability does not match the target. It is 0.9112354659728913, but should be close to 0.8. Try to increase the number of tuning steps.\n",
      "Auto-assigning NUTS sampler...\n",
      "Initializing NUTS using adapt_diag...\n"
     ]
    },
    {
     "name": "stdout",
     "output_type": "stream",
     "text": [
      "running inference on dataset #34/200\n"
     ]
    },
    {
     "name": "stderr",
     "output_type": "stream",
     "text": [
      "Multiprocess sampling (2 chains in 2 jobs)\n",
      "NUTS: [epsilon, sigma_e, eta, sigma, mu, amp]\n",
      "Sampling 2 chains, 0 divergences: 100%|██████████| 5000/5000 [01:08<00:00, 72.91draws/s] \n",
      "The acceptance probability does not match the target. It is 0.926316899984219, but should be close to 0.8. Try to increase the number of tuning steps.\n",
      "The acceptance probability does not match the target. It is 0.9269773349490611, but should be close to 0.8. Try to increase the number of tuning steps.\n",
      "Auto-assigning NUTS sampler...\n",
      "Initializing NUTS using adapt_diag...\n"
     ]
    },
    {
     "name": "stdout",
     "output_type": "stream",
     "text": [
      "running inference on dataset #35/200\n"
     ]
    },
    {
     "name": "stderr",
     "output_type": "stream",
     "text": [
      "Multiprocess sampling (2 chains in 2 jobs)\n",
      "NUTS: [epsilon, sigma_e, eta, sigma, mu, amp]\n",
      "Sampling 2 chains, 0 divergences: 100%|██████████| 5000/5000 [00:15<00:00, 329.35draws/s]\n",
      "The acceptance probability does not match the target. It is 0.8881443587735237, but should be close to 0.8. Try to increase the number of tuning steps.\n",
      "The acceptance probability does not match the target. It is 0.8948151291634379, but should be close to 0.8. Try to increase the number of tuning steps.\n",
      "Auto-assigning NUTS sampler...\n",
      "Initializing NUTS using adapt_diag...\n"
     ]
    },
    {
     "name": "stdout",
     "output_type": "stream",
     "text": [
      "running inference on dataset #36/200\n"
     ]
    },
    {
     "name": "stderr",
     "output_type": "stream",
     "text": [
      "Multiprocess sampling (2 chains in 2 jobs)\n",
      "NUTS: [epsilon, sigma_e, eta, sigma, mu, amp]\n",
      "Sampling 2 chains, 1 divergences: 100%|██████████| 5000/5000 [00:16<00:00, 304.61draws/s]\n",
      "There was 1 divergence after tuning. Increase `target_accept` or reparameterize.\n",
      "The acceptance probability does not match the target. It is 0.9282922376050096, but should be close to 0.8. Try to increase the number of tuning steps.\n",
      "The acceptance probability does not match the target. It is 0.9218861250085649, but should be close to 0.8. Try to increase the number of tuning steps.\n",
      "Auto-assigning NUTS sampler...\n",
      "Initializing NUTS using adapt_diag...\n"
     ]
    },
    {
     "name": "stdout",
     "output_type": "stream",
     "text": [
      "running inference on dataset #37/200\n"
     ]
    },
    {
     "name": "stderr",
     "output_type": "stream",
     "text": [
      "Multiprocess sampling (2 chains in 2 jobs)\n",
      "NUTS: [epsilon, sigma_e, eta, sigma, mu, amp]\n",
      "Sampling 2 chains, 1 divergences: 100%|██████████| 5000/5000 [00:14<00:00, 334.14draws/s]\n",
      "The acceptance probability does not match the target. It is 0.8937366942376194, but should be close to 0.8. Try to increase the number of tuning steps.\n",
      "There was 1 divergence after tuning. Increase `target_accept` or reparameterize.\n",
      "Auto-assigning NUTS sampler...\n",
      "Initializing NUTS using adapt_diag...\n"
     ]
    },
    {
     "name": "stdout",
     "output_type": "stream",
     "text": [
      "running inference on dataset #38/200\n"
     ]
    },
    {
     "name": "stderr",
     "output_type": "stream",
     "text": [
      "Multiprocess sampling (2 chains in 2 jobs)\n",
      "NUTS: [epsilon, sigma_e, eta, sigma, mu, amp]\n",
      "Sampling 2 chains, 5 divergences: 100%|██████████| 5000/5000 [00:19<00:00, 255.17draws/s]\n",
      "There were 4 divergences after tuning. Increase `target_accept` or reparameterize.\n",
      "The acceptance probability does not match the target. It is 0.8849056008437812, but should be close to 0.8. Try to increase the number of tuning steps.\n",
      "There was 1 divergence after tuning. Increase `target_accept` or reparameterize.\n",
      "The acceptance probability does not match the target. It is 0.8899479963190396, but should be close to 0.8. Try to increase the number of tuning steps.\n",
      "Auto-assigning NUTS sampler...\n",
      "Initializing NUTS using adapt_diag...\n"
     ]
    },
    {
     "name": "stdout",
     "output_type": "stream",
     "text": [
      "running inference on dataset #39/200\n"
     ]
    },
    {
     "name": "stderr",
     "output_type": "stream",
     "text": [
      "Multiprocess sampling (2 chains in 2 jobs)\n",
      "NUTS: [epsilon, sigma_e, eta, sigma, mu, amp]\n",
      "Sampling 2 chains, 1 divergences: 100%|██████████| 5000/5000 [00:14<00:00, 349.96draws/s]\n",
      "The acceptance probability does not match the target. It is 0.885879572104709, but should be close to 0.8. Try to increase the number of tuning steps.\n",
      "There was 1 divergence after tuning. Increase `target_accept` or reparameterize.\n",
      "The acceptance probability does not match the target. It is 0.8947830507344408, but should be close to 0.8. Try to increase the number of tuning steps.\n",
      "Auto-assigning NUTS sampler...\n",
      "Initializing NUTS using adapt_diag...\n"
     ]
    },
    {
     "name": "stdout",
     "output_type": "stream",
     "text": [
      "running inference on dataset #40/200\n"
     ]
    },
    {
     "name": "stderr",
     "output_type": "stream",
     "text": [
      "Multiprocess sampling (2 chains in 2 jobs)\n",
      "NUTS: [epsilon, sigma_e, eta, sigma, mu, amp]\n",
      "Sampling 2 chains, 0 divergences: 100%|██████████| 5000/5000 [00:15<00:00, 332.29draws/s]\n",
      "The acceptance probability does not match the target. It is 0.8976786444039528, but should be close to 0.8. Try to increase the number of tuning steps.\n",
      "Auto-assigning NUTS sampler...\n",
      "Initializing NUTS using adapt_diag...\n"
     ]
    },
    {
     "name": "stdout",
     "output_type": "stream",
     "text": [
      "running inference on dataset #41/200\n"
     ]
    },
    {
     "name": "stderr",
     "output_type": "stream",
     "text": [
      "Multiprocess sampling (2 chains in 2 jobs)\n",
      "NUTS: [epsilon, sigma_e, eta, sigma, mu, amp]\n",
      "Sampling 2 chains, 0 divergences: 100%|██████████| 5000/5000 [00:14<00:00, 352.40draws/s]\n",
      "The acceptance probability does not match the target. It is 0.9218316352419864, but should be close to 0.8. Try to increase the number of tuning steps.\n",
      "The acceptance probability does not match the target. It is 0.8880658279944743, but should be close to 0.8. Try to increase the number of tuning steps.\n",
      "Auto-assigning NUTS sampler...\n",
      "Initializing NUTS using adapt_diag...\n"
     ]
    },
    {
     "name": "stdout",
     "output_type": "stream",
     "text": [
      "running inference on dataset #42/200\n"
     ]
    },
    {
     "name": "stderr",
     "output_type": "stream",
     "text": [
      "Multiprocess sampling (2 chains in 2 jobs)\n",
      "NUTS: [epsilon, sigma_e, eta, sigma, mu, amp]\n",
      "Sampling 2 chains, 9 divergences: 100%|██████████| 5000/5000 [00:16<00:00, 303.09draws/s]\n",
      "There were 2 divergences after tuning. Increase `target_accept` or reparameterize.\n",
      "The acceptance probability does not match the target. It is 0.8842789975695984, but should be close to 0.8. Try to increase the number of tuning steps.\n",
      "There were 7 divergences after tuning. Increase `target_accept` or reparameterize.\n",
      "Auto-assigning NUTS sampler...\n",
      "Initializing NUTS using adapt_diag...\n"
     ]
    },
    {
     "name": "stdout",
     "output_type": "stream",
     "text": [
      "running inference on dataset #43/200\n"
     ]
    },
    {
     "name": "stderr",
     "output_type": "stream",
     "text": [
      "Multiprocess sampling (2 chains in 2 jobs)\n",
      "NUTS: [epsilon, sigma_e, eta, sigma, mu, amp]\n",
      "Sampling 2 chains, 4 divergences: 100%|██████████| 5000/5000 [00:13<00:00, 383.32draws/s]\n",
      "There were 3 divergences after tuning. Increase `target_accept` or reparameterize.\n",
      "There was 1 divergence after tuning. Increase `target_accept` or reparameterize.\n",
      "The acceptance probability does not match the target. It is 0.9055885141393415, but should be close to 0.8. Try to increase the number of tuning steps.\n",
      "Auto-assigning NUTS sampler...\n",
      "Initializing NUTS using adapt_diag...\n"
     ]
    },
    {
     "name": "stdout",
     "output_type": "stream",
     "text": [
      "running inference on dataset #44/200\n"
     ]
    },
    {
     "name": "stderr",
     "output_type": "stream",
     "text": [
      "Multiprocess sampling (2 chains in 2 jobs)\n",
      "NUTS: [epsilon, sigma_e, eta, sigma, mu, amp]\n",
      "Sampling 2 chains, 3 divergences: 100%|██████████| 5000/5000 [00:15<00:00, 314.18draws/s]\n",
      "The acceptance probability does not match the target. It is 0.8968108528045439, but should be close to 0.8. Try to increase the number of tuning steps.\n",
      "There were 3 divergences after tuning. Increase `target_accept` or reparameterize.\n",
      "Auto-assigning NUTS sampler...\n",
      "Initializing NUTS using adapt_diag...\n"
     ]
    },
    {
     "name": "stdout",
     "output_type": "stream",
     "text": [
      "running inference on dataset #45/200\n"
     ]
    },
    {
     "name": "stderr",
     "output_type": "stream",
     "text": [
      "Multiprocess sampling (2 chains in 2 jobs)\n",
      "NUTS: [epsilon, sigma_e, eta, sigma, mu, amp]\n",
      "Sampling 2 chains, 0 divergences: 100%|██████████| 5000/5000 [01:03<00:00, 78.90draws/s] \n",
      "The acceptance probability does not match the target. It is 0.8961487123309684, but should be close to 0.8. Try to increase the number of tuning steps.\n",
      "The number of effective samples is smaller than 25% for some parameters.\n",
      "Auto-assigning NUTS sampler...\n",
      "Initializing NUTS using adapt_diag...\n"
     ]
    },
    {
     "name": "stdout",
     "output_type": "stream",
     "text": [
      "running inference on dataset #46/200\n"
     ]
    },
    {
     "name": "stderr",
     "output_type": "stream",
     "text": [
      "Multiprocess sampling (2 chains in 2 jobs)\n",
      "NUTS: [epsilon, sigma_e, eta, sigma, mu, amp]\n",
      "Sampling 2 chains, 4 divergences: 100%|██████████| 5000/5000 [00:14<00:00, 339.65draws/s]\n",
      "There were 4 divergences after tuning. Increase `target_accept` or reparameterize.\n",
      "The acceptance probability does not match the target. It is 0.8900836079240778, but should be close to 0.8. Try to increase the number of tuning steps.\n",
      "The acceptance probability does not match the target. It is 0.9212192411170469, but should be close to 0.8. Try to increase the number of tuning steps.\n",
      "Auto-assigning NUTS sampler...\n",
      "Initializing NUTS using adapt_diag...\n"
     ]
    },
    {
     "name": "stdout",
     "output_type": "stream",
     "text": [
      "running inference on dataset #47/200\n"
     ]
    },
    {
     "name": "stderr",
     "output_type": "stream",
     "text": [
      "Multiprocess sampling (2 chains in 2 jobs)\n",
      "NUTS: [epsilon, sigma_e, eta, sigma, mu, amp]\n",
      "Sampling 2 chains, 7 divergences: 100%|██████████| 5000/5000 [00:13<00:00, 362.15draws/s]\n",
      "There were 7 divergences after tuning. Increase `target_accept` or reparameterize.\n",
      "Auto-assigning NUTS sampler...\n",
      "Initializing NUTS using adapt_diag...\n"
     ]
    },
    {
     "name": "stdout",
     "output_type": "stream",
     "text": [
      "running inference on dataset #48/200\n"
     ]
    },
    {
     "name": "stderr",
     "output_type": "stream",
     "text": [
      "Multiprocess sampling (2 chains in 2 jobs)\n",
      "NUTS: [epsilon, sigma_e, eta, sigma, mu, amp]\n",
      "Sampling 2 chains, 1 divergences: 100%|██████████| 5000/5000 [00:16<00:00, 296.37draws/s]\n",
      "The acceptance probability does not match the target. It is 0.8801128309874077, but should be close to 0.8. Try to increase the number of tuning steps.\n",
      "The acceptance probability does not match the target. It is 0.9250583262768373, but should be close to 0.8. Try to increase the number of tuning steps.\n",
      "Auto-assigning NUTS sampler...\n",
      "Initializing NUTS using adapt_diag...\n"
     ]
    },
    {
     "name": "stdout",
     "output_type": "stream",
     "text": [
      "running inference on dataset #49/200\n"
     ]
    },
    {
     "name": "stderr",
     "output_type": "stream",
     "text": [
      "Multiprocess sampling (2 chains in 2 jobs)\n",
      "NUTS: [epsilon, sigma_e, eta, sigma, mu, amp]\n",
      "Sampling 2 chains, 6 divergences: 100%|██████████| 5000/5000 [00:15<00:00, 330.55draws/s]\n",
      "The acceptance probability does not match the target. It is 0.9048640911400689, but should be close to 0.8. Try to increase the number of tuning steps.\n",
      "There were 6 divergences after tuning. Increase `target_accept` or reparameterize.\n",
      "Auto-assigning NUTS sampler...\n",
      "Initializing NUTS using adapt_diag...\n"
     ]
    },
    {
     "name": "stdout",
     "output_type": "stream",
     "text": [
      "running inference on dataset #50/200\n"
     ]
    },
    {
     "name": "stderr",
     "output_type": "stream",
     "text": [
      "Multiprocess sampling (2 chains in 2 jobs)\n",
      "NUTS: [epsilon, sigma_e, eta, sigma, mu, amp]\n",
      "Sampling 2 chains, 4 divergences: 100%|██████████| 5000/5000 [00:16<00:00, 307.38draws/s]\n",
      "The acceptance probability does not match the target. It is 0.9269874908356572, but should be close to 0.8. Try to increase the number of tuning steps.\n",
      "There were 4 divergences after tuning. Increase `target_accept` or reparameterize.\n",
      "The acceptance probability does not match the target. It is 0.8789835802280822, but should be close to 0.8. Try to increase the number of tuning steps.\n",
      "Auto-assigning NUTS sampler...\n",
      "Initializing NUTS using adapt_diag...\n"
     ]
    },
    {
     "name": "stdout",
     "output_type": "stream",
     "text": [
      "running inference on dataset #51/200\n"
     ]
    },
    {
     "name": "stderr",
     "output_type": "stream",
     "text": [
      "Multiprocess sampling (2 chains in 2 jobs)\n",
      "NUTS: [epsilon, sigma_e, eta, sigma, mu, amp]\n",
      "Sampling 2 chains, 0 divergences: 100%|██████████| 5000/5000 [00:18<00:00, 275.59draws/s]\n",
      "The acceptance probability does not match the target. It is 0.9083029395811129, but should be close to 0.8. Try to increase the number of tuning steps.\n",
      "The acceptance probability does not match the target. It is 0.9314872095906629, but should be close to 0.8. Try to increase the number of tuning steps.\n",
      "Auto-assigning NUTS sampler...\n",
      "Initializing NUTS using adapt_diag...\n"
     ]
    },
    {
     "name": "stdout",
     "output_type": "stream",
     "text": [
      "running inference on dataset #52/200\n"
     ]
    },
    {
     "name": "stderr",
     "output_type": "stream",
     "text": [
      "Multiprocess sampling (2 chains in 2 jobs)\n",
      "NUTS: [epsilon, sigma_e, eta, sigma, mu, amp]\n",
      "Sampling 2 chains, 0 divergences: 100%|██████████| 5000/5000 [00:35<00:00, 141.99draws/s]\n",
      "Auto-assigning NUTS sampler...\n",
      "Initializing NUTS using adapt_diag...\n"
     ]
    },
    {
     "name": "stdout",
     "output_type": "stream",
     "text": [
      "running inference on dataset #53/200\n"
     ]
    },
    {
     "name": "stderr",
     "output_type": "stream",
     "text": [
      "Multiprocess sampling (2 chains in 2 jobs)\n",
      "NUTS: [epsilon, sigma_e, eta, sigma, mu, amp]\n",
      "Sampling 2 chains, 2 divergences: 100%|██████████| 5000/5000 [00:11<00:00, 427.23draws/s]\n",
      "The acceptance probability does not match the target. It is 0.8837320469671186, but should be close to 0.8. Try to increase the number of tuning steps.\n",
      "There were 2 divergences after tuning. Increase `target_accept` or reparameterize.\n",
      "Auto-assigning NUTS sampler...\n",
      "Initializing NUTS using adapt_diag...\n"
     ]
    },
    {
     "name": "stdout",
     "output_type": "stream",
     "text": [
      "running inference on dataset #54/200\n"
     ]
    },
    {
     "name": "stderr",
     "output_type": "stream",
     "text": [
      "Multiprocess sampling (2 chains in 2 jobs)\n",
      "NUTS: [epsilon, sigma_e, eta, sigma, mu, amp]\n",
      "Sampling 2 chains, 0 divergences: 100%|██████████| 5000/5000 [00:16<00:00, 307.36draws/s]\n",
      "The acceptance probability does not match the target. It is 0.8817467609684407, but should be close to 0.8. Try to increase the number of tuning steps.\n",
      "Auto-assigning NUTS sampler...\n",
      "Initializing NUTS using adapt_diag...\n"
     ]
    },
    {
     "name": "stdout",
     "output_type": "stream",
     "text": [
      "running inference on dataset #55/200\n"
     ]
    },
    {
     "name": "stderr",
     "output_type": "stream",
     "text": [
      "Multiprocess sampling (2 chains in 2 jobs)\n",
      "NUTS: [epsilon, sigma_e, eta, sigma, mu, amp]\n",
      "Sampling 2 chains, 5 divergences: 100%|██████████| 5000/5000 [00:13<00:00, 365.35draws/s]\n",
      "There were 2 divergences after tuning. Increase `target_accept` or reparameterize.\n",
      "There were 3 divergences after tuning. Increase `target_accept` or reparameterize.\n",
      "Auto-assigning NUTS sampler...\n",
      "Initializing NUTS using adapt_diag...\n"
     ]
    },
    {
     "name": "stdout",
     "output_type": "stream",
     "text": [
      "running inference on dataset #56/200\n"
     ]
    },
    {
     "name": "stderr",
     "output_type": "stream",
     "text": [
      "Multiprocess sampling (2 chains in 2 jobs)\n",
      "NUTS: [epsilon, sigma_e, eta, sigma, mu, amp]\n",
      "Sampling 2 chains, 2 divergences: 100%|██████████| 5000/5000 [00:18<00:00, 265.74draws/s]\n",
      "The acceptance probability does not match the target. It is 0.9199853772652338, but should be close to 0.8. Try to increase the number of tuning steps.\n",
      "There were 2 divergences after tuning. Increase `target_accept` or reparameterize.\n",
      "Auto-assigning NUTS sampler...\n",
      "Initializing NUTS using adapt_diag...\n"
     ]
    },
    {
     "name": "stdout",
     "output_type": "stream",
     "text": [
      "running inference on dataset #57/200\n"
     ]
    },
    {
     "name": "stderr",
     "output_type": "stream",
     "text": [
      "Multiprocess sampling (2 chains in 2 jobs)\n",
      "NUTS: [epsilon, sigma_e, eta, sigma, mu, amp]\n",
      "Sampling 2 chains, 3 divergences: 100%|██████████| 5000/5000 [00:11<00:00, 423.86draws/s]\n",
      "There was 1 divergence after tuning. Increase `target_accept` or reparameterize.\n",
      "The acceptance probability does not match the target. It is 0.8878282662971598, but should be close to 0.8. Try to increase the number of tuning steps.\n",
      "There were 2 divergences after tuning. Increase `target_accept` or reparameterize.\n",
      "Auto-assigning NUTS sampler...\n",
      "Initializing NUTS using adapt_diag...\n"
     ]
    },
    {
     "name": "stdout",
     "output_type": "stream",
     "text": [
      "running inference on dataset #58/200\n"
     ]
    },
    {
     "name": "stderr",
     "output_type": "stream",
     "text": [
      "Multiprocess sampling (2 chains in 2 jobs)\n",
      "NUTS: [epsilon, sigma_e, eta, sigma, mu, amp]\n",
      "Sampling 2 chains, 0 divergences: 100%|██████████| 5000/5000 [07:15<00:00, 11.49draws/s]\n",
      "The number of effective samples is smaller than 25% for some parameters.\n",
      "Auto-assigning NUTS sampler...\n",
      "Initializing NUTS using adapt_diag...\n"
     ]
    },
    {
     "name": "stdout",
     "output_type": "stream",
     "text": [
      "running inference on dataset #59/200\n"
     ]
    },
    {
     "name": "stderr",
     "output_type": "stream",
     "text": [
      "Multiprocess sampling (2 chains in 2 jobs)\n",
      "NUTS: [epsilon, sigma_e, eta, sigma, mu, amp]\n",
      "Sampling 2 chains, 0 divergences: 100%|██████████| 5000/5000 [00:16<00:00, 299.58draws/s]\n",
      "The acceptance probability does not match the target. It is 0.8815968605102051, but should be close to 0.8. Try to increase the number of tuning steps.\n",
      "Auto-assigning NUTS sampler...\n",
      "Initializing NUTS using adapt_diag...\n"
     ]
    },
    {
     "name": "stdout",
     "output_type": "stream",
     "text": [
      "running inference on dataset #60/200\n"
     ]
    },
    {
     "name": "stderr",
     "output_type": "stream",
     "text": [
      "Multiprocess sampling (2 chains in 2 jobs)\n",
      "NUTS: [epsilon, sigma_e, eta, sigma, mu, amp]\n",
      "Sampling 2 chains, 0 divergences: 100%|██████████| 5000/5000 [00:13<00:00, 368.00draws/s]\n",
      "Auto-assigning NUTS sampler...\n",
      "Initializing NUTS using adapt_diag...\n"
     ]
    },
    {
     "name": "stdout",
     "output_type": "stream",
     "text": [
      "running inference on dataset #61/200\n"
     ]
    },
    {
     "name": "stderr",
     "output_type": "stream",
     "text": [
      "Multiprocess sampling (2 chains in 2 jobs)\n",
      "NUTS: [epsilon, sigma_e, eta, sigma, mu, amp]\n",
      "Sampling 2 chains, 0 divergences: 100%|██████████| 5000/5000 [00:14<00:00, 346.23draws/s]\n",
      "The acceptance probability does not match the target. It is 0.9027667917544347, but should be close to 0.8. Try to increase the number of tuning steps.\n",
      "Auto-assigning NUTS sampler...\n",
      "Initializing NUTS using adapt_diag...\n"
     ]
    },
    {
     "name": "stdout",
     "output_type": "stream",
     "text": [
      "running inference on dataset #62/200\n"
     ]
    },
    {
     "name": "stderr",
     "output_type": "stream",
     "text": [
      "Multiprocess sampling (2 chains in 2 jobs)\n",
      "NUTS: [epsilon, sigma_e, eta, sigma, mu, amp]\n",
      "Sampling 2 chains, 3 divergences: 100%|██████████| 5000/5000 [00:14<00:00, 343.26draws/s]\n",
      "There were 2 divergences after tuning. Increase `target_accept` or reparameterize.\n",
      "The acceptance probability does not match the target. It is 0.902280945092122, but should be close to 0.8. Try to increase the number of tuning steps.\n",
      "There was 1 divergence after tuning. Increase `target_accept` or reparameterize.\n",
      "Auto-assigning NUTS sampler...\n",
      "Initializing NUTS using adapt_diag...\n"
     ]
    },
    {
     "name": "stdout",
     "output_type": "stream",
     "text": [
      "running inference on dataset #63/200\n"
     ]
    },
    {
     "name": "stderr",
     "output_type": "stream",
     "text": [
      "Multiprocess sampling (2 chains in 2 jobs)\n",
      "NUTS: [epsilon, sigma_e, eta, sigma, mu, amp]\n",
      "Sampling 2 chains, 4 divergences: 100%|██████████| 5000/5000 [00:15<00:00, 325.60draws/s]\n",
      "There was 1 divergence after tuning. Increase `target_accept` or reparameterize.\n",
      "There were 3 divergences after tuning. Increase `target_accept` or reparameterize.\n",
      "The acceptance probability does not match the target. It is 0.9127256607555094, but should be close to 0.8. Try to increase the number of tuning steps.\n",
      "Auto-assigning NUTS sampler...\n",
      "Initializing NUTS using adapt_diag...\n"
     ]
    },
    {
     "name": "stdout",
     "output_type": "stream",
     "text": [
      "running inference on dataset #64/200\n"
     ]
    },
    {
     "name": "stderr",
     "output_type": "stream",
     "text": [
      "Multiprocess sampling (2 chains in 2 jobs)\n",
      "NUTS: [epsilon, sigma_e, eta, sigma, mu, amp]\n",
      "Sampling 2 chains, 4 divergences: 100%|██████████| 5000/5000 [00:15<00:00, 332.92draws/s]\n",
      "There were 3 divergences after tuning. Increase `target_accept` or reparameterize.\n",
      "There was 1 divergence after tuning. Increase `target_accept` or reparameterize.\n",
      "Auto-assigning NUTS sampler...\n",
      "Initializing NUTS using adapt_diag...\n"
     ]
    },
    {
     "name": "stdout",
     "output_type": "stream",
     "text": [
      "running inference on dataset #65/200\n"
     ]
    },
    {
     "name": "stderr",
     "output_type": "stream",
     "text": [
      "Multiprocess sampling (2 chains in 2 jobs)\n",
      "NUTS: [epsilon, sigma_e, eta, sigma, mu, amp]\n",
      "Sampling 2 chains, 5 divergences: 100%|██████████| 5000/5000 [00:14<00:00, 351.16draws/s]\n",
      "There were 3 divergences after tuning. Increase `target_accept` or reparameterize.\n",
      "The acceptance probability does not match the target. It is 0.8859670370843189, but should be close to 0.8. Try to increase the number of tuning steps.\n",
      "There were 2 divergences after tuning. Increase `target_accept` or reparameterize.\n",
      "The acceptance probability does not match the target. It is 0.8786334522959386, but should be close to 0.8. Try to increase the number of tuning steps.\n",
      "Auto-assigning NUTS sampler...\n",
      "Initializing NUTS using adapt_diag...\n"
     ]
    },
    {
     "name": "stdout",
     "output_type": "stream",
     "text": [
      "running inference on dataset #66/200\n"
     ]
    },
    {
     "name": "stderr",
     "output_type": "stream",
     "text": [
      "Multiprocess sampling (2 chains in 2 jobs)\n",
      "NUTS: [epsilon, sigma_e, eta, sigma, mu, amp]\n",
      "Sampling 2 chains, 0 divergences: 100%|██████████| 5000/5000 [00:13<00:00, 358.20draws/s]\n",
      "The acceptance probability does not match the target. It is 0.8792174956211046, but should be close to 0.8. Try to increase the number of tuning steps.\n",
      "Auto-assigning NUTS sampler...\n",
      "Initializing NUTS using adapt_diag...\n"
     ]
    },
    {
     "name": "stdout",
     "output_type": "stream",
     "text": [
      "running inference on dataset #67/200\n"
     ]
    },
    {
     "name": "stderr",
     "output_type": "stream",
     "text": [
      "Multiprocess sampling (2 chains in 2 jobs)\n",
      "NUTS: [epsilon, sigma_e, eta, sigma, mu, amp]\n",
      "Sampling 2 chains, 0 divergences: 100%|██████████| 5000/5000 [00:15<00:00, 323.34draws/s]\n",
      "The acceptance probability does not match the target. It is 0.889027810770012, but should be close to 0.8. Try to increase the number of tuning steps.\n",
      "Auto-assigning NUTS sampler...\n",
      "Initializing NUTS using adapt_diag...\n"
     ]
    },
    {
     "name": "stdout",
     "output_type": "stream",
     "text": [
      "running inference on dataset #68/200\n"
     ]
    },
    {
     "name": "stderr",
     "output_type": "stream",
     "text": [
      "Multiprocess sampling (2 chains in 2 jobs)\n",
      "NUTS: [epsilon, sigma_e, eta, sigma, mu, amp]\n",
      "Sampling 2 chains, 2 divergences: 100%|██████████| 5000/5000 [00:16<00:00, 297.82draws/s]\n",
      "There was 1 divergence after tuning. Increase `target_accept` or reparameterize.\n",
      "There was 1 divergence after tuning. Increase `target_accept` or reparameterize.\n",
      "Auto-assigning NUTS sampler...\n",
      "Initializing NUTS using adapt_diag...\n"
     ]
    },
    {
     "name": "stdout",
     "output_type": "stream",
     "text": [
      "running inference on dataset #69/200\n"
     ]
    },
    {
     "name": "stderr",
     "output_type": "stream",
     "text": [
      "Multiprocess sampling (2 chains in 2 jobs)\n",
      "NUTS: [epsilon, sigma_e, eta, sigma, mu, amp]\n",
      "Sampling 2 chains, 0 divergences: 100%|██████████| 5000/5000 [00:17<00:00, 292.99draws/s]\n",
      "The acceptance probability does not match the target. It is 0.9196284126219345, but should be close to 0.8. Try to increase the number of tuning steps.\n",
      "The acceptance probability does not match the target. It is 0.9172794894132145, but should be close to 0.8. Try to increase the number of tuning steps.\n",
      "Auto-assigning NUTS sampler...\n",
      "Initializing NUTS using adapt_diag...\n"
     ]
    },
    {
     "name": "stdout",
     "output_type": "stream",
     "text": [
      "running inference on dataset #70/200\n"
     ]
    },
    {
     "name": "stderr",
     "output_type": "stream",
     "text": [
      "Multiprocess sampling (2 chains in 2 jobs)\n",
      "NUTS: [epsilon, sigma_e, eta, sigma, mu, amp]\n",
      "Sampling 2 chains, 0 divergences: 100%|██████████| 5000/5000 [00:22<00:00, 225.41draws/s]\n",
      "Auto-assigning NUTS sampler...\n",
      "Initializing NUTS using adapt_diag...\n"
     ]
    },
    {
     "name": "stdout",
     "output_type": "stream",
     "text": [
      "running inference on dataset #71/200\n"
     ]
    },
    {
     "name": "stderr",
     "output_type": "stream",
     "text": [
      "Multiprocess sampling (2 chains in 2 jobs)\n",
      "NUTS: [epsilon, sigma_e, eta, sigma, mu, amp]\n",
      "Sampling 2 chains, 562 divergences: 100%|██████████| 5000/5000 [11:03<00:00,  7.54draws/s]\n",
      "There were 562 divergences after tuning. Increase `target_accept` or reparameterize.\n",
      "The chain reached the maximum tree depth. Increase max_treedepth, increase target_accept or reparameterize.\n",
      "The chain reached the maximum tree depth. Increase max_treedepth, increase target_accept or reparameterize.\n",
      "The rhat statistic is larger than 1.4 for some parameters. The sampler did not converge.\n",
      "The estimated number of effective samples is smaller than 200 for some parameters.\n",
      "Auto-assigning NUTS sampler...\n",
      "Initializing NUTS using adapt_diag...\n"
     ]
    },
    {
     "name": "stdout",
     "output_type": "stream",
     "text": [
      "running inference on dataset #72/200\n"
     ]
    },
    {
     "name": "stderr",
     "output_type": "stream",
     "text": [
      "Multiprocess sampling (2 chains in 2 jobs)\n",
      "NUTS: [epsilon, sigma_e, eta, sigma, mu, amp]\n",
      "Sampling 2 chains, 0 divergences: 100%|██████████| 5000/5000 [00:55<00:00, 90.56draws/s] \n",
      "The acceptance probability does not match the target. It is 0.8942955514126811, but should be close to 0.8. Try to increase the number of tuning steps.\n",
      "The number of effective samples is smaller than 25% for some parameters.\n",
      "Auto-assigning NUTS sampler...\n",
      "Initializing NUTS using adapt_diag...\n"
     ]
    },
    {
     "name": "stdout",
     "output_type": "stream",
     "text": [
      "running inference on dataset #73/200\n"
     ]
    },
    {
     "name": "stderr",
     "output_type": "stream",
     "text": [
      "Multiprocess sampling (2 chains in 2 jobs)\n",
      "NUTS: [epsilon, sigma_e, eta, sigma, mu, amp]\n",
      "Sampling 2 chains, 3 divergences: 100%|██████████| 5000/5000 [00:13<00:00, 373.63draws/s]\n",
      "There were 2 divergences after tuning. Increase `target_accept` or reparameterize.\n",
      "The acceptance probability does not match the target. It is 0.8983034581046081, but should be close to 0.8. Try to increase the number of tuning steps.\n",
      "There was 1 divergence after tuning. Increase `target_accept` or reparameterize.\n",
      "The acceptance probability does not match the target. It is 0.9034358884517542, but should be close to 0.8. Try to increase the number of tuning steps.\n",
      "Auto-assigning NUTS sampler...\n",
      "Initializing NUTS using adapt_diag...\n"
     ]
    },
    {
     "name": "stdout",
     "output_type": "stream",
     "text": [
      "running inference on dataset #74/200\n"
     ]
    },
    {
     "name": "stderr",
     "output_type": "stream",
     "text": [
      "Multiprocess sampling (2 chains in 2 jobs)\n",
      "NUTS: [epsilon, sigma_e, eta, sigma, mu, amp]\n",
      "Sampling 2 chains, 7 divergences: 100%|██████████| 5000/5000 [00:15<00:00, 322.72draws/s]\n",
      "There were 4 divergences after tuning. Increase `target_accept` or reparameterize.\n",
      "The acceptance probability does not match the target. It is 0.8855426782786705, but should be close to 0.8. Try to increase the number of tuning steps.\n",
      "There were 3 divergences after tuning. Increase `target_accept` or reparameterize.\n",
      "The acceptance probability does not match the target. It is 0.8838724847945515, but should be close to 0.8. Try to increase the number of tuning steps.\n",
      "Auto-assigning NUTS sampler...\n",
      "Initializing NUTS using adapt_diag...\n"
     ]
    },
    {
     "name": "stdout",
     "output_type": "stream",
     "text": [
      "running inference on dataset #75/200\n"
     ]
    },
    {
     "name": "stderr",
     "output_type": "stream",
     "text": [
      "Multiprocess sampling (2 chains in 2 jobs)\n",
      "NUTS: [epsilon, sigma_e, eta, sigma, mu, amp]\n",
      "Sampling 2 chains, 0 divergences: 100%|██████████| 5000/5000 [01:16<00:00, 65.69draws/s]\n",
      "The acceptance probability does not match the target. It is 0.9165240879857168, but should be close to 0.8. Try to increase the number of tuning steps.\n",
      "The acceptance probability does not match the target. It is 0.918052251361099, but should be close to 0.8. Try to increase the number of tuning steps.\n",
      "Auto-assigning NUTS sampler...\n",
      "Initializing NUTS using adapt_diag...\n"
     ]
    },
    {
     "name": "stdout",
     "output_type": "stream",
     "text": [
      "running inference on dataset #76/200\n"
     ]
    },
    {
     "name": "stderr",
     "output_type": "stream",
     "text": [
      "Multiprocess sampling (2 chains in 2 jobs)\n",
      "NUTS: [epsilon, sigma_e, eta, sigma, mu, amp]\n",
      "Sampling 2 chains, 0 divergences: 100%|██████████| 5000/5000 [01:11<00:00, 69.99draws/s]\n",
      "The acceptance probability does not match the target. It is 0.9213768521513092, but should be close to 0.8. Try to increase the number of tuning steps.\n",
      "The acceptance probability does not match the target. It is 0.9102576159841208, but should be close to 0.8. Try to increase the number of tuning steps.\n",
      "The number of effective samples is smaller than 25% for some parameters.\n",
      "Auto-assigning NUTS sampler...\n",
      "Initializing NUTS using adapt_diag...\n"
     ]
    },
    {
     "name": "stdout",
     "output_type": "stream",
     "text": [
      "running inference on dataset #77/200\n"
     ]
    },
    {
     "name": "stderr",
     "output_type": "stream",
     "text": [
      "Multiprocess sampling (2 chains in 2 jobs)\n",
      "NUTS: [epsilon, sigma_e, eta, sigma, mu, amp]\n",
      "Sampling 2 chains, 0 divergences: 100%|██████████| 5000/5000 [00:16<00:00, 309.77draws/s]\n",
      "The acceptance probability does not match the target. It is 0.8812598228601439, but should be close to 0.8. Try to increase the number of tuning steps.\n",
      "The acceptance probability does not match the target. It is 0.9072023910518741, but should be close to 0.8. Try to increase the number of tuning steps.\n",
      "Auto-assigning NUTS sampler...\n",
      "Initializing NUTS using adapt_diag...\n"
     ]
    },
    {
     "name": "stdout",
     "output_type": "stream",
     "text": [
      "running inference on dataset #78/200\n"
     ]
    },
    {
     "name": "stderr",
     "output_type": "stream",
     "text": [
      "Multiprocess sampling (2 chains in 2 jobs)\n",
      "NUTS: [epsilon, sigma_e, eta, sigma, mu, amp]\n",
      "Sampling 2 chains, 0 divergences: 100%|██████████| 5000/5000 [01:49<00:00, 45.56draws/s]\n",
      "The acceptance probability does not match the target. It is 0.9208897038690471, but should be close to 0.8. Try to increase the number of tuning steps.\n",
      "The acceptance probability does not match the target. It is 0.9151155789167638, but should be close to 0.8. Try to increase the number of tuning steps.\n",
      "The number of effective samples is smaller than 25% for some parameters.\n",
      "Auto-assigning NUTS sampler...\n",
      "Initializing NUTS using adapt_diag...\n"
     ]
    },
    {
     "name": "stdout",
     "output_type": "stream",
     "text": [
      "running inference on dataset #79/200\n"
     ]
    },
    {
     "name": "stderr",
     "output_type": "stream",
     "text": [
      "Multiprocess sampling (2 chains in 2 jobs)\n",
      "NUTS: [epsilon, sigma_e, eta, sigma, mu, amp]\n",
      "Sampling 2 chains, 3 divergences: 100%|██████████| 5000/5000 [00:13<00:00, 372.40draws/s]\n",
      "The acceptance probability does not match the target. It is 0.9083062952100442, but should be close to 0.8. Try to increase the number of tuning steps.\n",
      "There were 3 divergences after tuning. Increase `target_accept` or reparameterize.\n",
      "Auto-assigning NUTS sampler...\n",
      "Initializing NUTS using adapt_diag...\n"
     ]
    },
    {
     "name": "stdout",
     "output_type": "stream",
     "text": [
      "running inference on dataset #80/200\n"
     ]
    },
    {
     "name": "stderr",
     "output_type": "stream",
     "text": [
      "Multiprocess sampling (2 chains in 2 jobs)\n",
      "NUTS: [epsilon, sigma_e, eta, sigma, mu, amp]\n",
      "Sampling 2 chains, 0 divergences: 100%|██████████| 5000/5000 [00:13<00:00, 374.02draws/s]\n",
      "The acceptance probability does not match the target. It is 0.8912535799893636, but should be close to 0.8. Try to increase the number of tuning steps.\n",
      "Auto-assigning NUTS sampler...\n",
      "Initializing NUTS using adapt_diag...\n"
     ]
    },
    {
     "name": "stdout",
     "output_type": "stream",
     "text": [
      "running inference on dataset #81/200\n"
     ]
    },
    {
     "name": "stderr",
     "output_type": "stream",
     "text": [
      "Multiprocess sampling (2 chains in 2 jobs)\n",
      "NUTS: [epsilon, sigma_e, eta, sigma, mu, amp]\n",
      "Sampling 2 chains, 3 divergences: 100%|██████████| 5000/5000 [00:14<00:00, 338.14draws/s]\n",
      "There were 2 divergences after tuning. Increase `target_accept` or reparameterize.\n",
      "The acceptance probability does not match the target. It is 0.892351976477941, but should be close to 0.8. Try to increase the number of tuning steps.\n",
      "There was 1 divergence after tuning. Increase `target_accept` or reparameterize.\n",
      "The acceptance probability does not match the target. It is 0.8917966058605056, but should be close to 0.8. Try to increase the number of tuning steps.\n",
      "Auto-assigning NUTS sampler...\n",
      "Initializing NUTS using adapt_diag...\n"
     ]
    },
    {
     "name": "stdout",
     "output_type": "stream",
     "text": [
      "running inference on dataset #82/200\n"
     ]
    },
    {
     "name": "stderr",
     "output_type": "stream",
     "text": [
      "Multiprocess sampling (2 chains in 2 jobs)\n",
      "NUTS: [epsilon, sigma_e, eta, sigma, mu, amp]\n",
      "Sampling 2 chains, 0 divergences: 100%|██████████| 5000/5000 [00:16<00:00, 312.12draws/s]\n",
      "The acceptance probability does not match the target. It is 0.905980320333332, but should be close to 0.8. Try to increase the number of tuning steps.\n",
      "The acceptance probability does not match the target. It is 0.9105716171745332, but should be close to 0.8. Try to increase the number of tuning steps.\n",
      "Auto-assigning NUTS sampler...\n",
      "Initializing NUTS using adapt_diag...\n"
     ]
    },
    {
     "name": "stdout",
     "output_type": "stream",
     "text": [
      "running inference on dataset #83/200\n"
     ]
    },
    {
     "name": "stderr",
     "output_type": "stream",
     "text": [
      "Multiprocess sampling (2 chains in 2 jobs)\n",
      "NUTS: [epsilon, sigma_e, eta, sigma, mu, amp]\n",
      "Sampling 2 chains, 7 divergences: 100%|██████████| 5000/5000 [00:14<00:00, 336.47draws/s]\n",
      "There were 5 divergences after tuning. Increase `target_accept` or reparameterize.\n",
      "The acceptance probability does not match the target. It is 0.8810729989244128, but should be close to 0.8. Try to increase the number of tuning steps.\n",
      "There were 2 divergences after tuning. Increase `target_accept` or reparameterize.\n",
      "Auto-assigning NUTS sampler...\n",
      "Initializing NUTS using adapt_diag...\n"
     ]
    },
    {
     "name": "stdout",
     "output_type": "stream",
     "text": [
      "running inference on dataset #84/200\n"
     ]
    },
    {
     "name": "stderr",
     "output_type": "stream",
     "text": [
      "Multiprocess sampling (2 chains in 2 jobs)\n",
      "NUTS: [epsilon, sigma_e, eta, sigma, mu, amp]\n",
      "Sampling 2 chains, 0 divergences: 100%|██████████| 5000/5000 [00:16<00:00, 303.49draws/s]\n",
      "The acceptance probability does not match the target. It is 0.8851475296212822, but should be close to 0.8. Try to increase the number of tuning steps.\n",
      "The acceptance probability does not match the target. It is 0.8895403348284845, but should be close to 0.8. Try to increase the number of tuning steps.\n",
      "Auto-assigning NUTS sampler...\n",
      "Initializing NUTS using adapt_diag...\n"
     ]
    },
    {
     "name": "stdout",
     "output_type": "stream",
     "text": [
      "running inference on dataset #85/200\n"
     ]
    },
    {
     "name": "stderr",
     "output_type": "stream",
     "text": [
      "Multiprocess sampling (2 chains in 2 jobs)\n",
      "NUTS: [epsilon, sigma_e, eta, sigma, mu, amp]\n",
      "Sampling 2 chains, 6 divergences: 100%|██████████| 5000/5000 [00:14<00:00, 343.82draws/s]\n",
      "There were 4 divergences after tuning. Increase `target_accept` or reparameterize.\n",
      "There were 2 divergences after tuning. Increase `target_accept` or reparameterize.\n",
      "Auto-assigning NUTS sampler...\n",
      "Initializing NUTS using adapt_diag...\n"
     ]
    },
    {
     "name": "stdout",
     "output_type": "stream",
     "text": [
      "running inference on dataset #86/200\n"
     ]
    },
    {
     "name": "stderr",
     "output_type": "stream",
     "text": [
      "Multiprocess sampling (2 chains in 2 jobs)\n",
      "NUTS: [epsilon, sigma_e, eta, sigma, mu, amp]\n",
      "Sampling 2 chains, 0 divergences: 100%|██████████| 5000/5000 [00:26<00:00, 189.08draws/s]\n",
      "The acceptance probability does not match the target. It is 0.9198027681416724, but should be close to 0.8. Try to increase the number of tuning steps.\n",
      "The acceptance probability does not match the target. It is 0.8902866681722701, but should be close to 0.8. Try to increase the number of tuning steps.\n",
      "The number of effective samples is smaller than 25% for some parameters.\n",
      "Auto-assigning NUTS sampler...\n",
      "Initializing NUTS using adapt_diag...\n"
     ]
    },
    {
     "name": "stdout",
     "output_type": "stream",
     "text": [
      "running inference on dataset #87/200\n"
     ]
    },
    {
     "name": "stderr",
     "output_type": "stream",
     "text": [
      "Multiprocess sampling (2 chains in 2 jobs)\n",
      "NUTS: [epsilon, sigma_e, eta, sigma, mu, amp]\n",
      "Sampling 2 chains, 0 divergences: 100%|██████████| 5000/5000 [00:32<00:00, 152.63draws/s]\n",
      "The acceptance probability does not match the target. It is 0.8983054232984802, but should be close to 0.8. Try to increase the number of tuning steps.\n",
      "Auto-assigning NUTS sampler...\n",
      "Initializing NUTS using adapt_diag...\n"
     ]
    },
    {
     "name": "stdout",
     "output_type": "stream",
     "text": [
      "running inference on dataset #88/200\n"
     ]
    },
    {
     "name": "stderr",
     "output_type": "stream",
     "text": [
      "Multiprocess sampling (2 chains in 2 jobs)\n",
      "NUTS: [epsilon, sigma_e, eta, sigma, mu, amp]\n",
      "Sampling 2 chains, 2 divergences: 100%|██████████| 5000/5000 [00:15<00:00, 328.25draws/s]\n",
      "There were 2 divergences after tuning. Increase `target_accept` or reparameterize.\n",
      "The acceptance probability does not match the target. It is 0.8975962044251167, but should be close to 0.8. Try to increase the number of tuning steps.\n",
      "Auto-assigning NUTS sampler...\n",
      "Initializing NUTS using adapt_diag...\n"
     ]
    },
    {
     "name": "stdout",
     "output_type": "stream",
     "text": [
      "running inference on dataset #89/200\n"
     ]
    },
    {
     "name": "stderr",
     "output_type": "stream",
     "text": [
      "Multiprocess sampling (2 chains in 2 jobs)\n",
      "NUTS: [epsilon, sigma_e, eta, sigma, mu, amp]\n",
      "Sampling 2 chains, 5 divergences: 100%|██████████| 5000/5000 [00:15<00:00, 318.49draws/s]\n",
      "There were 5 divergences after tuning. Increase `target_accept` or reparameterize.\n",
      "The acceptance probability does not match the target. It is 0.883090890316903, but should be close to 0.8. Try to increase the number of tuning steps.\n",
      "The acceptance probability does not match the target. It is 0.9113997527875022, but should be close to 0.8. Try to increase the number of tuning steps.\n",
      "Auto-assigning NUTS sampler...\n",
      "Initializing NUTS using adapt_diag...\n"
     ]
    },
    {
     "name": "stdout",
     "output_type": "stream",
     "text": [
      "running inference on dataset #90/200\n"
     ]
    },
    {
     "name": "stderr",
     "output_type": "stream",
     "text": [
      "Multiprocess sampling (2 chains in 2 jobs)\n",
      "NUTS: [epsilon, sigma_e, eta, sigma, mu, amp]\n",
      "Sampling 2 chains, 2 divergences: 100%|██████████| 5000/5000 [00:15<00:00, 333.19draws/s]\n",
      "There was 1 divergence after tuning. Increase `target_accept` or reparameterize.\n",
      "The acceptance probability does not match the target. It is 0.8837019204244726, but should be close to 0.8. Try to increase the number of tuning steps.\n",
      "There was 1 divergence after tuning. Increase `target_accept` or reparameterize.\n",
      "Auto-assigning NUTS sampler...\n",
      "Initializing NUTS using adapt_diag...\n"
     ]
    },
    {
     "name": "stdout",
     "output_type": "stream",
     "text": [
      "running inference on dataset #91/200\n"
     ]
    },
    {
     "name": "stderr",
     "output_type": "stream",
     "text": [
      "Multiprocess sampling (2 chains in 2 jobs)\n",
      "NUTS: [epsilon, sigma_e, eta, sigma, mu, amp]\n",
      "Sampling 2 chains, 0 divergences: 100%|██████████| 5000/5000 [00:14<00:00, 338.04draws/s]\n",
      "Auto-assigning NUTS sampler...\n",
      "Initializing NUTS using adapt_diag...\n"
     ]
    },
    {
     "name": "stdout",
     "output_type": "stream",
     "text": [
      "running inference on dataset #92/200\n"
     ]
    },
    {
     "name": "stderr",
     "output_type": "stream",
     "text": [
      "Multiprocess sampling (2 chains in 2 jobs)\n",
      "NUTS: [epsilon, sigma_e, eta, sigma, mu, amp]\n",
      "Sampling 2 chains, 0 divergences: 100%|██████████| 5000/5000 [00:17<00:00, 278.54draws/s]\n",
      "The acceptance probability does not match the target. It is 0.8940335587632672, but should be close to 0.8. Try to increase the number of tuning steps.\n",
      "The acceptance probability does not match the target. It is 0.8945664990382431, but should be close to 0.8. Try to increase the number of tuning steps.\n",
      "Auto-assigning NUTS sampler...\n",
      "Initializing NUTS using adapt_diag...\n"
     ]
    },
    {
     "name": "stdout",
     "output_type": "stream",
     "text": [
      "running inference on dataset #93/200\n"
     ]
    },
    {
     "name": "stderr",
     "output_type": "stream",
     "text": [
      "Multiprocess sampling (2 chains in 2 jobs)\n",
      "NUTS: [epsilon, sigma_e, eta, sigma, mu, amp]\n",
      "Sampling 2 chains, 0 divergences: 100%|██████████| 5000/5000 [00:14<00:00, 353.42draws/s]\n",
      "Auto-assigning NUTS sampler...\n",
      "Initializing NUTS using adapt_diag...\n"
     ]
    },
    {
     "name": "stdout",
     "output_type": "stream",
     "text": [
      "running inference on dataset #94/200\n"
     ]
    },
    {
     "name": "stderr",
     "output_type": "stream",
     "text": [
      "Multiprocess sampling (2 chains in 2 jobs)\n",
      "NUTS: [epsilon, sigma_e, eta, sigma, mu, amp]\n",
      "Sampling 2 chains, 0 divergences: 100%|██████████| 5000/5000 [01:16<00:00, 65.40draws/s]\n",
      "The acceptance probability does not match the target. It is 0.9301826701827143, but should be close to 0.8. Try to increase the number of tuning steps.\n",
      "The acceptance probability does not match the target. It is 0.9265505898868028, but should be close to 0.8. Try to increase the number of tuning steps.\n",
      "Auto-assigning NUTS sampler...\n",
      "Initializing NUTS using adapt_diag...\n"
     ]
    },
    {
     "name": "stdout",
     "output_type": "stream",
     "text": [
      "running inference on dataset #95/200\n"
     ]
    },
    {
     "name": "stderr",
     "output_type": "stream",
     "text": [
      "Multiprocess sampling (2 chains in 2 jobs)\n",
      "NUTS: [epsilon, sigma_e, eta, sigma, mu, amp]\n",
      "Sampling 2 chains, 3 divergences: 100%|██████████| 5000/5000 [00:15<00:00, 332.69draws/s]\n",
      "There was 1 divergence after tuning. Increase `target_accept` or reparameterize.\n",
      "There were 2 divergences after tuning. Increase `target_accept` or reparameterize.\n",
      "The acceptance probability does not match the target. It is 0.9003576247050801, but should be close to 0.8. Try to increase the number of tuning steps.\n",
      "Auto-assigning NUTS sampler...\n",
      "Initializing NUTS using adapt_diag...\n"
     ]
    },
    {
     "name": "stdout",
     "output_type": "stream",
     "text": [
      "running inference on dataset #96/200\n"
     ]
    },
    {
     "name": "stderr",
     "output_type": "stream",
     "text": [
      "Multiprocess sampling (2 chains in 2 jobs)\n",
      "NUTS: [epsilon, sigma_e, eta, sigma, mu, amp]\n",
      "Sampling 2 chains, 0 divergences: 100%|██████████| 5000/5000 [00:11<00:00, 428.82draws/s]\n",
      "The acceptance probability does not match the target. It is 0.8853382599381717, but should be close to 0.8. Try to increase the number of tuning steps.\n",
      "Auto-assigning NUTS sampler...\n",
      "Initializing NUTS using adapt_diag...\n"
     ]
    },
    {
     "name": "stdout",
     "output_type": "stream",
     "text": [
      "running inference on dataset #97/200\n"
     ]
    },
    {
     "name": "stderr",
     "output_type": "stream",
     "text": [
      "Multiprocess sampling (2 chains in 2 jobs)\n",
      "NUTS: [epsilon, sigma_e, eta, sigma, mu, amp]\n",
      "Sampling 2 chains, 0 divergences: 100%|██████████| 5000/5000 [00:33<00:00, 147.15draws/s]\n",
      "The acceptance probability does not match the target. It is 0.94147607099763, but should be close to 0.8. Try to increase the number of tuning steps.\n",
      "The acceptance probability does not match the target. It is 0.9112537152266788, but should be close to 0.8. Try to increase the number of tuning steps.\n",
      "Auto-assigning NUTS sampler...\n",
      "Initializing NUTS using adapt_diag...\n"
     ]
    },
    {
     "name": "stdout",
     "output_type": "stream",
     "text": [
      "running inference on dataset #98/200\n"
     ]
    },
    {
     "name": "stderr",
     "output_type": "stream",
     "text": [
      "Multiprocess sampling (2 chains in 2 jobs)\n",
      "NUTS: [epsilon, sigma_e, eta, sigma, mu, amp]\n",
      "Sampling 2 chains, 2 divergences: 100%|██████████| 5000/5000 [00:14<00:00, 340.37draws/s]\n",
      "There were 2 divergences after tuning. Increase `target_accept` or reparameterize.\n",
      "The acceptance probability does not match the target. It is 0.9044152610892455, but should be close to 0.8. Try to increase the number of tuning steps.\n",
      "The acceptance probability does not match the target. It is 0.9112405419301178, but should be close to 0.8. Try to increase the number of tuning steps.\n",
      "Auto-assigning NUTS sampler...\n",
      "Initializing NUTS using adapt_diag...\n"
     ]
    },
    {
     "name": "stdout",
     "output_type": "stream",
     "text": [
      "running inference on dataset #99/200\n"
     ]
    },
    {
     "name": "stderr",
     "output_type": "stream",
     "text": [
      "Multiprocess sampling (2 chains in 2 jobs)\n",
      "NUTS: [epsilon, sigma_e, eta, sigma, mu, amp]\n",
      "Sampling 2 chains, 0 divergences: 100%|██████████| 5000/5000 [00:13<00:00, 358.10draws/s]\n",
      "The acceptance probability does not match the target. It is 0.8886679602616255, but should be close to 0.8. Try to increase the number of tuning steps.\n",
      "Auto-assigning NUTS sampler...\n",
      "Initializing NUTS using adapt_diag...\n"
     ]
    },
    {
     "name": "stdout",
     "output_type": "stream",
     "text": [
      "running inference on dataset #100/200\n"
     ]
    },
    {
     "name": "stderr",
     "output_type": "stream",
     "text": [
      "Multiprocess sampling (2 chains in 2 jobs)\n",
      "NUTS: [epsilon, sigma_e, eta, sigma, mu, amp]\n",
      "Sampling 2 chains, 0 divergences: 100%|██████████| 5000/5000 [00:13<00:00, 372.07draws/s]\n",
      "The acceptance probability does not match the target. It is 0.889698093083486, but should be close to 0.8. Try to increase the number of tuning steps.\n",
      "Auto-assigning NUTS sampler...\n",
      "Initializing NUTS using adapt_diag...\n"
     ]
    },
    {
     "name": "stdout",
     "output_type": "stream",
     "text": [
      "running inference on dataset #101/200\n"
     ]
    },
    {
     "name": "stderr",
     "output_type": "stream",
     "text": [
      "Multiprocess sampling (2 chains in 2 jobs)\n",
      "NUTS: [epsilon, sigma_e, eta, sigma, mu, amp]\n",
      "Sampling 2 chains, 0 divergences: 100%|██████████| 5000/5000 [02:42<00:00, 30.80draws/s]\n",
      "The acceptance probability does not match the target. It is 0.906328996224528, but should be close to 0.8. Try to increase the number of tuning steps.\n",
      "The acceptance probability does not match the target. It is 0.8928364114022136, but should be close to 0.8. Try to increase the number of tuning steps.\n",
      "The number of effective samples is smaller than 25% for some parameters.\n",
      "Auto-assigning NUTS sampler...\n",
      "Initializing NUTS using adapt_diag...\n"
     ]
    },
    {
     "name": "stdout",
     "output_type": "stream",
     "text": [
      "running inference on dataset #102/200\n"
     ]
    },
    {
     "name": "stderr",
     "output_type": "stream",
     "text": [
      "Multiprocess sampling (2 chains in 2 jobs)\n",
      "NUTS: [epsilon, sigma_e, eta, sigma, mu, amp]\n",
      "Sampling 2 chains, 0 divergences: 100%|██████████| 5000/5000 [00:16<00:00, 294.79draws/s]\n",
      "The acceptance probability does not match the target. It is 0.8855295017285688, but should be close to 0.8. Try to increase the number of tuning steps.\n",
      "Auto-assigning NUTS sampler...\n",
      "Initializing NUTS using adapt_diag...\n"
     ]
    },
    {
     "name": "stdout",
     "output_type": "stream",
     "text": [
      "running inference on dataset #103/200\n"
     ]
    },
    {
     "name": "stderr",
     "output_type": "stream",
     "text": [
      "Multiprocess sampling (2 chains in 2 jobs)\n",
      "NUTS: [epsilon, sigma_e, eta, sigma, mu, amp]\n",
      "Sampling 2 chains, 2 divergences: 100%|██████████| 5000/5000 [00:17<00:00, 286.00draws/s]\n",
      "The acceptance probability does not match the target. It is 0.9026846640092069, but should be close to 0.8. Try to increase the number of tuning steps.\n",
      "There were 2 divergences after tuning. Increase `target_accept` or reparameterize.\n",
      "Auto-assigning NUTS sampler...\n",
      "Initializing NUTS using adapt_diag...\n"
     ]
    },
    {
     "name": "stdout",
     "output_type": "stream",
     "text": [
      "running inference on dataset #104/200\n"
     ]
    },
    {
     "name": "stderr",
     "output_type": "stream",
     "text": [
      "Multiprocess sampling (2 chains in 2 jobs)\n",
      "NUTS: [epsilon, sigma_e, eta, sigma, mu, amp]\n",
      "Sampling 2 chains, 0 divergences: 100%|██████████| 5000/5000 [01:23<00:00, 60.11draws/s]\n",
      "The acceptance probability does not match the target. It is 0.9048906417685081, but should be close to 0.8. Try to increase the number of tuning steps.\n",
      "The acceptance probability does not match the target. It is 0.9192855007480214, but should be close to 0.8. Try to increase the number of tuning steps.\n",
      "The number of effective samples is smaller than 25% for some parameters.\n",
      "Auto-assigning NUTS sampler...\n",
      "Initializing NUTS using adapt_diag...\n"
     ]
    },
    {
     "name": "stdout",
     "output_type": "stream",
     "text": [
      "running inference on dataset #105/200\n"
     ]
    },
    {
     "name": "stderr",
     "output_type": "stream",
     "text": [
      "Multiprocess sampling (2 chains in 2 jobs)\n",
      "NUTS: [epsilon, sigma_e, eta, sigma, mu, amp]\n",
      "Sampling 2 chains, 1 divergences: 100%|██████████| 5000/5000 [00:14<00:00, 350.22draws/s]\n",
      "There was 1 divergence after tuning. Increase `target_accept` or reparameterize.\n",
      "The acceptance probability does not match the target. It is 0.8801139884649963, but should be close to 0.8. Try to increase the number of tuning steps.\n",
      "Auto-assigning NUTS sampler...\n",
      "Initializing NUTS using adapt_diag...\n"
     ]
    },
    {
     "name": "stdout",
     "output_type": "stream",
     "text": [
      "running inference on dataset #106/200\n"
     ]
    },
    {
     "name": "stderr",
     "output_type": "stream",
     "text": [
      "Multiprocess sampling (2 chains in 2 jobs)\n",
      "NUTS: [epsilon, sigma_e, eta, sigma, mu, amp]\n",
      "Sampling 2 chains, 2 divergences: 100%|██████████| 5000/5000 [00:15<00:00, 330.72draws/s]\n",
      "The acceptance probability does not match the target. It is 0.8926064108334391, but should be close to 0.8. Try to increase the number of tuning steps.\n",
      "There were 2 divergences after tuning. Increase `target_accept` or reparameterize.\n",
      "The acceptance probability does not match the target. It is 0.8854823369959381, but should be close to 0.8. Try to increase the number of tuning steps.\n",
      "Auto-assigning NUTS sampler...\n",
      "Initializing NUTS using adapt_diag...\n"
     ]
    },
    {
     "name": "stdout",
     "output_type": "stream",
     "text": [
      "running inference on dataset #107/200\n"
     ]
    },
    {
     "name": "stderr",
     "output_type": "stream",
     "text": [
      "Multiprocess sampling (2 chains in 2 jobs)\n",
      "NUTS: [epsilon, sigma_e, eta, sigma, mu, amp]\n",
      "Sampling 2 chains, 1 divergences: 100%|██████████| 5000/5000 [09:06<00:00,  9.15draws/s]\n",
      "The acceptance probability does not match the target. It is 0.8959373427074176, but should be close to 0.8. Try to increase the number of tuning steps.\n",
      "The acceptance probability does not match the target. It is 0.9146198700375832, but should be close to 0.8. Try to increase the number of tuning steps.\n",
      "The number of effective samples is smaller than 25% for some parameters.\n",
      "Auto-assigning NUTS sampler...\n",
      "Initializing NUTS using adapt_diag...\n"
     ]
    },
    {
     "name": "stdout",
     "output_type": "stream",
     "text": [
      "running inference on dataset #108/200\n"
     ]
    },
    {
     "name": "stderr",
     "output_type": "stream",
     "text": [
      "Multiprocess sampling (2 chains in 2 jobs)\n",
      "NUTS: [epsilon, sigma_e, eta, sigma, mu, amp]\n",
      "Sampling 2 chains, 0 divergences: 100%|██████████| 5000/5000 [00:13<00:00, 365.03draws/s]\n",
      "Auto-assigning NUTS sampler...\n",
      "Initializing NUTS using adapt_diag...\n"
     ]
    },
    {
     "name": "stdout",
     "output_type": "stream",
     "text": [
      "running inference on dataset #109/200\n"
     ]
    },
    {
     "name": "stderr",
     "output_type": "stream",
     "text": [
      "Multiprocess sampling (2 chains in 2 jobs)\n",
      "NUTS: [epsilon, sigma_e, eta, sigma, mu, amp]\n",
      "Sampling 2 chains, 0 divergences: 100%|██████████| 5000/5000 [00:15<00:00, 323.97draws/s]\n",
      "The acceptance probability does not match the target. It is 0.8824372797717727, but should be close to 0.8. Try to increase the number of tuning steps.\n",
      "Auto-assigning NUTS sampler...\n",
      "Initializing NUTS using adapt_diag...\n"
     ]
    },
    {
     "name": "stdout",
     "output_type": "stream",
     "text": [
      "running inference on dataset #110/200\n"
     ]
    },
    {
     "name": "stderr",
     "output_type": "stream",
     "text": [
      "Multiprocess sampling (2 chains in 2 jobs)\n",
      "NUTS: [epsilon, sigma_e, eta, sigma, mu, amp]\n",
      "Sampling 2 chains, 0 divergences: 100%|██████████| 5000/5000 [01:41<00:00, 49.50draws/s]\n",
      "The acceptance probability does not match the target. It is 0.9043717507406891, but should be close to 0.8. Try to increase the number of tuning steps.\n",
      "The acceptance probability does not match the target. It is 0.9206253494542194, but should be close to 0.8. Try to increase the number of tuning steps.\n",
      "The rhat statistic is larger than 1.4 for some parameters. The sampler did not converge.\n",
      "The estimated number of effective samples is smaller than 200 for some parameters.\n",
      "Auto-assigning NUTS sampler...\n",
      "Initializing NUTS using adapt_diag...\n"
     ]
    },
    {
     "name": "stdout",
     "output_type": "stream",
     "text": [
      "running inference on dataset #111/200\n"
     ]
    },
    {
     "name": "stderr",
     "output_type": "stream",
     "text": [
      "Multiprocess sampling (2 chains in 2 jobs)\n",
      "NUTS: [epsilon, sigma_e, eta, sigma, mu, amp]\n",
      "Sampling 2 chains, 2 divergences: 100%|██████████| 5000/5000 [00:14<00:00, 347.50draws/s]\n",
      "There were 2 divergences after tuning. Increase `target_accept` or reparameterize.\n",
      "The acceptance probability does not match the target. It is 0.8870709742463089, but should be close to 0.8. Try to increase the number of tuning steps.\n",
      "The acceptance probability does not match the target. It is 0.8974605115480878, but should be close to 0.8. Try to increase the number of tuning steps.\n",
      "Auto-assigning NUTS sampler...\n",
      "Initializing NUTS using adapt_diag...\n"
     ]
    },
    {
     "name": "stdout",
     "output_type": "stream",
     "text": [
      "running inference on dataset #112/200\n"
     ]
    },
    {
     "name": "stderr",
     "output_type": "stream",
     "text": [
      "Multiprocess sampling (2 chains in 2 jobs)\n",
      "NUTS: [epsilon, sigma_e, eta, sigma, mu, amp]\n",
      "Sampling 2 chains, 0 divergences: 100%|██████████| 5000/5000 [00:20<00:00, 247.91draws/s]\n",
      "The acceptance probability does not match the target. It is 0.8813352034859033, but should be close to 0.8. Try to increase the number of tuning steps.\n",
      "The acceptance probability does not match the target. It is 0.892843043171128, but should be close to 0.8. Try to increase the number of tuning steps.\n",
      "Auto-assigning NUTS sampler...\n",
      "Initializing NUTS using adapt_diag...\n"
     ]
    },
    {
     "name": "stdout",
     "output_type": "stream",
     "text": [
      "running inference on dataset #113/200\n"
     ]
    },
    {
     "name": "stderr",
     "output_type": "stream",
     "text": [
      "Multiprocess sampling (2 chains in 2 jobs)\n",
      "NUTS: [epsilon, sigma_e, eta, sigma, mu, amp]\n",
      "Sampling 2 chains, 0 divergences: 100%|██████████| 5000/5000 [00:13<00:00, 361.06draws/s]\n",
      "The acceptance probability does not match the target. It is 0.8900624582504307, but should be close to 0.8. Try to increase the number of tuning steps.\n",
      "Auto-assigning NUTS sampler...\n",
      "Initializing NUTS using adapt_diag...\n"
     ]
    },
    {
     "name": "stdout",
     "output_type": "stream",
     "text": [
      "running inference on dataset #114/200\n"
     ]
    },
    {
     "name": "stderr",
     "output_type": "stream",
     "text": [
      "Multiprocess sampling (2 chains in 2 jobs)\n",
      "NUTS: [epsilon, sigma_e, eta, sigma, mu, amp]\n",
      "Sampling 2 chains, 14 divergences: 100%|██████████| 5000/5000 [00:15<00:00, 327.21draws/s]\n",
      "There were 10 divergences after tuning. Increase `target_accept` or reparameterize.\n",
      "There were 4 divergences after tuning. Increase `target_accept` or reparameterize.\n",
      "Auto-assigning NUTS sampler...\n",
      "Initializing NUTS using adapt_diag...\n"
     ]
    },
    {
     "name": "stdout",
     "output_type": "stream",
     "text": [
      "running inference on dataset #115/200\n"
     ]
    },
    {
     "name": "stderr",
     "output_type": "stream",
     "text": [
      "Multiprocess sampling (2 chains in 2 jobs)\n",
      "NUTS: [epsilon, sigma_e, eta, sigma, mu, amp]\n",
      "Sampling 2 chains, 0 divergences: 100%|██████████| 5000/5000 [01:35<00:00, 52.35draws/s]\n",
      "The acceptance probability does not match the target. It is 0.9209818093177861, but should be close to 0.8. Try to increase the number of tuning steps.\n",
      "The acceptance probability does not match the target. It is 0.9121713085145213, but should be close to 0.8. Try to increase the number of tuning steps.\n",
      "The number of effective samples is smaller than 25% for some parameters.\n",
      "Auto-assigning NUTS sampler...\n",
      "Initializing NUTS using adapt_diag...\n"
     ]
    },
    {
     "name": "stdout",
     "output_type": "stream",
     "text": [
      "running inference on dataset #116/200\n"
     ]
    },
    {
     "name": "stderr",
     "output_type": "stream",
     "text": [
      "Multiprocess sampling (2 chains in 2 jobs)\n",
      "NUTS: [epsilon, sigma_e, eta, sigma, mu, amp]\n",
      "Sampling 2 chains, 0 divergences: 100%|██████████| 5000/5000 [00:19<00:00, 251.16draws/s]\n",
      "The acceptance probability does not match the target. It is 0.8866347597972123, but should be close to 0.8. Try to increase the number of tuning steps.\n",
      "Auto-assigning NUTS sampler...\n",
      "Initializing NUTS using adapt_diag...\n"
     ]
    },
    {
     "name": "stdout",
     "output_type": "stream",
     "text": [
      "running inference on dataset #117/200\n"
     ]
    },
    {
     "name": "stderr",
     "output_type": "stream",
     "text": [
      "Multiprocess sampling (2 chains in 2 jobs)\n",
      "NUTS: [epsilon, sigma_e, eta, sigma, mu, amp]\n",
      "Sampling 2 chains, 0 divergences: 100%|██████████| 5000/5000 [04:19<00:00, 19.26draws/s]\n",
      "The number of effective samples is smaller than 25% for some parameters.\n",
      "Auto-assigning NUTS sampler...\n",
      "Initializing NUTS using adapt_diag...\n"
     ]
    },
    {
     "name": "stdout",
     "output_type": "stream",
     "text": [
      "running inference on dataset #118/200\n"
     ]
    },
    {
     "name": "stderr",
     "output_type": "stream",
     "text": [
      "Multiprocess sampling (2 chains in 2 jobs)\n",
      "NUTS: [epsilon, sigma_e, eta, sigma, mu, amp]\n",
      "Sampling 2 chains, 3 divergences: 100%|██████████| 5000/5000 [00:16<00:00, 306.57draws/s]\n",
      "There was 1 divergence after tuning. Increase `target_accept` or reparameterize.\n",
      "The acceptance probability does not match the target. It is 0.9053576789496115, but should be close to 0.8. Try to increase the number of tuning steps.\n",
      "There was 1 divergence after tuning. Increase `target_accept` or reparameterize.\n",
      "Auto-assigning NUTS sampler...\n",
      "Initializing NUTS using adapt_diag...\n"
     ]
    },
    {
     "name": "stdout",
     "output_type": "stream",
     "text": [
      "running inference on dataset #119/200\n"
     ]
    },
    {
     "name": "stderr",
     "output_type": "stream",
     "text": [
      "Multiprocess sampling (2 chains in 2 jobs)\n",
      "NUTS: [epsilon, sigma_e, eta, sigma, mu, amp]\n",
      "Sampling 2 chains, 0 divergences: 100%|██████████| 5000/5000 [02:02<00:00, 40.90draws/s]\n",
      "The acceptance probability does not match the target. It is 0.892286731346212, but should be close to 0.8. Try to increase the number of tuning steps.\n",
      "The number of effective samples is smaller than 25% for some parameters.\n",
      "Auto-assigning NUTS sampler...\n",
      "Initializing NUTS using adapt_diag...\n"
     ]
    },
    {
     "name": "stdout",
     "output_type": "stream",
     "text": [
      "running inference on dataset #120/200\n"
     ]
    },
    {
     "name": "stderr",
     "output_type": "stream",
     "text": [
      "Multiprocess sampling (2 chains in 2 jobs)\n",
      "NUTS: [epsilon, sigma_e, eta, sigma, mu, amp]\n",
      "Sampling 2 chains, 1 divergences: 100%|██████████| 5000/5000 [00:17<00:00, 281.44draws/s]\n",
      "There was 1 divergence after tuning. Increase `target_accept` or reparameterize.\n",
      "The acceptance probability does not match the target. It is 0.9052737304138307, but should be close to 0.8. Try to increase the number of tuning steps.\n",
      "The acceptance probability does not match the target. It is 0.9129183945435783, but should be close to 0.8. Try to increase the number of tuning steps.\n",
      "Auto-assigning NUTS sampler...\n",
      "Initializing NUTS using adapt_diag...\n"
     ]
    },
    {
     "name": "stdout",
     "output_type": "stream",
     "text": [
      "running inference on dataset #121/200\n"
     ]
    },
    {
     "name": "stderr",
     "output_type": "stream",
     "text": [
      "Multiprocess sampling (2 chains in 2 jobs)\n",
      "NUTS: [epsilon, sigma_e, eta, sigma, mu, amp]\n",
      "Sampling 2 chains, 2 divergences: 100%|██████████| 5000/5000 [00:16<00:00, 304.77draws/s]\n",
      "There were 2 divergences after tuning. Increase `target_accept` or reparameterize.\n",
      "The acceptance probability does not match the target. It is 0.9024188707549018, but should be close to 0.8. Try to increase the number of tuning steps.\n",
      "Auto-assigning NUTS sampler...\n",
      "Initializing NUTS using adapt_diag...\n"
     ]
    },
    {
     "name": "stdout",
     "output_type": "stream",
     "text": [
      "running inference on dataset #122/200\n"
     ]
    },
    {
     "name": "stderr",
     "output_type": "stream",
     "text": [
      "Multiprocess sampling (2 chains in 2 jobs)\n",
      "NUTS: [epsilon, sigma_e, eta, sigma, mu, amp]\n",
      "Sampling 2 chains, 0 divergences: 100%|██████████| 5000/5000 [00:20<00:00, 241.57draws/s]\n",
      "The acceptance probability does not match the target. It is 0.9132933966985343, but should be close to 0.8. Try to increase the number of tuning steps.\n",
      "Auto-assigning NUTS sampler...\n",
      "Initializing NUTS using adapt_diag...\n"
     ]
    },
    {
     "name": "stdout",
     "output_type": "stream",
     "text": [
      "running inference on dataset #123/200\n"
     ]
    },
    {
     "name": "stderr",
     "output_type": "stream",
     "text": [
      "Multiprocess sampling (2 chains in 2 jobs)\n",
      "NUTS: [epsilon, sigma_e, eta, sigma, mu, amp]\n",
      "Sampling 2 chains, 0 divergences: 100%|██████████| 5000/5000 [00:27<00:00, 184.39draws/s]\n",
      "The acceptance probability does not match the target. It is 0.910820113795349, but should be close to 0.8. Try to increase the number of tuning steps.\n",
      "Auto-assigning NUTS sampler...\n",
      "Initializing NUTS using adapt_diag...\n"
     ]
    },
    {
     "name": "stdout",
     "output_type": "stream",
     "text": [
      "running inference on dataset #124/200\n"
     ]
    },
    {
     "name": "stderr",
     "output_type": "stream",
     "text": [
      "Multiprocess sampling (2 chains in 2 jobs)\n",
      "NUTS: [epsilon, sigma_e, eta, sigma, mu, amp]\n",
      "Sampling 2 chains, 1 divergences: 100%|██████████| 5000/5000 [00:16<00:00, 300.29draws/s]\n",
      "There was 1 divergence after tuning. Increase `target_accept` or reparameterize.\n",
      "The acceptance probability does not match the target. It is 0.9014368206958762, but should be close to 0.8. Try to increase the number of tuning steps.\n",
      "The acceptance probability does not match the target. It is 0.9048132518803544, but should be close to 0.8. Try to increase the number of tuning steps.\n",
      "Auto-assigning NUTS sampler...\n",
      "Initializing NUTS using adapt_diag...\n"
     ]
    },
    {
     "name": "stdout",
     "output_type": "stream",
     "text": [
      "running inference on dataset #125/200\n"
     ]
    },
    {
     "name": "stderr",
     "output_type": "stream",
     "text": [
      "Multiprocess sampling (2 chains in 2 jobs)\n",
      "NUTS: [epsilon, sigma_e, eta, sigma, mu, amp]\n",
      "Sampling 2 chains, 1 divergences: 100%|██████████| 5000/5000 [00:15<00:00, 316.74draws/s]\n",
      "There was 1 divergence after tuning. Increase `target_accept` or reparameterize.\n",
      "Auto-assigning NUTS sampler...\n",
      "Initializing NUTS using adapt_diag...\n"
     ]
    },
    {
     "name": "stdout",
     "output_type": "stream",
     "text": [
      "running inference on dataset #126/200\n"
     ]
    },
    {
     "name": "stderr",
     "output_type": "stream",
     "text": [
      "Multiprocess sampling (2 chains in 2 jobs)\n",
      "NUTS: [epsilon, sigma_e, eta, sigma, mu, amp]\n",
      "Sampling 2 chains, 5 divergences: 100%|██████████| 5000/5000 [00:16<00:00, 308.08draws/s]\n",
      "There were 2 divergences after tuning. Increase `target_accept` or reparameterize.\n",
      "The acceptance probability does not match the target. It is 0.8990744586114653, but should be close to 0.8. Try to increase the number of tuning steps.\n",
      "There were 3 divergences after tuning. Increase `target_accept` or reparameterize.\n",
      "The acceptance probability does not match the target. It is 0.8795941079654146, but should be close to 0.8. Try to increase the number of tuning steps.\n",
      "Auto-assigning NUTS sampler...\n",
      "Initializing NUTS using adapt_diag...\n"
     ]
    },
    {
     "name": "stdout",
     "output_type": "stream",
     "text": [
      "running inference on dataset #127/200\n"
     ]
    },
    {
     "name": "stderr",
     "output_type": "stream",
     "text": [
      "Multiprocess sampling (2 chains in 2 jobs)\n",
      "NUTS: [epsilon, sigma_e, eta, sigma, mu, amp]\n",
      "Sampling 2 chains, 0 divergences: 100%|██████████| 5000/5000 [00:12<00:00, 402.63draws/s]\n",
      "Auto-assigning NUTS sampler...\n",
      "Initializing NUTS using adapt_diag...\n"
     ]
    },
    {
     "name": "stdout",
     "output_type": "stream",
     "text": [
      "running inference on dataset #128/200\n"
     ]
    },
    {
     "name": "stderr",
     "output_type": "stream",
     "text": [
      "Multiprocess sampling (2 chains in 2 jobs)\n",
      "NUTS: [epsilon, sigma_e, eta, sigma, mu, amp]\n",
      "Sampling 2 chains, 0 divergences: 100%|██████████| 5000/5000 [00:17<00:00, 284.62draws/s]\n",
      "The acceptance probability does not match the target. It is 0.9316876021170912, but should be close to 0.8. Try to increase the number of tuning steps.\n",
      "The acceptance probability does not match the target. It is 0.9057412192528002, but should be close to 0.8. Try to increase the number of tuning steps.\n",
      "Auto-assigning NUTS sampler...\n",
      "Initializing NUTS using adapt_diag...\n"
     ]
    },
    {
     "name": "stdout",
     "output_type": "stream",
     "text": [
      "running inference on dataset #129/200\n"
     ]
    },
    {
     "name": "stderr",
     "output_type": "stream",
     "text": [
      "Multiprocess sampling (2 chains in 2 jobs)\n",
      "NUTS: [epsilon, sigma_e, eta, sigma, mu, amp]\n",
      "Sampling 2 chains, 0 divergences: 100%|██████████| 5000/5000 [00:18<00:00, 273.79draws/s]\n",
      "Auto-assigning NUTS sampler...\n",
      "Initializing NUTS using adapt_diag...\n"
     ]
    },
    {
     "name": "stdout",
     "output_type": "stream",
     "text": [
      "running inference on dataset #130/200\n"
     ]
    },
    {
     "name": "stderr",
     "output_type": "stream",
     "text": [
      "Multiprocess sampling (2 chains in 2 jobs)\n",
      "NUTS: [epsilon, sigma_e, eta, sigma, mu, amp]\n",
      "Sampling 2 chains, 3 divergences: 100%|██████████| 5000/5000 [00:15<00:00, 327.35draws/s]\n",
      "There was 1 divergence after tuning. Increase `target_accept` or reparameterize.\n",
      "There were 2 divergences after tuning. Increase `target_accept` or reparameterize.\n",
      "The acceptance probability does not match the target. It is 0.9013768453097246, but should be close to 0.8. Try to increase the number of tuning steps.\n",
      "Auto-assigning NUTS sampler...\n",
      "Initializing NUTS using adapt_diag...\n"
     ]
    },
    {
     "name": "stdout",
     "output_type": "stream",
     "text": [
      "running inference on dataset #131/200\n"
     ]
    },
    {
     "name": "stderr",
     "output_type": "stream",
     "text": [
      "Multiprocess sampling (2 chains in 2 jobs)\n",
      "NUTS: [epsilon, sigma_e, eta, sigma, mu, amp]\n",
      "Sampling 2 chains, 4 divergences: 100%|██████████| 5000/5000 [00:15<00:00, 314.06draws/s]\n",
      "There was 1 divergence after tuning. Increase `target_accept` or reparameterize.\n",
      "The acceptance probability does not match the target. It is 0.8984588248476657, but should be close to 0.8. Try to increase the number of tuning steps.\n",
      "There were 3 divergences after tuning. Increase `target_accept` or reparameterize.\n",
      "Auto-assigning NUTS sampler...\n",
      "Initializing NUTS using adapt_diag...\n"
     ]
    },
    {
     "name": "stdout",
     "output_type": "stream",
     "text": [
      "running inference on dataset #132/200\n"
     ]
    },
    {
     "name": "stderr",
     "output_type": "stream",
     "text": [
      "Multiprocess sampling (2 chains in 2 jobs)\n",
      "NUTS: [epsilon, sigma_e, eta, sigma, mu, amp]\n",
      "Sampling 2 chains, 0 divergences: 100%|██████████| 5000/5000 [01:23<00:00, 59.96draws/s] \n",
      "The acceptance probability does not match the target. It is 0.9502690491478305, but should be close to 0.8. Try to increase the number of tuning steps.\n",
      "The acceptance probability does not match the target. It is 0.9419150512361328, but should be close to 0.8. Try to increase the number of tuning steps.\n",
      "The number of effective samples is smaller than 25% for some parameters.\n",
      "Auto-assigning NUTS sampler...\n",
      "Initializing NUTS using adapt_diag...\n"
     ]
    },
    {
     "name": "stdout",
     "output_type": "stream",
     "text": [
      "running inference on dataset #133/200\n"
     ]
    },
    {
     "name": "stderr",
     "output_type": "stream",
     "text": [
      "Multiprocess sampling (2 chains in 2 jobs)\n",
      "NUTS: [epsilon, sigma_e, eta, sigma, mu, amp]\n",
      "Sampling 2 chains, 1 divergences: 100%|██████████| 5000/5000 [00:16<00:00, 294.89draws/s]\n",
      "The acceptance probability does not match the target. It is 0.8966266172415688, but should be close to 0.8. Try to increase the number of tuning steps.\n",
      "There was 1 divergence after tuning. Increase `target_accept` or reparameterize.\n",
      "The acceptance probability does not match the target. It is 0.8858914335356622, but should be close to 0.8. Try to increase the number of tuning steps.\n",
      "Auto-assigning NUTS sampler...\n",
      "Initializing NUTS using adapt_diag...\n"
     ]
    },
    {
     "name": "stdout",
     "output_type": "stream",
     "text": [
      "running inference on dataset #134/200\n"
     ]
    },
    {
     "name": "stderr",
     "output_type": "stream",
     "text": [
      "Multiprocess sampling (2 chains in 2 jobs)\n",
      "NUTS: [epsilon, sigma_e, eta, sigma, mu, amp]\n",
      "Sampling 2 chains, 2 divergences: 100%|██████████| 5000/5000 [00:15<00:00, 323.17draws/s]\n",
      "There were 2 divergences after tuning. Increase `target_accept` or reparameterize.\n",
      "Auto-assigning NUTS sampler...\n",
      "Initializing NUTS using adapt_diag...\n"
     ]
    },
    {
     "name": "stdout",
     "output_type": "stream",
     "text": [
      "running inference on dataset #135/200\n"
     ]
    },
    {
     "name": "stderr",
     "output_type": "stream",
     "text": [
      "Multiprocess sampling (2 chains in 2 jobs)\n",
      "NUTS: [epsilon, sigma_e, eta, sigma, mu, amp]\n",
      "Sampling 2 chains, 0 divergences: 100%|██████████| 5000/5000 [00:29<00:00, 170.13draws/s]\n",
      "The acceptance probability does not match the target. It is 0.912853761783035, but should be close to 0.8. Try to increase the number of tuning steps.\n",
      "The acceptance probability does not match the target. It is 0.9233943852849893, but should be close to 0.8. Try to increase the number of tuning steps.\n",
      "The number of effective samples is smaller than 25% for some parameters.\n",
      "Auto-assigning NUTS sampler...\n",
      "Initializing NUTS using adapt_diag...\n"
     ]
    },
    {
     "name": "stdout",
     "output_type": "stream",
     "text": [
      "running inference on dataset #136/200\n"
     ]
    },
    {
     "name": "stderr",
     "output_type": "stream",
     "text": [
      "Multiprocess sampling (2 chains in 2 jobs)\n",
      "NUTS: [epsilon, sigma_e, eta, sigma, mu, amp]\n",
      "Sampling 2 chains, 0 divergences: 100%|██████████| 5000/5000 [00:24<00:00, 202.91draws/s]\n",
      "Auto-assigning NUTS sampler...\n",
      "Initializing NUTS using adapt_diag...\n"
     ]
    },
    {
     "name": "stdout",
     "output_type": "stream",
     "text": [
      "running inference on dataset #137/200\n"
     ]
    },
    {
     "name": "stderr",
     "output_type": "stream",
     "text": [
      "Multiprocess sampling (2 chains in 2 jobs)\n",
      "NUTS: [epsilon, sigma_e, eta, sigma, mu, amp]\n",
      "Sampling 2 chains, 0 divergences: 100%|██████████| 5000/5000 [00:16<00:00, 308.58draws/s]\n",
      "The acceptance probability does not match the target. It is 0.906697325408416, but should be close to 0.8. Try to increase the number of tuning steps.\n",
      "Auto-assigning NUTS sampler...\n",
      "Initializing NUTS using adapt_diag...\n"
     ]
    },
    {
     "name": "stdout",
     "output_type": "stream",
     "text": [
      "running inference on dataset #138/200\n"
     ]
    },
    {
     "name": "stderr",
     "output_type": "stream",
     "text": [
      "Multiprocess sampling (2 chains in 2 jobs)\n",
      "NUTS: [epsilon, sigma_e, eta, sigma, mu, amp]\n",
      "Sampling 2 chains, 6 divergences: 100%|██████████| 5000/5000 [00:13<00:00, 362.60draws/s]\n",
      "There were 3 divergences after tuning. Increase `target_accept` or reparameterize.\n",
      "There were 3 divergences after tuning. Increase `target_accept` or reparameterize.\n",
      "Auto-assigning NUTS sampler...\n",
      "Initializing NUTS using adapt_diag...\n"
     ]
    },
    {
     "name": "stdout",
     "output_type": "stream",
     "text": [
      "running inference on dataset #139/200\n"
     ]
    },
    {
     "name": "stderr",
     "output_type": "stream",
     "text": [
      "Multiprocess sampling (2 chains in 2 jobs)\n",
      "NUTS: [epsilon, sigma_e, eta, sigma, mu, amp]\n",
      "Sampling 2 chains, 0 divergences: 100%|██████████| 5000/5000 [00:15<00:00, 313.22draws/s]\n",
      "The acceptance probability does not match the target. It is 0.8879097636286111, but should be close to 0.8. Try to increase the number of tuning steps.\n",
      "Auto-assigning NUTS sampler...\n",
      "Initializing NUTS using adapt_diag...\n"
     ]
    },
    {
     "name": "stdout",
     "output_type": "stream",
     "text": [
      "running inference on dataset #140/200\n"
     ]
    },
    {
     "name": "stderr",
     "output_type": "stream",
     "text": [
      "Multiprocess sampling (2 chains in 2 jobs)\n",
      "NUTS: [epsilon, sigma_e, eta, sigma, mu, amp]\n",
      "Sampling 2 chains, 1 divergences: 100%|██████████| 5000/5000 [00:14<00:00, 349.36draws/s]\n",
      "The acceptance probability does not match the target. It is 0.8799998358193328, but should be close to 0.8. Try to increase the number of tuning steps.\n",
      "There was 1 divergence after tuning. Increase `target_accept` or reparameterize.\n",
      "The acceptance probability does not match the target. It is 0.8915334893328068, but should be close to 0.8. Try to increase the number of tuning steps.\n",
      "Auto-assigning NUTS sampler...\n",
      "Initializing NUTS using adapt_diag...\n"
     ]
    },
    {
     "name": "stdout",
     "output_type": "stream",
     "text": [
      "running inference on dataset #141/200\n"
     ]
    },
    {
     "name": "stderr",
     "output_type": "stream",
     "text": [
      "Multiprocess sampling (2 chains in 2 jobs)\n",
      "NUTS: [epsilon, sigma_e, eta, sigma, mu, amp]\n",
      "Sampling 2 chains, 1 divergences: 100%|██████████| 5000/5000 [00:17<00:00, 293.00draws/s]\n",
      "The acceptance probability does not match the target. It is 0.9210861466315817, but should be close to 0.8. Try to increase the number of tuning steps.\n",
      "There was 1 divergence after tuning. Increase `target_accept` or reparameterize.\n",
      "The acceptance probability does not match the target. It is 0.9153361468850035, but should be close to 0.8. Try to increase the number of tuning steps.\n",
      "Auto-assigning NUTS sampler...\n",
      "Initializing NUTS using adapt_diag...\n"
     ]
    },
    {
     "name": "stdout",
     "output_type": "stream",
     "text": [
      "running inference on dataset #142/200\n"
     ]
    },
    {
     "name": "stderr",
     "output_type": "stream",
     "text": [
      "Multiprocess sampling (2 chains in 2 jobs)\n",
      "NUTS: [epsilon, sigma_e, eta, sigma, mu, amp]\n",
      "Sampling 2 chains, 0 divergences: 100%|██████████| 5000/5000 [01:22<00:00, 60.68draws/s]\n",
      "The acceptance probability does not match the target. It is 0.886333932090938, but should be close to 0.8. Try to increase the number of tuning steps.\n",
      "The acceptance probability does not match the target. It is 0.9013230825039105, but should be close to 0.8. Try to increase the number of tuning steps.\n",
      "Auto-assigning NUTS sampler...\n",
      "Initializing NUTS using adapt_diag...\n"
     ]
    },
    {
     "name": "stdout",
     "output_type": "stream",
     "text": [
      "running inference on dataset #143/200\n"
     ]
    },
    {
     "name": "stderr",
     "output_type": "stream",
     "text": [
      "Multiprocess sampling (2 chains in 2 jobs)\n",
      "NUTS: [epsilon, sigma_e, eta, sigma, mu, amp]\n",
      "Sampling 2 chains, 0 divergences: 100%|██████████| 5000/5000 [00:17<00:00, 282.99draws/s]\n",
      "Auto-assigning NUTS sampler...\n",
      "Initializing NUTS using adapt_diag...\n"
     ]
    },
    {
     "name": "stdout",
     "output_type": "stream",
     "text": [
      "running inference on dataset #144/200\n"
     ]
    },
    {
     "name": "stderr",
     "output_type": "stream",
     "text": [
      "Multiprocess sampling (2 chains in 2 jobs)\n",
      "NUTS: [epsilon, sigma_e, eta, sigma, mu, amp]\n",
      "Sampling 2 chains, 4 divergences: 100%|██████████| 5000/5000 [00:16<00:00, 308.19draws/s]\n",
      "There were 4 divergences after tuning. Increase `target_accept` or reparameterize.\n",
      "The acceptance probability does not match the target. It is 0.8967853424794386, but should be close to 0.8. Try to increase the number of tuning steps.\n",
      "The acceptance probability does not match the target. It is 0.893893915694931, but should be close to 0.8. Try to increase the number of tuning steps.\n",
      "Auto-assigning NUTS sampler...\n",
      "Initializing NUTS using adapt_diag...\n"
     ]
    },
    {
     "name": "stdout",
     "output_type": "stream",
     "text": [
      "running inference on dataset #145/200\n"
     ]
    },
    {
     "name": "stderr",
     "output_type": "stream",
     "text": [
      "Multiprocess sampling (2 chains in 2 jobs)\n",
      "NUTS: [epsilon, sigma_e, eta, sigma, mu, amp]\n",
      "Sampling 2 chains, 0 divergences: 100%|██████████| 5000/5000 [00:35<00:00, 138.91draws/s]\n",
      "The acceptance probability does not match the target. It is 0.9193156560238918, but should be close to 0.8. Try to increase the number of tuning steps.\n",
      "The acceptance probability does not match the target. It is 0.929397996017128, but should be close to 0.8. Try to increase the number of tuning steps.\n",
      "The number of effective samples is smaller than 25% for some parameters.\n",
      "Auto-assigning NUTS sampler...\n",
      "Initializing NUTS using adapt_diag...\n"
     ]
    },
    {
     "name": "stdout",
     "output_type": "stream",
     "text": [
      "running inference on dataset #146/200\n"
     ]
    },
    {
     "name": "stderr",
     "output_type": "stream",
     "text": [
      "Multiprocess sampling (2 chains in 2 jobs)\n",
      "NUTS: [epsilon, sigma_e, eta, sigma, mu, amp]\n",
      "Sampling 2 chains, 7 divergences: 100%|██████████| 5000/5000 [00:15<00:00, 320.39draws/s]\n",
      "There were 4 divergences after tuning. Increase `target_accept` or reparameterize.\n",
      "There were 3 divergences after tuning. Increase `target_accept` or reparameterize.\n",
      "The acceptance probability does not match the target. It is 0.8882580254383657, but should be close to 0.8. Try to increase the number of tuning steps.\n",
      "Auto-assigning NUTS sampler...\n",
      "Initializing NUTS using adapt_diag...\n"
     ]
    },
    {
     "name": "stdout",
     "output_type": "stream",
     "text": [
      "running inference on dataset #147/200\n"
     ]
    },
    {
     "name": "stderr",
     "output_type": "stream",
     "text": [
      "Multiprocess sampling (2 chains in 2 jobs)\n",
      "NUTS: [epsilon, sigma_e, eta, sigma, mu, amp]\n",
      "Sampling 2 chains, 0 divergences: 100%|██████████| 5000/5000 [00:17<00:00, 287.11draws/s]\n",
      "The acceptance probability does not match the target. It is 0.9288744913071959, but should be close to 0.8. Try to increase the number of tuning steps.\n",
      "The acceptance probability does not match the target. It is 0.9018366276245502, but should be close to 0.8. Try to increase the number of tuning steps.\n",
      "Auto-assigning NUTS sampler...\n",
      "Initializing NUTS using adapt_diag...\n"
     ]
    },
    {
     "name": "stdout",
     "output_type": "stream",
     "text": [
      "running inference on dataset #148/200\n"
     ]
    },
    {
     "name": "stderr",
     "output_type": "stream",
     "text": [
      "Multiprocess sampling (2 chains in 2 jobs)\n",
      "NUTS: [epsilon, sigma_e, eta, sigma, mu, amp]\n",
      "Sampling 2 chains, 0 divergences: 100%|██████████| 5000/5000 [00:17<00:00, 290.50draws/s]\n",
      "The acceptance probability does not match the target. It is 0.8933745945117315, but should be close to 0.8. Try to increase the number of tuning steps.\n",
      "Auto-assigning NUTS sampler...\n",
      "Initializing NUTS using adapt_diag...\n"
     ]
    },
    {
     "name": "stdout",
     "output_type": "stream",
     "text": [
      "running inference on dataset #149/200\n"
     ]
    },
    {
     "name": "stderr",
     "output_type": "stream",
     "text": [
      "Multiprocess sampling (2 chains in 2 jobs)\n",
      "NUTS: [epsilon, sigma_e, eta, sigma, mu, amp]\n",
      "Sampling 2 chains, 0 divergences: 100%|██████████| 5000/5000 [00:13<00:00, 359.05draws/s]\n",
      "The acceptance probability does not match the target. It is 0.9009414387800809, but should be close to 0.8. Try to increase the number of tuning steps.\n",
      "Auto-assigning NUTS sampler...\n",
      "Initializing NUTS using adapt_diag...\n"
     ]
    },
    {
     "name": "stdout",
     "output_type": "stream",
     "text": [
      "running inference on dataset #150/200\n"
     ]
    },
    {
     "name": "stderr",
     "output_type": "stream",
     "text": [
      "Multiprocess sampling (2 chains in 2 jobs)\n",
      "NUTS: [epsilon, sigma_e, eta, sigma, mu, amp]\n",
      "Sampling 2 chains, 0 divergences: 100%|██████████| 5000/5000 [00:21<00:00, 238.06draws/s]\n",
      "The acceptance probability does not match the target. It is 0.9155252106385586, but should be close to 0.8. Try to increase the number of tuning steps.\n",
      "Auto-assigning NUTS sampler...\n",
      "Initializing NUTS using adapt_diag...\n"
     ]
    },
    {
     "name": "stdout",
     "output_type": "stream",
     "text": [
      "running inference on dataset #151/200\n"
     ]
    },
    {
     "name": "stderr",
     "output_type": "stream",
     "text": [
      "Multiprocess sampling (2 chains in 2 jobs)\n",
      "NUTS: [epsilon, sigma_e, eta, sigma, mu, amp]\n",
      "Sampling 2 chains, 1 divergences: 100%|██████████| 5000/5000 [00:13<00:00, 371.84draws/s]\n",
      "There was 1 divergence after tuning. Increase `target_accept` or reparameterize.\n",
      "The acceptance probability does not match the target. It is 0.8788991474731648, but should be close to 0.8. Try to increase the number of tuning steps.\n",
      "Auto-assigning NUTS sampler...\n",
      "Initializing NUTS using adapt_diag...\n"
     ]
    },
    {
     "name": "stdout",
     "output_type": "stream",
     "text": [
      "running inference on dataset #152/200\n"
     ]
    },
    {
     "name": "stderr",
     "output_type": "stream",
     "text": [
      "Multiprocess sampling (2 chains in 2 jobs)\n",
      "NUTS: [epsilon, sigma_e, eta, sigma, mu, amp]\n",
      "Sampling 2 chains, 412 divergences: 100%|██████████| 5000/5000 [11:58<00:00,  6.96draws/s]\n",
      "There were 108 divergences after tuning. Increase `target_accept` or reparameterize.\n",
      "The chain reached the maximum tree depth. Increase max_treedepth, increase target_accept or reparameterize.\n",
      "There were 303 divergences after tuning. Increase `target_accept` or reparameterize.\n",
      "The chain reached the maximum tree depth. Increase max_treedepth, increase target_accept or reparameterize.\n",
      "The rhat statistic is larger than 1.05 for some parameters. This indicates slight problems during sampling.\n",
      "The estimated number of effective samples is smaller than 200 for some parameters.\n",
      "Auto-assigning NUTS sampler...\n",
      "Initializing NUTS using adapt_diag...\n"
     ]
    },
    {
     "name": "stdout",
     "output_type": "stream",
     "text": [
      "running inference on dataset #153/200\n"
     ]
    },
    {
     "name": "stderr",
     "output_type": "stream",
     "text": [
      "Multiprocess sampling (2 chains in 2 jobs)\n",
      "NUTS: [epsilon, sigma_e, eta, sigma, mu, amp]\n",
      "Sampling 2 chains, 0 divergences: 100%|██████████| 5000/5000 [01:14<00:00, 66.88draws/s]\n",
      "The acceptance probability does not match the target. It is 0.8825459708072733, but should be close to 0.8. Try to increase the number of tuning steps.\n",
      "The number of effective samples is smaller than 25% for some parameters.\n",
      "Auto-assigning NUTS sampler...\n",
      "Initializing NUTS using adapt_diag...\n"
     ]
    },
    {
     "name": "stdout",
     "output_type": "stream",
     "text": [
      "running inference on dataset #154/200\n"
     ]
    },
    {
     "name": "stderr",
     "output_type": "stream",
     "text": [
      "Multiprocess sampling (2 chains in 2 jobs)\n",
      "NUTS: [epsilon, sigma_e, eta, sigma, mu, amp]\n",
      "Sampling 2 chains, 2 divergences: 100%|██████████| 5000/5000 [00:15<00:00, 314.58draws/s]\n",
      "There was 1 divergence after tuning. Increase `target_accept` or reparameterize.\n",
      "The acceptance probability does not match the target. It is 0.88180847777591, but should be close to 0.8. Try to increase the number of tuning steps.\n",
      "There was 1 divergence after tuning. Increase `target_accept` or reparameterize.\n",
      "The acceptance probability does not match the target. It is 0.8786757442678826, but should be close to 0.8. Try to increase the number of tuning steps.\n",
      "Auto-assigning NUTS sampler...\n",
      "Initializing NUTS using adapt_diag...\n"
     ]
    },
    {
     "name": "stdout",
     "output_type": "stream",
     "text": [
      "running inference on dataset #155/200\n"
     ]
    },
    {
     "name": "stderr",
     "output_type": "stream",
     "text": [
      "Multiprocess sampling (2 chains in 2 jobs)\n",
      "NUTS: [epsilon, sigma_e, eta, sigma, mu, amp]\n",
      "Sampling 2 chains, 0 divergences: 100%|██████████| 5000/5000 [04:58<00:00, 16.72draws/s]\n",
      "The acceptance probability does not match the target. It is 0.8788438429296676, but should be close to 0.8. Try to increase the number of tuning steps.\n",
      "The number of effective samples is smaller than 25% for some parameters.\n",
      "Auto-assigning NUTS sampler...\n",
      "Initializing NUTS using adapt_diag...\n"
     ]
    },
    {
     "name": "stdout",
     "output_type": "stream",
     "text": [
      "running inference on dataset #156/200\n"
     ]
    },
    {
     "name": "stderr",
     "output_type": "stream",
     "text": [
      "Multiprocess sampling (2 chains in 2 jobs)\n",
      "NUTS: [epsilon, sigma_e, eta, sigma, mu, amp]\n",
      "Sampling 2 chains, 2 divergences: 100%|██████████| 5000/5000 [00:13<00:00, 372.16draws/s]\n",
      "There were 2 divergences after tuning. Increase `target_accept` or reparameterize.\n",
      "Auto-assigning NUTS sampler...\n",
      "Initializing NUTS using adapt_diag...\n"
     ]
    },
    {
     "name": "stdout",
     "output_type": "stream",
     "text": [
      "running inference on dataset #157/200\n"
     ]
    },
    {
     "name": "stderr",
     "output_type": "stream",
     "text": [
      "Multiprocess sampling (2 chains in 2 jobs)\n",
      "NUTS: [epsilon, sigma_e, eta, sigma, mu, amp]\n",
      "Sampling 2 chains, 0 divergences: 100%|██████████| 5000/5000 [00:14<00:00, 334.87draws/s]\n",
      "The acceptance probability does not match the target. It is 0.8978411538863468, but should be close to 0.8. Try to increase the number of tuning steps.\n",
      "Auto-assigning NUTS sampler...\n",
      "Initializing NUTS using adapt_diag...\n"
     ]
    },
    {
     "name": "stdout",
     "output_type": "stream",
     "text": [
      "running inference on dataset #158/200\n"
     ]
    },
    {
     "name": "stderr",
     "output_type": "stream",
     "text": [
      "Multiprocess sampling (2 chains in 2 jobs)\n",
      "NUTS: [epsilon, sigma_e, eta, sigma, mu, amp]\n",
      "Sampling 2 chains, 0 divergences: 100%|██████████| 5000/5000 [00:17<00:00, 293.18draws/s]\n",
      "The acceptance probability does not match the target. It is 0.8801297461946759, but should be close to 0.8. Try to increase the number of tuning steps.\n",
      "Auto-assigning NUTS sampler...\n",
      "Initializing NUTS using adapt_diag...\n"
     ]
    },
    {
     "name": "stdout",
     "output_type": "stream",
     "text": [
      "running inference on dataset #159/200\n"
     ]
    },
    {
     "name": "stderr",
     "output_type": "stream",
     "text": [
      "Multiprocess sampling (2 chains in 2 jobs)\n",
      "NUTS: [epsilon, sigma_e, eta, sigma, mu, amp]\n",
      "Sampling 2 chains, 0 divergences: 100%|██████████| 5000/5000 [00:14<00:00, 335.90draws/s]\n",
      "The acceptance probability does not match the target. It is 0.8869283244487525, but should be close to 0.8. Try to increase the number of tuning steps.\n",
      "Auto-assigning NUTS sampler...\n",
      "Initializing NUTS using adapt_diag...\n"
     ]
    },
    {
     "name": "stdout",
     "output_type": "stream",
     "text": [
      "running inference on dataset #160/200\n"
     ]
    },
    {
     "name": "stderr",
     "output_type": "stream",
     "text": [
      "Multiprocess sampling (2 chains in 2 jobs)\n",
      "NUTS: [epsilon, sigma_e, eta, sigma, mu, amp]\n",
      "Sampling 2 chains, 10 divergences: 100%|██████████| 5000/5000 [00:15<00:00, 313.12draws/s]\n",
      "There were 10 divergences after tuning. Increase `target_accept` or reparameterize.\n",
      "Auto-assigning NUTS sampler...\n",
      "Initializing NUTS using adapt_diag...\n"
     ]
    },
    {
     "name": "stdout",
     "output_type": "stream",
     "text": [
      "running inference on dataset #161/200\n"
     ]
    },
    {
     "name": "stderr",
     "output_type": "stream",
     "text": [
      "Multiprocess sampling (2 chains in 2 jobs)\n",
      "NUTS: [epsilon, sigma_e, eta, sigma, mu, amp]\n",
      "Sampling 2 chains, 0 divergences: 100%|██████████| 5000/5000 [00:17<00:00, 288.83draws/s]\n",
      "The acceptance probability does not match the target. It is 0.9072539197607151, but should be close to 0.8. Try to increase the number of tuning steps.\n",
      "The acceptance probability does not match the target. It is 0.8904338688555716, but should be close to 0.8. Try to increase the number of tuning steps.\n",
      "Auto-assigning NUTS sampler...\n",
      "Initializing NUTS using adapt_diag...\n"
     ]
    },
    {
     "name": "stdout",
     "output_type": "stream",
     "text": [
      "running inference on dataset #162/200\n"
     ]
    },
    {
     "name": "stderr",
     "output_type": "stream",
     "text": [
      "Multiprocess sampling (2 chains in 2 jobs)\n",
      "NUTS: [epsilon, sigma_e, eta, sigma, mu, amp]\n",
      "Sampling 2 chains, 1 divergences: 100%|██████████| 5000/5000 [00:19<00:00, 256.28draws/s]\n",
      "There was 1 divergence after tuning. Increase `target_accept` or reparameterize.\n",
      "The acceptance probability does not match the target. It is 0.8863590063994359, but should be close to 0.8. Try to increase the number of tuning steps.\n",
      "The acceptance probability does not match the target. It is 0.9292274264794845, but should be close to 0.8. Try to increase the number of tuning steps.\n",
      "Auto-assigning NUTS sampler...\n",
      "Initializing NUTS using adapt_diag...\n"
     ]
    },
    {
     "name": "stdout",
     "output_type": "stream",
     "text": [
      "running inference on dataset #163/200\n"
     ]
    },
    {
     "name": "stderr",
     "output_type": "stream",
     "text": [
      "Multiprocess sampling (2 chains in 2 jobs)\n",
      "NUTS: [epsilon, sigma_e, eta, sigma, mu, amp]\n",
      "Sampling 2 chains, 0 divergences: 100%|██████████| 5000/5000 [02:42<00:00, 30.80draws/s]\n",
      "The acceptance probability does not match the target. It is 0.8885730344528914, but should be close to 0.8. Try to increase the number of tuning steps.\n",
      "The rhat statistic is larger than 1.4 for some parameters. The sampler did not converge.\n",
      "The estimated number of effective samples is smaller than 200 for some parameters.\n",
      "Auto-assigning NUTS sampler...\n",
      "Initializing NUTS using adapt_diag...\n"
     ]
    },
    {
     "name": "stdout",
     "output_type": "stream",
     "text": [
      "running inference on dataset #164/200\n"
     ]
    },
    {
     "name": "stderr",
     "output_type": "stream",
     "text": [
      "Multiprocess sampling (2 chains in 2 jobs)\n",
      "NUTS: [epsilon, sigma_e, eta, sigma, mu, amp]\n",
      "Sampling 2 chains, 1 divergences: 100%|██████████| 5000/5000 [00:17<00:00, 287.61draws/s]\n",
      "There was 1 divergence after tuning. Increase `target_accept` or reparameterize.\n",
      "The acceptance probability does not match the target. It is 0.8883749424836914, but should be close to 0.8. Try to increase the number of tuning steps.\n",
      "Auto-assigning NUTS sampler...\n",
      "Initializing NUTS using adapt_diag...\n"
     ]
    },
    {
     "name": "stdout",
     "output_type": "stream",
     "text": [
      "running inference on dataset #165/200\n"
     ]
    },
    {
     "name": "stderr",
     "output_type": "stream",
     "text": [
      "Multiprocess sampling (2 chains in 2 jobs)\n",
      "NUTS: [epsilon, sigma_e, eta, sigma, mu, amp]\n",
      "Sampling 2 chains, 0 divergences: 100%|██████████| 5000/5000 [01:05<00:00, 76.77draws/s] \n",
      "The acceptance probability does not match the target. It is 0.8804985045144194, but should be close to 0.8. Try to increase the number of tuning steps.\n",
      "The acceptance probability does not match the target. It is 0.8842727295491616, but should be close to 0.8. Try to increase the number of tuning steps.\n",
      "The number of effective samples is smaller than 25% for some parameters.\n",
      "Auto-assigning NUTS sampler...\n",
      "Initializing NUTS using adapt_diag...\n"
     ]
    },
    {
     "name": "stdout",
     "output_type": "stream",
     "text": [
      "running inference on dataset #166/200\n"
     ]
    },
    {
     "name": "stderr",
     "output_type": "stream",
     "text": [
      "Multiprocess sampling (2 chains in 2 jobs)\n",
      "NUTS: [epsilon, sigma_e, eta, sigma, mu, amp]\n",
      "Sampling 2 chains, 383 divergences: 100%|██████████| 5000/5000 [07:33<00:00, 11.02draws/s]\n",
      "There were 257 divergences after tuning. Increase `target_accept` or reparameterize.\n",
      "There were 126 divergences after tuning. Increase `target_accept` or reparameterize.\n",
      "The acceptance probability does not match the target. It is 0.8993048998496574, but should be close to 0.8. Try to increase the number of tuning steps.\n",
      "The number of effective samples is smaller than 10% for some parameters.\n",
      "Auto-assigning NUTS sampler...\n",
      "Initializing NUTS using adapt_diag...\n"
     ]
    },
    {
     "name": "stdout",
     "output_type": "stream",
     "text": [
      "running inference on dataset #167/200\n"
     ]
    },
    {
     "name": "stderr",
     "output_type": "stream",
     "text": [
      "Multiprocess sampling (2 chains in 2 jobs)\n",
      "NUTS: [epsilon, sigma_e, eta, sigma, mu, amp]\n",
      "Sampling 2 chains, 0 divergences: 100%|██████████| 5000/5000 [00:19<00:00, 250.79draws/s]\n",
      "The acceptance probability does not match the target. It is 0.911721639758885, but should be close to 0.8. Try to increase the number of tuning steps.\n",
      "The acceptance probability does not match the target. It is 0.8952867961730262, but should be close to 0.8. Try to increase the number of tuning steps.\n",
      "Auto-assigning NUTS sampler...\n",
      "Initializing NUTS using adapt_diag...\n"
     ]
    },
    {
     "name": "stdout",
     "output_type": "stream",
     "text": [
      "running inference on dataset #168/200\n"
     ]
    },
    {
     "name": "stderr",
     "output_type": "stream",
     "text": [
      "Multiprocess sampling (2 chains in 2 jobs)\n",
      "NUTS: [epsilon, sigma_e, eta, sigma, mu, amp]\n",
      "Sampling 2 chains, 0 divergences: 100%|██████████| 5000/5000 [00:42<00:00, 118.46draws/s]\n",
      "The acceptance probability does not match the target. It is 0.9245447772757946, but should be close to 0.8. Try to increase the number of tuning steps.\n",
      "The acceptance probability does not match the target. It is 0.9274611256194342, but should be close to 0.8. Try to increase the number of tuning steps.\n",
      "Auto-assigning NUTS sampler...\n",
      "Initializing NUTS using adapt_diag...\n"
     ]
    },
    {
     "name": "stdout",
     "output_type": "stream",
     "text": [
      "running inference on dataset #169/200\n"
     ]
    },
    {
     "name": "stderr",
     "output_type": "stream",
     "text": [
      "Multiprocess sampling (2 chains in 2 jobs)\n",
      "NUTS: [epsilon, sigma_e, eta, sigma, mu, amp]\n",
      "Sampling 2 chains, 1 divergences: 100%|██████████| 5000/5000 [00:17<00:00, 285.57draws/s]\n",
      "There was 1 divergence after tuning. Increase `target_accept` or reparameterize.\n",
      "The acceptance probability does not match the target. It is 0.8855239571924804, but should be close to 0.8. Try to increase the number of tuning steps.\n",
      "The acceptance probability does not match the target. It is 0.9076455836389139, but should be close to 0.8. Try to increase the number of tuning steps.\n",
      "Auto-assigning NUTS sampler...\n",
      "Initializing NUTS using adapt_diag...\n"
     ]
    },
    {
     "name": "stdout",
     "output_type": "stream",
     "text": [
      "running inference on dataset #170/200\n"
     ]
    },
    {
     "name": "stderr",
     "output_type": "stream",
     "text": [
      "Multiprocess sampling (2 chains in 2 jobs)\n",
      "NUTS: [epsilon, sigma_e, eta, sigma, mu, amp]\n",
      "Sampling 2 chains, 0 divergences: 100%|██████████| 5000/5000 [00:18<00:00, 277.53draws/s]\n",
      "The acceptance probability does not match the target. It is 0.9110430526867018, but should be close to 0.8. Try to increase the number of tuning steps.\n",
      "The acceptance probability does not match the target. It is 0.8952379756234794, but should be close to 0.8. Try to increase the number of tuning steps.\n",
      "Auto-assigning NUTS sampler...\n",
      "Initializing NUTS using adapt_diag...\n"
     ]
    },
    {
     "name": "stdout",
     "output_type": "stream",
     "text": [
      "running inference on dataset #171/200\n"
     ]
    },
    {
     "name": "stderr",
     "output_type": "stream",
     "text": [
      "Multiprocess sampling (2 chains in 2 jobs)\n",
      "NUTS: [epsilon, sigma_e, eta, sigma, mu, amp]\n",
      "Sampling 2 chains, 0 divergences: 100%|██████████| 5000/5000 [00:19<00:00, 260.65draws/s]\n",
      "The acceptance probability does not match the target. It is 0.9057831662924745, but should be close to 0.8. Try to increase the number of tuning steps.\n",
      "Auto-assigning NUTS sampler...\n",
      "Initializing NUTS using adapt_diag...\n"
     ]
    },
    {
     "name": "stdout",
     "output_type": "stream",
     "text": [
      "running inference on dataset #172/200\n"
     ]
    },
    {
     "name": "stderr",
     "output_type": "stream",
     "text": [
      "Multiprocess sampling (2 chains in 2 jobs)\n",
      "NUTS: [epsilon, sigma_e, eta, sigma, mu, amp]\n",
      "Sampling 2 chains, 0 divergences: 100%|██████████| 5000/5000 [00:18<00:00, 266.49draws/s]\n",
      "The acceptance probability does not match the target. It is 0.9186303144326324, but should be close to 0.8. Try to increase the number of tuning steps.\n",
      "Auto-assigning NUTS sampler...\n",
      "Initializing NUTS using adapt_diag...\n"
     ]
    },
    {
     "name": "stdout",
     "output_type": "stream",
     "text": [
      "running inference on dataset #173/200\n"
     ]
    },
    {
     "name": "stderr",
     "output_type": "stream",
     "text": [
      "Multiprocess sampling (2 chains in 2 jobs)\n",
      "NUTS: [epsilon, sigma_e, eta, sigma, mu, amp]\n",
      "Sampling 2 chains, 2 divergences: 100%|██████████| 5000/5000 [00:15<00:00, 318.72draws/s]\n",
      "There were 2 divergences after tuning. Increase `target_accept` or reparameterize.\n",
      "Auto-assigning NUTS sampler...\n",
      "Initializing NUTS using adapt_diag...\n"
     ]
    },
    {
     "name": "stdout",
     "output_type": "stream",
     "text": [
      "running inference on dataset #174/200\n"
     ]
    },
    {
     "name": "stderr",
     "output_type": "stream",
     "text": [
      "Multiprocess sampling (2 chains in 2 jobs)\n",
      "NUTS: [epsilon, sigma_e, eta, sigma, mu, amp]\n",
      "Sampling 2 chains, 1 divergences: 100%|██████████| 5000/5000 [00:15<00:00, 327.46draws/s]\n",
      "There was 1 divergence after tuning. Increase `target_accept` or reparameterize.\n",
      "Auto-assigning NUTS sampler...\n",
      "Initializing NUTS using adapt_diag...\n"
     ]
    },
    {
     "name": "stdout",
     "output_type": "stream",
     "text": [
      "running inference on dataset #175/200\n"
     ]
    },
    {
     "name": "stderr",
     "output_type": "stream",
     "text": [
      "Multiprocess sampling (2 chains in 2 jobs)\n",
      "NUTS: [epsilon, sigma_e, eta, sigma, mu, amp]\n",
      "Sampling 2 chains, 0 divergences: 100%|██████████| 5000/5000 [00:29<00:00, 171.20draws/s]\n",
      "Auto-assigning NUTS sampler...\n",
      "Initializing NUTS using adapt_diag...\n"
     ]
    },
    {
     "name": "stdout",
     "output_type": "stream",
     "text": [
      "running inference on dataset #176/200\n"
     ]
    },
    {
     "name": "stderr",
     "output_type": "stream",
     "text": [
      "Multiprocess sampling (2 chains in 2 jobs)\n",
      "NUTS: [epsilon, sigma_e, eta, sigma, mu, amp]\n",
      "Sampling 2 chains, 0 divergences: 100%|██████████| 5000/5000 [00:19<00:00, 255.21draws/s]\n",
      "The acceptance probability does not match the target. It is 0.9124736020792579, but should be close to 0.8. Try to increase the number of tuning steps.\n",
      "The acceptance probability does not match the target. It is 0.8933650587101032, but should be close to 0.8. Try to increase the number of tuning steps.\n",
      "Auto-assigning NUTS sampler...\n",
      "Initializing NUTS using adapt_diag...\n"
     ]
    },
    {
     "name": "stdout",
     "output_type": "stream",
     "text": [
      "running inference on dataset #177/200\n"
     ]
    },
    {
     "name": "stderr",
     "output_type": "stream",
     "text": [
      "Multiprocess sampling (2 chains in 2 jobs)\n",
      "NUTS: [epsilon, sigma_e, eta, sigma, mu, amp]\n",
      "Sampling 2 chains, 1 divergences: 100%|██████████| 5000/5000 [00:16<00:00, 297.07draws/s]\n",
      "There was 1 divergence after tuning. Increase `target_accept` or reparameterize.\n",
      "Auto-assigning NUTS sampler...\n",
      "Initializing NUTS using adapt_diag...\n"
     ]
    },
    {
     "name": "stdout",
     "output_type": "stream",
     "text": [
      "running inference on dataset #178/200\n"
     ]
    },
    {
     "name": "stderr",
     "output_type": "stream",
     "text": [
      "Multiprocess sampling (2 chains in 2 jobs)\n",
      "NUTS: [epsilon, sigma_e, eta, sigma, mu, amp]\n",
      "Sampling 2 chains, 0 divergences: 100%|██████████| 5000/5000 [00:16<00:00, 294.14draws/s]\n",
      "The acceptance probability does not match the target. It is 0.900221330912337, but should be close to 0.8. Try to increase the number of tuning steps.\n",
      "The acceptance probability does not match the target. It is 0.9090364496389596, but should be close to 0.8. Try to increase the number of tuning steps.\n",
      "Auto-assigning NUTS sampler...\n",
      "Initializing NUTS using adapt_diag...\n"
     ]
    },
    {
     "name": "stdout",
     "output_type": "stream",
     "text": [
      "running inference on dataset #179/200\n"
     ]
    },
    {
     "name": "stderr",
     "output_type": "stream",
     "text": [
      "Multiprocess sampling (2 chains in 2 jobs)\n",
      "NUTS: [epsilon, sigma_e, eta, sigma, mu, amp]\n",
      "Sampling 2 chains, 2 divergences: 100%|██████████| 5000/5000 [00:12<00:00, 394.10draws/s]\n",
      "The acceptance probability does not match the target. It is 0.8831178797929493, but should be close to 0.8. Try to increase the number of tuning steps.\n",
      "There were 2 divergences after tuning. Increase `target_accept` or reparameterize.\n",
      "Auto-assigning NUTS sampler...\n",
      "Initializing NUTS using adapt_diag...\n"
     ]
    },
    {
     "name": "stdout",
     "output_type": "stream",
     "text": [
      "running inference on dataset #180/200\n"
     ]
    },
    {
     "name": "stderr",
     "output_type": "stream",
     "text": [
      "Multiprocess sampling (2 chains in 2 jobs)\n",
      "NUTS: [epsilon, sigma_e, eta, sigma, mu, amp]\n",
      "Sampling 2 chains, 0 divergences: 100%|██████████| 5000/5000 [00:19<00:00, 254.85draws/s]\n",
      "The acceptance probability does not match the target. It is 0.9165109475887279, but should be close to 0.8. Try to increase the number of tuning steps.\n",
      "The acceptance probability does not match the target. It is 0.9280059448001553, but should be close to 0.8. Try to increase the number of tuning steps.\n",
      "Auto-assigning NUTS sampler...\n",
      "Initializing NUTS using adapt_diag...\n"
     ]
    },
    {
     "name": "stdout",
     "output_type": "stream",
     "text": [
      "running inference on dataset #181/200\n"
     ]
    },
    {
     "name": "stderr",
     "output_type": "stream",
     "text": [
      "Multiprocess sampling (2 chains in 2 jobs)\n",
      "NUTS: [epsilon, sigma_e, eta, sigma, mu, amp]\n",
      "Sampling 2 chains, 0 divergences: 100%|██████████| 5000/5000 [00:15<00:00, 321.37draws/s]\n",
      "The acceptance probability does not match the target. It is 0.9134254936098093, but should be close to 0.8. Try to increase the number of tuning steps.\n",
      "Auto-assigning NUTS sampler...\n",
      "Initializing NUTS using adapt_diag...\n"
     ]
    },
    {
     "name": "stdout",
     "output_type": "stream",
     "text": [
      "running inference on dataset #182/200\n"
     ]
    },
    {
     "name": "stderr",
     "output_type": "stream",
     "text": [
      "Multiprocess sampling (2 chains in 2 jobs)\n",
      "NUTS: [epsilon, sigma_e, eta, sigma, mu, amp]\n",
      "Sampling 2 chains, 708 divergences: 100%|██████████| 5000/5000 [07:07<00:00, 11.70draws/s]\n",
      "There were 252 divergences after tuning. Increase `target_accept` or reparameterize.\n",
      "There were 455 divergences after tuning. Increase `target_accept` or reparameterize.\n",
      "The estimated number of effective samples is smaller than 200 for some parameters.\n",
      "Auto-assigning NUTS sampler...\n",
      "Initializing NUTS using adapt_diag...\n"
     ]
    },
    {
     "name": "stdout",
     "output_type": "stream",
     "text": [
      "running inference on dataset #183/200\n"
     ]
    },
    {
     "name": "stderr",
     "output_type": "stream",
     "text": [
      "Multiprocess sampling (2 chains in 2 jobs)\n",
      "NUTS: [epsilon, sigma_e, eta, sigma, mu, amp]\n",
      "Sampling 2 chains, 0 divergences: 100%|██████████| 5000/5000 [00:42<00:00, 116.76draws/s]\n",
      "The acceptance probability does not match the target. It is 0.902940329287356, but should be close to 0.8. Try to increase the number of tuning steps.\n",
      "The acceptance probability does not match the target. It is 0.9198762792706904, but should be close to 0.8. Try to increase the number of tuning steps.\n",
      "Auto-assigning NUTS sampler...\n",
      "Initializing NUTS using adapt_diag...\n"
     ]
    },
    {
     "name": "stdout",
     "output_type": "stream",
     "text": [
      "running inference on dataset #184/200\n"
     ]
    },
    {
     "name": "stderr",
     "output_type": "stream",
     "text": [
      "Multiprocess sampling (2 chains in 2 jobs)\n",
      "NUTS: [epsilon, sigma_e, eta, sigma, mu, amp]\n",
      "Sampling 2 chains, 0 divergences: 100%|██████████| 5000/5000 [00:19<00:00, 257.08draws/s]\n",
      "The acceptance probability does not match the target. It is 0.9203566101281095, but should be close to 0.8. Try to increase the number of tuning steps.\n",
      "Auto-assigning NUTS sampler...\n",
      "Initializing NUTS using adapt_diag...\n"
     ]
    },
    {
     "name": "stdout",
     "output_type": "stream",
     "text": [
      "running inference on dataset #185/200\n"
     ]
    },
    {
     "name": "stderr",
     "output_type": "stream",
     "text": [
      "Multiprocess sampling (2 chains in 2 jobs)\n",
      "NUTS: [epsilon, sigma_e, eta, sigma, mu, amp]\n",
      "Sampling 2 chains, 0 divergences: 100%|██████████| 5000/5000 [00:33<00:00, 149.41draws/s]\n",
      "The acceptance probability does not match the target. It is 0.9219692294807719, but should be close to 0.8. Try to increase the number of tuning steps.\n",
      "The acceptance probability does not match the target. It is 0.9428872105216761, but should be close to 0.8. Try to increase the number of tuning steps.\n",
      "Auto-assigning NUTS sampler...\n",
      "Initializing NUTS using adapt_diag...\n"
     ]
    },
    {
     "name": "stdout",
     "output_type": "stream",
     "text": [
      "running inference on dataset #186/200\n"
     ]
    },
    {
     "name": "stderr",
     "output_type": "stream",
     "text": [
      "Multiprocess sampling (2 chains in 2 jobs)\n",
      "NUTS: [epsilon, sigma_e, eta, sigma, mu, amp]\n",
      "Sampling 2 chains, 0 divergences: 100%|██████████| 5000/5000 [00:20<00:00, 239.33draws/s]\n",
      "The acceptance probability does not match the target. It is 0.8828089088323141, but should be close to 0.8. Try to increase the number of tuning steps.\n",
      "The acceptance probability does not match the target. It is 0.8993909052990293, but should be close to 0.8. Try to increase the number of tuning steps.\n",
      "Auto-assigning NUTS sampler...\n",
      "Initializing NUTS using adapt_diag...\n"
     ]
    },
    {
     "name": "stdout",
     "output_type": "stream",
     "text": [
      "running inference on dataset #187/200\n"
     ]
    },
    {
     "name": "stderr",
     "output_type": "stream",
     "text": [
      "Multiprocess sampling (2 chains in 2 jobs)\n",
      "NUTS: [epsilon, sigma_e, eta, sigma, mu, amp]\n",
      "Sampling 2 chains, 3 divergences: 100%|██████████| 5000/5000 [00:17<00:00, 289.60draws/s]\n",
      "The acceptance probability does not match the target. It is 0.9059460444629779, but should be close to 0.8. Try to increase the number of tuning steps.\n",
      "There were 3 divergences after tuning. Increase `target_accept` or reparameterize.\n",
      "The acceptance probability does not match the target. It is 0.8936003502583425, but should be close to 0.8. Try to increase the number of tuning steps.\n",
      "Auto-assigning NUTS sampler...\n",
      "Initializing NUTS using adapt_diag...\n"
     ]
    },
    {
     "name": "stdout",
     "output_type": "stream",
     "text": [
      "running inference on dataset #188/200\n"
     ]
    },
    {
     "name": "stderr",
     "output_type": "stream",
     "text": [
      "Multiprocess sampling (2 chains in 2 jobs)\n",
      "NUTS: [epsilon, sigma_e, eta, sigma, mu, amp]\n",
      "Sampling 2 chains, 1 divergences: 100%|██████████| 5000/5000 [00:15<00:00, 316.26draws/s]\n",
      "There was 1 divergence after tuning. Increase `target_accept` or reparameterize.\n",
      "The acceptance probability does not match the target. It is 0.8790888947849795, but should be close to 0.8. Try to increase the number of tuning steps.\n",
      "Auto-assigning NUTS sampler...\n",
      "Initializing NUTS using adapt_diag...\n"
     ]
    },
    {
     "name": "stdout",
     "output_type": "stream",
     "text": [
      "running inference on dataset #189/200\n"
     ]
    },
    {
     "name": "stderr",
     "output_type": "stream",
     "text": [
      "Multiprocess sampling (2 chains in 2 jobs)\n",
      "NUTS: [epsilon, sigma_e, eta, sigma, mu, amp]\n",
      "Sampling 2 chains, 0 divergences: 100%|██████████| 5000/5000 [01:02<00:00, 79.60draws/s] \n",
      "The acceptance probability does not match the target. It is 0.9244236961795598, but should be close to 0.8. Try to increase the number of tuning steps.\n",
      "The acceptance probability does not match the target. It is 0.9359625080458963, but should be close to 0.8. Try to increase the number of tuning steps.\n",
      "Auto-assigning NUTS sampler...\n",
      "Initializing NUTS using adapt_diag...\n"
     ]
    },
    {
     "name": "stdout",
     "output_type": "stream",
     "text": [
      "running inference on dataset #190/200\n"
     ]
    },
    {
     "name": "stderr",
     "output_type": "stream",
     "text": [
      "Multiprocess sampling (2 chains in 2 jobs)\n",
      "NUTS: [epsilon, sigma_e, eta, sigma, mu, amp]\n",
      "Sampling 2 chains, 0 divergences: 100%|██████████| 5000/5000 [00:19<00:00, 250.11draws/s]\n",
      "Auto-assigning NUTS sampler...\n",
      "Initializing NUTS using adapt_diag...\n"
     ]
    },
    {
     "name": "stdout",
     "output_type": "stream",
     "text": [
      "running inference on dataset #191/200\n"
     ]
    },
    {
     "name": "stderr",
     "output_type": "stream",
     "text": [
      "Multiprocess sampling (2 chains in 2 jobs)\n",
      "NUTS: [epsilon, sigma_e, eta, sigma, mu, amp]\n",
      "Sampling 2 chains, 6 divergences: 100%|██████████| 5000/5000 [00:15<00:00, 313.39draws/s]\n",
      "There were 4 divergences after tuning. Increase `target_accept` or reparameterize.\n",
      "The acceptance probability does not match the target. It is 0.8824111708383487, but should be close to 0.8. Try to increase the number of tuning steps.\n",
      "There were 2 divergences after tuning. Increase `target_accept` or reparameterize.\n",
      "The acceptance probability does not match the target. It is 0.8917845089636105, but should be close to 0.8. Try to increase the number of tuning steps.\n",
      "Auto-assigning NUTS sampler...\n",
      "Initializing NUTS using adapt_diag...\n"
     ]
    },
    {
     "name": "stdout",
     "output_type": "stream",
     "text": [
      "running inference on dataset #192/200\n"
     ]
    },
    {
     "name": "stderr",
     "output_type": "stream",
     "text": [
      "Multiprocess sampling (2 chains in 2 jobs)\n",
      "NUTS: [epsilon, sigma_e, eta, sigma, mu, amp]\n",
      "Sampling 2 chains, 0 divergences: 100%|██████████| 5000/5000 [00:19<00:00, 262.46draws/s]\n",
      "Auto-assigning NUTS sampler...\n",
      "Initializing NUTS using adapt_diag...\n"
     ]
    },
    {
     "name": "stdout",
     "output_type": "stream",
     "text": [
      "running inference on dataset #193/200\n"
     ]
    },
    {
     "name": "stderr",
     "output_type": "stream",
     "text": [
      "Multiprocess sampling (2 chains in 2 jobs)\n",
      "NUTS: [epsilon, sigma_e, eta, sigma, mu, amp]\n",
      "Sampling 2 chains, 0 divergences: 100%|██████████| 5000/5000 [05:23<00:00, 15.45draws/s]\n",
      "The number of effective samples is smaller than 25% for some parameters.\n",
      "Auto-assigning NUTS sampler...\n",
      "Initializing NUTS using adapt_diag...\n"
     ]
    },
    {
     "name": "stdout",
     "output_type": "stream",
     "text": [
      "running inference on dataset #194/200\n"
     ]
    },
    {
     "name": "stderr",
     "output_type": "stream",
     "text": [
      "Multiprocess sampling (2 chains in 2 jobs)\n",
      "NUTS: [epsilon, sigma_e, eta, sigma, mu, amp]\n",
      "Sampling 2 chains, 0 divergences: 100%|██████████| 5000/5000 [00:20<00:00, 243.17draws/s]\n",
      "Auto-assigning NUTS sampler...\n",
      "Initializing NUTS using adapt_diag...\n"
     ]
    },
    {
     "name": "stdout",
     "output_type": "stream",
     "text": [
      "running inference on dataset #195/200\n"
     ]
    },
    {
     "name": "stderr",
     "output_type": "stream",
     "text": [
      "Multiprocess sampling (2 chains in 2 jobs)\n",
      "NUTS: [epsilon, sigma_e, eta, sigma, mu, amp]\n",
      "Sampling 2 chains, 687 divergences: 100%|██████████| 5000/5000 [10:19<00:00,  8.07draws/s]\n",
      "There were 269 divergences after tuning. Increase `target_accept` or reparameterize.\n",
      "The chain reached the maximum tree depth. Increase max_treedepth, increase target_accept or reparameterize.\n",
      "There were 418 divergences after tuning. Increase `target_accept` or reparameterize.\n",
      "The chain reached the maximum tree depth. Increase max_treedepth, increase target_accept or reparameterize.\n",
      "The number of effective samples is smaller than 10% for some parameters.\n",
      "Auto-assigning NUTS sampler...\n",
      "Initializing NUTS using adapt_diag...\n"
     ]
    },
    {
     "name": "stdout",
     "output_type": "stream",
     "text": [
      "running inference on dataset #196/200\n"
     ]
    },
    {
     "name": "stderr",
     "output_type": "stream",
     "text": [
      "Multiprocess sampling (2 chains in 2 jobs)\n",
      "NUTS: [epsilon, sigma_e, eta, sigma, mu, amp]\n",
      "Sampling 2 chains, 0 divergences: 100%|██████████| 5000/5000 [00:33<00:00, 148.66draws/s]\n",
      "The acceptance probability does not match the target. It is 0.910354254780228, but should be close to 0.8. Try to increase the number of tuning steps.\n",
      "The acceptance probability does not match the target. It is 0.888483621577531, but should be close to 0.8. Try to increase the number of tuning steps.\n",
      "Auto-assigning NUTS sampler...\n",
      "Initializing NUTS using adapt_diag...\n"
     ]
    },
    {
     "name": "stdout",
     "output_type": "stream",
     "text": [
      "running inference on dataset #197/200\n"
     ]
    },
    {
     "name": "stderr",
     "output_type": "stream",
     "text": [
      "Multiprocess sampling (2 chains in 2 jobs)\n",
      "NUTS: [epsilon, sigma_e, eta, sigma, mu, amp]\n",
      "Sampling 2 chains, 0 divergences: 100%|██████████| 5000/5000 [11:15<00:00,  7.40draws/s]\n",
      "The chain reached the maximum tree depth. Increase max_treedepth, increase target_accept or reparameterize.\n",
      "The rhat statistic is larger than 1.4 for some parameters. The sampler did not converge.\n",
      "The estimated number of effective samples is smaller than 200 for some parameters.\n",
      "Auto-assigning NUTS sampler...\n",
      "Initializing NUTS using adapt_diag...\n"
     ]
    },
    {
     "name": "stdout",
     "output_type": "stream",
     "text": [
      "running inference on dataset #198/200\n"
     ]
    },
    {
     "name": "stderr",
     "output_type": "stream",
     "text": [
      "Multiprocess sampling (2 chains in 2 jobs)\n",
      "NUTS: [epsilon, sigma_e, eta, sigma, mu, amp]\n",
      "Sampling 2 chains, 0 divergences: 100%|██████████| 5000/5000 [00:14<00:00, 338.27draws/s]\n",
      "The acceptance probability does not match the target. It is 0.8827983607932077, but should be close to 0.8. Try to increase the number of tuning steps.\n",
      "The acceptance probability does not match the target. It is 0.8799947693236253, but should be close to 0.8. Try to increase the number of tuning steps.\n",
      "Auto-assigning NUTS sampler...\n",
      "Initializing NUTS using adapt_diag...\n"
     ]
    },
    {
     "name": "stdout",
     "output_type": "stream",
     "text": [
      "running inference on dataset #199/200\n"
     ]
    },
    {
     "name": "stderr",
     "output_type": "stream",
     "text": [
      "Multiprocess sampling (2 chains in 2 jobs)\n",
      "NUTS: [epsilon, sigma_e, eta, sigma, mu, amp]\n",
      "Sampling 2 chains, 0 divergences: 100%|██████████| 5000/5000 [00:18<00:00, 276.01draws/s]\n",
      "The acceptance probability does not match the target. It is 0.9107423788825374, but should be close to 0.8. Try to increase the number of tuning steps.\n",
      "The acceptance probability does not match the target. It is 0.9088659670560796, but should be close to 0.8. Try to increase the number of tuning steps.\n",
      "Auto-assigning NUTS sampler...\n",
      "Initializing NUTS using adapt_diag...\n"
     ]
    },
    {
     "name": "stdout",
     "output_type": "stream",
     "text": [
      "running inference on dataset #200/200\n"
     ]
    },
    {
     "name": "stderr",
     "output_type": "stream",
     "text": [
      "Multiprocess sampling (2 chains in 2 jobs)\n",
      "NUTS: [epsilon, sigma_e, eta, sigma, mu, amp]\n",
      "Sampling 2 chains, 1 divergences: 100%|██████████| 5000/5000 [00:18<00:00, 267.02draws/s]\n",
      "The acceptance probability does not match the target. It is 0.8889635193942335, but should be close to 0.8. Try to increase the number of tuning steps.\n",
      "There was 1 divergence after tuning. Increase `target_accept` or reparameterize.\n",
      "The acceptance probability does not match the target. It is 0.9064607276190642, but should be close to 0.8. Try to increase the number of tuning steps.\n"
     ]
    }
   ],
   "source": [
    "# initialize models and run inference\n",
    "models = []\n",
    "traces = []\n",
    "\n",
    "for i in range(len(ldata)):\n",
    "    if conf['peak_info'] == 'yes':\n",
    "        plist = lpeaks[i].flatten()\n",
    "        plist.sort()\n",
    "        model_g = mdl.model_pvoigt(xvalues=x_val, observations=y_val[i], npeaks=3,\n",
    "                              mu_peaks=plist, pmodel=conf['prior_model'])\n",
    "    else:\n",
    "        model_g = mdl.model_pvoigt(xvalues=x_val, observations=y_val[i], npeaks=3,\n",
    "                                              pmodel=conf['prior_model'])\n",
    "                \n",
    "    models.append(model_g)\n",
    "\n",
    "    with model_g:\n",
    "        print(\"running inference on dataset #{0}/{1}\".format(i+1,len(ldata)))\n",
    "        trace_g = pm.sample(conf['nsamples'], init=conf['init_mode'], cores=conf['ncores'])\n",
    "        traces.append(trace_g)"
   ]
  },
  {
   "cell_type": "markdown",
   "metadata": {},
   "source": [
    "# Model visualization"
   ]
  },
  {
   "cell_type": "code",
   "execution_count": 11,
   "metadata": {
    "scrolled": false
   },
   "outputs": [
    {
     "data": {
      "image/svg+xml": [
       "<?xml version=\"1.0\" encoding=\"UTF-8\" standalone=\"no\"?>\n",
       "<!DOCTYPE svg PUBLIC \"-//W3C//DTD SVG 1.1//EN\"\n",
       " \"http://www.w3.org/Graphics/SVG/1.1/DTD/svg11.dtd\">\n",
       "<!-- Generated by graphviz version 2.40.1 (20161225.0304)\n",
       " -->\n",
       "<!-- Title: %3 Pages: 1 -->\n",
       "<svg width=\"800pt\" height=\"265pt\"\n",
       " viewBox=\"0.00 0.00 800.29 265.00\" xmlns=\"http://www.w3.org/2000/svg\" xmlns:xlink=\"http://www.w3.org/1999/xlink\">\n",
       "<g id=\"graph0\" class=\"graph\" transform=\"scale(1 1) rotate(0) translate(4 261)\">\n",
       "<title>%3</title>\n",
       "<polygon fill=\"#ffffff\" stroke=\"transparent\" points=\"-4,4 -4,-261 796.293,-261 796.293,4 -4,4\"/>\n",
       "<g id=\"clust1\" class=\"cluster\">\n",
       "<title>cluster1 x 3</title>\n",
       "<path fill=\"none\" stroke=\"#000000\" d=\"M20,-174C20,-174 470,-174 470,-174 476,-174 482,-180 482,-186 482,-186 482,-237 482,-237 482,-243 476,-249 470,-249 470,-249 20,-249 20,-249 14,-249 8,-243 8,-237 8,-237 8,-186 8,-186 8,-180 14,-174 20,-174\"/>\n",
       "<text text-anchor=\"middle\" x=\"460\" y=\"-181.8\" font-family=\"Times,serif\" font-size=\"14.00\" fill=\"#000000\">1 x 3</text>\n",
       "</g>\n",
       "<g id=\"clust2\" class=\"cluster\">\n",
       "<title>cluster100</title>\n",
       "<path fill=\"none\" stroke=\"#000000\" d=\"M358,-91C358,-91 464,-91 464,-91 470,-91 476,-97 476,-103 476,-103 476,-154 476,-154 476,-160 470,-166 464,-166 464,-166 358,-166 358,-166 352,-166 346,-160 346,-154 346,-154 346,-103 346,-103 346,-97 352,-91 358,-91\"/>\n",
       "<text text-anchor=\"middle\" x=\"457.5\" y=\"-98.8\" font-family=\"Times,serif\" font-size=\"14.00\" fill=\"#000000\">100</text>\n",
       "</g>\n",
       "<g id=\"clust3\" class=\"cluster\">\n",
       "<title>cluster15 x 100</title>\n",
       "<path fill=\"none\" stroke=\"#000000\" d=\"M459,-8C459,-8 595,-8 595,-8 601,-8 607,-14 607,-20 607,-20 607,-71 607,-71 607,-77 601,-83 595,-83 595,-83 459,-83 459,-83 453,-83 447,-77 447,-71 447,-71 447,-20 447,-20 447,-14 453,-8 459,-8\"/>\n",
       "<text text-anchor=\"middle\" x=\"574.5\" y=\"-15.8\" font-family=\"Times,serif\" font-size=\"14.00\" fill=\"#000000\">15 x 100</text>\n",
       "</g>\n",
       "<!-- mu -->\n",
       "<g id=\"node1\" class=\"node\">\n",
       "<title>mu</title>\n",
       "<ellipse fill=\"none\" stroke=\"#000000\" cx=\"411\" cy=\"-223\" rx=\"63.0888\" ry=\"18\"/>\n",
       "<text text-anchor=\"middle\" x=\"411\" y=\"-219.3\" font-family=\"Times,serif\" font-size=\"14.00\" fill=\"#000000\">mu ~ Uniform</text>\n",
       "</g>\n",
       "<!-- y -->\n",
       "<g id=\"node7\" class=\"node\">\n",
       "<title>y</title>\n",
       "<polygon fill=\"none\" stroke=\"#000000\" points=\"467.5,-158 354.5,-158 354.5,-122 467.5,-122 467.5,-158\"/>\n",
       "<text text-anchor=\"middle\" x=\"411\" y=\"-136.3\" font-family=\"Times,serif\" font-size=\"14.00\" fill=\"#000000\">y ~ Deterministic</text>\n",
       "</g>\n",
       "<!-- mu&#45;&gt;y -->\n",
       "<g id=\"edge2\" class=\"edge\">\n",
       "<title>mu&#45;&gt;y</title>\n",
       "<path fill=\"none\" stroke=\"#000000\" d=\"M411,-204.9902C411,-194.2963 411,-180.4994 411,-168.3706\"/>\n",
       "<polygon fill=\"#000000\" stroke=\"#000000\" points=\"414.5001,-168.2612 411,-158.2612 407.5001,-168.2613 414.5001,-168.2612\"/>\n",
       "</g>\n",
       "<!-- sigma -->\n",
       "<g id=\"node2\" class=\"node\">\n",
       "<title>sigma</title>\n",
       "<ellipse fill=\"none\" stroke=\"#000000\" cx=\"249\" cy=\"-223\" rx=\"81.4863\" ry=\"18\"/>\n",
       "<text text-anchor=\"middle\" x=\"249\" y=\"-219.3\" font-family=\"Times,serif\" font-size=\"14.00\" fill=\"#000000\">sigma ~ Lognormal</text>\n",
       "</g>\n",
       "<!-- sigma&#45;&gt;y -->\n",
       "<g id=\"edge3\" class=\"edge\">\n",
       "<title>sigma&#45;&gt;y</title>\n",
       "<path fill=\"none\" stroke=\"#000000\" d=\"M278.7719,-206.233C296.1958,-196.5606 318.6958,-184.3106 339,-174 346.5301,-170.1762 354.5667,-166.241 362.4392,-162.4655\"/>\n",
       "<polygon fill=\"#000000\" stroke=\"#000000\" points=\"364.0394,-165.5802 371.5653,-158.1229 361.0316,-159.2593 364.0394,-165.5802\"/>\n",
       "</g>\n",
       "<!-- amp -->\n",
       "<g id=\"node3\" class=\"node\">\n",
       "<title>amp</title>\n",
       "<ellipse fill=\"none\" stroke=\"#000000\" cx=\"83\" cy=\"-223\" rx=\"66.8882\" ry=\"18\"/>\n",
       "<text text-anchor=\"middle\" x=\"83\" y=\"-219.3\" font-family=\"Times,serif\" font-size=\"14.00\" fill=\"#000000\">amp ~ Uniform</text>\n",
       "</g>\n",
       "<!-- amp&#45;&gt;y -->\n",
       "<g id=\"edge1\" class=\"edge\">\n",
       "<title>amp&#45;&gt;y</title>\n",
       "<path fill=\"none\" stroke=\"#000000\" d=\"M104.2378,-205.6646C118.7713,-194.7563 138.9686,-181.3891 159,-174 191.9567,-161.8431 281.3217,-151.6618 344.2276,-145.6977\"/>\n",
       "<polygon fill=\"#000000\" stroke=\"#000000\" points=\"344.8418,-149.1557 354.4732,-144.7412 344.1911,-142.186 344.8418,-149.1557\"/>\n",
       "</g>\n",
       "<!-- epsilon -->\n",
       "<g id=\"node4\" class=\"node\">\n",
       "<title>epsilon</title>\n",
       "<ellipse fill=\"none\" stroke=\"#000000\" cx=\"644\" cy=\"-140\" rx=\"89.0842\" ry=\"18\"/>\n",
       "<text text-anchor=\"middle\" x=\"644\" y=\"-136.3\" font-family=\"Times,serif\" font-size=\"14.00\" fill=\"#000000\">epsilon ~ HalfNormal</text>\n",
       "</g>\n",
       "<!-- y_pred -->\n",
       "<g id=\"node8\" class=\"node\">\n",
       "<title>y_pred</title>\n",
       "<ellipse fill=\"#d3d3d3\" stroke=\"#000000\" cx=\"527\" cy=\"-57\" rx=\"72.2875\" ry=\"18\"/>\n",
       "<text text-anchor=\"middle\" x=\"527\" y=\"-53.3\" font-family=\"Times,serif\" font-size=\"14.00\" fill=\"#000000\">y_pred ~ Normal</text>\n",
       "</g>\n",
       "<!-- epsilon&#45;&gt;y_pred -->\n",
       "<g id=\"edge7\" class=\"edge\">\n",
       "<title>epsilon&#45;&gt;y_pred</title>\n",
       "<path fill=\"none\" stroke=\"#000000\" d=\"M619.473,-122.6005C602.0404,-110.2338 578.4484,-93.4976 559.4572,-80.0252\"/>\n",
       "<polygon fill=\"#000000\" stroke=\"#000000\" points=\"561.2752,-77.0237 551.094,-74.0923 557.225,-82.733 561.2752,-77.0237\"/>\n",
       "</g>\n",
       "<!-- sigma_e -->\n",
       "<g id=\"node5\" class=\"node\">\n",
       "<title>sigma_e</title>\n",
       "<ellipse fill=\"none\" stroke=\"#000000\" cx=\"713\" cy=\"-223\" rx=\"79.0865\" ry=\"18\"/>\n",
       "<text text-anchor=\"middle\" x=\"713\" y=\"-219.3\" font-family=\"Times,serif\" font-size=\"14.00\" fill=\"#000000\">sigma_e ~ Gamma</text>\n",
       "</g>\n",
       "<!-- sigma_e&#45;&gt;epsilon -->\n",
       "<g id=\"edge5\" class=\"edge\">\n",
       "<title>sigma_e&#45;&gt;epsilon</title>\n",
       "<path fill=\"none\" stroke=\"#000000\" d=\"M698.028,-204.9902C688.5341,-193.5699 676.0982,-178.6109 665.5511,-165.9238\"/>\n",
       "<polygon fill=\"#000000\" stroke=\"#000000\" points=\"668.027,-163.427 658.9428,-157.9746 662.6441,-167.9019 668.027,-163.427\"/>\n",
       "</g>\n",
       "<!-- eta -->\n",
       "<g id=\"node6\" class=\"node\">\n",
       "<title>eta</title>\n",
       "<ellipse fill=\"none\" stroke=\"#000000\" cx=\"554\" cy=\"-223\" rx=\"61.99\" ry=\"18\"/>\n",
       "<text text-anchor=\"middle\" x=\"554\" y=\"-219.3\" font-family=\"Times,serif\" font-size=\"14.00\" fill=\"#000000\">eta ~ Uniform</text>\n",
       "</g>\n",
       "<!-- eta&#45;&gt;y -->\n",
       "<g id=\"edge4\" class=\"edge\">\n",
       "<title>eta&#45;&gt;y</title>\n",
       "<path fill=\"none\" stroke=\"#000000\" d=\"M532.6928,-205.9648C519.6485,-195.9692 502.3689,-183.4815 486,-174 479.1284,-170.0197 471.7078,-166.1659 464.2999,-162.5712\"/>\n",
       "<polygon fill=\"#000000\" stroke=\"#000000\" points=\"465.503,-159.2689 454.9657,-158.1664 462.5156,-165.5994 465.503,-159.2689\"/>\n",
       "</g>\n",
       "<!-- y&#45;&gt;y_pred -->\n",
       "<g id=\"edge6\" class=\"edge\">\n",
       "<title>y&#45;&gt;y_pred</title>\n",
       "<path fill=\"none\" stroke=\"#000000\" d=\"M436.1703,-121.9902C453.3899,-109.6693 476.3661,-93.2294 494.9011,-79.9673\"/>\n",
       "<polygon fill=\"#000000\" stroke=\"#000000\" points=\"496.9721,-82.7892 503.068,-74.1237 492.8988,-77.0964 496.9721,-82.7892\"/>\n",
       "</g>\n",
       "</g>\n",
       "</svg>\n"
      ],
      "text/plain": [
       "<graphviz.dot.Digraph at 0x7fdd7f7a1dd8>"
      ]
     },
     "execution_count": 11,
     "metadata": {},
     "output_type": "execute_result"
    }
   ],
   "source": [
    "# display first model\n",
    "pm.model_to_graphviz(models[0])"
   ]
  },
  {
   "cell_type": "code",
   "execution_count": 12,
   "metadata": {},
   "outputs": [],
   "source": [
    "# save model figure as image\n",
    "img = pm.model_to_graphviz(models[0])\n",
    "img.render(filename=file_basename + '_model', format='png');"
   ]
  },
  {
   "cell_type": "markdown",
   "metadata": {},
   "source": [
    "# Collect results and save"
   ]
  },
  {
   "cell_type": "code",
   "execution_count": 13,
   "metadata": {
    "scrolled": false
   },
   "outputs": [
    {
     "name": "stderr",
     "output_type": "stream",
     "text": [
      "/home/ppsda/venv/ppsda/lib/python3.6/site-packages/pymc3/sampling.py:1247: UserWarning: samples parameter is smaller than nchains times ndraws, some draws and/or chains may not be represented in the returned posterior predictive sample\n",
      "  \"samples parameter is smaller than nchains times ndraws, some draws \"\n",
      "100%|██████████| 500/500 [00:01<00:00, 482.51it/s]\n",
      "/home/ppsda/venv/ppsda/lib/python3.6/site-packages/pymc3/sampling.py:1247: UserWarning: samples parameter is smaller than nchains times ndraws, some draws and/or chains may not be represented in the returned posterior predictive sample\n",
      "  \"samples parameter is smaller than nchains times ndraws, some draws \"\n",
      "100%|██████████| 500/500 [00:01<00:00, 488.58it/s]\n",
      "100%|██████████| 500/500 [00:01<00:00, 489.37it/s]\n",
      "100%|██████████| 500/500 [00:00<00:00, 503.41it/s]\n",
      "100%|██████████| 500/500 [00:01<00:00, 499.03it/s]\n",
      "100%|██████████| 500/500 [00:00<00:00, 510.55it/s]\n",
      "100%|██████████| 500/500 [00:00<00:00, 510.27it/s]\n",
      "100%|██████████| 500/500 [00:01<00:00, 494.14it/s]\n",
      "100%|██████████| 500/500 [00:01<00:00, 497.74it/s]\n",
      "100%|██████████| 500/500 [00:00<00:00, 502.67it/s]\n",
      "100%|██████████| 500/500 [00:01<00:00, 496.57it/s]\n",
      "100%|██████████| 500/500 [00:01<00:00, 477.74it/s]\n",
      "100%|██████████| 500/500 [00:01<00:00, 482.95it/s]\n",
      "100%|██████████| 500/500 [00:01<00:00, 488.81it/s]\n",
      "100%|██████████| 500/500 [00:00<00:00, 508.43it/s]\n",
      "100%|██████████| 500/500 [00:01<00:00, 479.00it/s]\n",
      "100%|██████████| 500/500 [00:01<00:00, 477.48it/s]\n",
      "100%|██████████| 500/500 [00:01<00:00, 475.93it/s]\n",
      "100%|██████████| 500/500 [00:00<00:00, 501.40it/s]\n",
      "100%|██████████| 500/500 [00:00<00:00, 514.80it/s]\n",
      "100%|██████████| 500/500 [00:00<00:00, 505.40it/s]\n",
      "100%|██████████| 500/500 [00:01<00:00, 499.00it/s]\n",
      "100%|██████████| 500/500 [00:01<00:00, 479.97it/s]\n",
      "100%|██████████| 500/500 [00:01<00:00, 487.65it/s]\n",
      "100%|██████████| 500/500 [00:01<00:00, 498.17it/s]\n",
      "100%|██████████| 500/500 [00:01<00:00, 469.23it/s]\n",
      "100%|██████████| 500/500 [00:01<00:00, 498.21it/s]\n",
      "100%|██████████| 500/500 [00:01<00:00, 471.53it/s]\n",
      "100%|██████████| 500/500 [00:01<00:00, 452.92it/s]\n",
      "100%|██████████| 500/500 [00:01<00:00, 468.13it/s]\n",
      "100%|██████████| 500/500 [00:00<00:00, 503.21it/s]\n",
      "100%|██████████| 500/500 [00:01<00:00, 481.42it/s]\n",
      "100%|██████████| 500/500 [00:01<00:00, 480.53it/s]\n",
      "100%|██████████| 500/500 [00:01<00:00, 473.81it/s]\n",
      "100%|██████████| 500/500 [00:01<00:00, 486.41it/s]\n",
      "100%|██████████| 500/500 [00:01<00:00, 487.07it/s]\n",
      "100%|██████████| 500/500 [00:01<00:00, 492.99it/s]\n",
      "100%|██████████| 500/500 [00:01<00:00, 486.38it/s]\n",
      "100%|██████████| 500/500 [00:01<00:00, 487.56it/s]\n",
      "100%|██████████| 500/500 [00:00<00:00, 500.96it/s]\n",
      "100%|██████████| 500/500 [00:01<00:00, 484.64it/s]\n",
      "100%|██████████| 500/500 [00:01<00:00, 496.96it/s]\n",
      "100%|██████████| 500/500 [00:01<00:00, 491.17it/s]\n",
      "100%|██████████| 500/500 [00:01<00:00, 465.43it/s]\n",
      "100%|██████████| 500/500 [00:01<00:00, 487.12it/s]\n",
      "100%|██████████| 500/500 [00:01<00:00, 483.20it/s]\n",
      "100%|██████████| 500/500 [00:01<00:00, 469.28it/s]\n",
      "100%|██████████| 500/500 [00:01<00:00, 477.57it/s]\n",
      "100%|██████████| 500/500 [00:01<00:00, 499.01it/s]\n",
      "100%|██████████| 500/500 [00:00<00:00, 507.05it/s]\n",
      "100%|██████████| 500/500 [00:01<00:00, 490.43it/s]\n",
      "100%|██████████| 500/500 [00:01<00:00, 480.00it/s]\n",
      "100%|██████████| 500/500 [00:00<00:00, 516.37it/s]\n",
      "100%|██████████| 500/500 [00:01<00:00, 490.65it/s]\n",
      "100%|██████████| 500/500 [00:01<00:00, 484.82it/s]\n",
      "100%|██████████| 500/500 [00:01<00:00, 489.99it/s]\n",
      "100%|██████████| 500/500 [00:00<00:00, 513.16it/s]\n",
      "100%|██████████| 500/500 [00:01<00:00, 495.47it/s]\n",
      "100%|██████████| 500/500 [00:00<00:00, 504.99it/s]\n",
      "100%|██████████| 500/500 [00:01<00:00, 490.52it/s]\n",
      "100%|██████████| 500/500 [00:00<00:00, 510.57it/s]\n",
      "100%|██████████| 500/500 [00:01<00:00, 494.79it/s]\n",
      "100%|██████████| 500/500 [00:01<00:00, 496.81it/s]\n",
      "100%|██████████| 500/500 [00:00<00:00, 505.68it/s]\n",
      "100%|██████████| 500/500 [00:01<00:00, 487.05it/s]\n",
      "100%|██████████| 500/500 [00:01<00:00, 494.61it/s]\n",
      "100%|██████████| 500/500 [00:01<00:00, 483.81it/s]\n",
      "100%|██████████| 500/500 [00:00<00:00, 500.86it/s]\n",
      "100%|██████████| 500/500 [00:00<00:00, 503.70it/s]\n",
      "100%|██████████| 500/500 [00:01<00:00, 478.37it/s]\n",
      "100%|██████████| 500/500 [00:01<00:00, 482.46it/s]\n",
      "100%|██████████| 500/500 [00:01<00:00, 486.38it/s]\n",
      "100%|██████████| 500/500 [00:01<00:00, 490.71it/s]\n",
      "100%|██████████| 500/500 [00:00<00:00, 502.55it/s]\n",
      "100%|██████████| 500/500 [00:01<00:00, 489.95it/s]\n",
      "100%|██████████| 500/500 [00:01<00:00, 487.97it/s]\n",
      "100%|██████████| 500/500 [00:01<00:00, 492.10it/s]\n",
      "100%|██████████| 500/500 [00:01<00:00, 496.56it/s]\n",
      "100%|██████████| 500/500 [00:00<00:00, 508.39it/s]\n",
      "100%|██████████| 500/500 [00:01<00:00, 497.15it/s]\n",
      "100%|██████████| 500/500 [00:01<00:00, 488.62it/s]\n",
      "100%|██████████| 500/500 [00:00<00:00, 504.43it/s]\n",
      "100%|██████████| 500/500 [00:01<00:00, 499.79it/s]\n",
      "100%|██████████| 500/500 [00:00<00:00, 507.94it/s]\n",
      "100%|██████████| 500/500 [00:00<00:00, 505.62it/s]\n",
      "100%|██████████| 500/500 [00:01<00:00, 494.38it/s]\n",
      "100%|██████████| 500/500 [00:01<00:00, 483.06it/s]\n",
      "100%|██████████| 500/500 [00:01<00:00, 487.62it/s]\n",
      "100%|██████████| 500/500 [00:00<00:00, 508.41it/s]\n",
      "100%|██████████| 500/500 [00:00<00:00, 503.70it/s]\n",
      "100%|██████████| 500/500 [00:01<00:00, 471.90it/s]\n",
      "100%|██████████| 500/500 [00:01<00:00, 492.74it/s]\n",
      "100%|██████████| 500/500 [00:01<00:00, 493.95it/s]\n",
      "100%|██████████| 500/500 [00:00<00:00, 508.60it/s]\n",
      "100%|██████████| 500/500 [00:00<00:00, 500.96it/s]\n",
      "100%|██████████| 500/500 [00:01<00:00, 488.38it/s]\n",
      "100%|██████████| 500/500 [00:01<00:00, 480.74it/s]\n",
      "100%|██████████| 500/500 [00:01<00:00, 481.35it/s]\n",
      "100%|██████████| 500/500 [00:01<00:00, 499.81it/s]\n",
      "100%|██████████| 500/500 [00:01<00:00, 475.29it/s]\n",
      "100%|██████████| 500/500 [00:00<00:00, 500.98it/s]\n",
      "100%|██████████| 500/500 [00:01<00:00, 487.61it/s]\n",
      "100%|██████████| 500/500 [00:00<00:00, 505.12it/s]\n",
      "100%|██████████| 500/500 [00:01<00:00, 495.78it/s]\n",
      "100%|██████████| 500/500 [00:01<00:00, 494.43it/s]\n",
      "100%|██████████| 500/500 [00:00<00:00, 511.60it/s]\n",
      "100%|██████████| 500/500 [00:01<00:00, 491.39it/s]\n",
      "100%|██████████| 500/500 [00:01<00:00, 493.80it/s]\n",
      "100%|██████████| 500/500 [00:01<00:00, 491.83it/s]\n",
      "100%|██████████| 500/500 [00:00<00:00, 511.53it/s]\n",
      "100%|██████████| 500/500 [00:01<00:00, 490.63it/s]\n",
      "100%|██████████| 500/500 [00:00<00:00, 501.69it/s]\n",
      "100%|██████████| 500/500 [00:01<00:00, 492.90it/s]\n",
      "100%|██████████| 500/500 [00:01<00:00, 481.95it/s]\n",
      "100%|██████████| 500/500 [00:00<00:00, 500.59it/s]\n",
      "100%|██████████| 500/500 [00:01<00:00, 491.98it/s]\n",
      "100%|██████████| 500/500 [00:01<00:00, 487.48it/s]\n",
      "100%|██████████| 500/500 [00:00<00:00, 504.14it/s]\n",
      "100%|██████████| 500/500 [00:01<00:00, 492.48it/s]\n",
      "100%|██████████| 500/500 [00:01<00:00, 469.76it/s]\n",
      "100%|██████████| 500/500 [00:01<00:00, 482.01it/s]\n",
      "100%|██████████| 500/500 [00:01<00:00, 474.44it/s]\n",
      "100%|██████████| 500/500 [00:01<00:00, 489.11it/s]\n",
      "100%|██████████| 500/500 [00:01<00:00, 482.83it/s]\n",
      "100%|██████████| 500/500 [00:00<00:00, 504.82it/s]\n",
      "100%|██████████| 500/500 [00:01<00:00, 495.40it/s]\n",
      "100%|██████████| 500/500 [00:01<00:00, 491.20it/s]\n",
      "100%|██████████| 500/500 [00:01<00:00, 485.63it/s]\n",
      "100%|██████████| 500/500 [00:01<00:00, 495.68it/s]\n",
      "100%|██████████| 500/500 [00:01<00:00, 479.03it/s]\n",
      "100%|██████████| 500/500 [00:01<00:00, 482.19it/s]\n",
      "100%|██████████| 500/500 [00:01<00:00, 496.71it/s]\n",
      "100%|██████████| 500/500 [00:01<00:00, 496.62it/s]\n",
      "100%|██████████| 500/500 [00:01<00:00, 498.96it/s]\n",
      "100%|██████████| 500/500 [00:01<00:00, 485.96it/s]\n",
      "100%|██████████| 500/500 [00:01<00:00, 468.59it/s]\n",
      "100%|██████████| 500/500 [00:01<00:00, 476.06it/s]\n",
      "100%|██████████| 500/500 [00:01<00:00, 490.72it/s]\n",
      "100%|██████████| 500/500 [00:01<00:00, 477.41it/s]\n",
      "100%|██████████| 500/500 [00:01<00:00, 494.15it/s]\n",
      "100%|██████████| 500/500 [00:01<00:00, 463.18it/s]\n",
      "100%|██████████| 500/500 [00:01<00:00, 472.90it/s]\n",
      "100%|██████████| 500/500 [00:01<00:00, 489.97it/s]\n",
      "100%|██████████| 500/500 [00:01<00:00, 494.60it/s]\n",
      "100%|██████████| 500/500 [00:01<00:00, 499.41it/s]\n",
      "100%|██████████| 500/500 [00:01<00:00, 498.87it/s]\n",
      "100%|██████████| 500/500 [00:01<00:00, 495.57it/s]\n",
      "100%|██████████| 500/500 [00:00<00:00, 501.92it/s]\n"
     ]
    },
    {
     "name": "stderr",
     "output_type": "stream",
     "text": [
      "100%|██████████| 500/500 [00:01<00:00, 486.09it/s]\n",
      "100%|██████████| 500/500 [00:01<00:00, 491.75it/s]\n",
      "100%|██████████| 500/500 [00:01<00:00, 487.73it/s]\n",
      "100%|██████████| 500/500 [00:01<00:00, 493.00it/s]\n",
      "100%|██████████| 500/500 [00:01<00:00, 487.71it/s]\n",
      "100%|██████████| 500/500 [00:00<00:00, 506.40it/s]\n",
      "100%|██████████| 500/500 [00:00<00:00, 503.95it/s]\n",
      "100%|██████████| 500/500 [00:01<00:00, 499.88it/s]\n",
      "100%|██████████| 500/500 [00:01<00:00, 487.14it/s]\n",
      "100%|██████████| 500/500 [00:01<00:00, 499.02it/s]\n",
      "100%|██████████| 500/500 [00:01<00:00, 495.61it/s]\n",
      "100%|██████████| 500/500 [00:01<00:00, 486.45it/s]\n",
      "100%|██████████| 500/500 [00:01<00:00, 479.02it/s]\n",
      "100%|██████████| 500/500 [00:01<00:00, 476.84it/s]\n",
      "100%|██████████| 500/500 [00:00<00:00, 501.51it/s]\n",
      "100%|██████████| 500/500 [00:01<00:00, 498.43it/s]\n",
      "100%|██████████| 500/500 [00:01<00:00, 461.95it/s]\n",
      "100%|██████████| 500/500 [00:01<00:00, 495.20it/s]\n",
      "100%|██████████| 500/500 [00:01<00:00, 497.53it/s]\n",
      "100%|██████████| 500/500 [00:01<00:00, 490.39it/s]\n",
      "100%|██████████| 500/500 [00:01<00:00, 491.47it/s]\n",
      "100%|██████████| 500/500 [00:00<00:00, 500.62it/s]\n",
      "100%|██████████| 500/500 [00:00<00:00, 506.43it/s]\n",
      "100%|██████████| 500/500 [00:00<00:00, 504.04it/s]\n",
      "100%|██████████| 500/500 [00:01<00:00, 480.35it/s]\n",
      "100%|██████████| 500/500 [00:01<00:00, 497.11it/s]\n",
      "100%|██████████| 500/500 [00:00<00:00, 507.44it/s]\n",
      "100%|██████████| 500/500 [00:01<00:00, 498.73it/s]\n",
      "100%|██████████| 500/500 [00:01<00:00, 490.31it/s]\n",
      "100%|██████████| 500/500 [00:01<00:00, 486.53it/s]\n",
      "100%|██████████| 500/500 [00:01<00:00, 490.75it/s]\n",
      "100%|██████████| 500/500 [00:01<00:00, 496.90it/s]\n",
      "100%|██████████| 500/500 [00:01<00:00, 472.48it/s]\n",
      "100%|██████████| 500/500 [00:01<00:00, 488.02it/s]\n",
      "100%|██████████| 500/500 [00:01<00:00, 477.88it/s]\n",
      "100%|██████████| 500/500 [00:00<00:00, 511.94it/s]\n",
      "100%|██████████| 500/500 [00:00<00:00, 501.57it/s]\n",
      "100%|██████████| 500/500 [00:01<00:00, 495.46it/s]\n",
      "100%|██████████| 500/500 [00:00<00:00, 505.95it/s]\n",
      "100%|██████████| 500/500 [00:01<00:00, 473.93it/s]\n",
      "100%|██████████| 500/500 [00:00<00:00, 504.17it/s]\n",
      "100%|██████████| 500/500 [00:00<00:00, 507.29it/s]\n",
      "100%|██████████| 500/500 [00:01<00:00, 492.73it/s]\n",
      "100%|██████████| 500/500 [00:00<00:00, 500.30it/s]\n",
      "100%|██████████| 500/500 [00:01<00:00, 480.96it/s]\n",
      "100%|██████████| 500/500 [00:01<00:00, 487.45it/s]\n",
      "100%|██████████| 500/500 [00:01<00:00, 497.79it/s]\n",
      "100%|██████████| 500/500 [00:00<00:00, 515.16it/s]\n",
      "100%|██████████| 500/500 [00:01<00:00, 499.90it/s]\n",
      "100%|██████████| 500/500 [00:01<00:00, 496.53it/s]\n",
      "100%|██████████| 500/500 [00:01<00:00, 499.47it/s]\n",
      "100%|██████████| 500/500 [00:00<00:00, 504.35it/s]\n"
     ]
    }
   ],
   "source": [
    "# posterior predictive traces\n",
    "ppc = [pm.sample_posterior_predictive(traces[i], samples=500, model=models[i]) for i in range(len(traces))]"
   ]
  },
  {
   "cell_type": "code",
   "execution_count": 14,
   "metadata": {
    "scrolled": false
   },
   "outputs": [
    {
     "name": "stderr",
     "output_type": "stream",
     "text": [
      "/home/ppsda/venv/ppsda/lib/python3.6/site-packages/arviz/stats/stats.py:1196: UserWarning: For one or more samples the posterior variance of the log predictive densities exceeds 0.4. This could be indication of WAIC starting to fail. \n",
      "See http://arxiv.org/abs/1507.04544 for details\n",
      "  \"For one or more samples the posterior variance of the log predictive \"\n"
     ]
    },
    {
     "data": {
      "text/html": [
       "<div>\n",
       "<style scoped>\n",
       "    .dataframe tbody tr th:only-of-type {\n",
       "        vertical-align: middle;\n",
       "    }\n",
       "\n",
       "    .dataframe tbody tr th {\n",
       "        vertical-align: top;\n",
       "    }\n",
       "\n",
       "    .dataframe thead th {\n",
       "        text-align: right;\n",
       "    }\n",
       "</style>\n",
       "<table border=\"1\" class=\"dataframe\">\n",
       "  <thead>\n",
       "    <tr style=\"text-align: right;\">\n",
       "      <th></th>\n",
       "      <th>r_hat</th>\n",
       "      <th>mcse</th>\n",
       "      <th>ess</th>\n",
       "      <th>bfmi</th>\n",
       "      <th>r2</th>\n",
       "      <th>waic</th>\n",
       "      <th>epsilon</th>\n",
       "      <th>epsilon_real</th>\n",
       "      <th>eta</th>\n",
       "      <th>eta_real</th>\n",
       "    </tr>\n",
       "  </thead>\n",
       "  <tbody>\n",
       "    <tr>\n",
       "      <th>1</th>\n",
       "      <td>1.780909</td>\n",
       "      <td>0.226636</td>\n",
       "      <td>104.363636</td>\n",
       "      <td>1.249257</td>\n",
       "      <td>0.999856</td>\n",
       "      <td>-4675.470979</td>\n",
       "      <td>0.049972</td>\n",
       "      <td>0.05</td>\n",
       "      <td>0.005661</td>\n",
       "      <td>0.0</td>\n",
       "    </tr>\n",
       "    <tr>\n",
       "      <th>2</th>\n",
       "      <td>1.000000</td>\n",
       "      <td>0.000000</td>\n",
       "      <td>4383.363636</td>\n",
       "      <td>1.029887</td>\n",
       "      <td>0.999035</td>\n",
       "      <td>-2331.742859</td>\n",
       "      <td>0.109758</td>\n",
       "      <td>0.05</td>\n",
       "      <td>0.000332</td>\n",
       "      <td>0.0</td>\n",
       "    </tr>\n",
       "    <tr>\n",
       "      <th>3</th>\n",
       "      <td>1.070909</td>\n",
       "      <td>0.049455</td>\n",
       "      <td>684.363636</td>\n",
       "      <td>1.014762</td>\n",
       "      <td>0.999820</td>\n",
       "      <td>-4207.406117</td>\n",
       "      <td>0.059134</td>\n",
       "      <td>0.05</td>\n",
       "      <td>0.000384</td>\n",
       "      <td>0.0</td>\n",
       "    </tr>\n",
       "    <tr>\n",
       "      <th>4</th>\n",
       "      <td>1.005455</td>\n",
       "      <td>0.003818</td>\n",
       "      <td>1720.727273</td>\n",
       "      <td>1.037991</td>\n",
       "      <td>0.999818</td>\n",
       "      <td>-4715.487126</td>\n",
       "      <td>0.050034</td>\n",
       "      <td>0.05</td>\n",
       "      <td>0.008271</td>\n",
       "      <td>0.0</td>\n",
       "    </tr>\n",
       "    <tr>\n",
       "      <th>5</th>\n",
       "      <td>1.000000</td>\n",
       "      <td>0.000727</td>\n",
       "      <td>2124.454545</td>\n",
       "      <td>1.044191</td>\n",
       "      <td>0.999872</td>\n",
       "      <td>-4726.544298</td>\n",
       "      <td>0.049924</td>\n",
       "      <td>0.05</td>\n",
       "      <td>0.001852</td>\n",
       "      <td>0.0</td>\n",
       "    </tr>\n",
       "    <tr>\n",
       "      <th>...</th>\n",
       "      <td>...</td>\n",
       "      <td>...</td>\n",
       "      <td>...</td>\n",
       "      <td>...</td>\n",
       "      <td>...</td>\n",
       "      <td>...</td>\n",
       "      <td>...</td>\n",
       "      <td>...</td>\n",
       "      <td>...</td>\n",
       "      <td>...</td>\n",
       "    </tr>\n",
       "    <tr>\n",
       "      <th>196</th>\n",
       "      <td>1.000000</td>\n",
       "      <td>0.000182</td>\n",
       "      <td>2297.909091</td>\n",
       "      <td>1.000964</td>\n",
       "      <td>0.999846</td>\n",
       "      <td>-4766.885947</td>\n",
       "      <td>0.049235</td>\n",
       "      <td>0.05</td>\n",
       "      <td>0.998066</td>\n",
       "      <td>1.0</td>\n",
       "    </tr>\n",
       "    <tr>\n",
       "      <th>197</th>\n",
       "      <td>1.450909</td>\n",
       "      <td>0.557818</td>\n",
       "      <td>1605.181818</td>\n",
       "      <td>1.008004</td>\n",
       "      <td>0.999950</td>\n",
       "      <td>-4836.525261</td>\n",
       "      <td>0.048113</td>\n",
       "      <td>0.05</td>\n",
       "      <td>0.999041</td>\n",
       "      <td>1.0</td>\n",
       "    </tr>\n",
       "    <tr>\n",
       "      <th>198</th>\n",
       "      <td>1.000000</td>\n",
       "      <td>0.000000</td>\n",
       "      <td>4905.090909</td>\n",
       "      <td>1.054635</td>\n",
       "      <td>0.999424</td>\n",
       "      <td>-2786.356407</td>\n",
       "      <td>0.094399</td>\n",
       "      <td>0.05</td>\n",
       "      <td>0.977116</td>\n",
       "      <td>1.0</td>\n",
       "    </tr>\n",
       "    <tr>\n",
       "      <th>199</th>\n",
       "      <td>1.000000</td>\n",
       "      <td>0.000000</td>\n",
       "      <td>3922.636364</td>\n",
       "      <td>0.997197</td>\n",
       "      <td>0.999916</td>\n",
       "      <td>-4743.426499</td>\n",
       "      <td>0.049649</td>\n",
       "      <td>0.05</td>\n",
       "      <td>0.999503</td>\n",
       "      <td>1.0</td>\n",
       "    </tr>\n",
       "    <tr>\n",
       "      <th>200</th>\n",
       "      <td>1.000000</td>\n",
       "      <td>0.000000</td>\n",
       "      <td>3774.636364</td>\n",
       "      <td>1.053122</td>\n",
       "      <td>0.999882</td>\n",
       "      <td>-4733.435338</td>\n",
       "      <td>0.049827</td>\n",
       "      <td>0.05</td>\n",
       "      <td>0.999430</td>\n",
       "      <td>1.0</td>\n",
       "    </tr>\n",
       "  </tbody>\n",
       "</table>\n",
       "<p>200 rows × 10 columns</p>\n",
       "</div>"
      ],
      "text/plain": [
       "        r_hat      mcse          ess      bfmi        r2         waic  \\\n",
       "1    1.780909  0.226636   104.363636  1.249257  0.999856 -4675.470979   \n",
       "2    1.000000  0.000000  4383.363636  1.029887  0.999035 -2331.742859   \n",
       "3    1.070909  0.049455   684.363636  1.014762  0.999820 -4207.406117   \n",
       "4    1.005455  0.003818  1720.727273  1.037991  0.999818 -4715.487126   \n",
       "5    1.000000  0.000727  2124.454545  1.044191  0.999872 -4726.544298   \n",
       "..        ...       ...          ...       ...       ...          ...   \n",
       "196  1.000000  0.000182  2297.909091  1.000964  0.999846 -4766.885947   \n",
       "197  1.450909  0.557818  1605.181818  1.008004  0.999950 -4836.525261   \n",
       "198  1.000000  0.000000  4905.090909  1.054635  0.999424 -2786.356407   \n",
       "199  1.000000  0.000000  3922.636364  0.997197  0.999916 -4743.426499   \n",
       "200  1.000000  0.000000  3774.636364  1.053122  0.999882 -4733.435338   \n",
       "\n",
       "      epsilon  epsilon_real       eta  eta_real  \n",
       "1    0.049972          0.05  0.005661       0.0  \n",
       "2    0.109758          0.05  0.000332       0.0  \n",
       "3    0.059134          0.05  0.000384       0.0  \n",
       "4    0.050034          0.05  0.008271       0.0  \n",
       "5    0.049924          0.05  0.001852       0.0  \n",
       "..        ...           ...       ...       ...  \n",
       "196  0.049235          0.05  0.998066       1.0  \n",
       "197  0.048113          0.05  0.999041       1.0  \n",
       "198  0.094399          0.05  0.977116       1.0  \n",
       "199  0.049649          0.05  0.999503       1.0  \n",
       "200  0.049827          0.05  0.999430       1.0  \n",
       "\n",
       "[200 rows x 10 columns]"
      ]
     },
     "execution_count": 14,
     "metadata": {},
     "output_type": "execute_result"
    }
   ],
   "source": [
    "# collect the results and display\n",
    "varnames = mdl.get_varnames(traces[0])\n",
    "df = res.get_results_summary(traces, ppc, y_val, varnames, epsilon_real=0.05, eta_real=lpeakshape)\n",
    "df"
   ]
  },
  {
   "cell_type": "code",
   "execution_count": 15,
   "metadata": {},
   "outputs": [],
   "source": [
    "# save results to .csv\n",
    "df.to_csv(file_basename + '.csv', index=False)"
   ]
  },
  {
   "cell_type": "code",
   "execution_count": 16,
   "metadata": {},
   "outputs": [],
   "source": [
    "cnf.close(out_path)"
   ]
  }
 ],
 "metadata": {
  "kernelspec": {
   "display_name": "Python 3",
   "language": "python",
   "name": "python3"
  },
  "language_info": {
   "codemirror_mode": {
    "name": "ipython",
    "version": 3
   },
   "file_extension": ".py",
   "mimetype": "text/x-python",
   "name": "python",
   "nbconvert_exporter": "python",
   "pygments_lexer": "ipython3",
   "version": "3.6.9"
  }
 },
 "nbformat": 4,
 "nbformat_minor": 2
}
