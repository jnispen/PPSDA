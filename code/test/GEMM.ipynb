{
 "cells": [
  {
   "cell_type": "markdown",
   "metadata": {},
   "source": [
    "# General Matrix Multiplication (GEMM)"
   ]
  },
  {
   "cell_type": "code",
   "execution_count": 1,
   "metadata": {},
   "outputs": [],
   "source": [
    "import numpy as np"
   ]
  },
  {
   "cell_type": "code",
   "execution_count": 2,
   "metadata": {},
   "outputs": [],
   "source": [
    "A = np.random.random((5000,5000))\n",
    "B = np.random.random((5000,5000))"
   ]
  },
  {
   "cell_type": "code",
   "execution_count": 3,
   "metadata": {},
   "outputs": [
    {
     "name": "stdout",
     "output_type": "stream",
     "text": [
      "multiplication 1/10\n",
      "multiplication 2/10\n",
      "multiplication 3/10\n",
      "multiplication 4/10\n",
      "multiplication 5/10\n",
      "multiplication 6/10\n",
      "multiplication 7/10\n",
      "multiplication 8/10\n",
      "multiplication 9/10\n",
      "multiplication 10/10\n",
      "CPU times: user 2min 13s, sys: 1.98 s, total: 2min 15s\n",
      "Wall time: 34.3 s\n"
     ]
    }
   ],
   "source": [
    "%%time\n",
    "for i in range(10):\n",
    "    print(\"multiplication \" + str(i+1) + \"/10\")\n",
    "    AB = np.dot(A,B)"
   ]
  },
  {
   "cell_type": "code",
   "execution_count": 4,
   "metadata": {},
   "outputs": [],
   "source": [
    "C = np.random.random((5000,5000))\n",
    "D = np.random.random((5000,5000))"
   ]
  },
  {
   "cell_type": "code",
   "execution_count": 7,
   "metadata": {},
   "outputs": [
    {
     "name": "stdout",
     "output_type": "stream",
     "text": [
      "multiplication 1/10\n",
      "multiplication 2/10\n",
      "multiplication 3/10\n",
      "multiplication 4/10\n",
      "multiplication 5/10\n",
      "multiplication 6/10\n",
      "multiplication 7/10\n",
      "multiplication 8/10\n",
      "multiplication 9/10\n",
      "multiplication 10/10\n",
      "CPU times: user 501 ms, sys: 487 ms, total: 989 ms\n",
      "Wall time: 1.01 s\n"
     ]
    }
   ],
   "source": [
    "%%time\n",
    "for i in range(10):\n",
    "    print(\"multiplication \" + str(i+1) + \"/10\")\n",
    "    #CD = np.matmul(C, D)\n",
    "    #CD = C * D\n",
    "    CD = np.multiply(C, D)"
   ]
  },
  {
   "cell_type": "code",
   "execution_count": null,
   "metadata": {},
   "outputs": [],
   "source": []
  }
 ],
 "metadata": {
  "kernelspec": {
   "display_name": "Python 3",
   "language": "python",
   "name": "python3"
  },
  "language_info": {
   "codemirror_mode": {
    "name": "ipython",
    "version": 3
   },
   "file_extension": ".py",
   "mimetype": "text/x-python",
   "name": "python",
   "nbconvert_exporter": "python",
   "pygments_lexer": "ipython3",
   "version": "3.6.8"
  }
 },
 "nbformat": 4,
 "nbformat_minor": 2
}
