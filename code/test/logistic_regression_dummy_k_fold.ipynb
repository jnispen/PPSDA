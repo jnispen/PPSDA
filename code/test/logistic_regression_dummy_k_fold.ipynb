{
 "cells": [
  {
   "cell_type": "markdown",
   "metadata": {},
   "source": [
    "# Logistic Regression (applied to dummy data)"
   ]
  },
  {
   "cell_type": "code",
   "execution_count": 1,
   "metadata": {},
   "outputs": [
    {
     "name": "stderr",
     "output_type": "stream",
     "text": [
      "WARNING (theano.tensor.blas): Using NumPy C-API based implementation for BLAS functions.\n"
     ]
    },
    {
     "name": "stdout",
     "output_type": "stream",
     "text": [
      "Running on PyMC3 v3.7\n"
     ]
    }
   ],
   "source": [
    "%matplotlib inline\n",
    "import numpy as np\n",
    "import pandas as pd\n",
    "import matplotlib.pyplot as plt\n",
    "import pymc3 as pm\n",
    "import arviz as az\n",
    "import seaborn as sns\n",
    "\n",
    "az.style.use('arviz-darkgrid')\n",
    "\n",
    "print('Running on PyMC3 v{}'.format(pm.__version__))"
   ]
  },
  {
   "cell_type": "code",
   "execution_count": 2,
   "metadata": {},
   "outputs": [],
   "source": [
    "# import local utility functions\n",
    "import sys\n",
    "sys.path.append('../utils')\n",
    "import utils as utl\n",
    "from data import Data"
   ]
  },
  {
   "cell_type": "markdown",
   "metadata": {},
   "source": [
    "# Load data and plot"
   ]
  },
  {
   "cell_type": "code",
   "execution_count": 3,
   "metadata": {},
   "outputs": [
    {
     "data": {
      "text/html": [
       "<div>\n",
       "<style scoped>\n",
       "    .dataframe tbody tr th:only-of-type {\n",
       "        vertical-align: middle;\n",
       "    }\n",
       "\n",
       "    .dataframe tbody tr th {\n",
       "        vertical-align: top;\n",
       "    }\n",
       "\n",
       "    .dataframe thead th {\n",
       "        text-align: right;\n",
       "    }\n",
       "</style>\n",
       "<table border=\"1\" class=\"dataframe\">\n",
       "  <thead>\n",
       "    <tr style=\"text-align: right;\">\n",
       "      <th></th>\n",
       "      <th>200</th>\n",
       "      <th>202</th>\n",
       "      <th>204</th>\n",
       "      <th>206</th>\n",
       "      <th>208</th>\n",
       "      <th>210</th>\n",
       "      <th>212</th>\n",
       "      <th>214</th>\n",
       "      <th>216</th>\n",
       "      <th>218</th>\n",
       "      <th>...</th>\n",
       "      <th>384</th>\n",
       "      <th>386</th>\n",
       "      <th>388</th>\n",
       "      <th>390</th>\n",
       "      <th>392</th>\n",
       "      <th>394</th>\n",
       "      <th>396</th>\n",
       "      <th>398</th>\n",
       "      <th>400</th>\n",
       "      <th>label</th>\n",
       "    </tr>\n",
       "  </thead>\n",
       "  <tbody>\n",
       "    <tr>\n",
       "      <th>0</th>\n",
       "      <td>43.299122</td>\n",
       "      <td>44.990818</td>\n",
       "      <td>44.149924</td>\n",
       "      <td>41.440046</td>\n",
       "      <td>43.606651</td>\n",
       "      <td>40.901448</td>\n",
       "      <td>42.791861</td>\n",
       "      <td>40.481541</td>\n",
       "      <td>42.917414</td>\n",
       "      <td>39.070079</td>\n",
       "      <td>...</td>\n",
       "      <td>59.782275</td>\n",
       "      <td>58.931280</td>\n",
       "      <td>62.423990</td>\n",
       "      <td>59.374885</td>\n",
       "      <td>61.158376</td>\n",
       "      <td>63.762961</td>\n",
       "      <td>62.499685</td>\n",
       "      <td>64.084609</td>\n",
       "      <td>61.916455</td>\n",
       "      <td>A</td>\n",
       "    </tr>\n",
       "    <tr>\n",
       "      <th>5</th>\n",
       "      <td>42.677437</td>\n",
       "      <td>44.349136</td>\n",
       "      <td>43.800291</td>\n",
       "      <td>41.971019</td>\n",
       "      <td>41.395425</td>\n",
       "      <td>43.590253</td>\n",
       "      <td>40.433239</td>\n",
       "      <td>40.328223</td>\n",
       "      <td>41.271485</td>\n",
       "      <td>40.870063</td>\n",
       "      <td>...</td>\n",
       "      <td>57.431210</td>\n",
       "      <td>58.788641</td>\n",
       "      <td>58.505568</td>\n",
       "      <td>61.712110</td>\n",
       "      <td>60.390301</td>\n",
       "      <td>63.020351</td>\n",
       "      <td>63.509685</td>\n",
       "      <td>62.219441</td>\n",
       "      <td>60.184378</td>\n",
       "      <td>A</td>\n",
       "    </tr>\n",
       "    <tr>\n",
       "      <th>34</th>\n",
       "      <td>40.672725</td>\n",
       "      <td>42.299050</td>\n",
       "      <td>40.152235</td>\n",
       "      <td>42.136258</td>\n",
       "      <td>41.635476</td>\n",
       "      <td>39.933541</td>\n",
       "      <td>41.596809</td>\n",
       "      <td>40.359753</td>\n",
       "      <td>38.720161</td>\n",
       "      <td>37.622693</td>\n",
       "      <td>...</td>\n",
       "      <td>54.143240</td>\n",
       "      <td>53.767697</td>\n",
       "      <td>55.532082</td>\n",
       "      <td>57.267862</td>\n",
       "      <td>59.626443</td>\n",
       "      <td>61.730520</td>\n",
       "      <td>61.768051</td>\n",
       "      <td>59.238203</td>\n",
       "      <td>62.367902</td>\n",
       "      <td>B</td>\n",
       "    </tr>\n",
       "    <tr>\n",
       "      <th>13</th>\n",
       "      <td>41.252282</td>\n",
       "      <td>44.272045</td>\n",
       "      <td>42.421165</td>\n",
       "      <td>40.622308</td>\n",
       "      <td>43.682976</td>\n",
       "      <td>45.042767</td>\n",
       "      <td>43.863577</td>\n",
       "      <td>40.116367</td>\n",
       "      <td>41.790624</td>\n",
       "      <td>39.118865</td>\n",
       "      <td>...</td>\n",
       "      <td>58.184079</td>\n",
       "      <td>60.145286</td>\n",
       "      <td>61.827041</td>\n",
       "      <td>63.291666</td>\n",
       "      <td>60.041874</td>\n",
       "      <td>63.831761</td>\n",
       "      <td>60.720013</td>\n",
       "      <td>59.297022</td>\n",
       "      <td>61.126032</td>\n",
       "      <td>A</td>\n",
       "    </tr>\n",
       "    <tr>\n",
       "      <th>45</th>\n",
       "      <td>41.188936</td>\n",
       "      <td>44.233271</td>\n",
       "      <td>43.392674</td>\n",
       "      <td>40.494337</td>\n",
       "      <td>44.005415</td>\n",
       "      <td>41.531073</td>\n",
       "      <td>38.253897</td>\n",
       "      <td>37.180235</td>\n",
       "      <td>39.702793</td>\n",
       "      <td>37.509966</td>\n",
       "      <td>...</td>\n",
       "      <td>52.781690</td>\n",
       "      <td>52.333778</td>\n",
       "      <td>57.050118</td>\n",
       "      <td>56.582997</td>\n",
       "      <td>55.838880</td>\n",
       "      <td>57.855655</td>\n",
       "      <td>61.664946</td>\n",
       "      <td>60.839299</td>\n",
       "      <td>61.616428</td>\n",
       "      <td>B</td>\n",
       "    </tr>\n",
       "  </tbody>\n",
       "</table>\n",
       "<p>5 rows × 102 columns</p>\n",
       "</div>"
      ],
      "text/plain": [
       "          200        202        204        206        208        210  \\\n",
       "0   43.299122  44.990818  44.149924  41.440046  43.606651  40.901448   \n",
       "5   42.677437  44.349136  43.800291  41.971019  41.395425  43.590253   \n",
       "34  40.672725  42.299050  40.152235  42.136258  41.635476  39.933541   \n",
       "13  41.252282  44.272045  42.421165  40.622308  43.682976  45.042767   \n",
       "45  41.188936  44.233271  43.392674  40.494337  44.005415  41.531073   \n",
       "\n",
       "          212        214        216        218  ...        384        386  \\\n",
       "0   42.791861  40.481541  42.917414  39.070079  ...  59.782275  58.931280   \n",
       "5   40.433239  40.328223  41.271485  40.870063  ...  57.431210  58.788641   \n",
       "34  41.596809  40.359753  38.720161  37.622693  ...  54.143240  53.767697   \n",
       "13  43.863577  40.116367  41.790624  39.118865  ...  58.184079  60.145286   \n",
       "45  38.253897  37.180235  39.702793  37.509966  ...  52.781690  52.333778   \n",
       "\n",
       "          388        390        392        394        396        398  \\\n",
       "0   62.423990  59.374885  61.158376  63.762961  62.499685  64.084609   \n",
       "5   58.505568  61.712110  60.390301  63.020351  63.509685  62.219441   \n",
       "34  55.532082  57.267862  59.626443  61.730520  61.768051  59.238203   \n",
       "13  61.827041  63.291666  60.041874  63.831761  60.720013  59.297022   \n",
       "45  57.050118  56.582997  55.838880  57.855655  61.664946  60.839299   \n",
       "\n",
       "          400  label  \n",
       "0   61.916455      A  \n",
       "5   60.184378      A  \n",
       "34  62.367902      B  \n",
       "13  61.126032      A  \n",
       "45  61.616428      B  \n",
       "\n",
       "[5 rows x 102 columns]"
      ]
     },
     "execution_count": 3,
     "metadata": {},
     "output_type": "execute_result"
    }
   ],
   "source": [
    "# init data object\n",
    "data_obj = Data('./dummy_data_b.csv', 'label', -1)\n",
    "data = data_obj.data\n",
    "data.head(5)"
   ]
  },
  {
   "cell_type": "code",
   "execution_count": 4,
   "metadata": {},
   "outputs": [
    {
     "name": "stdout",
     "output_type": "stream",
     "text": [
      "A: blue\n",
      "B: red\n"
     ]
    },
    {
     "data": {
      "image/png": "[encoded data removed]",
      "text/plain": [
       "<Figure size 864x432 with 1 Axes>"
      ]
     },
     "metadata": {
      "needs_background": "light"
     },
     "output_type": "display_data"
    }
   ],
   "source": [
    "# name of column containing the labels\n",
    "label_col = data_obj.label_column\n",
    "\n",
    "# number of non-data columns at right of dataframe\n",
    "non_data_cols = data_obj.non_data_columns\n",
    "\n",
    "# list of class labels\n",
    "class_labels = data_obj.get_class_labels()\n",
    "\n",
    "# plot dataframe\n",
    "utl.plot_data(data_obj, 5)"
   ]
  },
  {
   "cell_type": "code",
   "execution_count": 5,
   "metadata": {},
   "outputs": [
    {
     "data": {
      "text/plain": [
       "B    30\n",
       "A    29\n",
       "Name: label, dtype: int64"
      ]
     },
     "execution_count": 5,
     "metadata": {},
     "output_type": "execute_result"
    }
   ],
   "source": [
    "# number of samples from each class\n",
    "data['label'].value_counts()"
   ]
  },
  {
   "cell_type": "code",
   "execution_count": 6,
   "metadata": {
    "scrolled": false
   },
   "outputs": [],
   "source": [
    "# retrieve a list of k-fold training and test sets\n",
    "train_lst, test_lst = utl.train_test_split_kfold(data, 3)"
   ]
  },
  {
   "cell_type": "code",
   "execution_count": 7,
   "metadata": {},
   "outputs": [
    {
     "data": {
      "text/plain": [
       "(39, 102)"
      ]
     },
     "execution_count": 7,
     "metadata": {},
     "output_type": "execute_result"
    }
   ],
   "source": [
    "train_lst[0].shape"
   ]
  },
  {
   "cell_type": "code",
   "execution_count": 8,
   "metadata": {},
   "outputs": [
    {
     "data": {
      "text/plain": [
       "(20, 102)"
      ]
     },
     "execution_count": 8,
     "metadata": {},
     "output_type": "execute_result"
    }
   ],
   "source": [
    "test_lst[0].shape"
   ]
  },
  {
   "cell_type": "markdown",
   "metadata": {},
   "source": [
    "# Model definition (Multiple Logistic Regression)"
   ]
  },
  {
   "cell_type": "code",
   "execution_count": 9,
   "metadata": {},
   "outputs": [
    {
     "name": "stdout",
     "output_type": "stream",
     "text": [
      "Training model with k-fold cross validation (k=) 3\n",
      "training on fold: 1/3\n"
     ]
    },
    {
     "name": "stderr",
     "output_type": "stream",
     "text": [
      "Auto-assigning NUTS sampler...\n",
      "Initializing NUTS using jitter+adapt_diag...\n",
      "Multiprocess sampling (2 chains in 2 jobs)\n",
      "NUTS: [beta, alpha]\n",
      "Sampling 2 chains: 100%|██████████| 5000/5000 [01:22<00:00, 60.87draws/s]\n"
     ]
    },
    {
     "name": "stdout",
     "output_type": "stream",
     "text": [
      "training on fold: 2/3\n"
     ]
    },
    {
     "name": "stderr",
     "output_type": "stream",
     "text": [
      "Auto-assigning NUTS sampler...\n",
      "Initializing NUTS using jitter+adapt_diag...\n",
      "Multiprocess sampling (2 chains in 2 jobs)\n",
      "NUTS: [beta, alpha]\n",
      "Sampling 2 chains: 100%|██████████| 5000/5000 [01:19<00:00, 62.50draws/s]\n"
     ]
    },
    {
     "name": "stdout",
     "output_type": "stream",
     "text": [
      "training on fold: 3/3\n"
     ]
    },
    {
     "name": "stderr",
     "output_type": "stream",
     "text": [
      "Auto-assigning NUTS sampler...\n",
      "Initializing NUTS using jitter+adapt_diag...\n",
      "Multiprocess sampling (2 chains in 2 jobs)\n",
      "NUTS: [beta, alpha]\n",
      "Sampling 2 chains: 100%|██████████| 5000/5000 [01:20<00:00, 62.35draws/s]\n"
     ]
    }
   ],
   "source": [
    "traces = []\n",
    "\n",
    "print(\"Training model with k-fold cross validation\")\n",
    "\n",
    "# loop over n-training sets\n",
    "for i in range(len(train_lst)):\n",
    "    print(\"training on fold: \" + str(i+1) + \"/\" + str(len(train_lst)))\n",
    "    \n",
    "    # prepare training data\n",
    "    Y = pd.Categorical(train_lst[i][label_col]).codes\n",
    "    x_n = train_lst[i].columns[:non_data_cols]\n",
    "    x_s = train_lst[i][x_n].values\n",
    "    x_s = utl.standardize(x_s)\n",
    "    \n",
    "    # train model and store traces\n",
    "    with pm.Model() as model_mlr: \n",
    "        alpha = pm.Normal('alpha', mu=0, sd=10)\n",
    "        beta = pm.Normal('beta', mu=0, sd=10, shape=len(x_n))\n",
    "        mu = alpha + pm.math.dot(x_s, beta)\n",
    "        theta = pm.Deterministic('theta', 1 / (1 + pm.math.exp(-mu))) \n",
    "        y_pred = pm.Bernoulli('y_pred', p=theta, observed=Y)\n",
    "\n",
    "        trace_mlr = pm.sample(2000, random_seed=42)    \n",
    "        traces.append(trace_mlr)"
   ]
  },
  {
   "cell_type": "code",
   "execution_count": 10,
   "metadata": {},
   "outputs": [
    {
     "data": {
      "image/svg+xml": [
       "<?xml version=\"1.0\" encoding=\"UTF-8\" standalone=\"no\"?>\n",
       "<!DOCTYPE svg PUBLIC \"-//W3C//DTD SVG 1.1//EN\"\n",
       " \"http://www.w3.org/Graphics/SVG/1.1/DTD/svg11.dtd\">\n",
       "<!-- Generated by graphviz version 2.40.1 (20161225.0304)\n",
       " -->\n",
       "<!-- Title: %3 Pages: 1 -->\n",
       "<svg width=\"300pt\" height=\"254pt\"\n",
       " viewBox=\"0.00 0.00 299.94 254.00\" xmlns=\"http://www.w3.org/2000/svg\" xmlns:xlink=\"http://www.w3.org/1999/xlink\">\n",
       "<g id=\"graph0\" class=\"graph\" transform=\"scale(1 1) rotate(0) translate(4 250)\">\n",
       "<title>%3</title>\n",
       "<polygon fill=\"#ffffff\" stroke=\"transparent\" points=\"-4,4 -4,-250 295.9441,-250 295.9441,4 -4,4\"/>\n",
       "<g id=\"clust1\" class=\"cluster\">\n",
       "<title>cluster101</title>\n",
       "<path fill=\"none\" stroke=\"#000000\" d=\"M155.9441,-163C155.9441,-163 271.9441,-163 271.9441,-163 277.9441,-163 283.9441,-169 283.9441,-175 283.9441,-175 283.9441,-226 283.9441,-226 283.9441,-232 277.9441,-238 271.9441,-238 271.9441,-238 155.9441,-238 155.9441,-238 149.9441,-238 143.9441,-232 143.9441,-226 143.9441,-226 143.9441,-175 143.9441,-175 143.9441,-169 149.9441,-163 155.9441,-163\"/>\n",
       "<text text-anchor=\"middle\" x=\"265.4441\" y=\"-170.8\" font-family=\"Times,serif\" font-size=\"14.00\" fill=\"#000000\">101</text>\n",
       "</g>\n",
       "<g id=\"clust2\" class=\"cluster\">\n",
       "<title>cluster40</title>\n",
       "<path fill=\"none\" stroke=\"#000000\" d=\"M62.9441,-8C62.9441,-8 210.9441,-8 210.9441,-8 216.9441,-8 222.9441,-14 222.9441,-20 222.9441,-20 222.9441,-143 222.9441,-143 222.9441,-149 216.9441,-155 210.9441,-155 210.9441,-155 62.9441,-155 62.9441,-155 56.9441,-155 50.9441,-149 50.9441,-143 50.9441,-143 50.9441,-20 50.9441,-20 50.9441,-14 56.9441,-8 62.9441,-8\"/>\n",
       "<text text-anchor=\"middle\" x=\"207.9441\" y=\"-15.8\" font-family=\"Times,serif\" font-size=\"14.00\" fill=\"#000000\">40</text>\n",
       "</g>\n",
       "<!-- alpha -->\n",
       "<g id=\"node1\" class=\"node\">\n",
       "<title>alpha</title>\n",
       "<ellipse fill=\"none\" stroke=\"#000000\" cx=\"66.9441\" cy=\"-212\" rx=\"66.8882\" ry=\"18\"/>\n",
       "<text text-anchor=\"middle\" x=\"66.9441\" y=\"-208.3\" font-family=\"Times,serif\" font-size=\"14.00\" fill=\"#000000\">alpha ~ Normal</text>\n",
       "</g>\n",
       "<!-- theta -->\n",
       "<g id=\"node4\" class=\"node\">\n",
       "<title>theta</title>\n",
       "<polygon fill=\"none\" stroke=\"#000000\" points=\"202.9441,-147 70.9441,-147 70.9441,-111 202.9441,-111 202.9441,-147\"/>\n",
       "<text text-anchor=\"middle\" x=\"136.9441\" y=\"-125.3\" font-family=\"Times,serif\" font-size=\"14.00\" fill=\"#000000\">theta ~ Deterministic</text>\n",
       "</g>\n",
       "<!-- alpha&#45;&gt;theta -->\n",
       "<g id=\"edge2\" class=\"edge\">\n",
       "<title>alpha&#45;&gt;theta</title>\n",
       "<path fill=\"none\" stroke=\"#000000\" d=\"M81.7893,-194.3978C91.4938,-182.891 104.3344,-167.6658 115.184,-154.8012\"/>\n",
       "<polygon fill=\"#000000\" stroke=\"#000000\" points=\"117.8648,-157.0514 121.6363,-147.1506 112.5138,-152.5385 117.8648,-157.0514\"/>\n",
       "</g>\n",
       "<!-- beta -->\n",
       "<g id=\"node2\" class=\"node\">\n",
       "<title>beta</title>\n",
       "<ellipse fill=\"none\" stroke=\"#000000\" cx=\"213.9441\" cy=\"-212\" rx=\"62.2891\" ry=\"18\"/>\n",
       "<text text-anchor=\"middle\" x=\"213.9441\" y=\"-208.3\" font-family=\"Times,serif\" font-size=\"14.00\" fill=\"#000000\">beta ~ Normal</text>\n",
       "</g>\n",
       "<!-- beta&#45;&gt;theta -->\n",
       "<g id=\"edge1\" class=\"edge\">\n",
       "<title>beta&#45;&gt;theta</title>\n",
       "<path fill=\"none\" stroke=\"#000000\" d=\"M197.6143,-194.3978C186.9393,-182.891 172.8147,-167.6658 160.8801,-154.8012\"/>\n",
       "<polygon fill=\"#000000\" stroke=\"#000000\" points=\"163.1496,-152.1013 153.7825,-147.1506 158.0178,-156.8621 163.1496,-152.1013\"/>\n",
       "</g>\n",
       "<!-- y_pred -->\n",
       "<g id=\"node3\" class=\"node\">\n",
       "<title>y_pred</title>\n",
       "<ellipse fill=\"#d3d3d3\" stroke=\"#000000\" cx=\"136.9441\" cy=\"-57\" rx=\"77.9862\" ry=\"18\"/>\n",
       "<text text-anchor=\"middle\" x=\"136.9441\" y=\"-53.3\" font-family=\"Times,serif\" font-size=\"14.00\" fill=\"#000000\">y_pred ~ Bernoulli</text>\n",
       "</g>\n",
       "<!-- theta&#45;&gt;y_pred -->\n",
       "<g id=\"edge3\" class=\"edge\">\n",
       "<title>theta&#45;&gt;y_pred</title>\n",
       "<path fill=\"none\" stroke=\"#000000\" d=\"M136.9441,-110.8314C136.9441,-103.131 136.9441,-93.9743 136.9441,-85.4166\"/>\n",
       "<polygon fill=\"#000000\" stroke=\"#000000\" points=\"140.4442,-85.4132 136.9441,-75.4133 133.4442,-85.4133 140.4442,-85.4132\"/>\n",
       "</g>\n",
       "</g>\n",
       "</svg>\n"
      ],
      "text/plain": [
       "<graphviz.dot.Digraph at 0x7f9a78340278>"
      ]
     },
     "execution_count": 10,
     "metadata": {},
     "output_type": "execute_result"
    }
   ],
   "source": [
    "pm.model_to_graphviz(model_mlr)"
   ]
  },
  {
   "cell_type": "markdown",
   "metadata": {},
   "source": [
    "# Model evaluation"
   ]
  },
  {
   "cell_type": "code",
   "execution_count": 11,
   "metadata": {},
   "outputs": [
    {
     "data": {
      "text/html": [
       "<div>\n",
       "<style scoped>\n",
       "    .dataframe tbody tr th:only-of-type {\n",
       "        vertical-align: middle;\n",
       "    }\n",
       "\n",
       "    .dataframe tbody tr th {\n",
       "        vertical-align: top;\n",
       "    }\n",
       "\n",
       "    .dataframe thead th {\n",
       "        text-align: right;\n",
       "    }\n",
       "</style>\n",
       "<table border=\"1\" class=\"dataframe\">\n",
       "  <thead>\n",
       "    <tr style=\"text-align: right;\">\n",
       "      <th></th>\n",
       "      <th>mean</th>\n",
       "      <th>sd</th>\n",
       "      <th>hpd_3%</th>\n",
       "      <th>hpd_97%</th>\n",
       "      <th>mcse_mean</th>\n",
       "      <th>mcse_sd</th>\n",
       "      <th>ess_mean</th>\n",
       "      <th>ess_sd</th>\n",
       "      <th>ess_bulk</th>\n",
       "      <th>ess_tail</th>\n",
       "      <th>r_hat</th>\n",
       "    </tr>\n",
       "  </thead>\n",
       "  <tbody>\n",
       "    <tr>\n",
       "      <th>alpha</th>\n",
       "      <td>1.414</td>\n",
       "      <td>9.585</td>\n",
       "      <td>-17.055</td>\n",
       "      <td>18.776</td>\n",
       "      <td>0.146</td>\n",
       "      <td>0.144</td>\n",
       "      <td>4295.0</td>\n",
       "      <td>2218.0</td>\n",
       "      <td>4293.0</td>\n",
       "      <td>2963.0</td>\n",
       "      <td>1.0</td>\n",
       "    </tr>\n",
       "    <tr>\n",
       "      <th>beta[0]</th>\n",
       "      <td>0.312</td>\n",
       "      <td>9.783</td>\n",
       "      <td>-16.989</td>\n",
       "      <td>19.203</td>\n",
       "      <td>0.140</td>\n",
       "      <td>0.172</td>\n",
       "      <td>4905.0</td>\n",
       "      <td>1610.0</td>\n",
       "      <td>4932.0</td>\n",
       "      <td>2699.0</td>\n",
       "      <td>1.0</td>\n",
       "    </tr>\n",
       "    <tr>\n",
       "      <th>beta[1]</th>\n",
       "      <td>0.100</td>\n",
       "      <td>9.742</td>\n",
       "      <td>-17.923</td>\n",
       "      <td>18.773</td>\n",
       "      <td>0.145</td>\n",
       "      <td>0.187</td>\n",
       "      <td>4538.0</td>\n",
       "      <td>1363.0</td>\n",
       "      <td>4542.0</td>\n",
       "      <td>2868.0</td>\n",
       "      <td>1.0</td>\n",
       "    </tr>\n",
       "    <tr>\n",
       "      <th>beta[2]</th>\n",
       "      <td>-0.652</td>\n",
       "      <td>9.499</td>\n",
       "      <td>-18.629</td>\n",
       "      <td>16.934</td>\n",
       "      <td>0.140</td>\n",
       "      <td>0.155</td>\n",
       "      <td>4633.0</td>\n",
       "      <td>1869.0</td>\n",
       "      <td>4632.0</td>\n",
       "      <td>2984.0</td>\n",
       "      <td>1.0</td>\n",
       "    </tr>\n",
       "    <tr>\n",
       "      <th>beta[3]</th>\n",
       "      <td>-0.844</td>\n",
       "      <td>9.339</td>\n",
       "      <td>-18.600</td>\n",
       "      <td>16.505</td>\n",
       "      <td>0.141</td>\n",
       "      <td>0.158</td>\n",
       "      <td>4368.0</td>\n",
       "      <td>1744.0</td>\n",
       "      <td>4371.0</td>\n",
       "      <td>2681.0</td>\n",
       "      <td>1.0</td>\n",
       "    </tr>\n",
       "    <tr>\n",
       "      <th>...</th>\n",
       "      <td>...</td>\n",
       "      <td>...</td>\n",
       "      <td>...</td>\n",
       "      <td>...</td>\n",
       "      <td>...</td>\n",
       "      <td>...</td>\n",
       "      <td>...</td>\n",
       "      <td>...</td>\n",
       "      <td>...</td>\n",
       "      <td>...</td>\n",
       "      <td>...</td>\n",
       "    </tr>\n",
       "    <tr>\n",
       "      <th>beta[96]</th>\n",
       "      <td>-1.699</td>\n",
       "      <td>9.659</td>\n",
       "      <td>-19.348</td>\n",
       "      <td>16.871</td>\n",
       "      <td>0.130</td>\n",
       "      <td>0.169</td>\n",
       "      <td>5518.0</td>\n",
       "      <td>1635.0</td>\n",
       "      <td>5517.0</td>\n",
       "      <td>2915.0</td>\n",
       "      <td>1.0</td>\n",
       "    </tr>\n",
       "    <tr>\n",
       "      <th>beta[97]</th>\n",
       "      <td>-1.902</td>\n",
       "      <td>9.853</td>\n",
       "      <td>-19.742</td>\n",
       "      <td>16.573</td>\n",
       "      <td>0.144</td>\n",
       "      <td>0.159</td>\n",
       "      <td>4666.0</td>\n",
       "      <td>1916.0</td>\n",
       "      <td>4666.0</td>\n",
       "      <td>2802.0</td>\n",
       "      <td>1.0</td>\n",
       "    </tr>\n",
       "    <tr>\n",
       "      <th>beta[98]</th>\n",
       "      <td>-0.982</td>\n",
       "      <td>9.300</td>\n",
       "      <td>-19.191</td>\n",
       "      <td>15.364</td>\n",
       "      <td>0.129</td>\n",
       "      <td>0.152</td>\n",
       "      <td>5215.0</td>\n",
       "      <td>1863.0</td>\n",
       "      <td>5232.0</td>\n",
       "      <td>3129.0</td>\n",
       "      <td>1.0</td>\n",
       "    </tr>\n",
       "    <tr>\n",
       "      <th>beta[99]</th>\n",
       "      <td>-0.086</td>\n",
       "      <td>9.294</td>\n",
       "      <td>-17.799</td>\n",
       "      <td>16.544</td>\n",
       "      <td>0.129</td>\n",
       "      <td>0.153</td>\n",
       "      <td>5207.0</td>\n",
       "      <td>1844.0</td>\n",
       "      <td>5228.0</td>\n",
       "      <td>2912.0</td>\n",
       "      <td>1.0</td>\n",
       "    </tr>\n",
       "    <tr>\n",
       "      <th>beta[100]</th>\n",
       "      <td>0.207</td>\n",
       "      <td>9.297</td>\n",
       "      <td>-16.836</td>\n",
       "      <td>18.795</td>\n",
       "      <td>0.126</td>\n",
       "      <td>0.157</td>\n",
       "      <td>5480.0</td>\n",
       "      <td>1748.0</td>\n",
       "      <td>5444.0</td>\n",
       "      <td>2784.0</td>\n",
       "      <td>1.0</td>\n",
       "    </tr>\n",
       "  </tbody>\n",
       "</table>\n",
       "<p>102 rows × 11 columns</p>\n",
       "</div>"
      ],
      "text/plain": [
       "            mean     sd  hpd_3%  hpd_97%  mcse_mean  mcse_sd  ess_mean  \\\n",
       "alpha      1.414  9.585 -17.055   18.776      0.146    0.144    4295.0   \n",
       "beta[0]    0.312  9.783 -16.989   19.203      0.140    0.172    4905.0   \n",
       "beta[1]    0.100  9.742 -17.923   18.773      0.145    0.187    4538.0   \n",
       "beta[2]   -0.652  9.499 -18.629   16.934      0.140    0.155    4633.0   \n",
       "beta[3]   -0.844  9.339 -18.600   16.505      0.141    0.158    4368.0   \n",
       "...          ...    ...     ...      ...        ...      ...       ...   \n",
       "beta[96]  -1.699  9.659 -19.348   16.871      0.130    0.169    5518.0   \n",
       "beta[97]  -1.902  9.853 -19.742   16.573      0.144    0.159    4666.0   \n",
       "beta[98]  -0.982  9.300 -19.191   15.364      0.129    0.152    5215.0   \n",
       "beta[99]  -0.086  9.294 -17.799   16.544      0.129    0.153    5207.0   \n",
       "beta[100]  0.207  9.297 -16.836   18.795      0.126    0.157    5480.0   \n",
       "\n",
       "           ess_sd  ess_bulk  ess_tail  r_hat  \n",
       "alpha      2218.0    4293.0    2963.0    1.0  \n",
       "beta[0]    1610.0    4932.0    2699.0    1.0  \n",
       "beta[1]    1363.0    4542.0    2868.0    1.0  \n",
       "beta[2]    1869.0    4632.0    2984.0    1.0  \n",
       "beta[3]    1744.0    4371.0    2681.0    1.0  \n",
       "...           ...       ...       ...    ...  \n",
       "beta[96]   1635.0    5517.0    2915.0    1.0  \n",
       "beta[97]   1916.0    4666.0    2802.0    1.0  \n",
       "beta[98]   1863.0    5232.0    3129.0    1.0  \n",
       "beta[99]   1844.0    5228.0    2912.0    1.0  \n",
       "beta[100]  1748.0    5444.0    2784.0    1.0  \n",
       "\n",
       "[102 rows x 11 columns]"
      ]
     },
     "execution_count": 11,
     "metadata": {},
     "output_type": "execute_result"
    }
   ],
   "source": [
    "varnames = ['alpha', 'beta']\n",
    "coef = az.summary(trace_mlr, varnames)\n",
    "coef"
   ]
  },
  {
   "cell_type": "code",
   "execution_count": 12,
   "metadata": {},
   "outputs": [
    {
     "data": {
      "image/png": "[encoded data removed]",
      "text/plain": [
       "<Figure size 720x432 with 1 Axes>"
      ]
     },
     "metadata": {},
     "output_type": "display_data"
    }
   ],
   "source": [
    "#az.plot_forest(trace_mlr, var_names=varnames, combined=True);\n",
    "az.plot_energy(trace_mlr, figsize=(10, 6));"
   ]
  },
  {
   "cell_type": "code",
   "execution_count": 13,
   "metadata": {},
   "outputs": [],
   "source": [
    "# add model predictions on test dataset\n",
    "for i in range(len(traces)):\n",
    "    test_lst[i] = utl.append_predictions(data_obj, traces[i], test_lst[i], display=False)"
   ]
  },
  {
   "cell_type": "code",
   "execution_count": 14,
   "metadata": {
    "scrolled": true
   },
   "outputs": [
    {
     "name": "stdout",
     "output_type": "stream",
     "text": [
      "n   tot  cor  err  score (%)\n",
      "----------------------------\n",
      "1    20   20   0   100.0\n",
      "2    20   20   0   100.0\n",
      "3    19   19   0   100.0\n",
      "----------------------------\n",
      "tot  59   59   0   100.0\n"
     ]
    }
   ],
   "source": [
    "# prediction score on test dataset\n",
    "utl.logistic_score(test_lst, 'label', 'p_label', kfold=True)"
   ]
  },
  {
   "cell_type": "code",
   "execution_count": 15,
   "metadata": {},
   "outputs": [],
   "source": [
    "# save trace\n",
    "#pm.backends.text.dump('./traces/trace_dummy', trace_mlr)"
   ]
  }
 ],
 "metadata": {
  "kernelspec": {
   "display_name": "Python 3",
   "language": "python",
   "name": "python3"
  },
  "language_info": {
   "codemirror_mode": {
    "name": "ipython",
    "version": 3
   },
   "file_extension": ".py",
   "mimetype": "text/x-python",
   "name": "python",
   "nbconvert_exporter": "python",
   "pygments_lexer": "ipython3",
   "version": "3.6.8"
  }
 },
 "nbformat": 4,
 "nbformat_minor": 2
}
