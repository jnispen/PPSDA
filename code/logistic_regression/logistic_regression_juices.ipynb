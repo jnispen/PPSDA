{
 "cells": [
  {
   "cell_type": "markdown",
   "metadata": {},
   "source": [
    "# Logistic Regression (Juices dataset)"
   ]
  },
  {
   "cell_type": "code",
   "execution_count": 1,
   "metadata": {},
   "outputs": [
    {
     "name": "stderr",
     "output_type": "stream",
     "text": [
      "WARNING (theano.tensor.blas): Using NumPy C-API based implementation for BLAS functions.\n"
     ]
    },
    {
     "name": "stdout",
     "output_type": "stream",
     "text": [
      "Running on PyMC3 v3.7\n"
     ]
    }
   ],
   "source": [
    "%matplotlib inline\n",
    "import numpy as np\n",
    "import pandas as pd\n",
    "import matplotlib.pyplot as plt\n",
    "from sklearn.model_selection import train_test_split\n",
    "import pymc3 as pm\n",
    "import arviz as az\n",
    "import seaborn as sns\n",
    "\n",
    "az.style.use('arviz-darkgrid')\n",
    "\n",
    "print('Running on PyMC3 v{}'.format(pm.__version__))"
   ]
  },
  {
   "cell_type": "markdown",
   "metadata": {},
   "source": [
    "## Load raw data and plot"
   ]
  },
  {
   "cell_type": "code",
   "execution_count": 2,
   "metadata": {},
   "outputs": [
    {
     "data": {
      "text/html": [
       "<div>\n",
       "<style scoped>\n",
       "    .dataframe tbody tr th:only-of-type {\n",
       "        vertical-align: middle;\n",
       "    }\n",
       "\n",
       "    .dataframe tbody tr th {\n",
       "        vertical-align: top;\n",
       "    }\n",
       "\n",
       "    .dataframe thead th {\n",
       "        text-align: right;\n",
       "    }\n",
       "</style>\n",
       "<table border=\"1\" class=\"dataframe\">\n",
       "  <thead>\n",
       "    <tr style=\"text-align: right;\">\n",
       "      <th></th>\n",
       "      <th>899.327</th>\n",
       "      <th>903.187</th>\n",
       "      <th>907.047</th>\n",
       "      <th>910.907</th>\n",
       "      <th>914.767</th>\n",
       "      <th>918.627</th>\n",
       "      <th>922.487</th>\n",
       "      <th>926.347</th>\n",
       "      <th>930.207</th>\n",
       "      <th>934.067</th>\n",
       "      <th>...</th>\n",
       "      <th>1771.684</th>\n",
       "      <th>1775.544</th>\n",
       "      <th>1779.404</th>\n",
       "      <th>1783.264</th>\n",
       "      <th>1787.124</th>\n",
       "      <th>1790.984</th>\n",
       "      <th>1794.844</th>\n",
       "      <th>1798.704</th>\n",
       "      <th>1802.564</th>\n",
       "      <th>label</th>\n",
       "    </tr>\n",
       "  </thead>\n",
       "  <tbody>\n",
       "    <tr>\n",
       "      <th>0</th>\n",
       "      <td>0.002806</td>\n",
       "      <td>0.002732</td>\n",
       "      <td>0.002661</td>\n",
       "      <td>0.002657</td>\n",
       "      <td>0.002699</td>\n",
       "      <td>0.002762</td>\n",
       "      <td>0.002749</td>\n",
       "      <td>0.002686</td>\n",
       "      <td>0.002637</td>\n",
       "      <td>0.002617</td>\n",
       "      <td>...</td>\n",
       "      <td>0.000348</td>\n",
       "      <td>0.000216</td>\n",
       "      <td>0.000166</td>\n",
       "      <td>0.000117</td>\n",
       "      <td>0.000087</td>\n",
       "      <td>0.000046</td>\n",
       "      <td>0.000011</td>\n",
       "      <td>0.000009</td>\n",
       "      <td>0.000009</td>\n",
       "      <td>NON-Strawberry</td>\n",
       "    </tr>\n",
       "    <tr>\n",
       "      <th>1</th>\n",
       "      <td>0.002637</td>\n",
       "      <td>0.002638</td>\n",
       "      <td>0.002651</td>\n",
       "      <td>0.002757</td>\n",
       "      <td>0.003000</td>\n",
       "      <td>0.003313</td>\n",
       "      <td>0.003412</td>\n",
       "      <td>0.003302</td>\n",
       "      <td>0.003162</td>\n",
       "      <td>0.003060</td>\n",
       "      <td>...</td>\n",
       "      <td>0.000013</td>\n",
       "      <td>0.000006</td>\n",
       "      <td>-0.000005</td>\n",
       "      <td>-0.000005</td>\n",
       "      <td>-0.000006</td>\n",
       "      <td>0.000002</td>\n",
       "      <td>0.000010</td>\n",
       "      <td>0.000005</td>\n",
       "      <td>0.000005</td>\n",
       "      <td>NON-Strawberry</td>\n",
       "    </tr>\n",
       "    <tr>\n",
       "      <th>2</th>\n",
       "      <td>0.002416</td>\n",
       "      <td>0.002480</td>\n",
       "      <td>0.002511</td>\n",
       "      <td>0.002611</td>\n",
       "      <td>0.002802</td>\n",
       "      <td>0.003031</td>\n",
       "      <td>0.003235</td>\n",
       "      <td>0.003316</td>\n",
       "      <td>0.003257</td>\n",
       "      <td>0.003136</td>\n",
       "      <td>...</td>\n",
       "      <td>0.000290</td>\n",
       "      <td>0.000185</td>\n",
       "      <td>0.000137</td>\n",
       "      <td>0.000090</td>\n",
       "      <td>0.000062</td>\n",
       "      <td>0.000031</td>\n",
       "      <td>0.000009</td>\n",
       "      <td>0.000007</td>\n",
       "      <td>0.000007</td>\n",
       "      <td>NON-Strawberry</td>\n",
       "    </tr>\n",
       "    <tr>\n",
       "      <th>3</th>\n",
       "      <td>0.002345</td>\n",
       "      <td>0.002292</td>\n",
       "      <td>0.002249</td>\n",
       "      <td>0.002303</td>\n",
       "      <td>0.002466</td>\n",
       "      <td>0.002642</td>\n",
       "      <td>0.002703</td>\n",
       "      <td>0.002671</td>\n",
       "      <td>0.002618</td>\n",
       "      <td>0.002567</td>\n",
       "      <td>...</td>\n",
       "      <td>0.000419</td>\n",
       "      <td>0.000267</td>\n",
       "      <td>0.000179</td>\n",
       "      <td>0.000119</td>\n",
       "      <td>0.000075</td>\n",
       "      <td>0.000043</td>\n",
       "      <td>0.000021</td>\n",
       "      <td>0.000008</td>\n",
       "      <td>0.000008</td>\n",
       "      <td>NON-Strawberry</td>\n",
       "    </tr>\n",
       "    <tr>\n",
       "      <th>4</th>\n",
       "      <td>0.002303</td>\n",
       "      <td>0.002342</td>\n",
       "      <td>0.002350</td>\n",
       "      <td>0.002419</td>\n",
       "      <td>0.002561</td>\n",
       "      <td>0.002737</td>\n",
       "      <td>0.002862</td>\n",
       "      <td>0.002860</td>\n",
       "      <td>0.002811</td>\n",
       "      <td>0.002750</td>\n",
       "      <td>...</td>\n",
       "      <td>0.000468</td>\n",
       "      <td>0.000299</td>\n",
       "      <td>0.000212</td>\n",
       "      <td>0.000140</td>\n",
       "      <td>0.000099</td>\n",
       "      <td>0.000054</td>\n",
       "      <td>0.000020</td>\n",
       "      <td>0.000012</td>\n",
       "      <td>0.000012</td>\n",
       "      <td>NON-Strawberry</td>\n",
       "    </tr>\n",
       "  </tbody>\n",
       "</table>\n",
       "<p>5 rows × 236 columns</p>\n",
       "</div>"
      ],
      "text/plain": [
       "    899.327   903.187   907.047   910.907   914.767   918.627   922.487  \\\n",
       "0  0.002806  0.002732  0.002661  0.002657  0.002699  0.002762  0.002749   \n",
       "1  0.002637  0.002638  0.002651  0.002757  0.003000  0.003313  0.003412   \n",
       "2  0.002416  0.002480  0.002511  0.002611  0.002802  0.003031  0.003235   \n",
       "3  0.002345  0.002292  0.002249  0.002303  0.002466  0.002642  0.002703   \n",
       "4  0.002303  0.002342  0.002350  0.002419  0.002561  0.002737  0.002862   \n",
       "\n",
       "    926.347   930.207   934.067  ...  1771.684  1775.544  1779.404  1783.264  \\\n",
       "0  0.002686  0.002637  0.002617  ...  0.000348  0.000216  0.000166  0.000117   \n",
       "1  0.003302  0.003162  0.003060  ...  0.000013  0.000006 -0.000005 -0.000005   \n",
       "2  0.003316  0.003257  0.003136  ...  0.000290  0.000185  0.000137  0.000090   \n",
       "3  0.002671  0.002618  0.002567  ...  0.000419  0.000267  0.000179  0.000119   \n",
       "4  0.002860  0.002811  0.002750  ...  0.000468  0.000299  0.000212  0.000140   \n",
       "\n",
       "   1787.124  1790.984  1794.844  1798.704  1802.564           label  \n",
       "0  0.000087  0.000046  0.000011  0.000009  0.000009  NON-Strawberry  \n",
       "1 -0.000006  0.000002  0.000010  0.000005  0.000005  NON-Strawberry  \n",
       "2  0.000062  0.000031  0.000009  0.000007  0.000007  NON-Strawberry  \n",
       "3  0.000075  0.000043  0.000021  0.000008  0.000008  NON-Strawberry  \n",
       "4  0.000099  0.000054  0.000020  0.000012  0.000012  NON-Strawberry  \n",
       "\n",
       "[5 rows x 236 columns]"
      ]
     },
     "execution_count": 2,
     "metadata": {},
     "output_type": "execute_result"
    }
   ],
   "source": [
    "# read .csv file into Dataframe\n",
    "data = pd.read_csv('../../data/juices/FTIR_juices.csv')\n",
    "data.head(5)"
   ]
  },
  {
   "cell_type": "code",
   "execution_count": 3,
   "metadata": {},
   "outputs": [],
   "source": [
    "# shuffle data rows\n",
    "data = data.sample(frac=1)"
   ]
  },
  {
   "cell_type": "code",
   "execution_count": 4,
   "metadata": {},
   "outputs": [
    {
     "data": {
      "image/png": "[encoded data removed]",
      "text/plain": [
       "<Figure size 864x432 with 1 Axes>"
      ]
     },
     "metadata": {
      "needs_background": "light"
     },
     "output_type": "display_data"
    }
   ],
   "source": [
    "# number of non-data columns at right of dataframe\n",
    "ndata_cols = -1\n",
    "\n",
    "# header data = x-values\n",
    "cols = data.columns.to_list()\n",
    "x_val = np.array(cols[:ndata_cols], dtype='float32')\n",
    "\n",
    "# plot all data in 1 figure\n",
    "fig = plt.figure(figsize=(12,6))\n",
    "ax = plt.axes()\n",
    "ax.xaxis.set_major_locator(plt.MaxNLocator(10))\n",
    "ax.set(xlabel='Wavenumber ($cm^{-1}$)', ylabel='Intensity')\n",
    "\n",
    "for i in range(50):\n",
    "    y_val = data.values[i]\n",
    "    if y_val[-1] == 'NON-Strawberry':\n",
    "        col = 'blue'\n",
    "    else:\n",
    "        col = 'red'\n",
    "    plt.plot(x_val, y_val[:ndata_cols], '-', color=col);"
   ]
  },
  {
   "cell_type": "code",
   "execution_count": 5,
   "metadata": {},
   "outputs": [
    {
     "data": {
      "text/plain": [
       "NON-Strawberry    632\n",
       "Strawberry        351\n",
       "Name: label, dtype: int64"
      ]
     },
     "execution_count": 5,
     "metadata": {},
     "output_type": "execute_result"
    }
   ],
   "source": [
    "# number of samples from each class\n",
    "data['label'].value_counts()"
   ]
  },
  {
   "cell_type": "code",
   "execution_count": 52,
   "metadata": {},
   "outputs": [],
   "source": [
    "# generate training and test sets\n",
    "train_data, test_data = train_test_split(data, test_size=0.33, random_state=42)\n",
    "\n",
    "# rename the index\n",
    "test_data.index = range(len(test_data))\n",
    "train_data.index = range(len(train_data))"
   ]
  },
  {
   "cell_type": "code",
   "execution_count": 53,
   "metadata": {},
   "outputs": [
    {
     "data": {
      "text/plain": [
       "(325, 236)"
      ]
     },
     "execution_count": 53,
     "metadata": {},
     "output_type": "execute_result"
    }
   ],
   "source": [
    "test_data.shape"
   ]
  },
  {
   "cell_type": "code",
   "execution_count": 54,
   "metadata": {},
   "outputs": [
    {
     "data": {
      "text/plain": [
       "(658, 236)"
      ]
     },
     "execution_count": 54,
     "metadata": {},
     "output_type": "execute_result"
    }
   ],
   "source": [
    "train_data.shape"
   ]
  },
  {
   "cell_type": "markdown",
   "metadata": {},
   "source": [
    "# Model definition (Multiple Logistic Regression)\n",
    "The following statistical model is assumed:\n",
    "\n",
    "\\begin{equation}\n",
    "\\alpha \\sim \\mathcal{N}(\\mu_{\\alpha},\\,\\sigma^{2}_{\\alpha}) \\\\\n",
    "\\beta \\sim \\mathcal{N}(\\mu_{\\beta},\\,\\sigma^{2}_{\\beta}) \\\\\n",
    "\\theta = \\frac{1}{1+e^{-(\\alpha+\\beta X)}} \\\\\n",
    "y \\sim Bern(\\theta)\n",
    "\\end{equation}"
   ]
  },
  {
   "cell_type": "code",
   "execution_count": 55,
   "metadata": {},
   "outputs": [
    {
     "data": {
      "text/plain": [
       "(658, 235)"
      ]
     },
     "execution_count": 55,
     "metadata": {},
     "output_type": "execute_result"
    }
   ],
   "source": [
    "# standardize data\n",
    "Y = pd.Categorical(train_data['label']).codes\n",
    "x_n = train_data.columns[:ndata_cols]\n",
    "x_s = train_data[x_n].values\n",
    "x_s = (x_s - x_s.mean(axis=0)) / x_s.std(axis=0)\n",
    "x_s.shape"
   ]
  },
  {
   "cell_type": "code",
   "execution_count": 56,
   "metadata": {},
   "outputs": [
    {
     "name": "stderr",
     "output_type": "stream",
     "text": [
      "Auto-assigning NUTS sampler...\n",
      "Initializing NUTS using adapt_diag...\n",
      "Multiprocess sampling (2 chains in 2 jobs)\n",
      "NUTS: [beta, alpha]\n",
      "Sampling 2 chains: 100%|██████████| 3000/3000 [31:46<00:00,  1.57draws/s]\n",
      "There was 1 divergence after tuning. Increase `target_accept` or reparameterize.\n"
     ]
    }
   ],
   "source": [
    "with pm.Model() as model_mlr: \n",
    "    alpha = pm.Normal('alpha', mu=0, sd=100)\n",
    "    beta = pm.Normal('beta', mu=0, sd=10, shape=len(x_n))\n",
    "    \n",
    "    mu = alpha + pm.math.dot(x_s, beta)\n",
    "    theta = pm.Deterministic('theta', 1 / (1 + pm.math.exp(-mu))) \n",
    "     \n",
    "    y_pred = pm.Bernoulli('y_pred', p=theta, observed=Y) \n",
    " \n",
    "    trace_mlr = pm.sample(1000, init='adapt_diag')"
   ]
  },
  {
   "cell_type": "code",
   "execution_count": 57,
   "metadata": {},
   "outputs": [
    {
     "data": {
      "image/svg+xml": [
       "<?xml version=\"1.0\" encoding=\"UTF-8\" standalone=\"no\"?>\n",
       "<!DOCTYPE svg PUBLIC \"-//W3C//DTD SVG 1.1//EN\"\n",
       " \"http://www.w3.org/Graphics/SVG/1.1/DTD/svg11.dtd\">\n",
       "<!-- Generated by graphviz version 2.40.1 (20161225.0304)\n",
       " -->\n",
       "<!-- Title: %3 Pages: 1 -->\n",
       "<svg width=\"300pt\" height=\"254pt\"\n",
       " viewBox=\"0.00 0.00 299.94 254.00\" xmlns=\"http://www.w3.org/2000/svg\" xmlns:xlink=\"http://www.w3.org/1999/xlink\">\n",
       "<g id=\"graph0\" class=\"graph\" transform=\"scale(1 1) rotate(0) translate(4 250)\">\n",
       "<title>%3</title>\n",
       "<polygon fill=\"#ffffff\" stroke=\"transparent\" points=\"-4,4 -4,-250 295.9441,-250 295.9441,4 -4,4\"/>\n",
       "<g id=\"clust1\" class=\"cluster\">\n",
       "<title>cluster235</title>\n",
       "<path fill=\"none\" stroke=\"#000000\" d=\"M155.9441,-163C155.9441,-163 271.9441,-163 271.9441,-163 277.9441,-163 283.9441,-169 283.9441,-175 283.9441,-175 283.9441,-226 283.9441,-226 283.9441,-232 277.9441,-238 271.9441,-238 271.9441,-238 155.9441,-238 155.9441,-238 149.9441,-238 143.9441,-232 143.9441,-226 143.9441,-226 143.9441,-175 143.9441,-175 143.9441,-169 149.9441,-163 155.9441,-163\"/>\n",
       "<text text-anchor=\"middle\" x=\"265.4441\" y=\"-170.8\" font-family=\"Times,serif\" font-size=\"14.00\" fill=\"#000000\">235</text>\n",
       "</g>\n",
       "<g id=\"clust2\" class=\"cluster\">\n",
       "<title>cluster658</title>\n",
       "<path fill=\"none\" stroke=\"#000000\" d=\"M62.9441,-8C62.9441,-8 210.9441,-8 210.9441,-8 216.9441,-8 222.9441,-14 222.9441,-20 222.9441,-20 222.9441,-143 222.9441,-143 222.9441,-149 216.9441,-155 210.9441,-155 210.9441,-155 62.9441,-155 62.9441,-155 56.9441,-155 50.9441,-149 50.9441,-143 50.9441,-143 50.9441,-20 50.9441,-20 50.9441,-14 56.9441,-8 62.9441,-8\"/>\n",
       "<text text-anchor=\"middle\" x=\"204.4441\" y=\"-15.8\" font-family=\"Times,serif\" font-size=\"14.00\" fill=\"#000000\">658</text>\n",
       "</g>\n",
       "<!-- alpha -->\n",
       "<g id=\"node1\" class=\"node\">\n",
       "<title>alpha</title>\n",
       "<ellipse fill=\"none\" stroke=\"#000000\" cx=\"66.9441\" cy=\"-212\" rx=\"66.8882\" ry=\"18\"/>\n",
       "<text text-anchor=\"middle\" x=\"66.9441\" y=\"-208.3\" font-family=\"Times,serif\" font-size=\"14.00\" fill=\"#000000\">alpha ~ Normal</text>\n",
       "</g>\n",
       "<!-- theta -->\n",
       "<g id=\"node3\" class=\"node\">\n",
       "<title>theta</title>\n",
       "<polygon fill=\"none\" stroke=\"#000000\" points=\"202.9441,-147 70.9441,-147 70.9441,-111 202.9441,-111 202.9441,-147\"/>\n",
       "<text text-anchor=\"middle\" x=\"136.9441\" y=\"-125.3\" font-family=\"Times,serif\" font-size=\"14.00\" fill=\"#000000\">theta ~ Deterministic</text>\n",
       "</g>\n",
       "<!-- alpha&#45;&gt;theta -->\n",
       "<g id=\"edge2\" class=\"edge\">\n",
       "<title>alpha&#45;&gt;theta</title>\n",
       "<path fill=\"none\" stroke=\"#000000\" d=\"M81.7893,-194.3978C91.4938,-182.891 104.3344,-167.6658 115.184,-154.8012\"/>\n",
       "<polygon fill=\"#000000\" stroke=\"#000000\" points=\"117.8648,-157.0514 121.6363,-147.1506 112.5138,-152.5385 117.8648,-157.0514\"/>\n",
       "</g>\n",
       "<!-- beta -->\n",
       "<g id=\"node2\" class=\"node\">\n",
       "<title>beta</title>\n",
       "<ellipse fill=\"none\" stroke=\"#000000\" cx=\"213.9441\" cy=\"-212\" rx=\"62.2891\" ry=\"18\"/>\n",
       "<text text-anchor=\"middle\" x=\"213.9441\" y=\"-208.3\" font-family=\"Times,serif\" font-size=\"14.00\" fill=\"#000000\">beta ~ Normal</text>\n",
       "</g>\n",
       "<!-- beta&#45;&gt;theta -->\n",
       "<g id=\"edge1\" class=\"edge\">\n",
       "<title>beta&#45;&gt;theta</title>\n",
       "<path fill=\"none\" stroke=\"#000000\" d=\"M197.6143,-194.3978C186.9393,-182.891 172.8147,-167.6658 160.8801,-154.8012\"/>\n",
       "<polygon fill=\"#000000\" stroke=\"#000000\" points=\"163.1496,-152.1013 153.7825,-147.1506 158.0178,-156.8621 163.1496,-152.1013\"/>\n",
       "</g>\n",
       "<!-- y_pred -->\n",
       "<g id=\"node4\" class=\"node\">\n",
       "<title>y_pred</title>\n",
       "<ellipse fill=\"#d3d3d3\" stroke=\"#000000\" cx=\"136.9441\" cy=\"-57\" rx=\"77.9862\" ry=\"18\"/>\n",
       "<text text-anchor=\"middle\" x=\"136.9441\" y=\"-53.3\" font-family=\"Times,serif\" font-size=\"14.00\" fill=\"#000000\">y_pred ~ Bernoulli</text>\n",
       "</g>\n",
       "<!-- theta&#45;&gt;y_pred -->\n",
       "<g id=\"edge3\" class=\"edge\">\n",
       "<title>theta&#45;&gt;y_pred</title>\n",
       "<path fill=\"none\" stroke=\"#000000\" d=\"M136.9441,-110.8314C136.9441,-103.131 136.9441,-93.9743 136.9441,-85.4166\"/>\n",
       "<polygon fill=\"#000000\" stroke=\"#000000\" points=\"140.4442,-85.4132 136.9441,-75.4133 133.4442,-85.4133 140.4442,-85.4132\"/>\n",
       "</g>\n",
       "</g>\n",
       "</svg>\n"
      ],
      "text/plain": [
       "<graphviz.dot.Digraph at 0x7f99ffba4cc0>"
      ]
     },
     "execution_count": 57,
     "metadata": {},
     "output_type": "execute_result"
    }
   ],
   "source": [
    "pm.model_to_graphviz(model_mlr)"
   ]
  },
  {
   "cell_type": "markdown",
   "metadata": {},
   "source": [
    "# Model evaluation"
   ]
  },
  {
   "cell_type": "code",
   "execution_count": 58,
   "metadata": {},
   "outputs": [
    {
     "data": {
      "text/html": [
       "<div>\n",
       "<style scoped>\n",
       "    .dataframe tbody tr th:only-of-type {\n",
       "        vertical-align: middle;\n",
       "    }\n",
       "\n",
       "    .dataframe tbody tr th {\n",
       "        vertical-align: top;\n",
       "    }\n",
       "\n",
       "    .dataframe thead th {\n",
       "        text-align: right;\n",
       "    }\n",
       "</style>\n",
       "<table border=\"1\" class=\"dataframe\">\n",
       "  <thead>\n",
       "    <tr style=\"text-align: right;\">\n",
       "      <th></th>\n",
       "      <th>mean</th>\n",
       "      <th>sd</th>\n",
       "      <th>hpd_3%</th>\n",
       "      <th>hpd_97%</th>\n",
       "      <th>mcse_mean</th>\n",
       "      <th>mcse_sd</th>\n",
       "      <th>ess_mean</th>\n",
       "      <th>ess_sd</th>\n",
       "      <th>ess_bulk</th>\n",
       "      <th>ess_tail</th>\n",
       "      <th>r_hat</th>\n",
       "    </tr>\n",
       "  </thead>\n",
       "  <tbody>\n",
       "    <tr>\n",
       "      <th>alpha</th>\n",
       "      <td>-16.579</td>\n",
       "      <td>2.787</td>\n",
       "      <td>-21.786</td>\n",
       "      <td>-11.517</td>\n",
       "      <td>0.077</td>\n",
       "      <td>0.056</td>\n",
       "      <td>1327.0</td>\n",
       "      <td>1230.0</td>\n",
       "      <td>1403.0</td>\n",
       "      <td>1233.0</td>\n",
       "      <td>1.0</td>\n",
       "    </tr>\n",
       "    <tr>\n",
       "      <th>beta[0]</th>\n",
       "      <td>0.005</td>\n",
       "      <td>7.024</td>\n",
       "      <td>-13.054</td>\n",
       "      <td>13.123</td>\n",
       "      <td>0.160</td>\n",
       "      <td>0.147</td>\n",
       "      <td>1927.0</td>\n",
       "      <td>1142.0</td>\n",
       "      <td>1928.0</td>\n",
       "      <td>1419.0</td>\n",
       "      <td>1.0</td>\n",
       "    </tr>\n",
       "    <tr>\n",
       "      <th>beta[1]</th>\n",
       "      <td>-6.351</td>\n",
       "      <td>7.598</td>\n",
       "      <td>-20.248</td>\n",
       "      <td>8.225</td>\n",
       "      <td>0.159</td>\n",
       "      <td>0.134</td>\n",
       "      <td>2290.0</td>\n",
       "      <td>1601.0</td>\n",
       "      <td>2293.0</td>\n",
       "      <td>1445.0</td>\n",
       "      <td>1.0</td>\n",
       "    </tr>\n",
       "    <tr>\n",
       "      <th>beta[2]</th>\n",
       "      <td>0.124</td>\n",
       "      <td>8.816</td>\n",
       "      <td>-17.759</td>\n",
       "      <td>15.808</td>\n",
       "      <td>0.150</td>\n",
       "      <td>0.222</td>\n",
       "      <td>3448.0</td>\n",
       "      <td>792.0</td>\n",
       "      <td>3449.0</td>\n",
       "      <td>1278.0</td>\n",
       "      <td>1.0</td>\n",
       "    </tr>\n",
       "    <tr>\n",
       "      <th>beta[3]</th>\n",
       "      <td>0.238</td>\n",
       "      <td>8.775</td>\n",
       "      <td>-16.160</td>\n",
       "      <td>17.354</td>\n",
       "      <td>0.166</td>\n",
       "      <td>0.220</td>\n",
       "      <td>2781.0</td>\n",
       "      <td>793.0</td>\n",
       "      <td>2779.0</td>\n",
       "      <td>1420.0</td>\n",
       "      <td>1.0</td>\n",
       "    </tr>\n",
       "    <tr>\n",
       "      <th>...</th>\n",
       "      <td>...</td>\n",
       "      <td>...</td>\n",
       "      <td>...</td>\n",
       "      <td>...</td>\n",
       "      <td>...</td>\n",
       "      <td>...</td>\n",
       "      <td>...</td>\n",
       "      <td>...</td>\n",
       "      <td>...</td>\n",
       "      <td>...</td>\n",
       "      <td>...</td>\n",
       "    </tr>\n",
       "    <tr>\n",
       "      <th>beta[230]</th>\n",
       "      <td>-1.310</td>\n",
       "      <td>7.784</td>\n",
       "      <td>-15.322</td>\n",
       "      <td>13.983</td>\n",
       "      <td>0.157</td>\n",
       "      <td>0.177</td>\n",
       "      <td>2470.0</td>\n",
       "      <td>968.0</td>\n",
       "      <td>2530.0</td>\n",
       "      <td>1143.0</td>\n",
       "      <td>1.0</td>\n",
       "    </tr>\n",
       "    <tr>\n",
       "      <th>beta[231]</th>\n",
       "      <td>-3.453</td>\n",
       "      <td>6.308</td>\n",
       "      <td>-15.094</td>\n",
       "      <td>8.532</td>\n",
       "      <td>0.132</td>\n",
       "      <td>0.122</td>\n",
       "      <td>2279.0</td>\n",
       "      <td>1330.0</td>\n",
       "      <td>2290.0</td>\n",
       "      <td>1416.0</td>\n",
       "      <td>1.0</td>\n",
       "    </tr>\n",
       "    <tr>\n",
       "      <th>beta[232]</th>\n",
       "      <td>-12.416</td>\n",
       "      <td>5.793</td>\n",
       "      <td>-23.017</td>\n",
       "      <td>-1.375</td>\n",
       "      <td>0.127</td>\n",
       "      <td>0.094</td>\n",
       "      <td>2083.0</td>\n",
       "      <td>1919.0</td>\n",
       "      <td>2073.0</td>\n",
       "      <td>1609.0</td>\n",
       "      <td>1.0</td>\n",
       "    </tr>\n",
       "    <tr>\n",
       "      <th>beta[233]</th>\n",
       "      <td>-12.557</td>\n",
       "      <td>5.204</td>\n",
       "      <td>-22.180</td>\n",
       "      <td>-2.972</td>\n",
       "      <td>0.117</td>\n",
       "      <td>0.087</td>\n",
       "      <td>1967.0</td>\n",
       "      <td>1775.0</td>\n",
       "      <td>1977.0</td>\n",
       "      <td>1693.0</td>\n",
       "      <td>1.0</td>\n",
       "    </tr>\n",
       "    <tr>\n",
       "      <th>beta[234]</th>\n",
       "      <td>22.013</td>\n",
       "      <td>5.087</td>\n",
       "      <td>13.065</td>\n",
       "      <td>31.799</td>\n",
       "      <td>0.125</td>\n",
       "      <td>0.093</td>\n",
       "      <td>1645.0</td>\n",
       "      <td>1502.0</td>\n",
       "      <td>1685.0</td>\n",
       "      <td>1317.0</td>\n",
       "      <td>1.0</td>\n",
       "    </tr>\n",
       "  </tbody>\n",
       "</table>\n",
       "<p>236 rows × 11 columns</p>\n",
       "</div>"
      ],
      "text/plain": [
       "             mean     sd  hpd_3%  hpd_97%  mcse_mean  mcse_sd  ess_mean  \\\n",
       "alpha     -16.579  2.787 -21.786  -11.517      0.077    0.056    1327.0   \n",
       "beta[0]     0.005  7.024 -13.054   13.123      0.160    0.147    1927.0   \n",
       "beta[1]    -6.351  7.598 -20.248    8.225      0.159    0.134    2290.0   \n",
       "beta[2]     0.124  8.816 -17.759   15.808      0.150    0.222    3448.0   \n",
       "beta[3]     0.238  8.775 -16.160   17.354      0.166    0.220    2781.0   \n",
       "...           ...    ...     ...      ...        ...      ...       ...   \n",
       "beta[230]  -1.310  7.784 -15.322   13.983      0.157    0.177    2470.0   \n",
       "beta[231]  -3.453  6.308 -15.094    8.532      0.132    0.122    2279.0   \n",
       "beta[232] -12.416  5.793 -23.017   -1.375      0.127    0.094    2083.0   \n",
       "beta[233] -12.557  5.204 -22.180   -2.972      0.117    0.087    1967.0   \n",
       "beta[234]  22.013  5.087  13.065   31.799      0.125    0.093    1645.0   \n",
       "\n",
       "           ess_sd  ess_bulk  ess_tail  r_hat  \n",
       "alpha      1230.0    1403.0    1233.0    1.0  \n",
       "beta[0]    1142.0    1928.0    1419.0    1.0  \n",
       "beta[1]    1601.0    2293.0    1445.0    1.0  \n",
       "beta[2]     792.0    3449.0    1278.0    1.0  \n",
       "beta[3]     793.0    2779.0    1420.0    1.0  \n",
       "...           ...       ...       ...    ...  \n",
       "beta[230]   968.0    2530.0    1143.0    1.0  \n",
       "beta[231]  1330.0    2290.0    1416.0    1.0  \n",
       "beta[232]  1919.0    2073.0    1609.0    1.0  \n",
       "beta[233]  1775.0    1977.0    1693.0    1.0  \n",
       "beta[234]  1502.0    1685.0    1317.0    1.0  \n",
       "\n",
       "[236 rows x 11 columns]"
      ]
     },
     "execution_count": 58,
     "metadata": {},
     "output_type": "execute_result"
    }
   ],
   "source": [
    "varnames = ['alpha', 'beta']\n",
    "coef = az.summary(trace_mlr, varnames)\n",
    "coef"
   ]
  },
  {
   "cell_type": "code",
   "execution_count": 59,
   "metadata": {},
   "outputs": [
    {
     "data": {
      "image/png": "[encoded data removed]",
      "text/plain": [
       "<Figure size 1000x600 with 1 Axes>"
      ]
     },
     "metadata": {},
     "output_type": "display_data"
    }
   ],
   "source": [
    "#az.plot_forest(trace_mlr, var_names=varnames, combined=True);\n",
    "az.plot_energy(trace_mlr, figsize=(10, 6));"
   ]
  },
  {
   "cell_type": "code",
   "execution_count": 60,
   "metadata": {},
   "outputs": [
    {
     "data": {
      "text/html": [
       "<div>\n",
       "<style scoped>\n",
       "    .dataframe tbody tr th:only-of-type {\n",
       "        vertical-align: middle;\n",
       "    }\n",
       "\n",
       "    .dataframe tbody tr th {\n",
       "        vertical-align: top;\n",
       "    }\n",
       "\n",
       "    .dataframe thead th {\n",
       "        text-align: right;\n",
       "    }\n",
       "</style>\n",
       "<table border=\"1\" class=\"dataframe\">\n",
       "  <thead>\n",
       "    <tr style=\"text-align: right;\">\n",
       "      <th></th>\n",
       "      <th>label</th>\n",
       "      <th>pred</th>\n",
       "      <th>pred_label</th>\n",
       "    </tr>\n",
       "  </thead>\n",
       "  <tbody>\n",
       "    <tr>\n",
       "      <th>0</th>\n",
       "      <td>Strawberry</td>\n",
       "      <td>1.0</td>\n",
       "      <td>Strawberry</td>\n",
       "    </tr>\n",
       "    <tr>\n",
       "      <th>1</th>\n",
       "      <td>NON-Strawberry</td>\n",
       "      <td>0.0</td>\n",
       "      <td>NON-Strawberry</td>\n",
       "    </tr>\n",
       "    <tr>\n",
       "      <th>2</th>\n",
       "      <td>NON-Strawberry</td>\n",
       "      <td>0.0</td>\n",
       "      <td>NON-Strawberry</td>\n",
       "    </tr>\n",
       "    <tr>\n",
       "      <th>3</th>\n",
       "      <td>Strawberry</td>\n",
       "      <td>1.0</td>\n",
       "      <td>Strawberry</td>\n",
       "    </tr>\n",
       "    <tr>\n",
       "      <th>4</th>\n",
       "      <td>NON-Strawberry</td>\n",
       "      <td>0.0</td>\n",
       "      <td>NON-Strawberry</td>\n",
       "    </tr>\n",
       "    <tr>\n",
       "      <th>...</th>\n",
       "      <td>...</td>\n",
       "      <td>...</td>\n",
       "      <td>...</td>\n",
       "    </tr>\n",
       "    <tr>\n",
       "      <th>320</th>\n",
       "      <td>Strawberry</td>\n",
       "      <td>1.0</td>\n",
       "      <td>Strawberry</td>\n",
       "    </tr>\n",
       "    <tr>\n",
       "      <th>321</th>\n",
       "      <td>Strawberry</td>\n",
       "      <td>1.0</td>\n",
       "      <td>Strawberry</td>\n",
       "    </tr>\n",
       "    <tr>\n",
       "      <th>322</th>\n",
       "      <td>NON-Strawberry</td>\n",
       "      <td>0.0</td>\n",
       "      <td>NON-Strawberry</td>\n",
       "    </tr>\n",
       "    <tr>\n",
       "      <th>323</th>\n",
       "      <td>NON-Strawberry</td>\n",
       "      <td>0.0</td>\n",
       "      <td>NON-Strawberry</td>\n",
       "    </tr>\n",
       "    <tr>\n",
       "      <th>324</th>\n",
       "      <td>NON-Strawberry</td>\n",
       "      <td>0.0</td>\n",
       "      <td>NON-Strawberry</td>\n",
       "    </tr>\n",
       "  </tbody>\n",
       "</table>\n",
       "<p>325 rows × 3 columns</p>\n",
       "</div>"
      ],
      "text/plain": [
       "              label  pred      pred_label\n",
       "0        Strawberry   1.0      Strawberry\n",
       "1    NON-Strawberry   0.0  NON-Strawberry\n",
       "2    NON-Strawberry   0.0  NON-Strawberry\n",
       "3        Strawberry   1.0      Strawberry\n",
       "4    NON-Strawberry   0.0  NON-Strawberry\n",
       "..              ...   ...             ...\n",
       "320      Strawberry   1.0      Strawberry\n",
       "321      Strawberry   1.0      Strawberry\n",
       "322  NON-Strawberry   0.0  NON-Strawberry\n",
       "323  NON-Strawberry   0.0  NON-Strawberry\n",
       "324  NON-Strawberry   0.0  NON-Strawberry\n",
       "\n",
       "[325 rows x 3 columns]"
      ]
     },
     "execution_count": 60,
     "metadata": {},
     "output_type": "execute_result"
    }
   ],
   "source": [
    "# check model predictions on test dataset\n",
    "a = trace_mlr['alpha'].mean()\n",
    "b = trace_mlr['beta'].mean(axis=0)\n",
    "\n",
    "xt_n = test_data.columns[:ndata_cols]\n",
    "xt_s = test_data[x_n].values\n",
    "xt_s = (xt_s - xt_s.mean(axis=0)) / xt_s.std(axis=0)\n",
    "\n",
    "mu_t = a + (b * xt_s).sum(axis=1)\n",
    "yt_p = 1 / (1 + np.exp(-mu_t))\n",
    "\n",
    "pt_y = np.zeros(len(xt_s))\n",
    "lp_t = [] \n",
    "\n",
    "for i in range(len(xt_s)):\n",
    "    if (yt_p[i] < 0.5): \n",
    "        pt_y[i] = 0\n",
    "        lp_t.append('NON-Strawberry')\n",
    "    else:\n",
    "        pt_y[i] = 1\n",
    "        lp_t.append('Strawberry')\n",
    "        \n",
    "test_data = test_data.assign(pred=pd.Series(pt_y))\n",
    "test_data = test_data.assign(pred_label=pd.Series(lp_t))\n",
    "test_data.iloc[:,(ndata_cols-2):]"
   ]
  },
  {
   "cell_type": "code",
   "execution_count": 61,
   "metadata": {},
   "outputs": [
    {
     "data": {
      "text/plain": [
       "'96.92307692307692'"
      ]
     },
     "execution_count": 61,
     "metadata": {},
     "output_type": "execute_result"
    }
   ],
   "source": [
    "# prediction score on test dataset (%)\n",
    "Yt = pd.Categorical(test_data['label']).codes\n",
    "c = 0\n",
    "for i in range(len(xt_s)):\n",
    "    if test_data['label'].iloc[i] == lp_t[i]:\n",
    "        c += 1\n",
    "        \n",
    "f'{c/len(Yt) * 100}'"
   ]
  },
  {
   "cell_type": "code",
   "execution_count": null,
   "metadata": {},
   "outputs": [],
   "source": []
  }
 ],
 "metadata": {
  "kernelspec": {
   "display_name": "Python 3",
   "language": "python",
   "name": "python3"
  },
  "language_info": {
   "codemirror_mode": {
    "name": "ipython",
    "version": 3
   },
   "file_extension": ".py",
   "mimetype": "text/x-python",
   "name": "python",
   "nbconvert_exporter": "python",
   "pygments_lexer": "ipython3",
   "version": "3.6.8"
  }
 },
 "nbformat": 4,
 "nbformat_minor": 2
}
