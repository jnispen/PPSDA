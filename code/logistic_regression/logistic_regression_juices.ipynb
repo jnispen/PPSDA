{
 "cells": [
  {
   "cell_type": "markdown",
   "metadata": {},
   "source": [
    "# Logistic Regression (Juices dataset)"
   ]
  },
  {
   "cell_type": "code",
   "execution_count": 1,
   "metadata": {},
   "outputs": [
    {
     "name": "stderr",
     "output_type": "stream",
     "text": [
      "WARNING (theano.tensor.blas): Using NumPy C-API based implementation for BLAS functions.\n"
     ]
    },
    {
     "name": "stdout",
     "output_type": "stream",
     "text": [
      "Running on PyMC3 v3.7\n"
     ]
    }
   ],
   "source": [
    "%matplotlib inline\n",
    "import numpy as np\n",
    "import pandas as pd\n",
    "import matplotlib.pyplot as plt\n",
    "from sklearn.model_selection import train_test_split\n",
    "import pymc3 as pm\n",
    "import arviz as az\n",
    "import seaborn as sns\n",
    "\n",
    "az.style.use('arviz-darkgrid')\n",
    "\n",
    "print('Running on PyMC3 v{}'.format(pm.__version__))"
   ]
  },
  {
   "cell_type": "code",
   "execution_count": 2,
   "metadata": {},
   "outputs": [],
   "source": [
    "# import local utility functions\n",
    "import sys\n",
    "sys.path.append('../utils')\n",
    "import utils as utl"
   ]
  },
  {
   "cell_type": "markdown",
   "metadata": {},
   "source": [
    "## Load raw data and plot"
   ]
  },
  {
   "cell_type": "code",
   "execution_count": 3,
   "metadata": {},
   "outputs": [
    {
     "data": {
      "text/html": [
       "<div>\n",
       "<style scoped>\n",
       "    .dataframe tbody tr th:only-of-type {\n",
       "        vertical-align: middle;\n",
       "    }\n",
       "\n",
       "    .dataframe tbody tr th {\n",
       "        vertical-align: top;\n",
       "    }\n",
       "\n",
       "    .dataframe thead th {\n",
       "        text-align: right;\n",
       "    }\n",
       "</style>\n",
       "<table border=\"1\" class=\"dataframe\">\n",
       "  <thead>\n",
       "    <tr style=\"text-align: right;\">\n",
       "      <th></th>\n",
       "      <th>899.327</th>\n",
       "      <th>903.187</th>\n",
       "      <th>907.047</th>\n",
       "      <th>910.907</th>\n",
       "      <th>914.767</th>\n",
       "      <th>918.627</th>\n",
       "      <th>922.487</th>\n",
       "      <th>926.347</th>\n",
       "      <th>930.207</th>\n",
       "      <th>934.067</th>\n",
       "      <th>...</th>\n",
       "      <th>1771.684</th>\n",
       "      <th>1775.544</th>\n",
       "      <th>1779.404</th>\n",
       "      <th>1783.264</th>\n",
       "      <th>1787.124</th>\n",
       "      <th>1790.984</th>\n",
       "      <th>1794.844</th>\n",
       "      <th>1798.704</th>\n",
       "      <th>1802.564</th>\n",
       "      <th>label</th>\n",
       "    </tr>\n",
       "  </thead>\n",
       "  <tbody>\n",
       "    <tr>\n",
       "      <th>0</th>\n",
       "      <td>0.002806</td>\n",
       "      <td>0.002732</td>\n",
       "      <td>0.002661</td>\n",
       "      <td>0.002657</td>\n",
       "      <td>0.002699</td>\n",
       "      <td>0.002762</td>\n",
       "      <td>0.002749</td>\n",
       "      <td>0.002686</td>\n",
       "      <td>0.002637</td>\n",
       "      <td>0.002617</td>\n",
       "      <td>...</td>\n",
       "      <td>0.000348</td>\n",
       "      <td>0.000216</td>\n",
       "      <td>0.000166</td>\n",
       "      <td>0.000117</td>\n",
       "      <td>0.000087</td>\n",
       "      <td>0.000046</td>\n",
       "      <td>0.000011</td>\n",
       "      <td>0.000009</td>\n",
       "      <td>0.000009</td>\n",
       "      <td>NON-Strawberry</td>\n",
       "    </tr>\n",
       "    <tr>\n",
       "      <th>1</th>\n",
       "      <td>0.002637</td>\n",
       "      <td>0.002638</td>\n",
       "      <td>0.002651</td>\n",
       "      <td>0.002757</td>\n",
       "      <td>0.003000</td>\n",
       "      <td>0.003313</td>\n",
       "      <td>0.003412</td>\n",
       "      <td>0.003302</td>\n",
       "      <td>0.003162</td>\n",
       "      <td>0.003060</td>\n",
       "      <td>...</td>\n",
       "      <td>0.000013</td>\n",
       "      <td>0.000006</td>\n",
       "      <td>-0.000005</td>\n",
       "      <td>-0.000005</td>\n",
       "      <td>-0.000006</td>\n",
       "      <td>0.000002</td>\n",
       "      <td>0.000010</td>\n",
       "      <td>0.000005</td>\n",
       "      <td>0.000005</td>\n",
       "      <td>NON-Strawberry</td>\n",
       "    </tr>\n",
       "    <tr>\n",
       "      <th>2</th>\n",
       "      <td>0.002416</td>\n",
       "      <td>0.002480</td>\n",
       "      <td>0.002511</td>\n",
       "      <td>0.002611</td>\n",
       "      <td>0.002802</td>\n",
       "      <td>0.003031</td>\n",
       "      <td>0.003235</td>\n",
       "      <td>0.003316</td>\n",
       "      <td>0.003257</td>\n",
       "      <td>0.003136</td>\n",
       "      <td>...</td>\n",
       "      <td>0.000290</td>\n",
       "      <td>0.000185</td>\n",
       "      <td>0.000137</td>\n",
       "      <td>0.000090</td>\n",
       "      <td>0.000062</td>\n",
       "      <td>0.000031</td>\n",
       "      <td>0.000009</td>\n",
       "      <td>0.000007</td>\n",
       "      <td>0.000007</td>\n",
       "      <td>NON-Strawberry</td>\n",
       "    </tr>\n",
       "    <tr>\n",
       "      <th>3</th>\n",
       "      <td>0.002345</td>\n",
       "      <td>0.002292</td>\n",
       "      <td>0.002249</td>\n",
       "      <td>0.002303</td>\n",
       "      <td>0.002466</td>\n",
       "      <td>0.002642</td>\n",
       "      <td>0.002703</td>\n",
       "      <td>0.002671</td>\n",
       "      <td>0.002618</td>\n",
       "      <td>0.002567</td>\n",
       "      <td>...</td>\n",
       "      <td>0.000419</td>\n",
       "      <td>0.000267</td>\n",
       "      <td>0.000179</td>\n",
       "      <td>0.000119</td>\n",
       "      <td>0.000075</td>\n",
       "      <td>0.000043</td>\n",
       "      <td>0.000021</td>\n",
       "      <td>0.000008</td>\n",
       "      <td>0.000008</td>\n",
       "      <td>NON-Strawberry</td>\n",
       "    </tr>\n",
       "    <tr>\n",
       "      <th>4</th>\n",
       "      <td>0.002303</td>\n",
       "      <td>0.002342</td>\n",
       "      <td>0.002350</td>\n",
       "      <td>0.002419</td>\n",
       "      <td>0.002561</td>\n",
       "      <td>0.002737</td>\n",
       "      <td>0.002862</td>\n",
       "      <td>0.002860</td>\n",
       "      <td>0.002811</td>\n",
       "      <td>0.002750</td>\n",
       "      <td>...</td>\n",
       "      <td>0.000468</td>\n",
       "      <td>0.000299</td>\n",
       "      <td>0.000212</td>\n",
       "      <td>0.000140</td>\n",
       "      <td>0.000099</td>\n",
       "      <td>0.000054</td>\n",
       "      <td>0.000020</td>\n",
       "      <td>0.000012</td>\n",
       "      <td>0.000012</td>\n",
       "      <td>NON-Strawberry</td>\n",
       "    </tr>\n",
       "  </tbody>\n",
       "</table>\n",
       "<p>5 rows × 236 columns</p>\n",
       "</div>"
      ],
      "text/plain": [
       "    899.327   903.187   907.047   910.907   914.767   918.627   922.487  \\\n",
       "0  0.002806  0.002732  0.002661  0.002657  0.002699  0.002762  0.002749   \n",
       "1  0.002637  0.002638  0.002651  0.002757  0.003000  0.003313  0.003412   \n",
       "2  0.002416  0.002480  0.002511  0.002611  0.002802  0.003031  0.003235   \n",
       "3  0.002345  0.002292  0.002249  0.002303  0.002466  0.002642  0.002703   \n",
       "4  0.002303  0.002342  0.002350  0.002419  0.002561  0.002737  0.002862   \n",
       "\n",
       "    926.347   930.207   934.067  ...  1771.684  1775.544  1779.404  1783.264  \\\n",
       "0  0.002686  0.002637  0.002617  ...  0.000348  0.000216  0.000166  0.000117   \n",
       "1  0.003302  0.003162  0.003060  ...  0.000013  0.000006 -0.000005 -0.000005   \n",
       "2  0.003316  0.003257  0.003136  ...  0.000290  0.000185  0.000137  0.000090   \n",
       "3  0.002671  0.002618  0.002567  ...  0.000419  0.000267  0.000179  0.000119   \n",
       "4  0.002860  0.002811  0.002750  ...  0.000468  0.000299  0.000212  0.000140   \n",
       "\n",
       "   1787.124  1790.984  1794.844  1798.704  1802.564           label  \n",
       "0  0.000087  0.000046  0.000011  0.000009  0.000009  NON-Strawberry  \n",
       "1 -0.000006  0.000002  0.000010  0.000005  0.000005  NON-Strawberry  \n",
       "2  0.000062  0.000031  0.000009  0.000007  0.000007  NON-Strawberry  \n",
       "3  0.000075  0.000043  0.000021  0.000008  0.000008  NON-Strawberry  \n",
       "4  0.000099  0.000054  0.000020  0.000012  0.000012  NON-Strawberry  \n",
       "\n",
       "[5 rows x 236 columns]"
      ]
     },
     "execution_count": 3,
     "metadata": {},
     "output_type": "execute_result"
    }
   ],
   "source": [
    "# read .csv file into Dataframe\n",
    "data = pd.read_csv('../../data/juices/FTIR_juices.csv')\n",
    "data.head(5)"
   ]
  },
  {
   "cell_type": "code",
   "execution_count": 4,
   "metadata": {},
   "outputs": [],
   "source": [
    "# shuffle data rows\n",
    "data = data.sample(frac=1)"
   ]
  },
  {
   "cell_type": "code",
   "execution_count": 6,
   "metadata": {},
   "outputs": [
    {
     "name": "stdout",
     "output_type": "stream",
     "text": [
      "NON-Strawberry: blue\n",
      "Strawberry: red\n"
     ]
    },
    {
     "data": {
      "image/png": "[encoded data removed]",
      "text/plain": [
       "<Figure size 864x432 with 1 Axes>"
      ]
     },
     "metadata": {
      "needs_background": "light"
     },
     "output_type": "display_data"
    }
   ],
   "source": [
    "# name of column containing the labels\n",
    "label_col = 'label'\n",
    "\n",
    "# number of non-data columns at right of dataframe\n",
    "non_data_cols = -1\n",
    "\n",
    "# list of class labels\n",
    "class_labels = utl.get_class_labels(data, label_col)\n",
    "\n",
    "# plot dataframe\n",
    "utl.plot_data(data, non_data_cols, label_col, 50)"
   ]
  },
  {
   "cell_type": "code",
   "execution_count": 7,
   "metadata": {},
   "outputs": [
    {
     "data": {
      "text/plain": [
       "NON-Strawberry    632\n",
       "Strawberry        351\n",
       "Name: label, dtype: int64"
      ]
     },
     "execution_count": 7,
     "metadata": {},
     "output_type": "execute_result"
    }
   ],
   "source": [
    "# number of samples from each class\n",
    "data[label_col].value_counts()"
   ]
  },
  {
   "cell_type": "code",
   "execution_count": 8,
   "metadata": {},
   "outputs": [],
   "source": [
    "# generate training and test sets\n",
    "train_data, test_data = train_test_split(data, test_size=0.33, random_state=42)\n",
    "\n",
    "# rename the index\n",
    "test_data.index = range(len(test_data))\n",
    "train_data.index = range(len(train_data))"
   ]
  },
  {
   "cell_type": "code",
   "execution_count": 9,
   "metadata": {},
   "outputs": [
    {
     "data": {
      "text/plain": [
       "(325, 236)"
      ]
     },
     "execution_count": 9,
     "metadata": {},
     "output_type": "execute_result"
    }
   ],
   "source": [
    "test_data.shape"
   ]
  },
  {
   "cell_type": "code",
   "execution_count": 10,
   "metadata": {},
   "outputs": [
    {
     "data": {
      "text/plain": [
       "(658, 236)"
      ]
     },
     "execution_count": 10,
     "metadata": {},
     "output_type": "execute_result"
    }
   ],
   "source": [
    "train_data.shape"
   ]
  },
  {
   "cell_type": "markdown",
   "metadata": {},
   "source": [
    "# Model definition (Multiple Logistic Regression)\n",
    "The following statistical model is assumed:\n",
    "\n",
    "\\begin{equation}\n",
    "\\alpha \\sim \\mathcal{N}(\\mu_{\\alpha},\\,\\sigma^{2}_{\\alpha}) \\\\\n",
    "\\beta \\sim \\mathcal{N}(\\mu_{\\beta},\\,\\sigma^{2}_{\\beta}) \\\\\n",
    "\\theta = logistic(\\alpha+\\beta X) \\\\\n",
    "y \\sim Bernoulli(\\theta)\n",
    "\\end{equation}"
   ]
  },
  {
   "cell_type": "code",
   "execution_count": 11,
   "metadata": {},
   "outputs": [],
   "source": [
    "# get Y labels and standardize data\n",
    "Y = pd.Categorical(train_data[label_col]).codes\n",
    "x_n = train_data.columns[:non_data_cols]\n",
    "x_s = train_data[x_n].values\n",
    "x_s = utl.standardize(x_s)"
   ]
  },
  {
   "cell_type": "code",
   "execution_count": 11,
   "metadata": {},
   "outputs": [
    {
     "name": "stderr",
     "output_type": "stream",
     "text": [
      "Auto-assigning NUTS sampler...\n",
      "Initializing NUTS using adapt_diag...\n",
      "Multiprocess sampling (2 chains in 2 jobs)\n",
      "NUTS: [beta, alpha]\n",
      "Sampling 2 chains: 100%|██████████| 5000/5000 [1:14:59<00:00,  1.11draws/s]\n",
      "There were 2 divergences after tuning. Increase `target_accept` or reparameterize.\n",
      "There were 5 divergences after tuning. Increase `target_accept` or reparameterize.\n"
     ]
    }
   ],
   "source": [
    "with pm.Model() as model_mlr: \n",
    "    alpha = pm.Normal('alpha', mu=0, sd=10)\n",
    "    beta = pm.Normal('beta', mu=0, sd=10, shape=len(x_n))\n",
    "    \n",
    "    mu = alpha + pm.math.dot(x_s, beta)\n",
    "    theta = pm.Deterministic('theta', 1 / (1 + pm.math.exp(-mu))) \n",
    "     \n",
    "    y_pred = pm.Bernoulli('y_pred', p=theta, observed=Y) \n",
    " \n",
    "    trace_mlr = pm.sample(2000, init='adapt_diag', random_seed=42)"
   ]
  },
  {
   "cell_type": "code",
   "execution_count": 12,
   "metadata": {},
   "outputs": [
    {
     "data": {
      "image/svg+xml": [
       "<?xml version=\"1.0\" encoding=\"UTF-8\" standalone=\"no\"?>\n",
       "<!DOCTYPE svg PUBLIC \"-//W3C//DTD SVG 1.1//EN\"\n",
       " \"http://www.w3.org/Graphics/SVG/1.1/DTD/svg11.dtd\">\n",
       "<!-- Generated by graphviz version 2.40.1 (20161225.0304)\n",
       " -->\n",
       "<!-- Title: %3 Pages: 1 -->\n",
       "<svg width=\"300pt\" height=\"254pt\"\n",
       " viewBox=\"0.00 0.00 299.94 254.00\" xmlns=\"http://www.w3.org/2000/svg\" xmlns:xlink=\"http://www.w3.org/1999/xlink\">\n",
       "<g id=\"graph0\" class=\"graph\" transform=\"scale(1 1) rotate(0) translate(4 250)\">\n",
       "<title>%3</title>\n",
       "<polygon fill=\"#ffffff\" stroke=\"transparent\" points=\"-4,4 -4,-250 295.9441,-250 295.9441,4 -4,4\"/>\n",
       "<g id=\"clust1\" class=\"cluster\">\n",
       "<title>cluster235</title>\n",
       "<path fill=\"none\" stroke=\"#000000\" d=\"M155.9441,-163C155.9441,-163 271.9441,-163 271.9441,-163 277.9441,-163 283.9441,-169 283.9441,-175 283.9441,-175 283.9441,-226 283.9441,-226 283.9441,-232 277.9441,-238 271.9441,-238 271.9441,-238 155.9441,-238 155.9441,-238 149.9441,-238 143.9441,-232 143.9441,-226 143.9441,-226 143.9441,-175 143.9441,-175 143.9441,-169 149.9441,-163 155.9441,-163\"/>\n",
       "<text text-anchor=\"middle\" x=\"265.4441\" y=\"-170.8\" font-family=\"Times,serif\" font-size=\"14.00\" fill=\"#000000\">235</text>\n",
       "</g>\n",
       "<g id=\"clust2\" class=\"cluster\">\n",
       "<title>cluster658</title>\n",
       "<path fill=\"none\" stroke=\"#000000\" d=\"M62.9441,-8C62.9441,-8 210.9441,-8 210.9441,-8 216.9441,-8 222.9441,-14 222.9441,-20 222.9441,-20 222.9441,-143 222.9441,-143 222.9441,-149 216.9441,-155 210.9441,-155 210.9441,-155 62.9441,-155 62.9441,-155 56.9441,-155 50.9441,-149 50.9441,-143 50.9441,-143 50.9441,-20 50.9441,-20 50.9441,-14 56.9441,-8 62.9441,-8\"/>\n",
       "<text text-anchor=\"middle\" x=\"204.4441\" y=\"-15.8\" font-family=\"Times,serif\" font-size=\"14.00\" fill=\"#000000\">658</text>\n",
       "</g>\n",
       "<!-- alpha -->\n",
       "<g id=\"node1\" class=\"node\">\n",
       "<title>alpha</title>\n",
       "<ellipse fill=\"none\" stroke=\"#000000\" cx=\"66.9441\" cy=\"-212\" rx=\"66.8882\" ry=\"18\"/>\n",
       "<text text-anchor=\"middle\" x=\"66.9441\" y=\"-208.3\" font-family=\"Times,serif\" font-size=\"14.00\" fill=\"#000000\">alpha ~ Normal</text>\n",
       "</g>\n",
       "<!-- theta -->\n",
       "<g id=\"node4\" class=\"node\">\n",
       "<title>theta</title>\n",
       "<polygon fill=\"none\" stroke=\"#000000\" points=\"202.9441,-147 70.9441,-147 70.9441,-111 202.9441,-111 202.9441,-147\"/>\n",
       "<text text-anchor=\"middle\" x=\"136.9441\" y=\"-125.3\" font-family=\"Times,serif\" font-size=\"14.00\" fill=\"#000000\">theta ~ Deterministic</text>\n",
       "</g>\n",
       "<!-- alpha&#45;&gt;theta -->\n",
       "<g id=\"edge2\" class=\"edge\">\n",
       "<title>alpha&#45;&gt;theta</title>\n",
       "<path fill=\"none\" stroke=\"#000000\" d=\"M81.7893,-194.3978C91.4938,-182.891 104.3344,-167.6658 115.184,-154.8012\"/>\n",
       "<polygon fill=\"#000000\" stroke=\"#000000\" points=\"117.8648,-157.0514 121.6363,-147.1506 112.5138,-152.5385 117.8648,-157.0514\"/>\n",
       "</g>\n",
       "<!-- beta -->\n",
       "<g id=\"node2\" class=\"node\">\n",
       "<title>beta</title>\n",
       "<ellipse fill=\"none\" stroke=\"#000000\" cx=\"213.9441\" cy=\"-212\" rx=\"62.2891\" ry=\"18\"/>\n",
       "<text text-anchor=\"middle\" x=\"213.9441\" y=\"-208.3\" font-family=\"Times,serif\" font-size=\"14.00\" fill=\"#000000\">beta ~ Normal</text>\n",
       "</g>\n",
       "<!-- beta&#45;&gt;theta -->\n",
       "<g id=\"edge1\" class=\"edge\">\n",
       "<title>beta&#45;&gt;theta</title>\n",
       "<path fill=\"none\" stroke=\"#000000\" d=\"M197.6143,-194.3978C186.9393,-182.891 172.8147,-167.6658 160.8801,-154.8012\"/>\n",
       "<polygon fill=\"#000000\" stroke=\"#000000\" points=\"163.1496,-152.1013 153.7825,-147.1506 158.0178,-156.8621 163.1496,-152.1013\"/>\n",
       "</g>\n",
       "<!-- y_pred -->\n",
       "<g id=\"node3\" class=\"node\">\n",
       "<title>y_pred</title>\n",
       "<ellipse fill=\"#d3d3d3\" stroke=\"#000000\" cx=\"136.9441\" cy=\"-57\" rx=\"77.9862\" ry=\"18\"/>\n",
       "<text text-anchor=\"middle\" x=\"136.9441\" y=\"-53.3\" font-family=\"Times,serif\" font-size=\"14.00\" fill=\"#000000\">y_pred ~ Bernoulli</text>\n",
       "</g>\n",
       "<!-- theta&#45;&gt;y_pred -->\n",
       "<g id=\"edge3\" class=\"edge\">\n",
       "<title>theta&#45;&gt;y_pred</title>\n",
       "<path fill=\"none\" stroke=\"#000000\" d=\"M136.9441,-110.8314C136.9441,-103.131 136.9441,-93.9743 136.9441,-85.4166\"/>\n",
       "<polygon fill=\"#000000\" stroke=\"#000000\" points=\"140.4442,-85.4132 136.9441,-75.4133 133.4442,-85.4133 140.4442,-85.4132\"/>\n",
       "</g>\n",
       "</g>\n",
       "</svg>\n"
      ],
      "text/plain": [
       "<graphviz.dot.Digraph at 0x7f7155ccbb38>"
      ]
     },
     "execution_count": 12,
     "metadata": {},
     "output_type": "execute_result"
    }
   ],
   "source": [
    "pm.model_to_graphviz(model_mlr)"
   ]
  },
  {
   "cell_type": "markdown",
   "metadata": {},
   "source": [
    "# Model evaluation"
   ]
  },
  {
   "cell_type": "code",
   "execution_count": 13,
   "metadata": {},
   "outputs": [
    {
     "data": {
      "text/html": [
       "<div>\n",
       "<style scoped>\n",
       "    .dataframe tbody tr th:only-of-type {\n",
       "        vertical-align: middle;\n",
       "    }\n",
       "\n",
       "    .dataframe tbody tr th {\n",
       "        vertical-align: top;\n",
       "    }\n",
       "\n",
       "    .dataframe thead th {\n",
       "        text-align: right;\n",
       "    }\n",
       "</style>\n",
       "<table border=\"1\" class=\"dataframe\">\n",
       "  <thead>\n",
       "    <tr style=\"text-align: right;\">\n",
       "      <th></th>\n",
       "      <th>mean</th>\n",
       "      <th>sd</th>\n",
       "      <th>hpd_3%</th>\n",
       "      <th>hpd_97%</th>\n",
       "      <th>mcse_mean</th>\n",
       "      <th>mcse_sd</th>\n",
       "      <th>ess_mean</th>\n",
       "      <th>ess_sd</th>\n",
       "      <th>ess_bulk</th>\n",
       "      <th>ess_tail</th>\n",
       "      <th>r_hat</th>\n",
       "    </tr>\n",
       "  </thead>\n",
       "  <tbody>\n",
       "    <tr>\n",
       "      <th>alpha</th>\n",
       "      <td>-19.802</td>\n",
       "      <td>2.892</td>\n",
       "      <td>-25.384</td>\n",
       "      <td>-14.664</td>\n",
       "      <td>0.050</td>\n",
       "      <td>0.036</td>\n",
       "      <td>3298.0</td>\n",
       "      <td>3161.0</td>\n",
       "      <td>3382.0</td>\n",
       "      <td>3282.0</td>\n",
       "      <td>1.0</td>\n",
       "    </tr>\n",
       "    <tr>\n",
       "      <th>beta[0]</th>\n",
       "      <td>-1.405</td>\n",
       "      <td>7.085</td>\n",
       "      <td>-14.898</td>\n",
       "      <td>11.541</td>\n",
       "      <td>0.099</td>\n",
       "      <td>0.117</td>\n",
       "      <td>5112.0</td>\n",
       "      <td>1841.0</td>\n",
       "      <td>5086.0</td>\n",
       "      <td>2865.0</td>\n",
       "      <td>1.0</td>\n",
       "    </tr>\n",
       "    <tr>\n",
       "      <th>beta[1]</th>\n",
       "      <td>-5.194</td>\n",
       "      <td>7.520</td>\n",
       "      <td>-19.376</td>\n",
       "      <td>9.180</td>\n",
       "      <td>0.103</td>\n",
       "      <td>0.112</td>\n",
       "      <td>5379.0</td>\n",
       "      <td>2255.0</td>\n",
       "      <td>5378.0</td>\n",
       "      <td>2656.0</td>\n",
       "      <td>1.0</td>\n",
       "    </tr>\n",
       "    <tr>\n",
       "      <th>beta[2]</th>\n",
       "      <td>-5.055</td>\n",
       "      <td>8.419</td>\n",
       "      <td>-20.949</td>\n",
       "      <td>10.466</td>\n",
       "      <td>0.105</td>\n",
       "      <td>0.129</td>\n",
       "      <td>6371.0</td>\n",
       "      <td>2141.0</td>\n",
       "      <td>6369.0</td>\n",
       "      <td>2341.0</td>\n",
       "      <td>1.0</td>\n",
       "    </tr>\n",
       "    <tr>\n",
       "      <th>beta[3]</th>\n",
       "      <td>-0.368</td>\n",
       "      <td>8.744</td>\n",
       "      <td>-15.852</td>\n",
       "      <td>16.485</td>\n",
       "      <td>0.105</td>\n",
       "      <td>0.145</td>\n",
       "      <td>6983.0</td>\n",
       "      <td>1820.0</td>\n",
       "      <td>6968.0</td>\n",
       "      <td>3227.0</td>\n",
       "      <td>1.0</td>\n",
       "    </tr>\n",
       "    <tr>\n",
       "      <th>...</th>\n",
       "      <td>...</td>\n",
       "      <td>...</td>\n",
       "      <td>...</td>\n",
       "      <td>...</td>\n",
       "      <td>...</td>\n",
       "      <td>...</td>\n",
       "      <td>...</td>\n",
       "      <td>...</td>\n",
       "      <td>...</td>\n",
       "      <td>...</td>\n",
       "      <td>...</td>\n",
       "    </tr>\n",
       "    <tr>\n",
       "      <th>beta[230]</th>\n",
       "      <td>-2.657</td>\n",
       "      <td>7.894</td>\n",
       "      <td>-17.463</td>\n",
       "      <td>11.709</td>\n",
       "      <td>0.109</td>\n",
       "      <td>0.134</td>\n",
       "      <td>5222.0</td>\n",
       "      <td>1744.0</td>\n",
       "      <td>5314.0</td>\n",
       "      <td>2989.0</td>\n",
       "      <td>1.0</td>\n",
       "    </tr>\n",
       "    <tr>\n",
       "      <th>beta[231]</th>\n",
       "      <td>-3.155</td>\n",
       "      <td>6.093</td>\n",
       "      <td>-15.047</td>\n",
       "      <td>7.989</td>\n",
       "      <td>0.092</td>\n",
       "      <td>0.083</td>\n",
       "      <td>4358.0</td>\n",
       "      <td>2692.0</td>\n",
       "      <td>4384.0</td>\n",
       "      <td>2866.0</td>\n",
       "      <td>1.0</td>\n",
       "    </tr>\n",
       "    <tr>\n",
       "      <th>beta[232]</th>\n",
       "      <td>-11.507</td>\n",
       "      <td>5.320</td>\n",
       "      <td>-21.220</td>\n",
       "      <td>-1.332</td>\n",
       "      <td>0.079</td>\n",
       "      <td>0.061</td>\n",
       "      <td>4574.0</td>\n",
       "      <td>3766.0</td>\n",
       "      <td>4594.0</td>\n",
       "      <td>2617.0</td>\n",
       "      <td>1.0</td>\n",
       "    </tr>\n",
       "    <tr>\n",
       "      <th>beta[233]</th>\n",
       "      <td>-10.703</td>\n",
       "      <td>4.957</td>\n",
       "      <td>-20.414</td>\n",
       "      <td>-1.960</td>\n",
       "      <td>0.076</td>\n",
       "      <td>0.058</td>\n",
       "      <td>4252.0</td>\n",
       "      <td>3602.0</td>\n",
       "      <td>4288.0</td>\n",
       "      <td>2616.0</td>\n",
       "      <td>1.0</td>\n",
       "    </tr>\n",
       "    <tr>\n",
       "      <th>beta[234]</th>\n",
       "      <td>20.944</td>\n",
       "      <td>4.672</td>\n",
       "      <td>12.322</td>\n",
       "      <td>29.656</td>\n",
       "      <td>0.073</td>\n",
       "      <td>0.054</td>\n",
       "      <td>4048.0</td>\n",
       "      <td>3794.0</td>\n",
       "      <td>4089.0</td>\n",
       "      <td>3015.0</td>\n",
       "      <td>1.0</td>\n",
       "    </tr>\n",
       "  </tbody>\n",
       "</table>\n",
       "<p>236 rows × 11 columns</p>\n",
       "</div>"
      ],
      "text/plain": [
       "             mean     sd  hpd_3%  hpd_97%  mcse_mean  mcse_sd  ess_mean  \\\n",
       "alpha     -19.802  2.892 -25.384  -14.664      0.050    0.036    3298.0   \n",
       "beta[0]    -1.405  7.085 -14.898   11.541      0.099    0.117    5112.0   \n",
       "beta[1]    -5.194  7.520 -19.376    9.180      0.103    0.112    5379.0   \n",
       "beta[2]    -5.055  8.419 -20.949   10.466      0.105    0.129    6371.0   \n",
       "beta[3]    -0.368  8.744 -15.852   16.485      0.105    0.145    6983.0   \n",
       "...           ...    ...     ...      ...        ...      ...       ...   \n",
       "beta[230]  -2.657  7.894 -17.463   11.709      0.109    0.134    5222.0   \n",
       "beta[231]  -3.155  6.093 -15.047    7.989      0.092    0.083    4358.0   \n",
       "beta[232] -11.507  5.320 -21.220   -1.332      0.079    0.061    4574.0   \n",
       "beta[233] -10.703  4.957 -20.414   -1.960      0.076    0.058    4252.0   \n",
       "beta[234]  20.944  4.672  12.322   29.656      0.073    0.054    4048.0   \n",
       "\n",
       "           ess_sd  ess_bulk  ess_tail  r_hat  \n",
       "alpha      3161.0    3382.0    3282.0    1.0  \n",
       "beta[0]    1841.0    5086.0    2865.0    1.0  \n",
       "beta[1]    2255.0    5378.0    2656.0    1.0  \n",
       "beta[2]    2141.0    6369.0    2341.0    1.0  \n",
       "beta[3]    1820.0    6968.0    3227.0    1.0  \n",
       "...           ...       ...       ...    ...  \n",
       "beta[230]  1744.0    5314.0    2989.0    1.0  \n",
       "beta[231]  2692.0    4384.0    2866.0    1.0  \n",
       "beta[232]  3766.0    4594.0    2617.0    1.0  \n",
       "beta[233]  3602.0    4288.0    2616.0    1.0  \n",
       "beta[234]  3794.0    4089.0    3015.0    1.0  \n",
       "\n",
       "[236 rows x 11 columns]"
      ]
     },
     "execution_count": 13,
     "metadata": {},
     "output_type": "execute_result"
    }
   ],
   "source": [
    "varnames = ['alpha', 'beta']\n",
    "coef = az.summary(trace_mlr, varnames)\n",
    "coef"
   ]
  },
  {
   "cell_type": "code",
   "execution_count": 14,
   "metadata": {},
   "outputs": [
    {
     "data": {
      "image/png": "[encoded data removed]",
      "text/plain": [
       "<Figure size 720x432 with 1 Axes>"
      ]
     },
     "metadata": {},
     "output_type": "display_data"
    }
   ],
   "source": [
    "#az.plot_forest(trace_mlr, var_names=varnames, combined=True);\n",
    "az.plot_energy(trace_mlr, figsize=(10, 6));"
   ]
  },
  {
   "cell_type": "code",
   "execution_count": 15,
   "metadata": {},
   "outputs": [
    {
     "name": "stdout",
     "output_type": "stream",
     "text": [
      "              label  pred      pred_label\n",
      "0    NON-Strawberry   0.0  NON-Strawberry\n",
      "1    NON-Strawberry   0.0  NON-Strawberry\n",
      "2        Strawberry   1.0      Strawberry\n",
      "3    NON-Strawberry   0.0  NON-Strawberry\n",
      "4    NON-Strawberry   0.0  NON-Strawberry\n",
      "..              ...   ...             ...\n",
      "320  NON-Strawberry   0.0  NON-Strawberry\n",
      "321  NON-Strawberry   0.0  NON-Strawberry\n",
      "322      Strawberry   1.0      Strawberry\n",
      "323      Strawberry   1.0      Strawberry\n",
      "324      Strawberry   1.0      Strawberry\n",
      "\n",
      "[325 rows x 3 columns]\n"
     ]
    }
   ],
   "source": [
    "# check model predictions on test dataset\n",
    "utl.display_predictions(trace_mlr, test_data, non_data_cols, class_labels)"
   ]
  },
  {
   "cell_type": "code",
   "execution_count": 18,
   "metadata": {},
   "outputs": [
    {
     "name": "stdout",
     "output_type": "stream",
     "text": [
      "total  : 325\n",
      "correct: 325\n",
      "error  : 0\n",
      "score  : 100.0%\n"
     ]
    }
   ],
   "source": [
    "# prediction score on test dataset\n",
    "utl.logistic_score(test_data, label_col, test_data.iloc[:,-1])"
   ]
  },
  {
   "cell_type": "markdown",
   "metadata": {},
   "source": [
    "# Save inference results"
   ]
  },
  {
   "cell_type": "code",
   "execution_count": 19,
   "metadata": {},
   "outputs": [],
   "source": [
    "pm.backends.text.dump('./traces/trace_juices', trace_mlr)"
   ]
  },
  {
   "cell_type": "code",
   "execution_count": null,
   "metadata": {},
   "outputs": [],
   "source": []
  }
 ],
 "metadata": {
  "kernelspec": {
   "display_name": "Python 3",
   "language": "python",
   "name": "python3"
  },
  "language_info": {
   "codemirror_mode": {
    "name": "ipython",
    "version": 3
   },
   "file_extension": ".py",
   "mimetype": "text/x-python",
   "name": "python",
   "nbconvert_exporter": "python",
   "pygments_lexer": "ipython3",
   "version": "3.6.8"
  }
 },
 "nbformat": 4,
 "nbformat_minor": 2
}
