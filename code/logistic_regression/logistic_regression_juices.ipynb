{
 "cells": [
  {
   "cell_type": "markdown",
   "metadata": {},
   "source": [
    "# Logistic Regression (Juices dataset)"
   ]
  },
  {
   "cell_type": "code",
   "execution_count": 1,
   "metadata": {},
   "outputs": [
    {
     "name": "stderr",
     "output_type": "stream",
     "text": [
      "WARNING (theano.tensor.blas): Using NumPy C-API based implementation for BLAS functions.\n"
     ]
    },
    {
     "name": "stdout",
     "output_type": "stream",
     "text": [
      "Running on PyMC3 v3.7\n"
     ]
    }
   ],
   "source": [
    "%matplotlib inline\n",
    "import numpy as np\n",
    "import pandas as pd\n",
    "import matplotlib.pyplot as plt\n",
    "from sklearn.model_selection import train_test_split\n",
    "import pymc3 as pm\n",
    "import arviz as az\n",
    "import seaborn as sns\n",
    "\n",
    "az.style.use('arviz-darkgrid')\n",
    "\n",
    "print('Running on PyMC3 v{}'.format(pm.__version__))"
   ]
  },
  {
   "cell_type": "code",
   "execution_count": 2,
   "metadata": {},
   "outputs": [],
   "source": [
    "# import local utility functions and classes\n",
    "import sys\n",
    "sys.path.append('../utils')\n",
    "import utils as utl\n",
    "from data import Data"
   ]
  },
  {
   "cell_type": "markdown",
   "metadata": {},
   "source": [
    "## Load raw data and plot"
   ]
  },
  {
   "cell_type": "code",
   "execution_count": 3,
   "metadata": {},
   "outputs": [
    {
     "data": {
      "text/html": [
       "<div>\n",
       "<style scoped>\n",
       "    .dataframe tbody tr th:only-of-type {\n",
       "        vertical-align: middle;\n",
       "    }\n",
       "\n",
       "    .dataframe tbody tr th {\n",
       "        vertical-align: top;\n",
       "    }\n",
       "\n",
       "    .dataframe thead th {\n",
       "        text-align: right;\n",
       "    }\n",
       "</style>\n",
       "<table border=\"1\" class=\"dataframe\">\n",
       "  <thead>\n",
       "    <tr style=\"text-align: right;\">\n",
       "      <th></th>\n",
       "      <th>899.327</th>\n",
       "      <th>903.187</th>\n",
       "      <th>907.047</th>\n",
       "      <th>910.907</th>\n",
       "      <th>914.767</th>\n",
       "      <th>918.627</th>\n",
       "      <th>922.487</th>\n",
       "      <th>926.347</th>\n",
       "      <th>930.207</th>\n",
       "      <th>934.067</th>\n",
       "      <th>...</th>\n",
       "      <th>1771.684</th>\n",
       "      <th>1775.544</th>\n",
       "      <th>1779.404</th>\n",
       "      <th>1783.264</th>\n",
       "      <th>1787.124</th>\n",
       "      <th>1790.984</th>\n",
       "      <th>1794.844</th>\n",
       "      <th>1798.704</th>\n",
       "      <th>1802.564</th>\n",
       "      <th>label</th>\n",
       "    </tr>\n",
       "  </thead>\n",
       "  <tbody>\n",
       "    <tr>\n",
       "      <th>810</th>\n",
       "      <td>0.002280</td>\n",
       "      <td>0.002245</td>\n",
       "      <td>0.002229</td>\n",
       "      <td>0.002344</td>\n",
       "      <td>0.002588</td>\n",
       "      <td>0.002799</td>\n",
       "      <td>0.002843</td>\n",
       "      <td>0.002734</td>\n",
       "      <td>0.002598</td>\n",
       "      <td>0.002512</td>\n",
       "      <td>...</td>\n",
       "      <td>0.000101</td>\n",
       "      <td>0.000058</td>\n",
       "      <td>0.000040</td>\n",
       "      <td>0.000025</td>\n",
       "      <td>0.000020</td>\n",
       "      <td>0.000010</td>\n",
       "      <td>0.000004</td>\n",
       "      <td>0.000005</td>\n",
       "      <td>0.000005</td>\n",
       "      <td>NON-Strawberry</td>\n",
       "    </tr>\n",
       "    <tr>\n",
       "      <th>801</th>\n",
       "      <td>0.002533</td>\n",
       "      <td>0.002589</td>\n",
       "      <td>0.002648</td>\n",
       "      <td>0.002809</td>\n",
       "      <td>0.003137</td>\n",
       "      <td>0.003495</td>\n",
       "      <td>0.003698</td>\n",
       "      <td>0.003716</td>\n",
       "      <td>0.003596</td>\n",
       "      <td>0.003425</td>\n",
       "      <td>...</td>\n",
       "      <td>-0.000073</td>\n",
       "      <td>-0.000061</td>\n",
       "      <td>-0.000030</td>\n",
       "      <td>-0.000020</td>\n",
       "      <td>0.000002</td>\n",
       "      <td>-0.000015</td>\n",
       "      <td>-0.000027</td>\n",
       "      <td>-0.000006</td>\n",
       "      <td>-0.000006</td>\n",
       "      <td>NON-Strawberry</td>\n",
       "    </tr>\n",
       "    <tr>\n",
       "      <th>813</th>\n",
       "      <td>0.002571</td>\n",
       "      <td>0.002566</td>\n",
       "      <td>0.002538</td>\n",
       "      <td>0.002605</td>\n",
       "      <td>0.002824</td>\n",
       "      <td>0.003011</td>\n",
       "      <td>0.003010</td>\n",
       "      <td>0.002870</td>\n",
       "      <td>0.002727</td>\n",
       "      <td>0.002628</td>\n",
       "      <td>...</td>\n",
       "      <td>0.000034</td>\n",
       "      <td>0.000017</td>\n",
       "      <td>-0.000029</td>\n",
       "      <td>-0.000031</td>\n",
       "      <td>-0.000041</td>\n",
       "      <td>0.000007</td>\n",
       "      <td>0.000035</td>\n",
       "      <td>0.000011</td>\n",
       "      <td>0.000011</td>\n",
       "      <td>NON-Strawberry</td>\n",
       "    </tr>\n",
       "    <tr>\n",
       "      <th>497</th>\n",
       "      <td>0.002719</td>\n",
       "      <td>0.002721</td>\n",
       "      <td>0.002732</td>\n",
       "      <td>0.002836</td>\n",
       "      <td>0.003050</td>\n",
       "      <td>0.003296</td>\n",
       "      <td>0.003436</td>\n",
       "      <td>0.003429</td>\n",
       "      <td>0.003346</td>\n",
       "      <td>0.003228</td>\n",
       "      <td>...</td>\n",
       "      <td>0.000237</td>\n",
       "      <td>0.000151</td>\n",
       "      <td>0.000093</td>\n",
       "      <td>0.000062</td>\n",
       "      <td>0.000040</td>\n",
       "      <td>0.000034</td>\n",
       "      <td>0.000027</td>\n",
       "      <td>0.000011</td>\n",
       "      <td>0.000011</td>\n",
       "      <td>NON-Strawberry</td>\n",
       "    </tr>\n",
       "    <tr>\n",
       "      <th>67</th>\n",
       "      <td>0.003028</td>\n",
       "      <td>0.003027</td>\n",
       "      <td>0.003052</td>\n",
       "      <td>0.003167</td>\n",
       "      <td>0.003363</td>\n",
       "      <td>0.003592</td>\n",
       "      <td>0.003738</td>\n",
       "      <td>0.003745</td>\n",
       "      <td>0.003638</td>\n",
       "      <td>0.003485</td>\n",
       "      <td>...</td>\n",
       "      <td>0.000192</td>\n",
       "      <td>0.000126</td>\n",
       "      <td>0.000083</td>\n",
       "      <td>0.000052</td>\n",
       "      <td>0.000034</td>\n",
       "      <td>0.000021</td>\n",
       "      <td>0.000010</td>\n",
       "      <td>0.000004</td>\n",
       "      <td>0.000004</td>\n",
       "      <td>Strawberry</td>\n",
       "    </tr>\n",
       "  </tbody>\n",
       "</table>\n",
       "<p>5 rows × 236 columns</p>\n",
       "</div>"
      ],
      "text/plain": [
       "      899.327   903.187   907.047   910.907   914.767   918.627   922.487  \\\n",
       "810  0.002280  0.002245  0.002229  0.002344  0.002588  0.002799  0.002843   \n",
       "801  0.002533  0.002589  0.002648  0.002809  0.003137  0.003495  0.003698   \n",
       "813  0.002571  0.002566  0.002538  0.002605  0.002824  0.003011  0.003010   \n",
       "497  0.002719  0.002721  0.002732  0.002836  0.003050  0.003296  0.003436   \n",
       "67   0.003028  0.003027  0.003052  0.003167  0.003363  0.003592  0.003738   \n",
       "\n",
       "      926.347   930.207   934.067  ...  1771.684  1775.544  1779.404  \\\n",
       "810  0.002734  0.002598  0.002512  ...  0.000101  0.000058  0.000040   \n",
       "801  0.003716  0.003596  0.003425  ... -0.000073 -0.000061 -0.000030   \n",
       "813  0.002870  0.002727  0.002628  ...  0.000034  0.000017 -0.000029   \n",
       "497  0.003429  0.003346  0.003228  ...  0.000237  0.000151  0.000093   \n",
       "67   0.003745  0.003638  0.003485  ...  0.000192  0.000126  0.000083   \n",
       "\n",
       "     1783.264  1787.124  1790.984  1794.844  1798.704  1802.564  \\\n",
       "810  0.000025  0.000020  0.000010  0.000004  0.000005  0.000005   \n",
       "801 -0.000020  0.000002 -0.000015 -0.000027 -0.000006 -0.000006   \n",
       "813 -0.000031 -0.000041  0.000007  0.000035  0.000011  0.000011   \n",
       "497  0.000062  0.000040  0.000034  0.000027  0.000011  0.000011   \n",
       "67   0.000052  0.000034  0.000021  0.000010  0.000004  0.000004   \n",
       "\n",
       "              label  \n",
       "810  NON-Strawberry  \n",
       "801  NON-Strawberry  \n",
       "813  NON-Strawberry  \n",
       "497  NON-Strawberry  \n",
       "67       Strawberry  \n",
       "\n",
       "[5 rows x 236 columns]"
      ]
     },
     "execution_count": 3,
     "metadata": {},
     "output_type": "execute_result"
    }
   ],
   "source": [
    "# init data object\n",
    "data_obj = Data('../../data/juices/FTIR_juices.csv', 'label', -1)\n",
    "data = data_obj.data\n",
    "data.head(5)"
   ]
  },
  {
   "cell_type": "code",
   "execution_count": 4,
   "metadata": {},
   "outputs": [
    {
     "name": "stdout",
     "output_type": "stream",
     "text": [
      "NON-Strawberry: blue\n",
      "Strawberry: red\n"
     ]
    },
    {
     "data": {
      "image/png": "[encoded data removed]",
      "text/plain": [
       "<Figure size 864x432 with 1 Axes>"
      ]
     },
     "metadata": {
      "needs_background": "light"
     },
     "output_type": "display_data"
    }
   ],
   "source": [
    "# name of column containing the labels\n",
    "label_col = data_obj.label_column\n",
    "\n",
    "# number of non-data columns at right of dataframe\n",
    "non_data_cols = data_obj.non_data_columns\n",
    "\n",
    "# list of class labels\n",
    "class_labels = data_obj.get_class_labels()\n",
    "\n",
    "# plot dataframe\n",
    "utl.plot_data(data_obj, 50)"
   ]
  },
  {
   "cell_type": "code",
   "execution_count": 5,
   "metadata": {},
   "outputs": [
    {
     "data": {
      "text/plain": [
       "NON-Strawberry    632\n",
       "Strawberry        351\n",
       "Name: label, dtype: int64"
      ]
     },
     "execution_count": 5,
     "metadata": {},
     "output_type": "execute_result"
    }
   ],
   "source": [
    "# number of samples from each class\n",
    "data[label_col].value_counts()"
   ]
  },
  {
   "cell_type": "code",
   "execution_count": 6,
   "metadata": {},
   "outputs": [],
   "source": [
    "# generate training and test sets\n",
    "train_data, test_data = train_test_split(data, test_size=0.33, random_state=42)\n",
    "\n",
    "# rename the index\n",
    "test_data.index = range(len(test_data))\n",
    "train_data.index = range(len(train_data))"
   ]
  },
  {
   "cell_type": "code",
   "execution_count": 7,
   "metadata": {},
   "outputs": [
    {
     "data": {
      "text/plain": [
       "(325, 236)"
      ]
     },
     "execution_count": 7,
     "metadata": {},
     "output_type": "execute_result"
    }
   ],
   "source": [
    "test_data.shape"
   ]
  },
  {
   "cell_type": "code",
   "execution_count": 8,
   "metadata": {},
   "outputs": [
    {
     "data": {
      "text/plain": [
       "(658, 236)"
      ]
     },
     "execution_count": 8,
     "metadata": {},
     "output_type": "execute_result"
    }
   ],
   "source": [
    "train_data.shape"
   ]
  },
  {
   "cell_type": "markdown",
   "metadata": {},
   "source": [
    "# Model definition (Multiple Logistic Regression)\n",
    "The following statistical model is assumed:\n",
    "\n",
    "\\begin{equation}\n",
    "\\alpha \\sim \\mathcal{N}(\\mu_{\\alpha},\\,\\sigma^{2}_{\\alpha}) \\\\\n",
    "\\beta \\sim \\mathcal{N}(\\mu_{\\beta},\\,\\sigma^{2}_{\\beta}) \\\\\n",
    "\\theta = logistic(\\alpha+\\beta X) \\\\\n",
    "y \\sim Bernoulli(\\theta)\n",
    "\\end{equation}"
   ]
  },
  {
   "cell_type": "code",
   "execution_count": 9,
   "metadata": {},
   "outputs": [],
   "source": [
    "# get Y labels and standardize data\n",
    "Y = pd.Categorical(train_data[label_col]).codes\n",
    "x_n = train_data.columns[:non_data_cols]\n",
    "x_s = train_data[x_n].values\n",
    "x_s = utl.standardize(x_s)"
   ]
  },
  {
   "cell_type": "code",
   "execution_count": 10,
   "metadata": {},
   "outputs": [
    {
     "name": "stderr",
     "output_type": "stream",
     "text": [
      "Auto-assigning NUTS sampler...\n",
      "Initializing NUTS using adapt_diag...\n",
      "Multiprocess sampling (2 chains in 2 jobs)\n",
      "NUTS: [beta, alpha]\n",
      "Sampling 2 chains: 100%|██████████| 5000/5000 [1:12:24<00:00,  1.15draws/s]\n",
      "The acceptance probability does not match the target. It is 0.8789820724934737, but should be close to 0.8. Try to increase the number of tuning steps.\n"
     ]
    }
   ],
   "source": [
    "with pm.Model() as model_mlr: \n",
    "    alpha = pm.Normal('alpha', mu=0, sd=10)\n",
    "    beta = pm.Normal('beta', mu=0, sd=10, shape=len(x_n))\n",
    "    \n",
    "    mu = alpha + pm.math.dot(x_s, beta)\n",
    "    theta = pm.Deterministic('theta', 1 / (1 + pm.math.exp(-mu))) \n",
    "     \n",
    "    y_pred = pm.Bernoulli('y_pred', p=theta, observed=Y) \n",
    " \n",
    "    trace_mlr = pm.sample(2000, init='adapt_diag', random_seed=42)"
   ]
  },
  {
   "cell_type": "code",
   "execution_count": 11,
   "metadata": {},
   "outputs": [
    {
     "data": {
      "image/svg+xml": [
       "<?xml version=\"1.0\" encoding=\"UTF-8\" standalone=\"no\"?>\n",
       "<!DOCTYPE svg PUBLIC \"-//W3C//DTD SVG 1.1//EN\"\n",
       " \"http://www.w3.org/Graphics/SVG/1.1/DTD/svg11.dtd\">\n",
       "<!-- Generated by graphviz version 2.40.1 (20161225.0304)\n",
       " -->\n",
       "<!-- Title: %3 Pages: 1 -->\n",
       "<svg width=\"300pt\" height=\"254pt\"\n",
       " viewBox=\"0.00 0.00 299.94 254.00\" xmlns=\"http://www.w3.org/2000/svg\" xmlns:xlink=\"http://www.w3.org/1999/xlink\">\n",
       "<g id=\"graph0\" class=\"graph\" transform=\"scale(1 1) rotate(0) translate(4 250)\">\n",
       "<title>%3</title>\n",
       "<polygon fill=\"#ffffff\" stroke=\"transparent\" points=\"-4,4 -4,-250 295.9441,-250 295.9441,4 -4,4\"/>\n",
       "<g id=\"clust1\" class=\"cluster\">\n",
       "<title>cluster235</title>\n",
       "<path fill=\"none\" stroke=\"#000000\" d=\"M155.9441,-163C155.9441,-163 271.9441,-163 271.9441,-163 277.9441,-163 283.9441,-169 283.9441,-175 283.9441,-175 283.9441,-226 283.9441,-226 283.9441,-232 277.9441,-238 271.9441,-238 271.9441,-238 155.9441,-238 155.9441,-238 149.9441,-238 143.9441,-232 143.9441,-226 143.9441,-226 143.9441,-175 143.9441,-175 143.9441,-169 149.9441,-163 155.9441,-163\"/>\n",
       "<text text-anchor=\"middle\" x=\"265.4441\" y=\"-170.8\" font-family=\"Times,serif\" font-size=\"14.00\" fill=\"#000000\">235</text>\n",
       "</g>\n",
       "<g id=\"clust2\" class=\"cluster\">\n",
       "<title>cluster658</title>\n",
       "<path fill=\"none\" stroke=\"#000000\" d=\"M62.9441,-8C62.9441,-8 210.9441,-8 210.9441,-8 216.9441,-8 222.9441,-14 222.9441,-20 222.9441,-20 222.9441,-143 222.9441,-143 222.9441,-149 216.9441,-155 210.9441,-155 210.9441,-155 62.9441,-155 62.9441,-155 56.9441,-155 50.9441,-149 50.9441,-143 50.9441,-143 50.9441,-20 50.9441,-20 50.9441,-14 56.9441,-8 62.9441,-8\"/>\n",
       "<text text-anchor=\"middle\" x=\"204.4441\" y=\"-15.8\" font-family=\"Times,serif\" font-size=\"14.00\" fill=\"#000000\">658</text>\n",
       "</g>\n",
       "<!-- alpha -->\n",
       "<g id=\"node1\" class=\"node\">\n",
       "<title>alpha</title>\n",
       "<ellipse fill=\"none\" stroke=\"#000000\" cx=\"66.9441\" cy=\"-212\" rx=\"66.8882\" ry=\"18\"/>\n",
       "<text text-anchor=\"middle\" x=\"66.9441\" y=\"-208.3\" font-family=\"Times,serif\" font-size=\"14.00\" fill=\"#000000\">alpha ~ Normal</text>\n",
       "</g>\n",
       "<!-- theta -->\n",
       "<g id=\"node4\" class=\"node\">\n",
       "<title>theta</title>\n",
       "<polygon fill=\"none\" stroke=\"#000000\" points=\"202.9441,-147 70.9441,-147 70.9441,-111 202.9441,-111 202.9441,-147\"/>\n",
       "<text text-anchor=\"middle\" x=\"136.9441\" y=\"-125.3\" font-family=\"Times,serif\" font-size=\"14.00\" fill=\"#000000\">theta ~ Deterministic</text>\n",
       "</g>\n",
       "<!-- alpha&#45;&gt;theta -->\n",
       "<g id=\"edge2\" class=\"edge\">\n",
       "<title>alpha&#45;&gt;theta</title>\n",
       "<path fill=\"none\" stroke=\"#000000\" d=\"M81.7893,-194.3978C91.4938,-182.891 104.3344,-167.6658 115.184,-154.8012\"/>\n",
       "<polygon fill=\"#000000\" stroke=\"#000000\" points=\"117.8648,-157.0514 121.6363,-147.1506 112.5138,-152.5385 117.8648,-157.0514\"/>\n",
       "</g>\n",
       "<!-- beta -->\n",
       "<g id=\"node2\" class=\"node\">\n",
       "<title>beta</title>\n",
       "<ellipse fill=\"none\" stroke=\"#000000\" cx=\"213.9441\" cy=\"-212\" rx=\"62.2891\" ry=\"18\"/>\n",
       "<text text-anchor=\"middle\" x=\"213.9441\" y=\"-208.3\" font-family=\"Times,serif\" font-size=\"14.00\" fill=\"#000000\">beta ~ Normal</text>\n",
       "</g>\n",
       "<!-- beta&#45;&gt;theta -->\n",
       "<g id=\"edge1\" class=\"edge\">\n",
       "<title>beta&#45;&gt;theta</title>\n",
       "<path fill=\"none\" stroke=\"#000000\" d=\"M197.6143,-194.3978C186.9393,-182.891 172.8147,-167.6658 160.8801,-154.8012\"/>\n",
       "<polygon fill=\"#000000\" stroke=\"#000000\" points=\"163.1496,-152.1013 153.7825,-147.1506 158.0178,-156.8621 163.1496,-152.1013\"/>\n",
       "</g>\n",
       "<!-- y_pred -->\n",
       "<g id=\"node3\" class=\"node\">\n",
       "<title>y_pred</title>\n",
       "<ellipse fill=\"#d3d3d3\" stroke=\"#000000\" cx=\"136.9441\" cy=\"-57\" rx=\"77.9862\" ry=\"18\"/>\n",
       "<text text-anchor=\"middle\" x=\"136.9441\" y=\"-53.3\" font-family=\"Times,serif\" font-size=\"14.00\" fill=\"#000000\">y_pred ~ Bernoulli</text>\n",
       "</g>\n",
       "<!-- theta&#45;&gt;y_pred -->\n",
       "<g id=\"edge3\" class=\"edge\">\n",
       "<title>theta&#45;&gt;y_pred</title>\n",
       "<path fill=\"none\" stroke=\"#000000\" d=\"M136.9441,-110.8314C136.9441,-103.131 136.9441,-93.9743 136.9441,-85.4166\"/>\n",
       "<polygon fill=\"#000000\" stroke=\"#000000\" points=\"140.4442,-85.4132 136.9441,-75.4133 133.4442,-85.4133 140.4442,-85.4132\"/>\n",
       "</g>\n",
       "</g>\n",
       "</svg>\n"
      ],
      "text/plain": [
       "<graphviz.dot.Digraph at 0x7fe373c8f4e0>"
      ]
     },
     "execution_count": 11,
     "metadata": {},
     "output_type": "execute_result"
    }
   ],
   "source": [
    "pm.model_to_graphviz(model_mlr)"
   ]
  },
  {
   "cell_type": "markdown",
   "metadata": {},
   "source": [
    "# Model evaluation"
   ]
  },
  {
   "cell_type": "code",
   "execution_count": 12,
   "metadata": {},
   "outputs": [
    {
     "data": {
      "text/html": [
       "<div>\n",
       "<style scoped>\n",
       "    .dataframe tbody tr th:only-of-type {\n",
       "        vertical-align: middle;\n",
       "    }\n",
       "\n",
       "    .dataframe tbody tr th {\n",
       "        vertical-align: top;\n",
       "    }\n",
       "\n",
       "    .dataframe thead th {\n",
       "        text-align: right;\n",
       "    }\n",
       "</style>\n",
       "<table border=\"1\" class=\"dataframe\">\n",
       "  <thead>\n",
       "    <tr style=\"text-align: right;\">\n",
       "      <th></th>\n",
       "      <th>mean</th>\n",
       "      <th>sd</th>\n",
       "      <th>hpd_3%</th>\n",
       "      <th>hpd_97%</th>\n",
       "      <th>mcse_mean</th>\n",
       "      <th>mcse_sd</th>\n",
       "      <th>ess_mean</th>\n",
       "      <th>ess_sd</th>\n",
       "      <th>ess_bulk</th>\n",
       "      <th>ess_tail</th>\n",
       "      <th>r_hat</th>\n",
       "    </tr>\n",
       "  </thead>\n",
       "  <tbody>\n",
       "    <tr>\n",
       "      <th>alpha</th>\n",
       "      <td>-18.264</td>\n",
       "      <td>2.637</td>\n",
       "      <td>-23.000</td>\n",
       "      <td>-13.246</td>\n",
       "      <td>0.045</td>\n",
       "      <td>0.032</td>\n",
       "      <td>3482.0</td>\n",
       "      <td>3413.0</td>\n",
       "      <td>3515.0</td>\n",
       "      <td>3502.0</td>\n",
       "      <td>1.0</td>\n",
       "    </tr>\n",
       "    <tr>\n",
       "      <th>beta[0]</th>\n",
       "      <td>-1.254</td>\n",
       "      <td>6.906</td>\n",
       "      <td>-14.044</td>\n",
       "      <td>11.648</td>\n",
       "      <td>0.098</td>\n",
       "      <td>0.111</td>\n",
       "      <td>4959.0</td>\n",
       "      <td>1951.0</td>\n",
       "      <td>4971.0</td>\n",
       "      <td>2948.0</td>\n",
       "      <td>1.0</td>\n",
       "    </tr>\n",
       "    <tr>\n",
       "      <th>beta[1]</th>\n",
       "      <td>-6.405</td>\n",
       "      <td>7.638</td>\n",
       "      <td>-21.012</td>\n",
       "      <td>7.400</td>\n",
       "      <td>0.115</td>\n",
       "      <td>0.099</td>\n",
       "      <td>4405.0</td>\n",
       "      <td>2962.0</td>\n",
       "      <td>4405.0</td>\n",
       "      <td>2990.0</td>\n",
       "      <td>1.0</td>\n",
       "    </tr>\n",
       "    <tr>\n",
       "      <th>beta[2]</th>\n",
       "      <td>-2.762</td>\n",
       "      <td>8.266</td>\n",
       "      <td>-18.599</td>\n",
       "      <td>12.615</td>\n",
       "      <td>0.112</td>\n",
       "      <td>0.133</td>\n",
       "      <td>5446.0</td>\n",
       "      <td>1937.0</td>\n",
       "      <td>5489.0</td>\n",
       "      <td>2879.0</td>\n",
       "      <td>1.0</td>\n",
       "    </tr>\n",
       "    <tr>\n",
       "      <th>beta[3]</th>\n",
       "      <td>-1.482</td>\n",
       "      <td>8.712</td>\n",
       "      <td>-17.356</td>\n",
       "      <td>15.318</td>\n",
       "      <td>0.102</td>\n",
       "      <td>0.143</td>\n",
       "      <td>7310.0</td>\n",
       "      <td>1849.0</td>\n",
       "      <td>7294.0</td>\n",
       "      <td>2961.0</td>\n",
       "      <td>1.0</td>\n",
       "    </tr>\n",
       "    <tr>\n",
       "      <th>...</th>\n",
       "      <td>...</td>\n",
       "      <td>...</td>\n",
       "      <td>...</td>\n",
       "      <td>...</td>\n",
       "      <td>...</td>\n",
       "      <td>...</td>\n",
       "      <td>...</td>\n",
       "      <td>...</td>\n",
       "      <td>...</td>\n",
       "      <td>...</td>\n",
       "      <td>...</td>\n",
       "    </tr>\n",
       "    <tr>\n",
       "      <th>beta[230]</th>\n",
       "      <td>-3.536</td>\n",
       "      <td>7.630</td>\n",
       "      <td>-18.082</td>\n",
       "      <td>10.552</td>\n",
       "      <td>0.108</td>\n",
       "      <td>0.108</td>\n",
       "      <td>5033.0</td>\n",
       "      <td>2516.0</td>\n",
       "      <td>5027.0</td>\n",
       "      <td>3085.0</td>\n",
       "      <td>1.0</td>\n",
       "    </tr>\n",
       "    <tr>\n",
       "      <th>beta[231]</th>\n",
       "      <td>-3.876</td>\n",
       "      <td>6.428</td>\n",
       "      <td>-16.244</td>\n",
       "      <td>7.852</td>\n",
       "      <td>0.107</td>\n",
       "      <td>0.089</td>\n",
       "      <td>3593.0</td>\n",
       "      <td>2587.0</td>\n",
       "      <td>3595.0</td>\n",
       "      <td>3192.0</td>\n",
       "      <td>1.0</td>\n",
       "    </tr>\n",
       "    <tr>\n",
       "      <th>beta[232]</th>\n",
       "      <td>-10.939</td>\n",
       "      <td>5.676</td>\n",
       "      <td>-22.455</td>\n",
       "      <td>-0.727</td>\n",
       "      <td>0.089</td>\n",
       "      <td>0.068</td>\n",
       "      <td>4044.0</td>\n",
       "      <td>3534.0</td>\n",
       "      <td>4062.0</td>\n",
       "      <td>2960.0</td>\n",
       "      <td>1.0</td>\n",
       "    </tr>\n",
       "    <tr>\n",
       "      <th>beta[233]</th>\n",
       "      <td>-10.086</td>\n",
       "      <td>4.883</td>\n",
       "      <td>-19.631</td>\n",
       "      <td>-1.310</td>\n",
       "      <td>0.084</td>\n",
       "      <td>0.061</td>\n",
       "      <td>3386.0</td>\n",
       "      <td>3175.0</td>\n",
       "      <td>3383.0</td>\n",
       "      <td>2801.0</td>\n",
       "      <td>1.0</td>\n",
       "    </tr>\n",
       "    <tr>\n",
       "      <th>beta[234]</th>\n",
       "      <td>20.587</td>\n",
       "      <td>4.547</td>\n",
       "      <td>12.311</td>\n",
       "      <td>29.169</td>\n",
       "      <td>0.079</td>\n",
       "      <td>0.056</td>\n",
       "      <td>3337.0</td>\n",
       "      <td>3278.0</td>\n",
       "      <td>3341.0</td>\n",
       "      <td>3041.0</td>\n",
       "      <td>1.0</td>\n",
       "    </tr>\n",
       "  </tbody>\n",
       "</table>\n",
       "<p>236 rows × 11 columns</p>\n",
       "</div>"
      ],
      "text/plain": [
       "             mean     sd  hpd_3%  hpd_97%  mcse_mean  mcse_sd  ess_mean  \\\n",
       "alpha     -18.264  2.637 -23.000  -13.246      0.045    0.032    3482.0   \n",
       "beta[0]    -1.254  6.906 -14.044   11.648      0.098    0.111    4959.0   \n",
       "beta[1]    -6.405  7.638 -21.012    7.400      0.115    0.099    4405.0   \n",
       "beta[2]    -2.762  8.266 -18.599   12.615      0.112    0.133    5446.0   \n",
       "beta[3]    -1.482  8.712 -17.356   15.318      0.102    0.143    7310.0   \n",
       "...           ...    ...     ...      ...        ...      ...       ...   \n",
       "beta[230]  -3.536  7.630 -18.082   10.552      0.108    0.108    5033.0   \n",
       "beta[231]  -3.876  6.428 -16.244    7.852      0.107    0.089    3593.0   \n",
       "beta[232] -10.939  5.676 -22.455   -0.727      0.089    0.068    4044.0   \n",
       "beta[233] -10.086  4.883 -19.631   -1.310      0.084    0.061    3386.0   \n",
       "beta[234]  20.587  4.547  12.311   29.169      0.079    0.056    3337.0   \n",
       "\n",
       "           ess_sd  ess_bulk  ess_tail  r_hat  \n",
       "alpha      3413.0    3515.0    3502.0    1.0  \n",
       "beta[0]    1951.0    4971.0    2948.0    1.0  \n",
       "beta[1]    2962.0    4405.0    2990.0    1.0  \n",
       "beta[2]    1937.0    5489.0    2879.0    1.0  \n",
       "beta[3]    1849.0    7294.0    2961.0    1.0  \n",
       "...           ...       ...       ...    ...  \n",
       "beta[230]  2516.0    5027.0    3085.0    1.0  \n",
       "beta[231]  2587.0    3595.0    3192.0    1.0  \n",
       "beta[232]  3534.0    4062.0    2960.0    1.0  \n",
       "beta[233]  3175.0    3383.0    2801.0    1.0  \n",
       "beta[234]  3278.0    3341.0    3041.0    1.0  \n",
       "\n",
       "[236 rows x 11 columns]"
      ]
     },
     "execution_count": 12,
     "metadata": {},
     "output_type": "execute_result"
    }
   ],
   "source": [
    "varnames = ['alpha', 'beta']\n",
    "coef = az.summary(trace_mlr, varnames)\n",
    "coef"
   ]
  },
  {
   "cell_type": "code",
   "execution_count": 13,
   "metadata": {},
   "outputs": [
    {
     "data": {
      "image/png": "[encoded data removed]",
      "text/plain": [
       "<Figure size 720x432 with 1 Axes>"
      ]
     },
     "metadata": {},
     "output_type": "display_data"
    }
   ],
   "source": [
    "#az.plot_forest(trace_mlr, var_names=varnames, combined=True);\n",
    "az.plot_energy(trace_mlr, figsize=(10, 6));"
   ]
  },
  {
   "cell_type": "code",
   "execution_count": 14,
   "metadata": {},
   "outputs": [
    {
     "name": "stdout",
     "output_type": "stream",
     "text": [
      "              label  pred      pred_label\n",
      "0        Strawberry   1.0      Strawberry\n",
      "1    NON-Strawberry   0.0  NON-Strawberry\n",
      "2        Strawberry   1.0      Strawberry\n",
      "3        Strawberry   1.0      Strawberry\n",
      "4    NON-Strawberry   0.0  NON-Strawberry\n",
      "..              ...   ...             ...\n",
      "320  NON-Strawberry   0.0  NON-Strawberry\n",
      "321      Strawberry   1.0      Strawberry\n",
      "322      Strawberry   1.0      Strawberry\n",
      "323  NON-Strawberry   0.0  NON-Strawberry\n",
      "324  NON-Strawberry   0.0  NON-Strawberry\n",
      "\n",
      "[325 rows x 3 columns]\n"
     ]
    }
   ],
   "source": [
    "# check model predictions on test dataset\n",
    "utl.display_predictions(data_obj, trace_mlr, test_data)"
   ]
  },
  {
   "cell_type": "code",
   "execution_count": 15,
   "metadata": {},
   "outputs": [
    {
     "name": "stdout",
     "output_type": "stream",
     "text": [
      "total  : 325\n",
      "correct: 325\n",
      "error  : 0\n",
      "score  : 100.0%\n"
     ]
    }
   ],
   "source": [
    "# prediction score on test dataset\n",
    "utl.logistic_score(data_obj, test_data, test_data.iloc[:,-1])"
   ]
  },
  {
   "cell_type": "markdown",
   "metadata": {},
   "source": [
    "# Save inference results"
   ]
  },
  {
   "cell_type": "code",
   "execution_count": 16,
   "metadata": {},
   "outputs": [],
   "source": [
    "pm.backends.text.dump('./traces/trace_juices', trace_mlr)"
   ]
  }
 ],
 "metadata": {
  "kernelspec": {
   "display_name": "Python 3",
   "language": "python",
   "name": "python3"
  },
  "language_info": {
   "codemirror_mode": {
    "name": "ipython",
    "version": 3
   },
   "file_extension": ".py",
   "mimetype": "text/x-python",
   "name": "python",
   "nbconvert_exporter": "python",
   "pygments_lexer": "ipython3",
   "version": "3.6.8"
  }
 },
 "nbformat": 4,
 "nbformat_minor": 2
}
