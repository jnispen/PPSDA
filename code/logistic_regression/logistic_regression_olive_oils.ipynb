{
 "cells": [
  {
   "cell_type": "markdown",
   "metadata": {},
   "source": [
    "# Logistic Regression (Olive Oils dataset)"
   ]
  },
  {
   "cell_type": "code",
   "execution_count": 57,
   "metadata": {},
   "outputs": [
    {
     "name": "stdout",
     "output_type": "stream",
     "text": [
      "Running on PyMC3 v3.7\n"
     ]
    }
   ],
   "source": [
    "%matplotlib inline\n",
    "import numpy as np\n",
    "import pandas as pd\n",
    "import matplotlib.pyplot as plt\n",
    "from sklearn.model_selection import train_test_split\n",
    "import pymc3 as pm\n",
    "import arviz as az\n",
    "import seaborn as sns\n",
    "\n",
    "az.style.use('arviz-darkgrid')\n",
    "\n",
    "print('Running on PyMC3 v{}'.format(pm.__version__))"
   ]
  },
  {
   "cell_type": "markdown",
   "metadata": {},
   "source": [
    "## Load raw data and plot"
   ]
  },
  {
   "cell_type": "code",
   "execution_count": 58,
   "metadata": {},
   "outputs": [
    {
     "data": {
      "text/html": [
       "<div>\n",
       "<style scoped>\n",
       "    .dataframe tbody tr th:only-of-type {\n",
       "        vertical-align: middle;\n",
       "    }\n",
       "\n",
       "    .dataframe tbody tr th {\n",
       "        vertical-align: top;\n",
       "    }\n",
       "\n",
       "    .dataframe thead th {\n",
       "        text-align: right;\n",
       "    }\n",
       "</style>\n",
       "<table border=\"1\" class=\"dataframe\">\n",
       "  <thead>\n",
       "    <tr style=\"text-align: right;\">\n",
       "      <th></th>\n",
       "      <th>798.892</th>\n",
       "      <th>800.8215</th>\n",
       "      <th>802.751</th>\n",
       "      <th>804.6805</th>\n",
       "      <th>806.61</th>\n",
       "      <th>808.5395</th>\n",
       "      <th>810.469</th>\n",
       "      <th>812.3985</th>\n",
       "      <th>814.328</th>\n",
       "      <th>816.2575</th>\n",
       "      <th>...</th>\n",
       "      <th>1885.2305</th>\n",
       "      <th>1887.16</th>\n",
       "      <th>1889.0895</th>\n",
       "      <th>1891.019</th>\n",
       "      <th>1892.9485</th>\n",
       "      <th>1894.878</th>\n",
       "      <th>1896.8085</th>\n",
       "      <th>code</th>\n",
       "      <th>label</th>\n",
       "      <th>sample</th>\n",
       "    </tr>\n",
       "  </thead>\n",
       "  <tbody>\n",
       "    <tr>\n",
       "      <th>0</th>\n",
       "      <td>0.127523</td>\n",
       "      <td>0.127950</td>\n",
       "      <td>0.129282</td>\n",
       "      <td>0.131174</td>\n",
       "      <td>0.133590</td>\n",
       "      <td>0.136426</td>\n",
       "      <td>0.139358</td>\n",
       "      <td>0.142219</td>\n",
       "      <td>0.144805</td>\n",
       "      <td>0.146764</td>\n",
       "      <td>...</td>\n",
       "      <td>0.012279</td>\n",
       "      <td>0.012158</td>\n",
       "      <td>0.011884</td>\n",
       "      <td>0.011716</td>\n",
       "      <td>0.011583</td>\n",
       "      <td>0.011315</td>\n",
       "      <td>0.011304</td>\n",
       "      <td>1</td>\n",
       "      <td>Greece</td>\n",
       "      <td>1</td>\n",
       "    </tr>\n",
       "    <tr>\n",
       "      <th>1</th>\n",
       "      <td>0.126498</td>\n",
       "      <td>0.127131</td>\n",
       "      <td>0.128511</td>\n",
       "      <td>0.130340</td>\n",
       "      <td>0.132527</td>\n",
       "      <td>0.135309</td>\n",
       "      <td>0.138353</td>\n",
       "      <td>0.141150</td>\n",
       "      <td>0.143630</td>\n",
       "      <td>0.145624</td>\n",
       "      <td>...</td>\n",
       "      <td>0.006467</td>\n",
       "      <td>0.006223</td>\n",
       "      <td>0.005720</td>\n",
       "      <td>0.005518</td>\n",
       "      <td>0.005494</td>\n",
       "      <td>0.005321</td>\n",
       "      <td>0.005426</td>\n",
       "      <td>1</td>\n",
       "      <td>Greece</td>\n",
       "      <td>1</td>\n",
       "    </tr>\n",
       "    <tr>\n",
       "      <th>2</th>\n",
       "      <td>0.130412</td>\n",
       "      <td>0.130675</td>\n",
       "      <td>0.132017</td>\n",
       "      <td>0.133824</td>\n",
       "      <td>0.136095</td>\n",
       "      <td>0.138944</td>\n",
       "      <td>0.141723</td>\n",
       "      <td>0.144136</td>\n",
       "      <td>0.146431</td>\n",
       "      <td>0.148389</td>\n",
       "      <td>...</td>\n",
       "      <td>0.007548</td>\n",
       "      <td>0.007391</td>\n",
       "      <td>0.007176</td>\n",
       "      <td>0.006843</td>\n",
       "      <td>0.006551</td>\n",
       "      <td>0.006398</td>\n",
       "      <td>0.006582</td>\n",
       "      <td>1</td>\n",
       "      <td>Greece</td>\n",
       "      <td>2</td>\n",
       "    </tr>\n",
       "    <tr>\n",
       "      <th>3</th>\n",
       "      <td>0.130022</td>\n",
       "      <td>0.130407</td>\n",
       "      <td>0.132018</td>\n",
       "      <td>0.134007</td>\n",
       "      <td>0.136271</td>\n",
       "      <td>0.138875</td>\n",
       "      <td>0.141481</td>\n",
       "      <td>0.144075</td>\n",
       "      <td>0.146553</td>\n",
       "      <td>0.148443</td>\n",
       "      <td>...</td>\n",
       "      <td>0.006059</td>\n",
       "      <td>0.005933</td>\n",
       "      <td>0.005507</td>\n",
       "      <td>0.005347</td>\n",
       "      <td>0.005349</td>\n",
       "      <td>0.005133</td>\n",
       "      <td>0.005222</td>\n",
       "      <td>1</td>\n",
       "      <td>Greece</td>\n",
       "      <td>2</td>\n",
       "    </tr>\n",
       "    <tr>\n",
       "      <th>4</th>\n",
       "      <td>0.128602</td>\n",
       "      <td>0.128790</td>\n",
       "      <td>0.130022</td>\n",
       "      <td>0.132012</td>\n",
       "      <td>0.134427</td>\n",
       "      <td>0.137070</td>\n",
       "      <td>0.139646</td>\n",
       "      <td>0.142338</td>\n",
       "      <td>0.144923</td>\n",
       "      <td>0.146958</td>\n",
       "      <td>...</td>\n",
       "      <td>0.010594</td>\n",
       "      <td>0.010379</td>\n",
       "      <td>0.010287</td>\n",
       "      <td>0.010127</td>\n",
       "      <td>0.009966</td>\n",
       "      <td>0.009760</td>\n",
       "      <td>0.009649</td>\n",
       "      <td>1</td>\n",
       "      <td>Greece</td>\n",
       "      <td>3</td>\n",
       "    </tr>\n",
       "  </tbody>\n",
       "</table>\n",
       "<p>5 rows × 573 columns</p>\n",
       "</div>"
      ],
      "text/plain": [
       "    798.892  800.8215   802.751  804.6805    806.61  808.5395   810.469  \\\n",
       "0  0.127523  0.127950  0.129282  0.131174  0.133590  0.136426  0.139358   \n",
       "1  0.126498  0.127131  0.128511  0.130340  0.132527  0.135309  0.138353   \n",
       "2  0.130412  0.130675  0.132017  0.133824  0.136095  0.138944  0.141723   \n",
       "3  0.130022  0.130407  0.132018  0.134007  0.136271  0.138875  0.141481   \n",
       "4  0.128602  0.128790  0.130022  0.132012  0.134427  0.137070  0.139646   \n",
       "\n",
       "   812.3985   814.328  816.2575  ...  1885.2305   1887.16  1889.0895  \\\n",
       "0  0.142219  0.144805  0.146764  ...   0.012279  0.012158   0.011884   \n",
       "1  0.141150  0.143630  0.145624  ...   0.006467  0.006223   0.005720   \n",
       "2  0.144136  0.146431  0.148389  ...   0.007548  0.007391   0.007176   \n",
       "3  0.144075  0.146553  0.148443  ...   0.006059  0.005933   0.005507   \n",
       "4  0.142338  0.144923  0.146958  ...   0.010594  0.010379   0.010287   \n",
       "\n",
       "   1891.019  1892.9485  1894.878  1896.8085  code   label  sample  \n",
       "0  0.011716   0.011583  0.011315   0.011304     1  Greece       1  \n",
       "1  0.005518   0.005494  0.005321   0.005426     1  Greece       1  \n",
       "2  0.006843   0.006551  0.006398   0.006582     1  Greece       2  \n",
       "3  0.005347   0.005349  0.005133   0.005222     1  Greece       2  \n",
       "4  0.010127   0.009966  0.009760   0.009649     1  Greece       3  \n",
       "\n",
       "[5 rows x 573 columns]"
      ]
     },
     "execution_count": 58,
     "metadata": {},
     "output_type": "execute_result"
    }
   ],
   "source": [
    "# read .csv file into Dataframe\n",
    "data = pd.read_csv('../../data/olive_oils/FTIR_olive_oils.csv')\n",
    "data.head(5)"
   ]
  },
  {
   "cell_type": "code",
   "execution_count": 59,
   "metadata": {},
   "outputs": [],
   "source": [
    "# shuffle data rows\n",
    "data = data.sample(frac=1)"
   ]
  },
  {
   "cell_type": "code",
   "execution_count": 60,
   "metadata": {},
   "outputs": [
    {
     "data": {
      "image/png": "[encoded data removed]",
      "text/plain": [
       "<Figure size 1200x600 with 1 Axes>"
      ]
     },
     "metadata": {},
     "output_type": "display_data"
    }
   ],
   "source": [
    "# number of non-data columns at right of dataframe\n",
    "ndata_cols = -3\n",
    "\n",
    "# header data = x-values\n",
    "cols = data.columns.to_list()\n",
    "x_val = np.array(cols[:ndata_cols], dtype='float32')\n",
    "\n",
    "# plot all data in 1 figure\n",
    "fig = plt.figure(figsize=(12,6))\n",
    "ax = plt.axes()\n",
    "ax.xaxis.set_major_locator(plt.MaxNLocator(10))\n",
    "ax.set(xlabel='Wavenumber ($cm^{-1}$)', ylabel='Intensity')\n",
    "\n",
    "for i in range(20):\n",
    "    y_val = data.values[i]\n",
    "    if y_val[-2] == 'Spain':\n",
    "        col = 'blue'\n",
    "    elif y_val[-2] == 'Greece':\n",
    "        col = 'green'\n",
    "    elif y_val[-2] == 'Portugal':\n",
    "        col = 'red'\n",
    "    else:\n",
    "        col = 'black'\n",
    "    plt.plot(x_val, y_val[:ndata_cols], '-', color=col);"
   ]
  },
  {
   "cell_type": "code",
   "execution_count": 61,
   "metadata": {},
   "outputs": [
    {
     "data": {
      "text/plain": [
       "Spain       50\n",
       "Italy       34\n",
       "Greece      20\n",
       "Portugal    16\n",
       "Name: label, dtype: int64"
      ]
     },
     "execution_count": 61,
     "metadata": {},
     "output_type": "execute_result"
    }
   ],
   "source": [
    "# number of samples from each class\n",
    "data['label'].value_counts()"
   ]
  },
  {
   "cell_type": "code",
   "execution_count": 97,
   "metadata": {},
   "outputs": [],
   "source": [
    "# generate training and test sets\n",
    "train_data, test_data = train_test_split(data, train_size=0.2, random_state=42)\n",
    "\n",
    "# rename the index\n",
    "test_data.index = range(len(test_data))\n",
    "train_data.index = range(len(train_data))"
   ]
  },
  {
   "cell_type": "code",
   "execution_count": 98,
   "metadata": {},
   "outputs": [
    {
     "data": {
      "text/plain": [
       "(96, 573)"
      ]
     },
     "execution_count": 98,
     "metadata": {},
     "output_type": "execute_result"
    }
   ],
   "source": [
    "test_data.shape"
   ]
  },
  {
   "cell_type": "code",
   "execution_count": 99,
   "metadata": {},
   "outputs": [
    {
     "data": {
      "text/plain": [
       "(24, 573)"
      ]
     },
     "execution_count": 99,
     "metadata": {},
     "output_type": "execute_result"
    }
   ],
   "source": [
    "train_data.shape"
   ]
  },
  {
   "cell_type": "markdown",
   "metadata": {},
   "source": [
    "# Model definition (Multiple Logistic Regression)\n",
    "The following statistical model is assumed:\n",
    "\n",
    "\\begin{equation}\n",
    "\\alpha \\sim \\mathcal{N}(\\mu_{\\alpha},\\,\\sigma^{2}_{\\alpha}) \\\\\n",
    "\\beta \\sim \\mathcal{N}(\\mu_{\\beta},\\,\\sigma^{2}_{\\beta}) \\\\\n",
    "\\theta = softmax(\\alpha+\\beta X) \\\\\n",
    "y \\sim Categorical(\\theta)\n",
    "\\end{equation}"
   ]
  },
  {
   "cell_type": "code",
   "execution_count": 100,
   "metadata": {},
   "outputs": [
    {
     "data": {
      "text/plain": [
       "(24, 570)"
      ]
     },
     "execution_count": 100,
     "metadata": {},
     "output_type": "execute_result"
    }
   ],
   "source": [
    "# standardize data\n",
    "Y = pd.Categorical(train_data['label']).codes\n",
    "x_n = train_data.columns[:ndata_cols]\n",
    "x_s = train_data[x_n].values\n",
    "x_s = (x_s - x_s.mean(axis=0)) / x_s.std(axis=0)\n",
    "x_s.shape"
   ]
  },
  {
   "cell_type": "code",
   "execution_count": 101,
   "metadata": {},
   "outputs": [
    {
     "data": {
      "text/plain": [
       "Spain       13\n",
       "Greece       4\n",
       "Italy        4\n",
       "Portugal     3\n",
       "Name: label, dtype: int64"
      ]
     },
     "execution_count": 101,
     "metadata": {},
     "output_type": "execute_result"
    }
   ],
   "source": [
    "# number of classes in dataset\n",
    "tclass = 4\n",
    "\n",
    "train_data['label'].value_counts()"
   ]
  },
  {
   "cell_type": "code",
   "execution_count": 102,
   "metadata": {},
   "outputs": [
    {
     "name": "stderr",
     "output_type": "stream",
     "text": [
      "Auto-assigning NUTS sampler...\n",
      "Initializing NUTS using adapt_diag...\n",
      "Multiprocess sampling (2 chains in 2 jobs)\n",
      "NUTS: [beta, alpha]\n",
      "Sampling 2 chains: 100%|██████████| 3000/3000 [08:18<00:00,  6.02draws/s]\n"
     ]
    }
   ],
   "source": [
    "import theano.tensor as tt\n",
    "\n",
    "with pm.Model() as model_mlr: \n",
    "    alpha = pm.Normal('alpha', mu=0, sd=1, shape=tclass)\n",
    "    beta = pm.Normal('beta', mu=0, sd=1, shape=(len(x_n), tclass))\n",
    "                     \n",
    "    mu = pm.Deterministic('mu', alpha + pm.math.dot(x_s, beta))\n",
    "                     \n",
    "    theta = tt.nnet.softmax(mu)\n",
    "                     \n",
    "    y_pred = pm.Categorical('y_pred', p=theta, observed=Y)\n",
    "                     \n",
    "    trace_mlr = pm.sample(1000, init='adapt_diag')"
   ]
  },
  {
   "cell_type": "code",
   "execution_count": 103,
   "metadata": {},
   "outputs": [
    {
     "data": {
      "image/svg+xml": [
       "<?xml version=\"1.0\" encoding=\"UTF-8\" standalone=\"no\"?>\n",
       "<!DOCTYPE svg PUBLIC \"-//W3C//DTD SVG 1.1//EN\"\n",
       " \"http://www.w3.org/Graphics/SVG/1.1/DTD/svg11.dtd\">\n",
       "<!-- Generated by graphviz version 2.40.1 (20161225.0304)\n",
       " -->\n",
       "<!-- Title: %3 Pages: 1 -->\n",
       "<svg width=\"331pt\" height=\"265pt\"\n",
       " viewBox=\"0.00 0.00 331.00 265.00\" xmlns=\"http://www.w3.org/2000/svg\" xmlns:xlink=\"http://www.w3.org/1999/xlink\">\n",
       "<g id=\"graph0\" class=\"graph\" transform=\"scale(1 1) rotate(0) translate(4 261)\">\n",
       "<title>%3</title>\n",
       "<polygon fill=\"#ffffff\" stroke=\"transparent\" points=\"-4,4 -4,-261 327,-261 327,4 -4,4\"/>\n",
       "<g id=\"clust1\" class=\"cluster\">\n",
       "<title>cluster4</title>\n",
       "<path fill=\"none\" stroke=\"#000000\" d=\"M29,-174C29,-174 155,-174 155,-174 161,-174 167,-180 167,-186 167,-186 167,-237 167,-237 167,-243 161,-249 155,-249 155,-249 29,-249 29,-249 23,-249 17,-243 17,-237 17,-237 17,-186 17,-186 17,-180 23,-174 29,-174\"/>\n",
       "<text text-anchor=\"middle\" x=\"155.5\" y=\"-181.8\" font-family=\"Times,serif\" font-size=\"14.00\" fill=\"#000000\">4</text>\n",
       "</g>\n",
       "<g id=\"clust2\" class=\"cluster\">\n",
       "<title>cluster570 x 4</title>\n",
       "<path fill=\"none\" stroke=\"#000000\" d=\"M187,-174C187,-174 303,-174 303,-174 309,-174 315,-180 315,-186 315,-186 315,-237 315,-237 315,-243 309,-249 303,-249 303,-249 187,-249 187,-249 181,-249 175,-243 175,-237 175,-237 175,-186 175,-186 175,-180 181,-174 187,-174\"/>\n",
       "<text text-anchor=\"middle\" x=\"286\" y=\"-181.8\" font-family=\"Times,serif\" font-size=\"14.00\" fill=\"#000000\">570 x 4</text>\n",
       "</g>\n",
       "<g id=\"clust3\" class=\"cluster\">\n",
       "<title>cluster24 x 4</title>\n",
       "<path fill=\"none\" stroke=\"#000000\" d=\"M43,-91C43,-91 159,-91 159,-91 165,-91 171,-97 171,-103 171,-103 171,-154 171,-154 171,-160 165,-166 159,-166 159,-166 43,-166 43,-166 37,-166 31,-160 31,-154 31,-154 31,-103 31,-103 31,-97 37,-91 43,-91\"/>\n",
       "<text text-anchor=\"middle\" x=\"145.5\" y=\"-98.8\" font-family=\"Times,serif\" font-size=\"14.00\" fill=\"#000000\">24 x 4</text>\n",
       "</g>\n",
       "<g id=\"clust4\" class=\"cluster\">\n",
       "<title>cluster24</title>\n",
       "<path fill=\"none\" stroke=\"#000000\" d=\"M20,-8C20,-8 182,-8 182,-8 188,-8 194,-14 194,-20 194,-20 194,-71 194,-71 194,-77 188,-83 182,-83 182,-83 20,-83 20,-83 14,-83 8,-77 8,-71 8,-71 8,-20 8,-20 8,-14 14,-8 20,-8\"/>\n",
       "<text text-anchor=\"middle\" x=\"179\" y=\"-15.8\" font-family=\"Times,serif\" font-size=\"14.00\" fill=\"#000000\">24</text>\n",
       "</g>\n",
       "<!-- alpha -->\n",
       "<g id=\"node1\" class=\"node\">\n",
       "<title>alpha</title>\n",
       "<ellipse fill=\"none\" stroke=\"#000000\" cx=\"92\" cy=\"-223\" rx=\"66.8882\" ry=\"18\"/>\n",
       "<text text-anchor=\"middle\" x=\"92\" y=\"-219.3\" font-family=\"Times,serif\" font-size=\"14.00\" fill=\"#000000\">alpha ~ Normal</text>\n",
       "</g>\n",
       "<!-- mu -->\n",
       "<g id=\"node3\" class=\"node\">\n",
       "<title>mu</title>\n",
       "<polygon fill=\"none\" stroke=\"#000000\" points=\"163,-158 39,-158 39,-122 163,-122 163,-158\"/>\n",
       "<text text-anchor=\"middle\" x=\"101\" y=\"-136.3\" font-family=\"Times,serif\" font-size=\"14.00\" fill=\"#000000\">mu ~ Deterministic</text>\n",
       "</g>\n",
       "<!-- alpha&#45;&gt;mu -->\n",
       "<g id=\"edge1\" class=\"edge\">\n",
       "<title>alpha&#45;&gt;mu</title>\n",
       "<path fill=\"none\" stroke=\"#000000\" d=\"M93.9529,-204.9902C95.1125,-194.2963 96.6085,-180.4994 97.9237,-168.3706\"/>\n",
       "<polygon fill=\"#000000\" stroke=\"#000000\" points=\"101.4214,-168.5803 99.0199,-158.2612 94.4622,-167.8256 101.4214,-168.5803\"/>\n",
       "</g>\n",
       "<!-- beta -->\n",
       "<g id=\"node2\" class=\"node\">\n",
       "<title>beta</title>\n",
       "<ellipse fill=\"none\" stroke=\"#000000\" cx=\"245\" cy=\"-223\" rx=\"62.2891\" ry=\"18\"/>\n",
       "<text text-anchor=\"middle\" x=\"245\" y=\"-219.3\" font-family=\"Times,serif\" font-size=\"14.00\" fill=\"#000000\">beta ~ Normal</text>\n",
       "</g>\n",
       "<!-- beta&#45;&gt;mu -->\n",
       "<g id=\"edge2\" class=\"edge\">\n",
       "<title>beta&#45;&gt;mu</title>\n",
       "<path fill=\"none\" stroke=\"#000000\" d=\"M221.511,-206.2887C207.2088,-196.4079 188.398,-183.9272 171,-174 164.2343,-170.1395 156.9654,-166.2933 149.7633,-162.6508\"/>\n",
       "<polygon fill=\"#000000\" stroke=\"#000000\" points=\"151.2323,-159.4726 140.7191,-158.1602 148.1192,-165.7423 151.2323,-159.4726\"/>\n",
       "</g>\n",
       "<!-- y_pred -->\n",
       "<g id=\"node4\" class=\"node\">\n",
       "<title>y_pred</title>\n",
       "<ellipse fill=\"#d3d3d3\" stroke=\"#000000\" cx=\"101\" cy=\"-57\" rx=\"85.2851\" ry=\"18\"/>\n",
       "<text text-anchor=\"middle\" x=\"101\" y=\"-53.3\" font-family=\"Times,serif\" font-size=\"14.00\" fill=\"#000000\">y_pred ~ Categorical</text>\n",
       "</g>\n",
       "<!-- mu&#45;&gt;y_pred -->\n",
       "<g id=\"edge3\" class=\"edge\">\n",
       "<title>mu&#45;&gt;y_pred</title>\n",
       "<path fill=\"none\" stroke=\"#000000\" d=\"M101,-121.9902C101,-111.2963 101,-97.4994 101,-85.3706\"/>\n",
       "<polygon fill=\"#000000\" stroke=\"#000000\" points=\"104.5001,-85.2612 101,-75.2612 97.5001,-85.2613 104.5001,-85.2612\"/>\n",
       "</g>\n",
       "</g>\n",
       "</svg>\n"
      ],
      "text/plain": [
       "<graphviz.dot.Digraph at 0x7f1a60fa08d0>"
      ]
     },
     "execution_count": 103,
     "metadata": {},
     "output_type": "execute_result"
    }
   ],
   "source": [
    "pm.model_to_graphviz(model_mlr)"
   ]
  },
  {
   "cell_type": "markdown",
   "metadata": {},
   "source": [
    "# Model evaluation"
   ]
  },
  {
   "cell_type": "code",
   "execution_count": 104,
   "metadata": {},
   "outputs": [
    {
     "data": {
      "text/html": [
       "<div>\n",
       "<style scoped>\n",
       "    .dataframe tbody tr th:only-of-type {\n",
       "        vertical-align: middle;\n",
       "    }\n",
       "\n",
       "    .dataframe tbody tr th {\n",
       "        vertical-align: top;\n",
       "    }\n",
       "\n",
       "    .dataframe thead th {\n",
       "        text-align: right;\n",
       "    }\n",
       "</style>\n",
       "<table border=\"1\" class=\"dataframe\">\n",
       "  <thead>\n",
       "    <tr style=\"text-align: right;\">\n",
       "      <th></th>\n",
       "      <th>mean</th>\n",
       "      <th>sd</th>\n",
       "      <th>hpd_3%</th>\n",
       "      <th>hpd_97%</th>\n",
       "      <th>mcse_mean</th>\n",
       "      <th>mcse_sd</th>\n",
       "      <th>ess_mean</th>\n",
       "      <th>ess_sd</th>\n",
       "      <th>ess_bulk</th>\n",
       "      <th>ess_tail</th>\n",
       "      <th>r_hat</th>\n",
       "    </tr>\n",
       "  </thead>\n",
       "  <tbody>\n",
       "    <tr>\n",
       "      <th>alpha[0]</th>\n",
       "      <td>-0.214</td>\n",
       "      <td>0.511</td>\n",
       "      <td>-1.220</td>\n",
       "      <td>0.705</td>\n",
       "      <td>0.017</td>\n",
       "      <td>0.012</td>\n",
       "      <td>875.0</td>\n",
       "      <td>875.0</td>\n",
       "      <td>878.0</td>\n",
       "      <td>1154.0</td>\n",
       "      <td>1.0</td>\n",
       "    </tr>\n",
       "    <tr>\n",
       "      <th>alpha[1]</th>\n",
       "      <td>-0.212</td>\n",
       "      <td>0.514</td>\n",
       "      <td>-1.165</td>\n",
       "      <td>0.742</td>\n",
       "      <td>0.017</td>\n",
       "      <td>0.012</td>\n",
       "      <td>868.0</td>\n",
       "      <td>868.0</td>\n",
       "      <td>871.0</td>\n",
       "      <td>1229.0</td>\n",
       "      <td>1.0</td>\n",
       "    </tr>\n",
       "    <tr>\n",
       "      <th>alpha[2]</th>\n",
       "      <td>-0.540</td>\n",
       "      <td>0.517</td>\n",
       "      <td>-1.569</td>\n",
       "      <td>0.343</td>\n",
       "      <td>0.017</td>\n",
       "      <td>0.012</td>\n",
       "      <td>895.0</td>\n",
       "      <td>895.0</td>\n",
       "      <td>897.0</td>\n",
       "      <td>1159.0</td>\n",
       "      <td>1.0</td>\n",
       "    </tr>\n",
       "    <tr>\n",
       "      <th>alpha[3]</th>\n",
       "      <td>1.052</td>\n",
       "      <td>0.510</td>\n",
       "      <td>0.074</td>\n",
       "      <td>1.984</td>\n",
       "      <td>0.017</td>\n",
       "      <td>0.012</td>\n",
       "      <td>870.0</td>\n",
       "      <td>870.0</td>\n",
       "      <td>871.0</td>\n",
       "      <td>1144.0</td>\n",
       "      <td>1.0</td>\n",
       "    </tr>\n",
       "    <tr>\n",
       "      <th>beta[0,0]</th>\n",
       "      <td>-0.009</td>\n",
       "      <td>1.021</td>\n",
       "      <td>-1.805</td>\n",
       "      <td>1.931</td>\n",
       "      <td>0.014</td>\n",
       "      <td>0.026</td>\n",
       "      <td>5217.0</td>\n",
       "      <td>768.0</td>\n",
       "      <td>5237.0</td>\n",
       "      <td>1368.0</td>\n",
       "      <td>1.0</td>\n",
       "    </tr>\n",
       "    <tr>\n",
       "      <th>...</th>\n",
       "      <td>...</td>\n",
       "      <td>...</td>\n",
       "      <td>...</td>\n",
       "      <td>...</td>\n",
       "      <td>...</td>\n",
       "      <td>...</td>\n",
       "      <td>...</td>\n",
       "      <td>...</td>\n",
       "      <td>...</td>\n",
       "      <td>...</td>\n",
       "      <td>...</td>\n",
       "    </tr>\n",
       "    <tr>\n",
       "      <th>beta[568,3]</th>\n",
       "      <td>-0.010</td>\n",
       "      <td>1.000</td>\n",
       "      <td>-1.908</td>\n",
       "      <td>1.820</td>\n",
       "      <td>0.014</td>\n",
       "      <td>0.026</td>\n",
       "      <td>5324.0</td>\n",
       "      <td>744.0</td>\n",
       "      <td>5318.0</td>\n",
       "      <td>1550.0</td>\n",
       "      <td>1.0</td>\n",
       "    </tr>\n",
       "    <tr>\n",
       "      <th>beta[569,0]</th>\n",
       "      <td>0.015</td>\n",
       "      <td>0.964</td>\n",
       "      <td>-1.730</td>\n",
       "      <td>1.892</td>\n",
       "      <td>0.014</td>\n",
       "      <td>0.023</td>\n",
       "      <td>4520.0</td>\n",
       "      <td>859.0</td>\n",
       "      <td>4522.0</td>\n",
       "      <td>1437.0</td>\n",
       "      <td>1.0</td>\n",
       "    </tr>\n",
       "    <tr>\n",
       "      <th>beta[569,1]</th>\n",
       "      <td>0.002</td>\n",
       "      <td>0.985</td>\n",
       "      <td>-1.807</td>\n",
       "      <td>1.808</td>\n",
       "      <td>0.015</td>\n",
       "      <td>0.026</td>\n",
       "      <td>4567.0</td>\n",
       "      <td>726.0</td>\n",
       "      <td>4557.0</td>\n",
       "      <td>1521.0</td>\n",
       "      <td>1.0</td>\n",
       "    </tr>\n",
       "    <tr>\n",
       "      <th>beta[569,2]</th>\n",
       "      <td>0.010</td>\n",
       "      <td>0.981</td>\n",
       "      <td>-1.752</td>\n",
       "      <td>1.833</td>\n",
       "      <td>0.014</td>\n",
       "      <td>0.024</td>\n",
       "      <td>4586.0</td>\n",
       "      <td>821.0</td>\n",
       "      <td>4580.0</td>\n",
       "      <td>1303.0</td>\n",
       "      <td>1.0</td>\n",
       "    </tr>\n",
       "    <tr>\n",
       "      <th>beta[569,3]</th>\n",
       "      <td>-0.008</td>\n",
       "      <td>1.034</td>\n",
       "      <td>-1.967</td>\n",
       "      <td>1.927</td>\n",
       "      <td>0.015</td>\n",
       "      <td>0.028</td>\n",
       "      <td>4468.0</td>\n",
       "      <td>679.0</td>\n",
       "      <td>4486.0</td>\n",
       "      <td>1380.0</td>\n",
       "      <td>1.0</td>\n",
       "    </tr>\n",
       "  </tbody>\n",
       "</table>\n",
       "<p>2284 rows × 11 columns</p>\n",
       "</div>"
      ],
      "text/plain": [
       "              mean     sd  hpd_3%  hpd_97%  mcse_mean  mcse_sd  ess_mean  \\\n",
       "alpha[0]    -0.214  0.511  -1.220    0.705      0.017    0.012     875.0   \n",
       "alpha[1]    -0.212  0.514  -1.165    0.742      0.017    0.012     868.0   \n",
       "alpha[2]    -0.540  0.517  -1.569    0.343      0.017    0.012     895.0   \n",
       "alpha[3]     1.052  0.510   0.074    1.984      0.017    0.012     870.0   \n",
       "beta[0,0]   -0.009  1.021  -1.805    1.931      0.014    0.026    5217.0   \n",
       "...            ...    ...     ...      ...        ...      ...       ...   \n",
       "beta[568,3] -0.010  1.000  -1.908    1.820      0.014    0.026    5324.0   \n",
       "beta[569,0]  0.015  0.964  -1.730    1.892      0.014    0.023    4520.0   \n",
       "beta[569,1]  0.002  0.985  -1.807    1.808      0.015    0.026    4567.0   \n",
       "beta[569,2]  0.010  0.981  -1.752    1.833      0.014    0.024    4586.0   \n",
       "beta[569,3] -0.008  1.034  -1.967    1.927      0.015    0.028    4468.0   \n",
       "\n",
       "             ess_sd  ess_bulk  ess_tail  r_hat  \n",
       "alpha[0]      875.0     878.0    1154.0    1.0  \n",
       "alpha[1]      868.0     871.0    1229.0    1.0  \n",
       "alpha[2]      895.0     897.0    1159.0    1.0  \n",
       "alpha[3]      870.0     871.0    1144.0    1.0  \n",
       "beta[0,0]     768.0    5237.0    1368.0    1.0  \n",
       "...             ...       ...       ...    ...  \n",
       "beta[568,3]   744.0    5318.0    1550.0    1.0  \n",
       "beta[569,0]   859.0    4522.0    1437.0    1.0  \n",
       "beta[569,1]   726.0    4557.0    1521.0    1.0  \n",
       "beta[569,2]   821.0    4580.0    1303.0    1.0  \n",
       "beta[569,3]   679.0    4486.0    1380.0    1.0  \n",
       "\n",
       "[2284 rows x 11 columns]"
      ]
     },
     "execution_count": 104,
     "metadata": {},
     "output_type": "execute_result"
    }
   ],
   "source": [
    "varnames = ['alpha', 'beta']\n",
    "coef = az.summary(trace_mlr, varnames)\n",
    "coef"
   ]
  },
  {
   "cell_type": "code",
   "execution_count": 105,
   "metadata": {},
   "outputs": [
    {
     "data": {
      "image/png": "[encoded data removed]",
      "text/plain": [
       "<Figure size 1000x600 with 1 Axes>"
      ]
     },
     "metadata": {},
     "output_type": "display_data"
    }
   ],
   "source": [
    "#az.plot_forest(trace_mlr, var_names=varnames, combined=True);\n",
    "az.plot_energy(trace_mlr, figsize=(10, 6));"
   ]
  },
  {
   "cell_type": "code",
   "execution_count": 126,
   "metadata": {},
   "outputs": [
    {
     "name": "stdout",
     "output_type": "stream",
     "text": [
      "training size:  24 samples\n",
      "correct label:  13 samples\n"
     ]
    },
    {
     "data": {
      "text/plain": [
       "'54.2'"
      ]
     },
     "execution_count": 126,
     "metadata": {},
     "output_type": "execute_result"
    }
   ],
   "source": [
    "# correct predictions on training data\n",
    "data_pred = trace_mlr['mu'].mean(0)\n",
    "\n",
    "y_pred = [np.exp(point)/np.sum(np.exp(point), axis=0)\n",
    "          for point in data_pred]\n",
    "\n",
    "print(\"training size: \", len(y_pred), \"samples\")\n",
    "cnt = 0\n",
    "for i in range(len(y_pred)):\n",
    "#    print(y_pred[i], Y[i], np.argmax(y_pred[i]))\n",
    "    if np.argmax(y_pred[i]) == Y[i]:\n",
    "        cnt +=1\n",
    "print(\"correct label: \", cnt, \"samples\")\n",
    "\n",
    "f'{cnt/len(y_pred) * 100:.1f}'"
   ]
  },
  {
   "cell_type": "code",
   "execution_count": null,
   "metadata": {},
   "outputs": [],
   "source": []
  }
 ],
 "metadata": {
  "kernelspec": {
   "display_name": "Python 3",
   "language": "python",
   "name": "python3"
  },
  "language_info": {
   "codemirror_mode": {
    "name": "ipython",
    "version": 3
   },
   "file_extension": ".py",
   "mimetype": "text/x-python",
   "name": "python",
   "nbconvert_exporter": "python",
   "pygments_lexer": "ipython3",
   "version": "3.6.8"
  }
 },
 "nbformat": 4,
 "nbformat_minor": 2
}
