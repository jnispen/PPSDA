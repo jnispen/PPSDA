{
 "cells": [
  {
   "cell_type": "markdown",
   "metadata": {},
   "source": [
    "# Logistic Regression (Olive Oils dataset)"
   ]
  },
  {
   "cell_type": "code",
   "execution_count": 13,
   "metadata": {},
   "outputs": [
    {
     "name": "stdout",
     "output_type": "stream",
     "text": [
      "Running on PyMC3 v3.7\n"
     ]
    }
   ],
   "source": [
    "%matplotlib inline\n",
    "import numpy as np\n",
    "import pandas as pd\n",
    "import matplotlib.pyplot as plt\n",
    "from sklearn.model_selection import train_test_split\n",
    "import pymc3 as pm\n",
    "import arviz as az\n",
    "import seaborn as sns\n",
    "\n",
    "az.style.use('arviz-darkgrid')\n",
    "\n",
    "print('Running on PyMC3 v{}'.format(pm.__version__))"
   ]
  },
  {
   "cell_type": "code",
   "execution_count": 14,
   "metadata": {},
   "outputs": [],
   "source": [
    "# import local utility functions\n",
    "import sys\n",
    "sys.path.append('../utils')\n",
    "import utils as utl"
   ]
  },
  {
   "cell_type": "markdown",
   "metadata": {},
   "source": [
    "## Load raw data and plot"
   ]
  },
  {
   "cell_type": "code",
   "execution_count": 15,
   "metadata": {},
   "outputs": [
    {
     "data": {
      "text/html": [
       "<div>\n",
       "<style scoped>\n",
       "    .dataframe tbody tr th:only-of-type {\n",
       "        vertical-align: middle;\n",
       "    }\n",
       "\n",
       "    .dataframe tbody tr th {\n",
       "        vertical-align: top;\n",
       "    }\n",
       "\n",
       "    .dataframe thead th {\n",
       "        text-align: right;\n",
       "    }\n",
       "</style>\n",
       "<table border=\"1\" class=\"dataframe\">\n",
       "  <thead>\n",
       "    <tr style=\"text-align: right;\">\n",
       "      <th></th>\n",
       "      <th>798.892</th>\n",
       "      <th>800.8215</th>\n",
       "      <th>802.751</th>\n",
       "      <th>804.6805</th>\n",
       "      <th>806.61</th>\n",
       "      <th>808.5395</th>\n",
       "      <th>810.469</th>\n",
       "      <th>812.3985</th>\n",
       "      <th>814.328</th>\n",
       "      <th>816.2575</th>\n",
       "      <th>...</th>\n",
       "      <th>1885.2305</th>\n",
       "      <th>1887.16</th>\n",
       "      <th>1889.0895</th>\n",
       "      <th>1891.019</th>\n",
       "      <th>1892.9485</th>\n",
       "      <th>1894.878</th>\n",
       "      <th>1896.8085</th>\n",
       "      <th>code</th>\n",
       "      <th>label</th>\n",
       "      <th>sample</th>\n",
       "    </tr>\n",
       "  </thead>\n",
       "  <tbody>\n",
       "    <tr>\n",
       "      <th>0</th>\n",
       "      <td>0.127523</td>\n",
       "      <td>0.127950</td>\n",
       "      <td>0.129282</td>\n",
       "      <td>0.131174</td>\n",
       "      <td>0.133590</td>\n",
       "      <td>0.136426</td>\n",
       "      <td>0.139358</td>\n",
       "      <td>0.142219</td>\n",
       "      <td>0.144805</td>\n",
       "      <td>0.146764</td>\n",
       "      <td>...</td>\n",
       "      <td>0.012279</td>\n",
       "      <td>0.012158</td>\n",
       "      <td>0.011884</td>\n",
       "      <td>0.011716</td>\n",
       "      <td>0.011583</td>\n",
       "      <td>0.011315</td>\n",
       "      <td>0.011304</td>\n",
       "      <td>1</td>\n",
       "      <td>Greece</td>\n",
       "      <td>1</td>\n",
       "    </tr>\n",
       "    <tr>\n",
       "      <th>1</th>\n",
       "      <td>0.126498</td>\n",
       "      <td>0.127131</td>\n",
       "      <td>0.128511</td>\n",
       "      <td>0.130340</td>\n",
       "      <td>0.132527</td>\n",
       "      <td>0.135309</td>\n",
       "      <td>0.138353</td>\n",
       "      <td>0.141150</td>\n",
       "      <td>0.143630</td>\n",
       "      <td>0.145624</td>\n",
       "      <td>...</td>\n",
       "      <td>0.006467</td>\n",
       "      <td>0.006223</td>\n",
       "      <td>0.005720</td>\n",
       "      <td>0.005518</td>\n",
       "      <td>0.005494</td>\n",
       "      <td>0.005321</td>\n",
       "      <td>0.005426</td>\n",
       "      <td>1</td>\n",
       "      <td>Greece</td>\n",
       "      <td>1</td>\n",
       "    </tr>\n",
       "    <tr>\n",
       "      <th>2</th>\n",
       "      <td>0.130412</td>\n",
       "      <td>0.130675</td>\n",
       "      <td>0.132017</td>\n",
       "      <td>0.133824</td>\n",
       "      <td>0.136095</td>\n",
       "      <td>0.138944</td>\n",
       "      <td>0.141723</td>\n",
       "      <td>0.144136</td>\n",
       "      <td>0.146431</td>\n",
       "      <td>0.148389</td>\n",
       "      <td>...</td>\n",
       "      <td>0.007548</td>\n",
       "      <td>0.007391</td>\n",
       "      <td>0.007176</td>\n",
       "      <td>0.006843</td>\n",
       "      <td>0.006551</td>\n",
       "      <td>0.006398</td>\n",
       "      <td>0.006582</td>\n",
       "      <td>1</td>\n",
       "      <td>Greece</td>\n",
       "      <td>2</td>\n",
       "    </tr>\n",
       "    <tr>\n",
       "      <th>3</th>\n",
       "      <td>0.130022</td>\n",
       "      <td>0.130407</td>\n",
       "      <td>0.132018</td>\n",
       "      <td>0.134007</td>\n",
       "      <td>0.136271</td>\n",
       "      <td>0.138875</td>\n",
       "      <td>0.141481</td>\n",
       "      <td>0.144075</td>\n",
       "      <td>0.146553</td>\n",
       "      <td>0.148443</td>\n",
       "      <td>...</td>\n",
       "      <td>0.006059</td>\n",
       "      <td>0.005933</td>\n",
       "      <td>0.005507</td>\n",
       "      <td>0.005347</td>\n",
       "      <td>0.005349</td>\n",
       "      <td>0.005133</td>\n",
       "      <td>0.005222</td>\n",
       "      <td>1</td>\n",
       "      <td>Greece</td>\n",
       "      <td>2</td>\n",
       "    </tr>\n",
       "    <tr>\n",
       "      <th>4</th>\n",
       "      <td>0.128602</td>\n",
       "      <td>0.128790</td>\n",
       "      <td>0.130022</td>\n",
       "      <td>0.132012</td>\n",
       "      <td>0.134427</td>\n",
       "      <td>0.137070</td>\n",
       "      <td>0.139646</td>\n",
       "      <td>0.142338</td>\n",
       "      <td>0.144923</td>\n",
       "      <td>0.146958</td>\n",
       "      <td>...</td>\n",
       "      <td>0.010594</td>\n",
       "      <td>0.010379</td>\n",
       "      <td>0.010287</td>\n",
       "      <td>0.010127</td>\n",
       "      <td>0.009966</td>\n",
       "      <td>0.009760</td>\n",
       "      <td>0.009649</td>\n",
       "      <td>1</td>\n",
       "      <td>Greece</td>\n",
       "      <td>3</td>\n",
       "    </tr>\n",
       "  </tbody>\n",
       "</table>\n",
       "<p>5 rows × 573 columns</p>\n",
       "</div>"
      ],
      "text/plain": [
       "    798.892  800.8215   802.751  804.6805    806.61  808.5395   810.469  \\\n",
       "0  0.127523  0.127950  0.129282  0.131174  0.133590  0.136426  0.139358   \n",
       "1  0.126498  0.127131  0.128511  0.130340  0.132527  0.135309  0.138353   \n",
       "2  0.130412  0.130675  0.132017  0.133824  0.136095  0.138944  0.141723   \n",
       "3  0.130022  0.130407  0.132018  0.134007  0.136271  0.138875  0.141481   \n",
       "4  0.128602  0.128790  0.130022  0.132012  0.134427  0.137070  0.139646   \n",
       "\n",
       "   812.3985   814.328  816.2575  ...  1885.2305   1887.16  1889.0895  \\\n",
       "0  0.142219  0.144805  0.146764  ...   0.012279  0.012158   0.011884   \n",
       "1  0.141150  0.143630  0.145624  ...   0.006467  0.006223   0.005720   \n",
       "2  0.144136  0.146431  0.148389  ...   0.007548  0.007391   0.007176   \n",
       "3  0.144075  0.146553  0.148443  ...   0.006059  0.005933   0.005507   \n",
       "4  0.142338  0.144923  0.146958  ...   0.010594  0.010379   0.010287   \n",
       "\n",
       "   1891.019  1892.9485  1894.878  1896.8085  code   label  sample  \n",
       "0  0.011716   0.011583  0.011315   0.011304     1  Greece       1  \n",
       "1  0.005518   0.005494  0.005321   0.005426     1  Greece       1  \n",
       "2  0.006843   0.006551  0.006398   0.006582     1  Greece       2  \n",
       "3  0.005347   0.005349  0.005133   0.005222     1  Greece       2  \n",
       "4  0.010127   0.009966  0.009760   0.009649     1  Greece       3  \n",
       "\n",
       "[5 rows x 573 columns]"
      ]
     },
     "execution_count": 15,
     "metadata": {},
     "output_type": "execute_result"
    }
   ],
   "source": [
    "# read .csv file into Dataframe\n",
    "data = pd.read_csv('../../data/olive_oils/FTIR_olive_oils.csv')\n",
    "data.head(5)"
   ]
  },
  {
   "cell_type": "code",
   "execution_count": 16,
   "metadata": {},
   "outputs": [],
   "source": [
    "# shuffle data rows\n",
    "data = data.sample(frac=1)"
   ]
  },
  {
   "cell_type": "code",
   "execution_count": 17,
   "metadata": {},
   "outputs": [
    {
     "data": {
      "image/png": "[encoded data removed]",
      "text/plain": [
       "<Figure size 1200x600 with 1 Axes>"
      ]
     },
     "metadata": {},
     "output_type": "display_data"
    }
   ],
   "source": [
    "# name of column containing the labels\n",
    "label_col = 'label'\n",
    "\n",
    "# number of non-data columns at right of dataframe\n",
    "ndata_cols = -3\n",
    "\n",
    "# list of class labels\n",
    "clabels = list({lbl for lbl in data.iloc[:,data.columns.to_list().index(label_col)].tolist()})\n",
    "clabels.sort()\n",
    "\n",
    "# plot dataframe\n",
    "utl.plot_data(data, ndata_cols, label_col, 10)"
   ]
  },
  {
   "cell_type": "code",
   "execution_count": 18,
   "metadata": {},
   "outputs": [
    {
     "data": {
      "text/plain": [
       "Spain       50\n",
       "Italy       34\n",
       "Greece      20\n",
       "Portugal    16\n",
       "Name: label, dtype: int64"
      ]
     },
     "execution_count": 18,
     "metadata": {},
     "output_type": "execute_result"
    }
   ],
   "source": [
    "# number of samples from each class\n",
    "data[label_col].value_counts()"
   ]
  },
  {
   "cell_type": "code",
   "execution_count": 19,
   "metadata": {},
   "outputs": [],
   "source": [
    "# generate training and test sets\n",
    "train_data, test_data = train_test_split(data, test_size=0.33, random_state=42)\n",
    "\n",
    "# rename the index\n",
    "test_data.index = range(len(test_data))\n",
    "train_data.index = range(len(train_data))"
   ]
  },
  {
   "cell_type": "code",
   "execution_count": 20,
   "metadata": {},
   "outputs": [
    {
     "data": {
      "text/plain": [
       "(40, 573)"
      ]
     },
     "execution_count": 20,
     "metadata": {},
     "output_type": "execute_result"
    }
   ],
   "source": [
    "test_data.shape"
   ]
  },
  {
   "cell_type": "code",
   "execution_count": 21,
   "metadata": {},
   "outputs": [
    {
     "data": {
      "text/plain": [
       "(80, 573)"
      ]
     },
     "execution_count": 21,
     "metadata": {},
     "output_type": "execute_result"
    }
   ],
   "source": [
    "train_data.shape"
   ]
  },
  {
   "cell_type": "markdown",
   "metadata": {},
   "source": [
    "# Model definition (Multiple Logistic Regression)\n",
    "The following statistical model is assumed:\n",
    "\n",
    "\\begin{equation}\n",
    "\\alpha \\sim \\mathcal{N}(\\mu_{\\alpha},\\,\\sigma^{2}_{\\alpha}) \\\\\n",
    "\\beta \\sim \\mathcal{N}(\\mu_{\\beta},\\,\\sigma^{2}_{\\beta}) \\\\\n",
    "\\theta = softmax(\\alpha+\\beta X) \\\\\n",
    "y \\sim Categorical(\\theta)\n",
    "\\end{equation}"
   ]
  },
  {
   "cell_type": "code",
   "execution_count": 22,
   "metadata": {},
   "outputs": [],
   "source": [
    "# get Y labels and standardize data\n",
    "Y = pd.Categorical(train_data[label_col]).codes\n",
    "x_n = train_data.columns[:ndata_cols]\n",
    "x_s = train_data[x_n].values\n",
    "x_s = utl.standardize(x_s)"
   ]
  },
  {
   "cell_type": "code",
   "execution_count": 23,
   "metadata": {},
   "outputs": [
    {
     "data": {
      "text/plain": [
       "Spain       33\n",
       "Italy       25\n",
       "Greece      12\n",
       "Portugal    10\n",
       "Name: label, dtype: int64"
      ]
     },
     "execution_count": 23,
     "metadata": {},
     "output_type": "execute_result"
    }
   ],
   "source": [
    "train_data[label_col].value_counts()"
   ]
  },
  {
   "cell_type": "code",
   "execution_count": 24,
   "metadata": {},
   "outputs": [
    {
     "name": "stderr",
     "output_type": "stream",
     "text": [
      "Auto-assigning NUTS sampler...\n",
      "Initializing NUTS using adapt_diag...\n",
      "Multiprocess sampling (2 chains in 2 jobs)\n",
      "NUTS: [beta, alpha]\n",
      "Sampling 2 chains: 100%|██████████| 3000/3000 [16:49<00:00,  2.97draws/s]\n",
      "The chain reached the maximum tree depth. Increase max_treedepth, increase target_accept or reparameterize.\n",
      "The chain reached the maximum tree depth. Increase max_treedepth, increase target_accept or reparameterize.\n",
      "The estimated number of effective samples is smaller than 200 for some parameters.\n"
     ]
    }
   ],
   "source": [
    "import theano.tensor as tt\n",
    "\n",
    "with pm.Model() as model_mlr: \n",
    "    alpha = pm.Normal('alpha', mu=0, sd=1, shape=len(clabels))\n",
    "    beta = pm.Normal('beta', mu=0, sd=1, shape=(len(x_n), len(clabels)))\n",
    "                     \n",
    "    mu = pm.Deterministic('mu', alpha + pm.math.dot(x_s, beta))\n",
    "                     \n",
    "    theta = tt.nnet.softmax(mu)\n",
    "                     \n",
    "    y_pred = pm.Categorical('y_pred', p=theta, observed=Y)\n",
    "                     \n",
    "    trace_mlr = pm.sample(1000, init='adapt_diag', random_seed=42)"
   ]
  },
  {
   "cell_type": "code",
   "execution_count": 25,
   "metadata": {},
   "outputs": [
    {
     "data": {
      "image/svg+xml": [
       "<?xml version=\"1.0\" encoding=\"UTF-8\" standalone=\"no\"?>\n",
       "<!DOCTYPE svg PUBLIC \"-//W3C//DTD SVG 1.1//EN\"\n",
       " \"http://www.w3.org/Graphics/SVG/1.1/DTD/svg11.dtd\">\n",
       "<!-- Generated by graphviz version 2.40.1 (20161225.0304)\n",
       " -->\n",
       "<!-- Title: %3 Pages: 1 -->\n",
       "<svg width=\"331pt\" height=\"265pt\"\n",
       " viewBox=\"0.00 0.00 331.00 265.00\" xmlns=\"http://www.w3.org/2000/svg\" xmlns:xlink=\"http://www.w3.org/1999/xlink\">\n",
       "<g id=\"graph0\" class=\"graph\" transform=\"scale(1 1) rotate(0) translate(4 261)\">\n",
       "<title>%3</title>\n",
       "<polygon fill=\"#ffffff\" stroke=\"transparent\" points=\"-4,4 -4,-261 327,-261 327,4 -4,4\"/>\n",
       "<g id=\"clust1\" class=\"cluster\">\n",
       "<title>cluster4</title>\n",
       "<path fill=\"none\" stroke=\"#000000\" d=\"M29,-174C29,-174 155,-174 155,-174 161,-174 167,-180 167,-186 167,-186 167,-237 167,-237 167,-243 161,-249 155,-249 155,-249 29,-249 29,-249 23,-249 17,-243 17,-237 17,-237 17,-186 17,-186 17,-180 23,-174 29,-174\"/>\n",
       "<text text-anchor=\"middle\" x=\"155.5\" y=\"-181.8\" font-family=\"Times,serif\" font-size=\"14.00\" fill=\"#000000\">4</text>\n",
       "</g>\n",
       "<g id=\"clust2\" class=\"cluster\">\n",
       "<title>cluster570 x 4</title>\n",
       "<path fill=\"none\" stroke=\"#000000\" d=\"M187,-174C187,-174 303,-174 303,-174 309,-174 315,-180 315,-186 315,-186 315,-237 315,-237 315,-243 309,-249 303,-249 303,-249 187,-249 187,-249 181,-249 175,-243 175,-237 175,-237 175,-186 175,-186 175,-180 181,-174 187,-174\"/>\n",
       "<text text-anchor=\"middle\" x=\"286\" y=\"-181.8\" font-family=\"Times,serif\" font-size=\"14.00\" fill=\"#000000\">570 x 4</text>\n",
       "</g>\n",
       "<g id=\"clust3\" class=\"cluster\">\n",
       "<title>cluster80 x 4</title>\n",
       "<path fill=\"none\" stroke=\"#000000\" d=\"M43,-91C43,-91 159,-91 159,-91 165,-91 171,-97 171,-103 171,-103 171,-154 171,-154 171,-160 165,-166 159,-166 159,-166 43,-166 43,-166 37,-166 31,-160 31,-154 31,-154 31,-103 31,-103 31,-97 37,-91 43,-91\"/>\n",
       "<text text-anchor=\"middle\" x=\"145.5\" y=\"-98.8\" font-family=\"Times,serif\" font-size=\"14.00\" fill=\"#000000\">80 x 4</text>\n",
       "</g>\n",
       "<g id=\"clust4\" class=\"cluster\">\n",
       "<title>cluster80</title>\n",
       "<path fill=\"none\" stroke=\"#000000\" d=\"M20,-8C20,-8 182,-8 182,-8 188,-8 194,-14 194,-20 194,-20 194,-71 194,-71 194,-77 188,-83 182,-83 182,-83 20,-83 20,-83 14,-83 8,-77 8,-71 8,-71 8,-20 8,-20 8,-14 14,-8 20,-8\"/>\n",
       "<text text-anchor=\"middle\" x=\"179\" y=\"-15.8\" font-family=\"Times,serif\" font-size=\"14.00\" fill=\"#000000\">80</text>\n",
       "</g>\n",
       "<!-- alpha -->\n",
       "<g id=\"node1\" class=\"node\">\n",
       "<title>alpha</title>\n",
       "<ellipse fill=\"none\" stroke=\"#000000\" cx=\"92\" cy=\"-223\" rx=\"66.8882\" ry=\"18\"/>\n",
       "<text text-anchor=\"middle\" x=\"92\" y=\"-219.3\" font-family=\"Times,serif\" font-size=\"14.00\" fill=\"#000000\">alpha ~ Normal</text>\n",
       "</g>\n",
       "<!-- mu -->\n",
       "<g id=\"node3\" class=\"node\">\n",
       "<title>mu</title>\n",
       "<polygon fill=\"none\" stroke=\"#000000\" points=\"163,-158 39,-158 39,-122 163,-122 163,-158\"/>\n",
       "<text text-anchor=\"middle\" x=\"101\" y=\"-136.3\" font-family=\"Times,serif\" font-size=\"14.00\" fill=\"#000000\">mu ~ Deterministic</text>\n",
       "</g>\n",
       "<!-- alpha&#45;&gt;mu -->\n",
       "<g id=\"edge2\" class=\"edge\">\n",
       "<title>alpha&#45;&gt;mu</title>\n",
       "<path fill=\"none\" stroke=\"#000000\" d=\"M93.9529,-204.9902C95.1125,-194.2963 96.6085,-180.4994 97.9237,-168.3706\"/>\n",
       "<polygon fill=\"#000000\" stroke=\"#000000\" points=\"101.4214,-168.5803 99.0199,-158.2612 94.4622,-167.8256 101.4214,-168.5803\"/>\n",
       "</g>\n",
       "<!-- beta -->\n",
       "<g id=\"node2\" class=\"node\">\n",
       "<title>beta</title>\n",
       "<ellipse fill=\"none\" stroke=\"#000000\" cx=\"245\" cy=\"-223\" rx=\"62.2891\" ry=\"18\"/>\n",
       "<text text-anchor=\"middle\" x=\"245\" y=\"-219.3\" font-family=\"Times,serif\" font-size=\"14.00\" fill=\"#000000\">beta ~ Normal</text>\n",
       "</g>\n",
       "<!-- beta&#45;&gt;mu -->\n",
       "<g id=\"edge1\" class=\"edge\">\n",
       "<title>beta&#45;&gt;mu</title>\n",
       "<path fill=\"none\" stroke=\"#000000\" d=\"M221.511,-206.2887C207.2088,-196.4079 188.398,-183.9272 171,-174 164.2343,-170.1395 156.9654,-166.2933 149.7633,-162.6508\"/>\n",
       "<polygon fill=\"#000000\" stroke=\"#000000\" points=\"151.2323,-159.4726 140.7191,-158.1602 148.1192,-165.7423 151.2323,-159.4726\"/>\n",
       "</g>\n",
       "<!-- y_pred -->\n",
       "<g id=\"node4\" class=\"node\">\n",
       "<title>y_pred</title>\n",
       "<ellipse fill=\"#d3d3d3\" stroke=\"#000000\" cx=\"101\" cy=\"-57\" rx=\"85.2851\" ry=\"18\"/>\n",
       "<text text-anchor=\"middle\" x=\"101\" y=\"-53.3\" font-family=\"Times,serif\" font-size=\"14.00\" fill=\"#000000\">y_pred ~ Categorical</text>\n",
       "</g>\n",
       "<!-- mu&#45;&gt;y_pred -->\n",
       "<g id=\"edge3\" class=\"edge\">\n",
       "<title>mu&#45;&gt;y_pred</title>\n",
       "<path fill=\"none\" stroke=\"#000000\" d=\"M101,-121.9902C101,-111.2963 101,-97.4994 101,-85.3706\"/>\n",
       "<polygon fill=\"#000000\" stroke=\"#000000\" points=\"104.5001,-85.2612 101,-75.2612 97.5001,-85.2613 104.5001,-85.2612\"/>\n",
       "</g>\n",
       "</g>\n",
       "</svg>\n"
      ],
      "text/plain": [
       "<graphviz.dot.Digraph at 0x7fae8debc748>"
      ]
     },
     "execution_count": 25,
     "metadata": {},
     "output_type": "execute_result"
    }
   ],
   "source": [
    "pm.model_to_graphviz(model_mlr)"
   ]
  },
  {
   "cell_type": "markdown",
   "metadata": {},
   "source": [
    "# Model evaluation"
   ]
  },
  {
   "cell_type": "code",
   "execution_count": 26,
   "metadata": {},
   "outputs": [
    {
     "data": {
      "text/html": [
       "<div>\n",
       "<style scoped>\n",
       "    .dataframe tbody tr th:only-of-type {\n",
       "        vertical-align: middle;\n",
       "    }\n",
       "\n",
       "    .dataframe tbody tr th {\n",
       "        vertical-align: top;\n",
       "    }\n",
       "\n",
       "    .dataframe thead th {\n",
       "        text-align: right;\n",
       "    }\n",
       "</style>\n",
       "<table border=\"1\" class=\"dataframe\">\n",
       "  <thead>\n",
       "    <tr style=\"text-align: right;\">\n",
       "      <th></th>\n",
       "      <th>mean</th>\n",
       "      <th>sd</th>\n",
       "      <th>hpd_3%</th>\n",
       "      <th>hpd_97%</th>\n",
       "      <th>mcse_mean</th>\n",
       "      <th>mcse_sd</th>\n",
       "      <th>ess_mean</th>\n",
       "      <th>ess_sd</th>\n",
       "      <th>ess_bulk</th>\n",
       "      <th>ess_tail</th>\n",
       "      <th>r_hat</th>\n",
       "    </tr>\n",
       "  </thead>\n",
       "  <tbody>\n",
       "    <tr>\n",
       "      <th>alpha[0]</th>\n",
       "      <td>-0.371</td>\n",
       "      <td>0.462</td>\n",
       "      <td>-1.292</td>\n",
       "      <td>0.448</td>\n",
       "      <td>0.042</td>\n",
       "      <td>0.029</td>\n",
       "      <td>124.0</td>\n",
       "      <td>124.0</td>\n",
       "      <td>125.0</td>\n",
       "      <td>194.0</td>\n",
       "      <td>1.01</td>\n",
       "    </tr>\n",
       "    <tr>\n",
       "      <th>alpha[1]</th>\n",
       "      <td>0.383</td>\n",
       "      <td>0.460</td>\n",
       "      <td>-0.510</td>\n",
       "      <td>1.210</td>\n",
       "      <td>0.041</td>\n",
       "      <td>0.029</td>\n",
       "      <td>125.0</td>\n",
       "      <td>125.0</td>\n",
       "      <td>126.0</td>\n",
       "      <td>199.0</td>\n",
       "      <td>1.01</td>\n",
       "    </tr>\n",
       "    <tr>\n",
       "      <th>alpha[2]</th>\n",
       "      <td>-0.563</td>\n",
       "      <td>0.461</td>\n",
       "      <td>-1.446</td>\n",
       "      <td>0.290</td>\n",
       "      <td>0.041</td>\n",
       "      <td>0.029</td>\n",
       "      <td>125.0</td>\n",
       "      <td>125.0</td>\n",
       "      <td>126.0</td>\n",
       "      <td>193.0</td>\n",
       "      <td>1.01</td>\n",
       "    </tr>\n",
       "    <tr>\n",
       "      <th>alpha[3]</th>\n",
       "      <td>0.665</td>\n",
       "      <td>0.461</td>\n",
       "      <td>-0.235</td>\n",
       "      <td>1.502</td>\n",
       "      <td>0.041</td>\n",
       "      <td>0.029</td>\n",
       "      <td>125.0</td>\n",
       "      <td>125.0</td>\n",
       "      <td>126.0</td>\n",
       "      <td>195.0</td>\n",
       "      <td>1.01</td>\n",
       "    </tr>\n",
       "    <tr>\n",
       "      <th>beta[0,0]</th>\n",
       "      <td>0.023</td>\n",
       "      <td>1.003</td>\n",
       "      <td>-2.012</td>\n",
       "      <td>1.804</td>\n",
       "      <td>0.042</td>\n",
       "      <td>0.029</td>\n",
       "      <td>581.0</td>\n",
       "      <td>581.0</td>\n",
       "      <td>580.0</td>\n",
       "      <td>848.0</td>\n",
       "      <td>1.00</td>\n",
       "    </tr>\n",
       "    <tr>\n",
       "      <th>...</th>\n",
       "      <td>...</td>\n",
       "      <td>...</td>\n",
       "      <td>...</td>\n",
       "      <td>...</td>\n",
       "      <td>...</td>\n",
       "      <td>...</td>\n",
       "      <td>...</td>\n",
       "      <td>...</td>\n",
       "      <td>...</td>\n",
       "      <td>...</td>\n",
       "      <td>...</td>\n",
       "    </tr>\n",
       "    <tr>\n",
       "      <th>beta[568,3]</th>\n",
       "      <td>0.005</td>\n",
       "      <td>0.987</td>\n",
       "      <td>-1.849</td>\n",
       "      <td>1.804</td>\n",
       "      <td>0.039</td>\n",
       "      <td>0.028</td>\n",
       "      <td>638.0</td>\n",
       "      <td>638.0</td>\n",
       "      <td>636.0</td>\n",
       "      <td>898.0</td>\n",
       "      <td>1.00</td>\n",
       "    </tr>\n",
       "    <tr>\n",
       "      <th>beta[569,0]</th>\n",
       "      <td>0.025</td>\n",
       "      <td>0.954</td>\n",
       "      <td>-1.681</td>\n",
       "      <td>1.817</td>\n",
       "      <td>0.046</td>\n",
       "      <td>0.033</td>\n",
       "      <td>426.0</td>\n",
       "      <td>426.0</td>\n",
       "      <td>426.0</td>\n",
       "      <td>578.0</td>\n",
       "      <td>1.00</td>\n",
       "    </tr>\n",
       "    <tr>\n",
       "      <th>beta[569,1]</th>\n",
       "      <td>-0.013</td>\n",
       "      <td>1.020</td>\n",
       "      <td>-1.909</td>\n",
       "      <td>1.864</td>\n",
       "      <td>0.043</td>\n",
       "      <td>0.030</td>\n",
       "      <td>573.0</td>\n",
       "      <td>573.0</td>\n",
       "      <td>573.0</td>\n",
       "      <td>770.0</td>\n",
       "      <td>1.00</td>\n",
       "    </tr>\n",
       "    <tr>\n",
       "      <th>beta[569,2]</th>\n",
       "      <td>0.016</td>\n",
       "      <td>0.947</td>\n",
       "      <td>-1.865</td>\n",
       "      <td>1.702</td>\n",
       "      <td>0.043</td>\n",
       "      <td>0.030</td>\n",
       "      <td>484.0</td>\n",
       "      <td>484.0</td>\n",
       "      <td>487.0</td>\n",
       "      <td>632.0</td>\n",
       "      <td>1.00</td>\n",
       "    </tr>\n",
       "    <tr>\n",
       "      <th>beta[569,3]</th>\n",
       "      <td>-0.086</td>\n",
       "      <td>0.959</td>\n",
       "      <td>-1.744</td>\n",
       "      <td>1.847</td>\n",
       "      <td>0.041</td>\n",
       "      <td>0.029</td>\n",
       "      <td>549.0</td>\n",
       "      <td>549.0</td>\n",
       "      <td>550.0</td>\n",
       "      <td>970.0</td>\n",
       "      <td>1.00</td>\n",
       "    </tr>\n",
       "  </tbody>\n",
       "</table>\n",
       "<p>2284 rows × 11 columns</p>\n",
       "</div>"
      ],
      "text/plain": [
       "              mean     sd  hpd_3%  hpd_97%  mcse_mean  mcse_sd  ess_mean  \\\n",
       "alpha[0]    -0.371  0.462  -1.292    0.448      0.042    0.029     124.0   \n",
       "alpha[1]     0.383  0.460  -0.510    1.210      0.041    0.029     125.0   \n",
       "alpha[2]    -0.563  0.461  -1.446    0.290      0.041    0.029     125.0   \n",
       "alpha[3]     0.665  0.461  -0.235    1.502      0.041    0.029     125.0   \n",
       "beta[0,0]    0.023  1.003  -2.012    1.804      0.042    0.029     581.0   \n",
       "...            ...    ...     ...      ...        ...      ...       ...   \n",
       "beta[568,3]  0.005  0.987  -1.849    1.804      0.039    0.028     638.0   \n",
       "beta[569,0]  0.025  0.954  -1.681    1.817      0.046    0.033     426.0   \n",
       "beta[569,1] -0.013  1.020  -1.909    1.864      0.043    0.030     573.0   \n",
       "beta[569,2]  0.016  0.947  -1.865    1.702      0.043    0.030     484.0   \n",
       "beta[569,3] -0.086  0.959  -1.744    1.847      0.041    0.029     549.0   \n",
       "\n",
       "             ess_sd  ess_bulk  ess_tail  r_hat  \n",
       "alpha[0]      124.0     125.0     194.0   1.01  \n",
       "alpha[1]      125.0     126.0     199.0   1.01  \n",
       "alpha[2]      125.0     126.0     193.0   1.01  \n",
       "alpha[3]      125.0     126.0     195.0   1.01  \n",
       "beta[0,0]     581.0     580.0     848.0   1.00  \n",
       "...             ...       ...       ...    ...  \n",
       "beta[568,3]   638.0     636.0     898.0   1.00  \n",
       "beta[569,0]   426.0     426.0     578.0   1.00  \n",
       "beta[569,1]   573.0     573.0     770.0   1.00  \n",
       "beta[569,2]   484.0     487.0     632.0   1.00  \n",
       "beta[569,3]   549.0     550.0     970.0   1.00  \n",
       "\n",
       "[2284 rows x 11 columns]"
      ]
     },
     "execution_count": 26,
     "metadata": {},
     "output_type": "execute_result"
    }
   ],
   "source": [
    "varnames = ['alpha', 'beta']\n",
    "coef = az.summary(trace_mlr, varnames)\n",
    "coef"
   ]
  },
  {
   "cell_type": "code",
   "execution_count": 27,
   "metadata": {},
   "outputs": [
    {
     "data": {
      "image/png": "[encoded data removed]",
      "text/plain": [
       "<Figure size 1000x600 with 1 Axes>"
      ]
     },
     "metadata": {},
     "output_type": "display_data"
    }
   ],
   "source": [
    "#az.plot_forest(trace_mlr, var_names=varnames, combined=True);\n",
    "az.plot_energy(trace_mlr, figsize=(10, 6));"
   ]
  },
  {
   "cell_type": "code",
   "execution_count": 35,
   "metadata": {},
   "outputs": [
    {
     "name": "stdout",
     "output_type": "stream",
     "text": [
      "total  : 80\n",
      "correct: 33\n",
      "error  : 47\n",
      "score  : 41.2%\n"
     ]
    }
   ],
   "source": [
    "# correct predictions on training data\n",
    "utl.softmax_score(train_data, trace_mlr, label_col)"
   ]
  },
  {
   "cell_type": "markdown",
   "metadata": {},
   "source": [
    "# Save inference results"
   ]
  },
  {
   "cell_type": "code",
   "execution_count": 37,
   "metadata": {},
   "outputs": [],
   "source": [
    "pm.backends.text.dump('./traces/trace_olive_oils', trace_mlr)"
   ]
  },
  {
   "cell_type": "code",
   "execution_count": null,
   "metadata": {},
   "outputs": [],
   "source": []
  }
 ],
 "metadata": {
  "kernelspec": {
   "display_name": "Python 3",
   "language": "python",
   "name": "python3"
  },
  "language_info": {
   "codemirror_mode": {
    "name": "ipython",
    "version": 3
   },
   "file_extension": ".py",
   "mimetype": "text/x-python",
   "name": "python",
   "nbconvert_exporter": "python",
   "pygments_lexer": "ipython3",
   "version": "3.6.8"
  }
 },
 "nbformat": 4,
 "nbformat_minor": 2
}
