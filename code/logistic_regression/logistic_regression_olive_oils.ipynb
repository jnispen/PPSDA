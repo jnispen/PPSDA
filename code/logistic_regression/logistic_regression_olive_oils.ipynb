{
 "cells": [
  {
   "cell_type": "markdown",
   "metadata": {},
   "source": [
    "# Logistic Regression (Olive Oils dataset)"
   ]
  },
  {
   "cell_type": "code",
   "execution_count": 1,
   "metadata": {},
   "outputs": [
    {
     "name": "stderr",
     "output_type": "stream",
     "text": [
      "WARNING (theano.tensor.blas): Using NumPy C-API based implementation for BLAS functions.\n"
     ]
    },
    {
     "name": "stdout",
     "output_type": "stream",
     "text": [
      "Running on PyMC3 v3.7\n"
     ]
    }
   ],
   "source": [
    "%matplotlib inline\n",
    "import numpy as np\n",
    "import pandas as pd\n",
    "import matplotlib.pyplot as plt\n",
    "from sklearn.model_selection import train_test_split\n",
    "import pymc3 as pm\n",
    "import arviz as az\n",
    "import seaborn as sns\n",
    "\n",
    "az.style.use('arviz-darkgrid')\n",
    "\n",
    "print('Running on PyMC3 v{}'.format(pm.__version__))"
   ]
  },
  {
   "cell_type": "code",
   "execution_count": 2,
   "metadata": {},
   "outputs": [],
   "source": [
    "# import local utility functions and classes\n",
    "import sys\n",
    "sys.path.append('../utils')\n",
    "import utils as utl\n",
    "from data import Data"
   ]
  },
  {
   "cell_type": "markdown",
   "metadata": {},
   "source": [
    "## Load raw data and plot"
   ]
  },
  {
   "cell_type": "code",
   "execution_count": 3,
   "metadata": {},
   "outputs": [
    {
     "data": {
      "text/html": [
       "<div>\n",
       "<style scoped>\n",
       "    .dataframe tbody tr th:only-of-type {\n",
       "        vertical-align: middle;\n",
       "    }\n",
       "\n",
       "    .dataframe tbody tr th {\n",
       "        vertical-align: top;\n",
       "    }\n",
       "\n",
       "    .dataframe thead th {\n",
       "        text-align: right;\n",
       "    }\n",
       "</style>\n",
       "<table border=\"1\" class=\"dataframe\">\n",
       "  <thead>\n",
       "    <tr style=\"text-align: right;\">\n",
       "      <th></th>\n",
       "      <th>798.892</th>\n",
       "      <th>800.8215</th>\n",
       "      <th>802.751</th>\n",
       "      <th>804.6805</th>\n",
       "      <th>806.61</th>\n",
       "      <th>808.5395</th>\n",
       "      <th>810.469</th>\n",
       "      <th>812.3985</th>\n",
       "      <th>814.328</th>\n",
       "      <th>816.2575</th>\n",
       "      <th>...</th>\n",
       "      <th>1885.2305</th>\n",
       "      <th>1887.16</th>\n",
       "      <th>1889.0895</th>\n",
       "      <th>1891.019</th>\n",
       "      <th>1892.9485</th>\n",
       "      <th>1894.878</th>\n",
       "      <th>1896.8085</th>\n",
       "      <th>code</th>\n",
       "      <th>label</th>\n",
       "      <th>sample</th>\n",
       "    </tr>\n",
       "  </thead>\n",
       "  <tbody>\n",
       "    <tr>\n",
       "      <th>44</th>\n",
       "      <td>0.127147</td>\n",
       "      <td>0.127587</td>\n",
       "      <td>0.129321</td>\n",
       "      <td>0.131166</td>\n",
       "      <td>0.133155</td>\n",
       "      <td>0.135617</td>\n",
       "      <td>0.138395</td>\n",
       "      <td>0.140899</td>\n",
       "      <td>0.143519</td>\n",
       "      <td>0.145796</td>\n",
       "      <td>...</td>\n",
       "      <td>0.003791</td>\n",
       "      <td>0.003540</td>\n",
       "      <td>0.003430</td>\n",
       "      <td>0.003345</td>\n",
       "      <td>0.003275</td>\n",
       "      <td>0.003094</td>\n",
       "      <td>0.002959</td>\n",
       "      <td>2</td>\n",
       "      <td>Italy</td>\n",
       "      <td>23</td>\n",
       "    </tr>\n",
       "    <tr>\n",
       "      <th>47</th>\n",
       "      <td>0.126618</td>\n",
       "      <td>0.127110</td>\n",
       "      <td>0.128289</td>\n",
       "      <td>0.130156</td>\n",
       "      <td>0.132573</td>\n",
       "      <td>0.135221</td>\n",
       "      <td>0.137872</td>\n",
       "      <td>0.140590</td>\n",
       "      <td>0.142919</td>\n",
       "      <td>0.144947</td>\n",
       "      <td>...</td>\n",
       "      <td>0.006713</td>\n",
       "      <td>0.006519</td>\n",
       "      <td>0.006012</td>\n",
       "      <td>0.005937</td>\n",
       "      <td>0.005862</td>\n",
       "      <td>0.005570</td>\n",
       "      <td>0.005606</td>\n",
       "      <td>2</td>\n",
       "      <td>Italy</td>\n",
       "      <td>24</td>\n",
       "    </tr>\n",
       "    <tr>\n",
       "      <th>4</th>\n",
       "      <td>0.128602</td>\n",
       "      <td>0.128790</td>\n",
       "      <td>0.130022</td>\n",
       "      <td>0.132012</td>\n",
       "      <td>0.134427</td>\n",
       "      <td>0.137070</td>\n",
       "      <td>0.139646</td>\n",
       "      <td>0.142338</td>\n",
       "      <td>0.144923</td>\n",
       "      <td>0.146958</td>\n",
       "      <td>...</td>\n",
       "      <td>0.010594</td>\n",
       "      <td>0.010379</td>\n",
       "      <td>0.010287</td>\n",
       "      <td>0.010127</td>\n",
       "      <td>0.009966</td>\n",
       "      <td>0.009760</td>\n",
       "      <td>0.009649</td>\n",
       "      <td>1</td>\n",
       "      <td>Greece</td>\n",
       "      <td>3</td>\n",
       "    </tr>\n",
       "    <tr>\n",
       "      <th>55</th>\n",
       "      <td>0.128149</td>\n",
       "      <td>0.128600</td>\n",
       "      <td>0.130136</td>\n",
       "      <td>0.132407</td>\n",
       "      <td>0.135488</td>\n",
       "      <td>0.138501</td>\n",
       "      <td>0.141224</td>\n",
       "      <td>0.144109</td>\n",
       "      <td>0.146412</td>\n",
       "      <td>0.148171</td>\n",
       "      <td>...</td>\n",
       "      <td>0.010286</td>\n",
       "      <td>0.010086</td>\n",
       "      <td>0.009620</td>\n",
       "      <td>0.009541</td>\n",
       "      <td>0.009713</td>\n",
       "      <td>0.009405</td>\n",
       "      <td>0.009267</td>\n",
       "      <td>3</td>\n",
       "      <td>Portugal</td>\n",
       "      <td>28</td>\n",
       "    </tr>\n",
       "    <tr>\n",
       "      <th>26</th>\n",
       "      <td>0.128867</td>\n",
       "      <td>0.129291</td>\n",
       "      <td>0.130672</td>\n",
       "      <td>0.132708</td>\n",
       "      <td>0.135109</td>\n",
       "      <td>0.137758</td>\n",
       "      <td>0.140860</td>\n",
       "      <td>0.143611</td>\n",
       "      <td>0.145792</td>\n",
       "      <td>0.147613</td>\n",
       "      <td>...</td>\n",
       "      <td>0.007027</td>\n",
       "      <td>0.006848</td>\n",
       "      <td>0.006511</td>\n",
       "      <td>0.006470</td>\n",
       "      <td>0.006405</td>\n",
       "      <td>0.006071</td>\n",
       "      <td>0.005872</td>\n",
       "      <td>2</td>\n",
       "      <td>Italy</td>\n",
       "      <td>14</td>\n",
       "    </tr>\n",
       "  </tbody>\n",
       "</table>\n",
       "<p>5 rows × 573 columns</p>\n",
       "</div>"
      ],
      "text/plain": [
       "     798.892  800.8215   802.751  804.6805    806.61  808.5395   810.469  \\\n",
       "44  0.127147  0.127587  0.129321  0.131166  0.133155  0.135617  0.138395   \n",
       "47  0.126618  0.127110  0.128289  0.130156  0.132573  0.135221  0.137872   \n",
       "4   0.128602  0.128790  0.130022  0.132012  0.134427  0.137070  0.139646   \n",
       "55  0.128149  0.128600  0.130136  0.132407  0.135488  0.138501  0.141224   \n",
       "26  0.128867  0.129291  0.130672  0.132708  0.135109  0.137758  0.140860   \n",
       "\n",
       "    812.3985   814.328  816.2575  ...  1885.2305   1887.16  1889.0895  \\\n",
       "44  0.140899  0.143519  0.145796  ...   0.003791  0.003540   0.003430   \n",
       "47  0.140590  0.142919  0.144947  ...   0.006713  0.006519   0.006012   \n",
       "4   0.142338  0.144923  0.146958  ...   0.010594  0.010379   0.010287   \n",
       "55  0.144109  0.146412  0.148171  ...   0.010286  0.010086   0.009620   \n",
       "26  0.143611  0.145792  0.147613  ...   0.007027  0.006848   0.006511   \n",
       "\n",
       "    1891.019  1892.9485  1894.878  1896.8085  code     label  sample  \n",
       "44  0.003345   0.003275  0.003094   0.002959     2     Italy      23  \n",
       "47  0.005937   0.005862  0.005570   0.005606     2     Italy      24  \n",
       "4   0.010127   0.009966  0.009760   0.009649     1    Greece       3  \n",
       "55  0.009541   0.009713  0.009405   0.009267     3  Portugal      28  \n",
       "26  0.006470   0.006405  0.006071   0.005872     2     Italy      14  \n",
       "\n",
       "[5 rows x 573 columns]"
      ]
     },
     "execution_count": 3,
     "metadata": {},
     "output_type": "execute_result"
    }
   ],
   "source": [
    "# init data object\n",
    "data_obj = Data('../../data/olive_oils/FTIR_olive_oils.csv', 'label', -3)\n",
    "data = data_obj.data\n",
    "data.head(5)"
   ]
  },
  {
   "cell_type": "code",
   "execution_count": 4,
   "metadata": {},
   "outputs": [
    {
     "name": "stdout",
     "output_type": "stream",
     "text": [
      "Greece: blue\n",
      "Italy: red\n",
      "Portugal: green\n",
      "Spain: orange\n"
     ]
    },
    {
     "data": {
      "image/png": "[encoded data removed]",
      "text/plain": [
       "<Figure size 864x432 with 1 Axes>"
      ]
     },
     "metadata": {
      "needs_background": "light"
     },
     "output_type": "display_data"
    }
   ],
   "source": [
    "# name of column containing the labels\n",
    "label_col = data_obj.label_column\n",
    "\n",
    "# number of non-data columns at right of dataframe\n",
    "non_data_cols = data_obj.non_data_columns\n",
    "\n",
    "# list of class labels\n",
    "class_labels = data_obj.get_class_labels()\n",
    "\n",
    "# plot dataframe\n",
    "utl.plot_data(data_obj, 20)"
   ]
  },
  {
   "cell_type": "code",
   "execution_count": 5,
   "metadata": {},
   "outputs": [
    {
     "data": {
      "text/plain": [
       "Spain       50\n",
       "Italy       34\n",
       "Greece      20\n",
       "Portugal    16\n",
       "Name: label, dtype: int64"
      ]
     },
     "execution_count": 5,
     "metadata": {},
     "output_type": "execute_result"
    }
   ],
   "source": [
    "# number of samples from each class\n",
    "data[label_col].value_counts()"
   ]
  },
  {
   "cell_type": "code",
   "execution_count": 6,
   "metadata": {},
   "outputs": [],
   "source": [
    "# generate training and test sets\n",
    "train_data, test_data = train_test_split(data, test_size=0.33, random_state=42)\n",
    "\n",
    "# rename the index\n",
    "test_data.index = range(len(test_data))\n",
    "train_data.index = range(len(train_data))"
   ]
  },
  {
   "cell_type": "code",
   "execution_count": 7,
   "metadata": {},
   "outputs": [
    {
     "data": {
      "text/plain": [
       "(40, 573)"
      ]
     },
     "execution_count": 7,
     "metadata": {},
     "output_type": "execute_result"
    }
   ],
   "source": [
    "test_data.shape"
   ]
  },
  {
   "cell_type": "code",
   "execution_count": 8,
   "metadata": {},
   "outputs": [
    {
     "data": {
      "text/plain": [
       "(80, 573)"
      ]
     },
     "execution_count": 8,
     "metadata": {},
     "output_type": "execute_result"
    }
   ],
   "source": [
    "train_data.shape"
   ]
  },
  {
   "cell_type": "markdown",
   "metadata": {},
   "source": [
    "# Model definition (Multiple Logistic Regression)\n",
    "The following statistical model is assumed:\n",
    "\n",
    "\\begin{equation}\n",
    "\\alpha \\sim \\mathcal{N}(\\mu_{\\alpha},\\,\\sigma^{2}_{\\alpha}) \\\\\n",
    "\\beta \\sim \\mathcal{N}(\\mu_{\\beta},\\,\\sigma^{2}_{\\beta}) \\\\\n",
    "\\theta = softmax(\\alpha+\\beta X) \\\\\n",
    "y \\sim Categorical(\\theta)\n",
    "\\end{equation}"
   ]
  },
  {
   "cell_type": "code",
   "execution_count": 9,
   "metadata": {},
   "outputs": [],
   "source": [
    "# get Y labels and standardize data\n",
    "Y = pd.Categorical(train_data[label_col]).codes\n",
    "x_n = train_data.columns[:non_data_cols]\n",
    "x_s = train_data[x_n].values\n",
    "x_s = utl.standardize(x_s)"
   ]
  },
  {
   "cell_type": "code",
   "execution_count": 10,
   "metadata": {},
   "outputs": [
    {
     "data": {
      "text/plain": [
       "Spain       33\n",
       "Italy       22\n",
       "Greece      14\n",
       "Portugal    11\n",
       "Name: label, dtype: int64"
      ]
     },
     "execution_count": 10,
     "metadata": {},
     "output_type": "execute_result"
    }
   ],
   "source": [
    "train_data[label_col].value_counts()"
   ]
  },
  {
   "cell_type": "code",
   "execution_count": 11,
   "metadata": {},
   "outputs": [
    {
     "name": "stderr",
     "output_type": "stream",
     "text": [
      "Auto-assigning NUTS sampler...\n",
      "Initializing NUTS using adapt_diag...\n",
      "Multiprocess sampling (2 chains in 2 jobs)\n",
      "NUTS: [beta, alpha]\n",
      "Sampling 2 chains: 100%|██████████| 3000/3000 [17:19<00:00,  2.89draws/s]\n",
      "The chain reached the maximum tree depth. Increase max_treedepth, increase target_accept or reparameterize.\n",
      "The chain reached the maximum tree depth. Increase max_treedepth, increase target_accept or reparameterize.\n",
      "The estimated number of effective samples is smaller than 200 for some parameters.\n"
     ]
    }
   ],
   "source": [
    "import theano.tensor as tt\n",
    "\n",
    "with pm.Model() as model_mlr: \n",
    "    alpha = pm.Normal('alpha', mu=0, sd=1, shape=len(class_labels))\n",
    "    beta = pm.Normal('beta', mu=0, sd=1, shape=(len(x_n), len(class_labels)))\n",
    "                     \n",
    "    mu = pm.Deterministic('mu', alpha + pm.math.dot(x_s, beta))\n",
    "                     \n",
    "    theta = tt.nnet.softmax(mu)\n",
    "                     \n",
    "    y_pred = pm.Categorical('y_pred', p=theta, observed=Y)\n",
    "                     \n",
    "    trace_mlr = pm.sample(1000, init='adapt_diag', random_seed=42)"
   ]
  },
  {
   "cell_type": "code",
   "execution_count": 12,
   "metadata": {},
   "outputs": [
    {
     "data": {
      "image/svg+xml": [
       "<?xml version=\"1.0\" encoding=\"UTF-8\" standalone=\"no\"?>\n",
       "<!DOCTYPE svg PUBLIC \"-//W3C//DTD SVG 1.1//EN\"\n",
       " \"http://www.w3.org/Graphics/SVG/1.1/DTD/svg11.dtd\">\n",
       "<!-- Generated by graphviz version 2.40.1 (20161225.0304)\n",
       " -->\n",
       "<!-- Title: %3 Pages: 1 -->\n",
       "<svg width=\"331pt\" height=\"265pt\"\n",
       " viewBox=\"0.00 0.00 331.00 265.00\" xmlns=\"http://www.w3.org/2000/svg\" xmlns:xlink=\"http://www.w3.org/1999/xlink\">\n",
       "<g id=\"graph0\" class=\"graph\" transform=\"scale(1 1) rotate(0) translate(4 261)\">\n",
       "<title>%3</title>\n",
       "<polygon fill=\"#ffffff\" stroke=\"transparent\" points=\"-4,4 -4,-261 327,-261 327,4 -4,4\"/>\n",
       "<g id=\"clust1\" class=\"cluster\">\n",
       "<title>cluster4</title>\n",
       "<path fill=\"none\" stroke=\"#000000\" d=\"M29,-174C29,-174 155,-174 155,-174 161,-174 167,-180 167,-186 167,-186 167,-237 167,-237 167,-243 161,-249 155,-249 155,-249 29,-249 29,-249 23,-249 17,-243 17,-237 17,-237 17,-186 17,-186 17,-180 23,-174 29,-174\"/>\n",
       "<text text-anchor=\"middle\" x=\"155.5\" y=\"-181.8\" font-family=\"Times,serif\" font-size=\"14.00\" fill=\"#000000\">4</text>\n",
       "</g>\n",
       "<g id=\"clust2\" class=\"cluster\">\n",
       "<title>cluster570 x 4</title>\n",
       "<path fill=\"none\" stroke=\"#000000\" d=\"M187,-174C187,-174 303,-174 303,-174 309,-174 315,-180 315,-186 315,-186 315,-237 315,-237 315,-243 309,-249 303,-249 303,-249 187,-249 187,-249 181,-249 175,-243 175,-237 175,-237 175,-186 175,-186 175,-180 181,-174 187,-174\"/>\n",
       "<text text-anchor=\"middle\" x=\"286\" y=\"-181.8\" font-family=\"Times,serif\" font-size=\"14.00\" fill=\"#000000\">570 x 4</text>\n",
       "</g>\n",
       "<g id=\"clust3\" class=\"cluster\">\n",
       "<title>cluster80 x 4</title>\n",
       "<path fill=\"none\" stroke=\"#000000\" d=\"M43,-91C43,-91 159,-91 159,-91 165,-91 171,-97 171,-103 171,-103 171,-154 171,-154 171,-160 165,-166 159,-166 159,-166 43,-166 43,-166 37,-166 31,-160 31,-154 31,-154 31,-103 31,-103 31,-97 37,-91 43,-91\"/>\n",
       "<text text-anchor=\"middle\" x=\"145.5\" y=\"-98.8\" font-family=\"Times,serif\" font-size=\"14.00\" fill=\"#000000\">80 x 4</text>\n",
       "</g>\n",
       "<g id=\"clust4\" class=\"cluster\">\n",
       "<title>cluster80</title>\n",
       "<path fill=\"none\" stroke=\"#000000\" d=\"M20,-8C20,-8 182,-8 182,-8 188,-8 194,-14 194,-20 194,-20 194,-71 194,-71 194,-77 188,-83 182,-83 182,-83 20,-83 20,-83 14,-83 8,-77 8,-71 8,-71 8,-20 8,-20 8,-14 14,-8 20,-8\"/>\n",
       "<text text-anchor=\"middle\" x=\"179\" y=\"-15.8\" font-family=\"Times,serif\" font-size=\"14.00\" fill=\"#000000\">80</text>\n",
       "</g>\n",
       "<!-- alpha -->\n",
       "<g id=\"node1\" class=\"node\">\n",
       "<title>alpha</title>\n",
       "<ellipse fill=\"none\" stroke=\"#000000\" cx=\"92\" cy=\"-223\" rx=\"66.8882\" ry=\"18\"/>\n",
       "<text text-anchor=\"middle\" x=\"92\" y=\"-219.3\" font-family=\"Times,serif\" font-size=\"14.00\" fill=\"#000000\">alpha ~ Normal</text>\n",
       "</g>\n",
       "<!-- mu -->\n",
       "<g id=\"node3\" class=\"node\">\n",
       "<title>mu</title>\n",
       "<polygon fill=\"none\" stroke=\"#000000\" points=\"163,-158 39,-158 39,-122 163,-122 163,-158\"/>\n",
       "<text text-anchor=\"middle\" x=\"101\" y=\"-136.3\" font-family=\"Times,serif\" font-size=\"14.00\" fill=\"#000000\">mu ~ Deterministic</text>\n",
       "</g>\n",
       "<!-- alpha&#45;&gt;mu -->\n",
       "<g id=\"edge1\" class=\"edge\">\n",
       "<title>alpha&#45;&gt;mu</title>\n",
       "<path fill=\"none\" stroke=\"#000000\" d=\"M93.9529,-204.9902C95.1125,-194.2963 96.6085,-180.4994 97.9237,-168.3706\"/>\n",
       "<polygon fill=\"#000000\" stroke=\"#000000\" points=\"101.4214,-168.5803 99.0199,-158.2612 94.4622,-167.8256 101.4214,-168.5803\"/>\n",
       "</g>\n",
       "<!-- beta -->\n",
       "<g id=\"node2\" class=\"node\">\n",
       "<title>beta</title>\n",
       "<ellipse fill=\"none\" stroke=\"#000000\" cx=\"245\" cy=\"-223\" rx=\"62.2891\" ry=\"18\"/>\n",
       "<text text-anchor=\"middle\" x=\"245\" y=\"-219.3\" font-family=\"Times,serif\" font-size=\"14.00\" fill=\"#000000\">beta ~ Normal</text>\n",
       "</g>\n",
       "<!-- beta&#45;&gt;mu -->\n",
       "<g id=\"edge2\" class=\"edge\">\n",
       "<title>beta&#45;&gt;mu</title>\n",
       "<path fill=\"none\" stroke=\"#000000\" d=\"M221.511,-206.2887C207.2088,-196.4079 188.398,-183.9272 171,-174 164.2343,-170.1395 156.9654,-166.2933 149.7633,-162.6508\"/>\n",
       "<polygon fill=\"#000000\" stroke=\"#000000\" points=\"151.2323,-159.4726 140.7191,-158.1602 148.1192,-165.7423 151.2323,-159.4726\"/>\n",
       "</g>\n",
       "<!-- y_pred -->\n",
       "<g id=\"node4\" class=\"node\">\n",
       "<title>y_pred</title>\n",
       "<ellipse fill=\"#d3d3d3\" stroke=\"#000000\" cx=\"101\" cy=\"-57\" rx=\"85.2851\" ry=\"18\"/>\n",
       "<text text-anchor=\"middle\" x=\"101\" y=\"-53.3\" font-family=\"Times,serif\" font-size=\"14.00\" fill=\"#000000\">y_pred ~ Categorical</text>\n",
       "</g>\n",
       "<!-- mu&#45;&gt;y_pred -->\n",
       "<g id=\"edge3\" class=\"edge\">\n",
       "<title>mu&#45;&gt;y_pred</title>\n",
       "<path fill=\"none\" stroke=\"#000000\" d=\"M101,-121.9902C101,-111.2963 101,-97.4994 101,-85.3706\"/>\n",
       "<polygon fill=\"#000000\" stroke=\"#000000\" points=\"104.5001,-85.2612 101,-75.2612 97.5001,-85.2613 104.5001,-85.2612\"/>\n",
       "</g>\n",
       "</g>\n",
       "</svg>\n"
      ],
      "text/plain": [
       "<graphviz.dot.Digraph at 0x7fad332a19b0>"
      ]
     },
     "execution_count": 12,
     "metadata": {},
     "output_type": "execute_result"
    }
   ],
   "source": [
    "pm.model_to_graphviz(model_mlr)"
   ]
  },
  {
   "cell_type": "markdown",
   "metadata": {},
   "source": [
    "# Model evaluation"
   ]
  },
  {
   "cell_type": "code",
   "execution_count": 13,
   "metadata": {},
   "outputs": [
    {
     "data": {
      "text/html": [
       "<div>\n",
       "<style scoped>\n",
       "    .dataframe tbody tr th:only-of-type {\n",
       "        vertical-align: middle;\n",
       "    }\n",
       "\n",
       "    .dataframe tbody tr th {\n",
       "        vertical-align: top;\n",
       "    }\n",
       "\n",
       "    .dataframe thead th {\n",
       "        text-align: right;\n",
       "    }\n",
       "</style>\n",
       "<table border=\"1\" class=\"dataframe\">\n",
       "  <thead>\n",
       "    <tr style=\"text-align: right;\">\n",
       "      <th></th>\n",
       "      <th>mean</th>\n",
       "      <th>sd</th>\n",
       "      <th>hpd_3%</th>\n",
       "      <th>hpd_97%</th>\n",
       "      <th>mcse_mean</th>\n",
       "      <th>mcse_sd</th>\n",
       "      <th>ess_mean</th>\n",
       "      <th>ess_sd</th>\n",
       "      <th>ess_bulk</th>\n",
       "      <th>ess_tail</th>\n",
       "      <th>r_hat</th>\n",
       "    </tr>\n",
       "  </thead>\n",
       "  <tbody>\n",
       "    <tr>\n",
       "      <th>alpha[0]</th>\n",
       "      <td>-0.271</td>\n",
       "      <td>0.483</td>\n",
       "      <td>-1.231</td>\n",
       "      <td>0.632</td>\n",
       "      <td>0.051</td>\n",
       "      <td>0.036</td>\n",
       "      <td>90.0</td>\n",
       "      <td>90.0</td>\n",
       "      <td>90.0</td>\n",
       "      <td>156.0</td>\n",
       "      <td>1.01</td>\n",
       "    </tr>\n",
       "    <tr>\n",
       "      <th>alpha[1]</th>\n",
       "      <td>0.194</td>\n",
       "      <td>0.482</td>\n",
       "      <td>-0.789</td>\n",
       "      <td>1.071</td>\n",
       "      <td>0.051</td>\n",
       "      <td>0.036</td>\n",
       "      <td>91.0</td>\n",
       "      <td>91.0</td>\n",
       "      <td>91.0</td>\n",
       "      <td>157.0</td>\n",
       "      <td>1.01</td>\n",
       "    </tr>\n",
       "    <tr>\n",
       "      <th>alpha[2]</th>\n",
       "      <td>-0.522</td>\n",
       "      <td>0.485</td>\n",
       "      <td>-1.501</td>\n",
       "      <td>0.376</td>\n",
       "      <td>0.051</td>\n",
       "      <td>0.036</td>\n",
       "      <td>90.0</td>\n",
       "      <td>90.0</td>\n",
       "      <td>90.0</td>\n",
       "      <td>154.0</td>\n",
       "      <td>1.01</td>\n",
       "    </tr>\n",
       "    <tr>\n",
       "      <th>alpha[3]</th>\n",
       "      <td>0.606</td>\n",
       "      <td>0.483</td>\n",
       "      <td>-0.390</td>\n",
       "      <td>1.469</td>\n",
       "      <td>0.051</td>\n",
       "      <td>0.036</td>\n",
       "      <td>90.0</td>\n",
       "      <td>90.0</td>\n",
       "      <td>91.0</td>\n",
       "      <td>156.0</td>\n",
       "      <td>1.01</td>\n",
       "    </tr>\n",
       "    <tr>\n",
       "      <th>beta[0,0]</th>\n",
       "      <td>0.044</td>\n",
       "      <td>0.981</td>\n",
       "      <td>-1.995</td>\n",
       "      <td>1.732</td>\n",
       "      <td>0.040</td>\n",
       "      <td>0.028</td>\n",
       "      <td>607.0</td>\n",
       "      <td>607.0</td>\n",
       "      <td>609.0</td>\n",
       "      <td>861.0</td>\n",
       "      <td>1.00</td>\n",
       "    </tr>\n",
       "    <tr>\n",
       "      <th>...</th>\n",
       "      <td>...</td>\n",
       "      <td>...</td>\n",
       "      <td>...</td>\n",
       "      <td>...</td>\n",
       "      <td>...</td>\n",
       "      <td>...</td>\n",
       "      <td>...</td>\n",
       "      <td>...</td>\n",
       "      <td>...</td>\n",
       "      <td>...</td>\n",
       "      <td>...</td>\n",
       "    </tr>\n",
       "    <tr>\n",
       "      <th>beta[568,3]</th>\n",
       "      <td>0.049</td>\n",
       "      <td>1.009</td>\n",
       "      <td>-1.733</td>\n",
       "      <td>1.981</td>\n",
       "      <td>0.042</td>\n",
       "      <td>0.030</td>\n",
       "      <td>585.0</td>\n",
       "      <td>585.0</td>\n",
       "      <td>586.0</td>\n",
       "      <td>937.0</td>\n",
       "      <td>1.00</td>\n",
       "    </tr>\n",
       "    <tr>\n",
       "      <th>beta[569,0]</th>\n",
       "      <td>0.066</td>\n",
       "      <td>1.002</td>\n",
       "      <td>-1.818</td>\n",
       "      <td>1.926</td>\n",
       "      <td>0.039</td>\n",
       "      <td>0.027</td>\n",
       "      <td>671.0</td>\n",
       "      <td>671.0</td>\n",
       "      <td>675.0</td>\n",
       "      <td>938.0</td>\n",
       "      <td>1.00</td>\n",
       "    </tr>\n",
       "    <tr>\n",
       "      <th>beta[569,1]</th>\n",
       "      <td>-0.075</td>\n",
       "      <td>0.986</td>\n",
       "      <td>-1.899</td>\n",
       "      <td>1.777</td>\n",
       "      <td>0.043</td>\n",
       "      <td>0.031</td>\n",
       "      <td>517.0</td>\n",
       "      <td>517.0</td>\n",
       "      <td>517.0</td>\n",
       "      <td>864.0</td>\n",
       "      <td>1.00</td>\n",
       "    </tr>\n",
       "    <tr>\n",
       "      <th>beta[569,2]</th>\n",
       "      <td>0.050</td>\n",
       "      <td>0.978</td>\n",
       "      <td>-1.840</td>\n",
       "      <td>1.815</td>\n",
       "      <td>0.043</td>\n",
       "      <td>0.030</td>\n",
       "      <td>525.0</td>\n",
       "      <td>525.0</td>\n",
       "      <td>528.0</td>\n",
       "      <td>1035.0</td>\n",
       "      <td>1.01</td>\n",
       "    </tr>\n",
       "    <tr>\n",
       "      <th>beta[569,3]</th>\n",
       "      <td>0.011</td>\n",
       "      <td>1.019</td>\n",
       "      <td>-1.893</td>\n",
       "      <td>1.918</td>\n",
       "      <td>0.042</td>\n",
       "      <td>0.030</td>\n",
       "      <td>596.0</td>\n",
       "      <td>596.0</td>\n",
       "      <td>596.0</td>\n",
       "      <td>911.0</td>\n",
       "      <td>1.00</td>\n",
       "    </tr>\n",
       "  </tbody>\n",
       "</table>\n",
       "<p>2284 rows × 11 columns</p>\n",
       "</div>"
      ],
      "text/plain": [
       "              mean     sd  hpd_3%  hpd_97%  mcse_mean  mcse_sd  ess_mean  \\\n",
       "alpha[0]    -0.271  0.483  -1.231    0.632      0.051    0.036      90.0   \n",
       "alpha[1]     0.194  0.482  -0.789    1.071      0.051    0.036      91.0   \n",
       "alpha[2]    -0.522  0.485  -1.501    0.376      0.051    0.036      90.0   \n",
       "alpha[3]     0.606  0.483  -0.390    1.469      0.051    0.036      90.0   \n",
       "beta[0,0]    0.044  0.981  -1.995    1.732      0.040    0.028     607.0   \n",
       "...            ...    ...     ...      ...        ...      ...       ...   \n",
       "beta[568,3]  0.049  1.009  -1.733    1.981      0.042    0.030     585.0   \n",
       "beta[569,0]  0.066  1.002  -1.818    1.926      0.039    0.027     671.0   \n",
       "beta[569,1] -0.075  0.986  -1.899    1.777      0.043    0.031     517.0   \n",
       "beta[569,2]  0.050  0.978  -1.840    1.815      0.043    0.030     525.0   \n",
       "beta[569,3]  0.011  1.019  -1.893    1.918      0.042    0.030     596.0   \n",
       "\n",
       "             ess_sd  ess_bulk  ess_tail  r_hat  \n",
       "alpha[0]       90.0      90.0     156.0   1.01  \n",
       "alpha[1]       91.0      91.0     157.0   1.01  \n",
       "alpha[2]       90.0      90.0     154.0   1.01  \n",
       "alpha[3]       90.0      91.0     156.0   1.01  \n",
       "beta[0,0]     607.0     609.0     861.0   1.00  \n",
       "...             ...       ...       ...    ...  \n",
       "beta[568,3]   585.0     586.0     937.0   1.00  \n",
       "beta[569,0]   671.0     675.0     938.0   1.00  \n",
       "beta[569,1]   517.0     517.0     864.0   1.00  \n",
       "beta[569,2]   525.0     528.0    1035.0   1.01  \n",
       "beta[569,3]   596.0     596.0     911.0   1.00  \n",
       "\n",
       "[2284 rows x 11 columns]"
      ]
     },
     "execution_count": 13,
     "metadata": {},
     "output_type": "execute_result"
    }
   ],
   "source": [
    "varnames = ['alpha', 'beta']\n",
    "coef = az.summary(trace_mlr, varnames)\n",
    "coef"
   ]
  },
  {
   "cell_type": "code",
   "execution_count": 14,
   "metadata": {},
   "outputs": [
    {
     "data": {
      "image/png": "[encoded data removed]",
      "text/plain": [
       "<Figure size 720x432 with 1 Axes>"
      ]
     },
     "metadata": {},
     "output_type": "display_data"
    }
   ],
   "source": [
    "#az.plot_forest(trace_mlr, var_names=varnames, combined=True);\n",
    "az.plot_energy(trace_mlr, figsize=(10, 6));"
   ]
  },
  {
   "cell_type": "code",
   "execution_count": 15,
   "metadata": {},
   "outputs": [
    {
     "name": "stdout",
     "output_type": "stream",
     "text": [
      "total  : 80\n",
      "correct: 33\n",
      "error  : 47\n",
      "score  : 41.2%\n"
     ]
    }
   ],
   "source": [
    "# correct predictions on training data\n",
    "utl.softmax_score(data_obj, train_data, trace_mlr)"
   ]
  },
  {
   "cell_type": "markdown",
   "metadata": {},
   "source": [
    "# Save inference results"
   ]
  },
  {
   "cell_type": "code",
   "execution_count": 16,
   "metadata": {},
   "outputs": [],
   "source": [
    "pm.backends.text.dump('./traces/trace_olive_oils', trace_mlr)"
   ]
  }
 ],
 "metadata": {
  "kernelspec": {
   "display_name": "Python 3",
   "language": "python",
   "name": "python3"
  },
  "language_info": {
   "codemirror_mode": {
    "name": "ipython",
    "version": 3
   },
   "file_extension": ".py",
   "mimetype": "text/x-python",
   "name": "python",
   "nbconvert_exporter": "python",
   "pygments_lexer": "ipython3",
   "version": "3.6.8"
  }
 },
 "nbformat": 4,
 "nbformat_minor": 2
}
